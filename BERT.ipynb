{
 "cells": [
  {
   "cell_type": "code",
   "execution_count": 1,
   "metadata": {},
   "outputs": [
    {
     "name": "stderr",
     "output_type": "stream",
     "text": [
      "c:\\Users\\alexy\\environments\\dsai-env\\lib\\site-packages\\tqdm\\auto.py:22: TqdmWarning: IProgress not found. Please update jupyter and ipywidgets. See https://ipywidgets.readthedocs.io/en/stable/user_install.html\n",
      "  from .autonotebook import tqdm as notebook_tqdm\n"
     ]
    }
   ],
   "source": [
    "from transformers import AutoTokenizer, AutoModelForMaskedLM\n",
    "\n",
    "import time\n",
    "\n",
    "import pandas as pd\n",
    "import seaborn as sns\n",
    "import matplotlib.pyplot as plt\n",
    "import numpy as np\n",
    "\n",
    "import IPython.display as ipd\n",
    "\n",
    "from scipy.io import wavfile as wav\n",
    "\n",
    "from sklearn import preprocessing\n",
    "from sklearn.model_selection import KFold\n",
    "from sklearn.model_selection import train_test_split\n",
    "from sklearn.metrics import f1_score, precision_score, recall_score, confusion_matrix, roc_auc_score\n",
    "import tensorflow as tf\n",
    "# import tensorflow_hub as hub\n",
    "# import tensorflow_text as text\n",
    "# from official.nlp import optimization  # to create AdamW optimizer\n",
    "import tensorflow.keras as keras\n",
    "from tensorflow.keras import Sequential\n",
    "from tensorflow.keras.layers import *\n",
    "from tensorflow.keras.regularizers import l2\n",
    "from tensorflow.keras.callbacks import ReduceLROnPlateau,EarlyStopping,ModelCheckpoint,LearningRateScheduler\n",
    "from sklearn.feature_extraction.text import TfidfVectorizer\n",
    "from tensorflow.keras.utils import pad_sequences\n",
    "\n",
    "\n",
    "SEED = 42\n",
    "\n",
    "import os\n",
    "os.environ['TF_CUDNN_DETERMINISTIC'] = '1'\n",
    "\n",
    "import random \n",
    "random.seed(SEED)\n",
    "\n",
    "import numpy as np\n",
    "np.random.seed(SEED)\n",
    "\n",
    "import tensorflow as tf\n",
    "tf.random.set_seed(SEED)"
   ]
  },
  {
   "cell_type": "markdown",
   "metadata": {},
   "source": [
    "# Read Train and Test data"
   ]
  },
  {
   "cell_type": "code",
   "execution_count": 2,
   "id": "0e8be68e",
   "metadata": {},
   "outputs": [],
   "source": [
    "#import the train and test files for financial news\n",
    "fnews_Xtrain = pd.read_csv('data/train/fnews_Xtrain.csv')\n",
    "fnews_Xtest = pd.read_csv('data/test/fnews_Xtest.csv')\n",
    "fnews_ytrain = pd.read_csv('data/train/fnews_ytrain.csv')\n",
    "fnews_ytest = pd.read_csv('data/test/fnews_ytest.csv')"
   ]
  },
  {
   "cell_type": "code",
   "execution_count": 3,
   "id": "d0a9030d",
   "metadata": {},
   "outputs": [],
   "source": [
    "# drop the first column for all the train and test sets\n",
    "fnews_Xtrain.drop(columns=fnews_Xtrain.columns[0], axis=1, inplace=True)\n",
    "fnews_ytrain.drop(columns=fnews_ytrain.columns[0], axis=1, inplace=True)\n",
    "fnews_Xtest.drop(columns=fnews_Xtest.columns[0], axis=1, inplace=True)\n",
    "fnews_ytest.drop(columns=fnews_ytest.columns[0], axis=1, inplace=True)"
   ]
  },
  {
   "cell_type": "code",
   "execution_count": 4,
   "id": "edb8465c",
   "metadata": {},
   "outputs": [
    {
     "name": "stdout",
     "output_type": "stream",
     "text": [
      "Xtrain: (3876, 1) ytrain: (3876, 1)\n",
      "Xtest: (970, 1) ytest: (970, 1)\n"
     ]
    }
   ],
   "source": [
    "#check the respective shape of the train and test sets\n",
    "print('Xtrain:',fnews_Xtrain.shape, 'ytrain:' ,fnews_ytrain.shape)\n",
    "print('Xtest:',fnews_Xtest.shape, 'ytest:' ,fnews_ytest.shape)"
   ]
  },
  {
   "cell_type": "code",
   "execution_count": 5,
   "id": "021c6933",
   "metadata": {},
   "outputs": [
    {
     "data": {
      "text/html": [
       "<div>\n",
       "<style scoped>\n",
       "    .dataframe tbody tr th:only-of-type {\n",
       "        vertical-align: middle;\n",
       "    }\n",
       "\n",
       "    .dataframe tbody tr th {\n",
       "        vertical-align: top;\n",
       "    }\n",
       "\n",
       "    .dataframe thead th {\n",
       "        text-align: right;\n",
       "    }\n",
       "</style>\n",
       "<table border=\"1\" class=\"dataframe\">\n",
       "  <thead>\n",
       "    <tr style=\"text-align: right;\">\n",
       "      <th></th>\n",
       "      <th>News</th>\n",
       "    </tr>\n",
       "  </thead>\n",
       "  <tbody>\n",
       "    <tr>\n",
       "      <th>0</th>\n",
       "      <td>['russia', 'raisio', 's', 'food', 'division', ...</td>\n",
       "    </tr>\n",
       "    <tr>\n",
       "      <th>1</th>\n",
       "      <td>['operator', 'need', 'learn', 'use', 'device',...</td>\n",
       "    </tr>\n",
       "    <tr>\n",
       "      <th>2</th>\n",
       "      <td>['company', 'expects', 'net', 'sale', 'half', ...</td>\n",
       "    </tr>\n",
       "    <tr>\n",
       "      <th>3</th>\n",
       "      <td>['bridge', 'km', 'long', 'located', 'anasmotet...</td>\n",
       "    </tr>\n",
       "    <tr>\n",
       "      <th>4</th>\n",
       "      <td>['nokia', 'capcom', 'announced', 'resident', '...</td>\n",
       "    </tr>\n",
       "  </tbody>\n",
       "</table>\n",
       "</div>"
      ],
      "text/plain": [
       "                                                News\n",
       "0  ['russia', 'raisio', 's', 'food', 'division', ...\n",
       "1  ['operator', 'need', 'learn', 'use', 'device',...\n",
       "2  ['company', 'expects', 'net', 'sale', 'half', ...\n",
       "3  ['bridge', 'km', 'long', 'located', 'anasmotet...\n",
       "4  ['nokia', 'capcom', 'announced', 'resident', '..."
      ]
     },
     "execution_count": 5,
     "metadata": {},
     "output_type": "execute_result"
    }
   ],
   "source": [
    "fnews_Xtrain.head()"
   ]
  },
  {
   "cell_type": "code",
   "execution_count": 6,
   "metadata": {},
   "outputs": [],
   "source": [
    "MAX_LEN = max([len(x) for x in fnews_Xtrain[\"News\"]])"
   ]
  },
  {
   "cell_type": "code",
   "execution_count": 7,
   "metadata": {},
   "outputs": [],
   "source": [
    "fnews_Xtrain['News'] = fnews_Xtrain['News'].apply(eval)\n",
    "fnews_Xtest['News'] = fnews_Xtest['News'].apply(eval)"
   ]
  },
  {
   "cell_type": "markdown",
   "metadata": {},
   "source": [
    "# BERT Model"
   ]
  },
  {
   "cell_type": "markdown",
   "metadata": {},
   "source": [
    "BERT is a trained Transformer Encoder stack. We will be using both the base and the large version from huggingface, and choose the best model.\n",
    "\n",
    "In transformers, we can access many different versions of pre-trained BERT models:\n",
    "\n",
    "    BERT-Base, Uncased: 12-layer, 768-hidden, 12-heads, 110M parameters\n",
    "\n",
    "    BERT-Large, Uncased: 24-layer, 1024-hidden, 16-heads, 340M parameters\n",
    "\n",
    "    BERT-Base, Cased: 12-layer, 768-hidden, 12-heads , 110M parameters\n",
    "\n",
    "    BERT-Large, Cased: 24-layer, 1024-hidden, 16-heads, 340M parameters\n",
    "\n",
    "    BERT-Base, Multilingual Case: 104 languages, 12-layer, 768-hidden, 12-heads, 110M parameters\n",
    "\n",
    "    BERT-Base, Chinese: Chinese Simplified and Traditional, 12-layer, 768-hidden, 12-heads, 110M parameters\n"
   ]
  },
  {
   "cell_type": "markdown",
   "metadata": {},
   "source": [
    "BERT requires specifically formatted inputs. For each tokenized input sentence, we need to create:\n",
    "- input ids: a sequence of integers identifying each input token to its index number in the BERT tokenizer vocabulary\n",
    "- segment mask: (optional) a sequence of 1s and 0s used to identify whether the input is one sentence or two sentences long. For one sentence inputs, this is simply a sequence of 0s. For two sentence inputs, there is a 0 for each token of the first sentence, followed by a 1 for each token of the second sentence\n",
    "- attention mask: (optional) a sequence of 1s and 0s, with 1s for all input tokens and 0s for all padding tokens (we'll detail this in the next paragraph)\n",
    "- labels: a single value of -1, 0 or 1. In our task -1 means \"negative\", 0 means \"neutral\", and 1 means \"positive\"."
   ]
  },
  {
   "cell_type": "markdown",
   "metadata": {},
   "source": [
    "Although we can have variable length input sentences, BERT does requires our input arrays to be the same size. We address this by first choosing a maximum sentence length, and then padding and truncating our inputs until every input sequence is of the same length.\n",
    "\n",
    "To \"pad\" our inputs in this context means that if a sentence is shorter than the maximum sentence length, we simply add 0s to the end of the sequence until it is the maximum sentence length.\n",
    "\n",
    "If a sentence is longer than the maximum sentence length, then we simply truncate the end of the sequence, discarding anything that does not fit into our maximum sentence length.\n",
    "\n",
    "We pad and truncate our sequences so that they all become of length MAX_LEN (\"post\" indicates that we want to pad and truncate at the end of the sequence, as opposed to the beginning) pad_sequences is a utility function that we're borrowing from Keras. It simply handles the truncating and padding of Python lists.\n"
   ]
  },
  {
   "cell_type": "code",
   "execution_count": 73,
   "metadata": {},
   "outputs": [],
   "source": [
    "from transformers import BertConfig, TFBertModel, BertTokenizer, TFBertForSequenceClassification, TFDistilBertModel, TFAutoModelForSequenceClassification"
   ]
  },
  {
   "cell_type": "code",
   "execution_count": 60,
   "metadata": {},
   "outputs": [],
   "source": [
    "def create_attention_masks(df):\n",
    "    # We need to add special tokens at the beginning and end of each sentence for BERT to work properly\n",
    "    # sentences = [[\"[CLS]\"] + sentence + [\"[SEP]\"] for sentence in df]\n",
    "    tokenizer = BertTokenizer.from_pretrained('bert-base-uncased', do_lower_case=True)\n",
    "    # tokenized_texts = [tokenizer.tokenize(\" \".join(sent)) for sent in sentences] # retokensized it according to BERT vocabulary\n",
    "    # input_ids = [tokenizer.convert_tokens_to_ids(x) for x in tokenized_texts]\n",
    "    # input_ids = pad_sequences(input_ids, maxlen=MAX_LEN, dtype=\"long\", truncating=\"post\", padding=\"post\")\n",
    "    input_ids = []\n",
    "    token_type_ids = []\n",
    "    attention_masks = []\n",
    "    for headline in df:\n",
    "        tokenized_texts = tokenizer.encode_plus(\" \".join(headline),\n",
    "                                                    add_special_tokens=True,\n",
    "                                                    max_length=MAX_LEN,\n",
    "                                                    padding='max_length',\n",
    "                                                    truncation=True,\n",
    "                                                    return_attention_mask=True)\n",
    "        input_ids.append(tokenized_texts['input_ids'])\n",
    "        token_type_ids.append(tokenized_texts['token_type_ids'])\n",
    "        attention_masks.append(tokenized_texts['attention_mask'])\n",
    "   \n",
    "\n",
    "    # Create a mask of 1s for each token followed by 0s for padding\n",
    "    # for seq in input_ids:\n",
    "    #     train_seq_mask = [float(i>0) for i in seq]\n",
    "    #     attention_masks.append(train_seq_mask)\n",
    "        \n",
    "    return input_ids, token_type_ids, attention_masks"
   ]
  },
  {
   "cell_type": "code",
   "execution_count": 10,
   "metadata": {},
   "outputs": [],
   "source": [
    "# from sklearn.preprocessing import StandardScaler\n",
    "# scaler = StandardScaler()\n",
    "# ttrain_inputs_scaled = scaler.fit_transform(ttrain_inputs)\n",
    "# val_inputs_scaled = scaler.transform(val_inputs)\n",
    "# test_inputs_scaled = scaler.transform(test_inputs)"
   ]
  },
  {
   "cell_type": "code",
   "execution_count": 61,
   "metadata": {},
   "outputs": [],
   "source": [
    "# mapping the classes to a numeric representation\n",
    "train_labels = fnews_ytrain['Class'].map({'neutral':1, 'positive': 2, 'negative': 0}).values\n",
    "test_labels = fnews_ytest['Class'].map({'neutral':1, 'positive': 2, 'negative': 0}).values"
   ]
  },
  {
   "cell_type": "code",
   "execution_count": 62,
   "metadata": {},
   "outputs": [
    {
     "name": "stdout",
     "output_type": "stream",
     "text": [
      "Train shape:  3100 3100 3100 3100\n",
      "Val shape:  776 776 776 776\n",
      "Test shape:  970 970 970 970\n"
     ]
    }
   ],
   "source": [
    "train_input_ids, train_tokens, train_attention_masks = create_attention_masks(fnews_Xtrain['News'])\n",
    "test_input_ids, test_tokens, test_attention_masks = create_attention_masks(fnews_Xtest['News'])\n",
    "ttrain_input_ids, val_input_ids, ttrain_tokens, val_tokens, ttrain_attention_masks, val_attention_masks, ttrain_labels, val_labels  = train_test_split(train_input_ids, train_tokens, train_attention_masks, train_labels, test_size=0.2)\n",
    "print('Train shape: ', len(ttrain_input_ids), len(ttrain_tokens), len(ttrain_attention_masks), len(ttrain_labels))\n",
    "print('Val shape: ', len(val_input_ids), len(val_tokens), len(val_attention_masks), len(val_labels))\n",
    "print('Test shape: ', len(test_input_ids), len(test_tokens), len(test_attention_masks), len(test_labels))"
   ]
  },
  {
   "cell_type": "code",
   "execution_count": 13,
   "metadata": {},
   "outputs": [
    {
     "data": {
      "image/png": "[encoded data removed]",
      "text/plain": [
       "<Figure size 1000x800 with 2 Axes>"
      ]
     },
     "metadata": {},
     "output_type": "display_data"
    }
   ],
   "source": [
    "# looking at the textual similarity\n",
    "from sklearn.metrics.pairwise import cosine_similarity\n",
    "import random\n",
    "\n",
    "def plot_similarity(features, labels):\n",
    "  \"\"\"\n",
    "  Plot a similarity matrix of the embeddings.\n",
    "  Reference code taken from: https://towardsdatascience.com/multi-label-text-classification-using-bert-and-tensorflow-d2e88d8f488d\n",
    "  \"\"\"\n",
    "  plt.figure(figsize=(10,8))\n",
    "  sns.set(font_scale=1.2)\n",
    "  cbar_kws=dict(use_gridspec=False, location=\"left\")\n",
    "  g = sns.heatmap(\n",
    "      cosine_similarity(features), xticklabels=labels, yticklabels=labels,\n",
    "      vmin=0, vmax=1, annot=True, cmap=\"Greens\", \n",
    "      cbar_kws=cbar_kws)\n",
    "  g.tick_params(labelright=True, labelleft=False)\n",
    "  g.set_yticklabels(labels, rotation=0)\n",
    "  g.set_title(\"Semantic Textual Similarity\")\n",
    "\n",
    "sentiments = [\"negative\", \"neutral\", \"positive\"]\n",
    "\n",
    "# comparing a random sample from each\n",
    "neg_samples = np.array(ttrain_input_ids)[ttrain_labels==0]\n",
    "neu_samples = np.array(ttrain_input_ids)[ttrain_labels==1]\n",
    "pos_samples = np.array(ttrain_input_ids)[ttrain_labels==2]\n",
    "plot_similarity([\n",
    "  neg_samples[random.randint(0, len(neg_samples)-1)], \n",
    "  neu_samples[random.randint(0, len(neu_samples)-1)], \n",
    "  pos_samples[random.randint(0, len(pos_samples)-1)]\n",
    "  ], sentiments)"
   ]
  },
  {
   "cell_type": "code",
   "execution_count": 63,
   "metadata": {},
   "outputs": [],
   "source": [
    "NUM_CLASSES = 3\n",
    "ttrain_inputs = tf.convert_to_tensor(ttrain_input_ids, dtype=tf.int32, name='input_ids')\n",
    "val_inputs = tf.convert_to_tensor(val_input_ids, dtype=tf.int32, name='input_ids')\n",
    "test_inputs = tf.convert_to_tensor(test_input_ids, dtype=tf.int32, name='input_ids')\n",
    "\n",
    "ttrain_tokens = tf.convert_to_tensor(ttrain_tokens,dtype=tf.int32, name='token_ids')\n",
    "val_tokens = tf.convert_to_tensor(val_tokens, dtype=tf.int32, name='token_ids')\n",
    "test_tokens = tf.convert_to_tensor( test_tokens, dtype=tf.int32, name='token_ids')\n",
    "\n",
    "\n",
    "# ttrain_labels = tf.convert_to_tensor(ttrain_labels)\n",
    "# val_labels = tf.convert_to_tensor(val_labels)\n",
    "# test_labels = tf.convert_to_tensor(test_labels)\n",
    "\n",
    "ttrain_labels = tf.keras.utils.to_categorical(ttrain_labels, num_classes=NUM_CLASSES)\n",
    "val_labels = tf.keras.utils.to_categorical(val_labels, num_classes=NUM_CLASSES)\n",
    "test_labels = tf.keras.utils.to_categorical(test_labels, num_classes=NUM_CLASSES)\n",
    "\n",
    "ttrain_masks = tf.convert_to_tensor(ttrain_attention_masks, dtype=tf.int32, name='attention_masks')\n",
    "val_masks = tf.convert_to_tensor(val_attention_masks, dtype=tf.int32, name='attention_masks')\n",
    "test_masks = tf.convert_to_tensor(test_attention_masks, dtype=tf.int32, name='attention_masks')"
   ]
  },
  {
   "cell_type": "code",
   "execution_count": 15,
   "metadata": {},
   "outputs": [],
   "source": [
    "def map_to_dict(inputs, masks, tokens, labels):\n",
    "    return {\n",
    "        'input_ids': inputs,\n",
    "        'attention_masks': masks,\n",
    "        'token_ids': tokens,\n",
    "    }, labels"
   ]
  },
  {
   "cell_type": "code",
   "execution_count": 64,
   "metadata": {},
   "outputs": [],
   "source": [
    "BATCH_SIZE = 8\n",
    "train_ds = tf.data.Dataset.from_tensor_slices((ttrain_inputs, ttrain_masks, ttrain_tokens, ttrain_labels)).map(map_to_dict).shuffle(len(ttrain_inputs)).batch(BATCH_SIZE)\n",
    "val_ds = tf.data.Dataset.from_tensor_slices((val_inputs, val_masks, val_tokens, val_labels)).map(map_to_dict).shuffle(len(val_inputs)).batch(BATCH_SIZE)\n",
    "test_ds = tf.data.Dataset.from_tensor_slices((test_inputs, test_masks, test_tokens, test_labels)).map(map_to_dict).shuffle(len(test_inputs)).batch(BATCH_SIZE)"
   ]
  },
  {
   "cell_type": "markdown",
   "metadata": {},
   "source": [
    "## Using the Distilled BERT Model"
   ]
  },
  {
   "cell_type": "code",
   "execution_count": 80,
   "metadata": {},
   "outputs": [],
   "source": [
    "## Initialize pre-built BERT-based classifier from transformers\n",
    "def create_base_model():\n",
    "    ids = keras.layers.Input(shape=((MAX_LEN,)), name=\"input_ids\", dtype=\"int32\")\n",
    "    # tokens = keras.layers.Input(shape=((MAX_LEN,)), name=\"token_ids\", dtype=\"int32\")\n",
    "    masks = keras.layers.Input(shape=((MAX_LEN,)), name=\"attention_masks\", dtype=\"int32\") \n",
    "    inputs = [ids, masks]\n",
    "    config = BertConfig()\n",
    "    config.output_hidden_states = False\n",
    "    bert_model = TFAutoModelForSequenceClassification.from_pretrained(\n",
    "        'distilbert-base-uncased', config=config)\n",
    "    \n",
    "    embedded_layer = bert_model(ids, attention_mask=masks)[0]\n",
    "    outputs = keras.layers.Dense(3, activation='softmax')(embedded_layer)\n",
    "    \n",
    "    # outputs = bert_model(input_ids=ids, attention_mask=masks, token_type_ids=tokens)\n",
    "    bert_model = keras.Model(inputs, outputs)  \n",
    "    bert_model.summary()\n",
    "    return bert_model"
   ]
  },
  {
   "cell_type": "code",
   "execution_count": 85,
   "metadata": {},
   "outputs": [
    {
     "name": "stderr",
     "output_type": "stream",
     "text": [
      "Some layers from the model checkpoint at distilbert-base-uncased were not used when initializing TFBertForSequenceClassification: ['vocab_transform', 'activation_13', 'distilbert', 'vocab_layer_norm', 'vocab_projector']\n",
      "- This IS expected if you are initializing TFBertForSequenceClassification from the checkpoint of a model trained on another task or with another architecture (e.g. initializing a BertForSequenceClassification model from a BertForPreTraining model).\n",
      "- This IS NOT expected if you are initializing TFBertForSequenceClassification from the checkpoint of a model that you expect to be exactly identical (initializing a BertForSequenceClassification model from a BertForSequenceClassification model).\n",
      "Some layers of TFBertForSequenceClassification were not initialized from the model checkpoint at distilbert-base-uncased and are newly initialized: ['bert', 'classifier']\n",
      "You should probably TRAIN this model on a down-stream task to be able to use it for predictions and inference.\n"
     ]
    },
    {
     "name": "stdout",
     "output_type": "stream",
     "text": [
      "Model: \"model_8\"\n",
      "__________________________________________________________________________________________________\n",
      " Layer (type)                   Output Shape         Param #     Connected to                     \n",
      "==================================================================================================\n",
      " input_ids (InputLayer)         [(None, 345)]        0           []                               \n",
      "                                                                                                  \n",
      " attention_masks (InputLayer)   [(None, 345)]        0           []                               \n",
      "                                                                                                  \n",
      " tf_bert_for_sequence_classific  TFSequenceClassifie  109483778  ['input_ids[0][0]',              \n",
      " ation_7 (TFBertForSequenceClas  rOutput(loss=None,               'attention_masks[0][0]']        \n",
      " sification)                    logits=(None, 2),                                                 \n",
      "                                 hidden_states=None                                               \n",
      "                                , attentions=None)                                                \n",
      "                                                                                                  \n",
      " dense_6 (Dense)                (None, 3)            9           ['tf_bert_for_sequence_classifica\n",
      "                                                                 tion_7[0][0]']                   \n",
      "                                                                                                  \n",
      "==================================================================================================\n",
      "Total params: 109,483,787\n",
      "Trainable params: 109,483,787\n",
      "Non-trainable params: 0\n",
      "__________________________________________________________________________________________________\n"
     ]
    }
   ],
   "source": [
    "epochs = 3\n",
    "learning_rate = 3e-5\n",
    "optimizer = tf.keras.optimizers.Adam(learning_rate=learning_rate, epsilon=1e-08)\n",
    "loss = tf.keras.losses.CategoricalCrossentropy()\n",
    "metrics = [tf.keras.metrics.CategoricalAccuracy('accuracy'), tf.keras.metrics.Precision(name='precision'), tf.keras.metrics.Recall(name='recall')]\n",
    "bert_model = create_base_model()\n",
    "# bert_model = TFBertForSequenceClassification.from_pretrained(\n",
    "#         'bert-base-uncased', num_labels=NUM_CLASSES)\n",
    "bert_model.compile(loss=loss,\n",
    "                   optimizer=optimizer,\n",
    "                   metrics=[metrics],\n",
    "                   )"
   ]
  },
  {
   "cell_type": "code",
   "execution_count": 86,
   "metadata": {},
   "outputs": [
    {
     "name": "stdout",
     "output_type": "stream",
     "text": [
      "Epoch 1/3\n"
     ]
    },
    {
     "name": "stderr",
     "output_type": "stream",
     "text": [
      "c:\\Users\\alexy\\environments\\dsai-env\\lib\\site-packages\\keras\\engine\\functional.py:637: UserWarning: Input dict contained keys ['token_ids'] which did not match any model input. They will be ignored by the model.\n",
      "  inputs = self._flatten_to_reference_inputs(inputs)\n"
     ]
    },
    {
     "name": "stdout",
     "output_type": "stream",
     "text": [
      "388/388 [==============================] - ETA: 0s - loss: 0.9466 - accuracy: 0.5777 - precision: 0.5909 - recall: 0.5410"
     ]
    }
   ],
   "source": [
    "from datetime import datetime\n",
    "from tensorflow.keras.callbacks import Callback\n",
    "log_dir = \"bert-distilled/fit/\" + f'base-model/' + datetime.now().strftime(\"%Y%m%d-%H%M%S\")\n",
    "tensorboard_callback = tf.keras.callbacks.TensorBoard(log_dir=log_dir, histogram_freq=1)\n",
    "es = tf.keras.callbacks.EarlyStopping(monitor='val_loss', patience=3, restore_best_weights=True)\n",
    "\n",
    "class time_for_epoch(Callback):\n",
    "    def on_train_begin(self, logs={}):\n",
    "        self.times = []\n",
    "    def on_epoch_begin(self, epoch, logs={}):\n",
    "        self.epoch_time_start = time.time()\n",
    "    def on_epoch_end(self, epoch, logs={}):\n",
    "        self.times.append(time.time() - self.epoch_time_start)\n",
    "\n",
    "te = time_for_epoch()      \n",
    "base_model_history = bert_model.fit(train_ds,\n",
    "                         epochs=epochs,\n",
    "                         validation_data=val_ds, \n",
    "                         callbacks=[tensorboard_callback, te, es]\n",
    "                         )"
   ]
  },
  {
   "cell_type": "markdown",
   "metadata": {},
   "source": [
    "## Using the Base BERT Model"
   ]
  },
  {
   "cell_type": "code",
   "execution_count": null,
   "metadata": {},
   "outputs": [],
   "source": [
    "## Initialize pre-built BERT-based classifier from transformers\n",
    "def create_base_model():\n",
    "    ids = keras.layers.Input(shape=((MAX_LEN,)), name=\"input_ids\", dtype=\"int32\")\n",
    "    # tokens = keras.layers.Input(shape=((MAX_LEN,)), name=\"token_ids\", dtype=\"int32\")\n",
    "    masks = keras.layers.Input(shape=((MAX_LEN,)), name=\"attention_masks\", dtype=\"int32\") \n",
    "    inputs = [ids, masks]\n",
    "    config = BertConfig()\n",
    "    config.output_hidden_states = False\n",
    "    bert_model = TFBertModel.from_pretrained(\n",
    "        'bert-base-uncased', config=config)\n",
    "    \n",
    "    embedded_layer = bert_model(ids, attention_mask=masks)[0]\n",
    "    outputs = keras.layers.Dense(3, activation='softmax')(embedded_layer)\n",
    "    \n",
    "    # outputs = bert_model(input_ids=ids, attention_mask=masks, token_type_ids=tokens)\n",
    "    bert_model = keras.Model(inputs, outputs)  \n",
    "    bert_model.summary()\n",
    "    return bert_model"
   ]
  },
  {
   "cell_type": "markdown",
   "metadata": {},
   "source": []
  },
  {
   "cell_type": "markdown",
   "metadata": {},
   "source": [
    "## Creating more inputs by using Back Translation"
   ]
  },
  {
   "cell_type": "code",
   "execution_count": null,
   "metadata": {},
   "outputs": [],
   "source": [
    "from translate import Translator\n",
    "translator_1 = Translator(from_lang=\"en\", to_lang=\"de\")\n",
    "translator_2 = Translator(from_lang=\"de\", to_lang=\"en\")"
   ]
  },
  {
   "cell_type": "markdown",
   "metadata": {},
   "source": [
    "# Squid Game Reviews"
   ]
  },
  {
   "cell_type": "code",
   "execution_count": 67,
   "metadata": {},
   "outputs": [],
   "source": [
    "sg_Xtrain = pd.read_csv('data/train/squidgame_Xtrain.csv', index_col=0)   \n",
    "sg_Xtest = pd.read_csv('data/test/squidgame_Xtest.csv', index_col=0) \n",
    "sg_ytrain = pd.read_csv('data/train/squidgame_ytrain.csv', index_col=0) \n",
    "sg_ytest = pd.read_csv('data/test/squidgame_ytest.csv', index_col=0) "
   ]
  },
  {
   "cell_type": "code",
   "execution_count": 69,
   "metadata": {},
   "outputs": [],
   "source": [
    "# mapping the classes to a numeric representation\n",
    "sg_train_labels = sg_ytrain['Class'].map({'neutral':0, 'positive': 1, 'negative': -1}).values\n",
    "sg_test_labels = sg_ytest['Class'].map({'neutral':0, 'positive': 1, 'negative': -1}).values"
   ]
  },
  {
   "cell_type": "code",
   "execution_count": 73,
   "metadata": {},
   "outputs": [
    {
     "name": "stdout",
     "output_type": "stream",
     "text": [
      "Train shape:  758 758 758 758\n",
      "Val shape:  190 190 190 190\n",
      "Test shape:  237 237 237 237\n"
     ]
    }
   ],
   "source": [
    "sg_train_input_ids, sg_train_tokens, sg_train_attention_masks = create_attention_masks(sg_Xtrain['Review'])\n",
    "sg_test_input_ids, sg_test_tokens, sg_test_attention_masks = create_attention_masks(sg_Xtest['Review'])\n",
    "sg_ttrain_input_ids, sg_val_input_ids, sg_ttrain_tokens, sg_val_tokens, sg_ttrain_attention_masks, sg_val_attention_masks, sg_ttrain_labels, sg_val_labels  = train_test_split(sg_train_input_ids, sg_train_tokens, sg_train_attention_masks, sg_train_labels, test_size=0.2)\n",
    "print('Train shape: ', len(sg_ttrain_input_ids), len(sg_ttrain_tokens), len(sg_ttrain_attention_masks), len(sg_ttrain_labels))\n",
    "print('Val shape: ', len(sg_val_input_ids), len(sg_val_tokens), len(sg_val_attention_masks), len(sg_val_labels))\n",
    "print('Test shape: ', len(sg_test_input_ids), len(sg_test_tokens), len(sg_test_attention_masks), len(sg_test_labels))"
   ]
  },
  {
   "cell_type": "code",
   "execution_count": 74,
   "metadata": {},
   "outputs": [
    {
     "data": {
      "image/png": "[encoded data removed]",
      "text/plain": [
       "<Figure size 1000x800 with 2 Axes>"
      ]
     },
     "metadata": {},
     "output_type": "display_data"
    }
   ],
   "source": [
    "sentiments = [\"negative\", \"neutral\", \"positive\"]\n",
    "\n",
    "# comparing a random sample from each\n",
    "sg_neg_samples = np.array(sg_ttrain_input_ids)[sg_ttrain_labels==-1]\n",
    "sg_neu_samples = np.array(sg_ttrain_input_ids)[sg_ttrain_labels==0]\n",
    "sg_pos_samples = np.array(sg_ttrain_input_ids)[sg_ttrain_labels==1]\n",
    "plot_similarity([\n",
    "  neg_samples[random.randint(0, len(sg_neg_samples)-1)], \n",
    "  neu_samples[random.randint(0, len(sg_neu_samples)-1)], \n",
    "  pos_samples[random.randint(0, len(sg_pos_samples)-1)]\n",
    "  ], sentiments)"
   ]
  },
  {
   "cell_type": "markdown",
   "metadata": {},
   "source": [
    "## Creating a BERT Model for Squid Game Reviews"
   ]
  },
  {
   "cell_type": "markdown",
   "metadata": {},
   "source": [
    "## Testing the pre-trained BERT model from Financial News on Squid Game Reviews"
   ]
  },
  {
   "cell_type": "markdown",
   "metadata": {},
   "source": []
  }
 ],
 "metadata": {
  "kernelspec": {
   "display_name": "Python 3.10.7 ('dsai-env')",
   "language": "python",
   "name": "python3"
  },
  "language_info": {
   "codemirror_mode": {
    "name": "ipython",
    "version": 3
   },
   "file_extension": ".py",
   "mimetype": "text/x-python",
   "name": "python",
   "nbconvert_exporter": "python",
   "pygments_lexer": "ipython3",
   "version": "3.10.7"
  },
  "orig_nbformat": 4,
  "vscode": {
   "interpreter": {
    "hash": "b3ef6c030eebde62cdfd02840768360bfd8c57949c8d63aebbe27f7eabdfd728"
   }
  }
 },
 "nbformat": 4,
 "nbformat_minor": 2
}
