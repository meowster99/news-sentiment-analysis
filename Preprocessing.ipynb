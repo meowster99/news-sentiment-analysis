{
 "cells": [
  {
   "cell_type": "markdown",
   "id": "c697e4a9",
   "metadata": {},
   "source": [
    "For text data preprocessing, we followed the following steps:\n",
    "- Remove punctuation signs to remove ambiguity between words such as ‘terrible!’ and ‘terrible’.\n",
    "- Convert text to lowercase.\n",
    "- Remove stop words which create noise in the dataset.\n",
    "- Remove numbers in the text\n",
    "- Remove non-english words/ non-meaningful text such as symbols, emails, urls.\n",
    "- Extract root words from every word in the data (Lemmatizing). \n",
    "- Vectorise the data into numeric tensors. \n"
   ]
  },
  {
   "cell_type": "code",
   "execution_count": 175,
   "id": "9a3a584c",
   "metadata": {},
   "outputs": [],
   "source": [
    "import pandas as pd\n",
    "import numpy as np\n",
    "import json\n",
    "import string\n",
    "import matplotlib.pyplot as plt\n",
    "import seaborn as sns\n",
    "from sklearn.model_selection import train_test_split\n",
    "from sklearn.feature_extraction.text import ENGLISH_STOP_WORDS\n",
    "from sklearn.feature_extraction.text import TfidfVectorizer\n",
    "import nltk\n",
    "from nltk.stem import WordNetLemmatizer\n",
    "import re"
   ]
  },
  {
   "cell_type": "markdown",
   "id": "43651563",
   "metadata": {},
   "source": [
    "## Read in the dataset"
   ]
  },
  {
   "cell_type": "code",
   "execution_count": 188,
   "id": "95fd69c4",
   "metadata": {},
   "outputs": [
    {
     "name": "stdout",
     "output_type": "stream",
     "text": [
      "(4846, 2)\n"
     ]
    }
   ],
   "source": [
    "#financial news \n",
    "f_news_df=pd.read_csv(\"Financial_News.csv\",encoding='ISO-8859-1', header = None)\n",
    "#Name columns\n",
    "f_news_df.columns=[\"Class\", \"News\"]\n",
    "#clean dataset and drop rows with na values\n",
    "f_news_df=f_news_df.dropna()\n",
    "f_news_df.head()\n",
    "print(f_news_df.shape)"
   ]
  },
  {
   "cell_type": "code",
   "execution_count": 189,
   "id": "4f252d01",
   "metadata": {},
   "outputs": [],
   "source": [
    "#function for text preprocessing\n",
    "def text_preprocessing(text):\n",
    "    \n",
    "    stop_words = ENGLISH_STOP_WORDS\n",
    "    wordnet_lemmatizer=WordNetLemmatizer()\n",
    "    \n",
    "    #lowercase\n",
    "    text=text.lower()\n",
    "    #punctuations\n",
    "    text=text.translate(str.maketrans('', '', string.punctuation))\n",
    "    #numbers\n",
    "    translation_table = str.maketrans('', '', string.digits)\n",
    "    text=text.translate(translation_table)\n",
    "    #URL\n",
    "    text=text.replace(r'\\s*https?://\\S+(\\s+|$)', ' ').strip()\n",
    "    #stopwords\n",
    "    text=' '.join([word for word in text.split() if word not in (stop_words)])\n",
    "    #non-english\n",
    "    text=' '.join([word for word in text.split() if word not in (eng_words)])\n",
    "    #tokenise\n",
    "    text=nltk.word_tokenize(text)\n",
    "    #lemmatization\n",
    "    text=([wordnet_lemmatizer.lemmatize(w) for w in text])\n",
    "    \n",
    "    return text\n",
    "\n",
    "#function for vectorisation (pass in all the text data for training after splitting into train and test sets)\n",
    "def text_vect(X_train, X_test):\n",
    "    \n",
    "    vectorizer = TfidfVectorizer()\n",
    "    vectorize_text = vectoirizer.fit(X_train)\n",
    "    vect_X_train = vectoirizer.transform(X_train)\n",
    "    vect_X_test = vectoirizer.transform(X_test)\n",
    "    return vect_X_train, vect_X_test"
   ]
  },
  {
   "cell_type": "code",
   "execution_count": 190,
   "id": "b32894fa",
   "metadata": {},
   "outputs": [],
   "source": [
    "f_news_df['News'] = f_news_df['News'].apply(lambda x:text_preprocessing(x))"
   ]
  },
  {
   "cell_type": "code",
   "execution_count": 191,
   "id": "3a1b416e",
   "metadata": {},
   "outputs": [
    {
     "data": {
      "text/html": [
       "<div>\n",
       "<style scoped>\n",
       "    .dataframe tbody tr th:only-of-type {\n",
       "        vertical-align: middle;\n",
       "    }\n",
       "\n",
       "    .dataframe tbody tr th {\n",
       "        vertical-align: top;\n",
       "    }\n",
       "\n",
       "    .dataframe thead th {\n",
       "        text-align: right;\n",
       "    }\n",
       "</style>\n",
       "<table border=\"1\" class=\"dataframe\">\n",
       "  <thead>\n",
       "    <tr style=\"text-align: right;\">\n",
       "      <th></th>\n",
       "      <th>Class</th>\n",
       "      <th>News</th>\n",
       "    </tr>\n",
       "  </thead>\n",
       "  <tbody>\n",
       "    <tr>\n",
       "      <th>0</th>\n",
       "      <td>neutral</td>\n",
       "      <td>[gran, plan]</td>\n",
       "    </tr>\n",
       "    <tr>\n",
       "      <th>1</th>\n",
       "      <td>neutral</td>\n",
       "      <td>[technopolis, plan, stage, meter, company, tec...</td>\n",
       "    </tr>\n",
       "    <tr>\n",
       "      <th>2</th>\n",
       "      <td>negative</td>\n",
       "      <td>[elcoteq, ten, employee, tallinn, earlier, lay...</td>\n",
       "    </tr>\n",
       "    <tr>\n",
       "      <th>3</th>\n",
       "      <td>positive</td>\n",
       "      <td>[expected, material]</td>\n",
       "    </tr>\n",
       "    <tr>\n",
       "      <th>4</th>\n",
       "      <td>positive</td>\n",
       "      <td>[updated, year, basware, target, longterm, sal...</td>\n",
       "    </tr>\n",
       "  </tbody>\n",
       "</table>\n",
       "</div>"
      ],
      "text/plain": [
       "      Class                                               News\n",
       "0   neutral                                       [gran, plan]\n",
       "1   neutral  [technopolis, plan, stage, meter, company, tec...\n",
       "2  negative  [elcoteq, ten, employee, tallinn, earlier, lay...\n",
       "3  positive                               [expected, material]\n",
       "4  positive  [updated, year, basware, target, longterm, sal..."
      ]
     },
     "execution_count": 191,
     "metadata": {},
     "output_type": "execute_result"
    }
   ],
   "source": [
    "f_news_df.head()"
   ]
  },
  {
   "cell_type": "code",
   "execution_count": 194,
   "id": "c1bbb6c5",
   "metadata": {},
   "outputs": [
    {
     "name": "stdout",
     "output_type": "stream",
     "text": [
      "(4846, 2)\n"
     ]
    }
   ],
   "source": [
    "print(f_news_df.shape)"
   ]
  },
  {
   "cell_type": "code",
   "execution_count": null,
   "id": "377f7516",
   "metadata": {},
   "outputs": [],
   "source": [
    "# split into train test sets\n",
    "X = f_news_df['News']\n",
    "y = f_news_df['Class']\n",
    "X_train, X_test, y_train, y_test = train_test_split(X, y, test_size=0.2, random_state=42)\n",
    "vect_X_train, vect_X_test = text_vect(X_train, X_test)"
   ]
  },
  {
   "cell_type": "code",
   "execution_count": 201,
   "id": "2ac1fc3f",
   "metadata": {},
   "outputs": [
    {
     "name": "stdout",
     "output_type": "stream",
     "text": [
      "(26709, 2)\n"
     ]
    }
   ],
   "source": [
    "#sarcasm headlines\n",
    "s_headlines_df=pd.read_json('Sarcasm_Headlines.json',lines=True)\n",
    "s_headlines_df=pd.DataFrame(s_headlines_df)\n",
    "#drop the first column on article link\n",
    "s_headlines_df=s_headlines_df.iloc[: , 1:]\n",
    "#rename columns (Class: 1 = sarcarstic, 0= not)\n",
    "s_headlines_df.rename(columns={'headline':'Headline', 'is_sarcastic':'Class'}, inplace = True)\n",
    "s_headlines_df=s_headlines_df.dropna()\n",
    "s_headlines_df.head()\n",
    "print(s_headlines_df.shape)"
   ]
  },
  {
   "cell_type": "code",
   "execution_count": 202,
   "id": "16d4f2b3",
   "metadata": {},
   "outputs": [],
   "source": [
    "s_headlines_df['Headline'] = s_headlines_df['Headline'].apply(lambda x:text_preprocessing(x))"
   ]
  },
  {
   "cell_type": "code",
   "execution_count": 203,
   "id": "3c148e1d",
   "metadata": {},
   "outputs": [
    {
     "data": {
      "text/html": [
       "<div>\n",
       "<style scoped>\n",
       "    .dataframe tbody tr th:only-of-type {\n",
       "        vertical-align: middle;\n",
       "    }\n",
       "\n",
       "    .dataframe tbody tr th {\n",
       "        vertical-align: top;\n",
       "    }\n",
       "\n",
       "    .dataframe thead th {\n",
       "        text-align: right;\n",
       "    }\n",
       "</style>\n",
       "<table border=\"1\" class=\"dataframe\">\n",
       "  <thead>\n",
       "    <tr style=\"text-align: right;\">\n",
       "      <th></th>\n",
       "      <th>Headline</th>\n",
       "      <th>Class</th>\n",
       "    </tr>\n",
       "  </thead>\n",
       "  <tbody>\n",
       "    <tr>\n",
       "      <th>0</th>\n",
       "      <td>[versace, sue, shopper]</td>\n",
       "      <td>0</td>\n",
       "    </tr>\n",
       "    <tr>\n",
       "      <th>1</th>\n",
       "      <td>[roseanne, catch]</td>\n",
       "      <td>0</td>\n",
       "    </tr>\n",
       "    <tr>\n",
       "      <th>2</th>\n",
       "      <td>[mom, closest]</td>\n",
       "      <td>1</td>\n",
       "    </tr>\n",
       "    <tr>\n",
       "      <th>3</th>\n",
       "      <td>[boehner, want, debtreduction, idea]</td>\n",
       "      <td>1</td>\n",
       "    </tr>\n",
       "    <tr>\n",
       "      <th>4</th>\n",
       "      <td>[jk, rowling, wish]</td>\n",
       "      <td>0</td>\n",
       "    </tr>\n",
       "  </tbody>\n",
       "</table>\n",
       "</div>"
      ],
      "text/plain": [
       "                               Headline  Class\n",
       "0               [versace, sue, shopper]      0\n",
       "1                     [roseanne, catch]      0\n",
       "2                        [mom, closest]      1\n",
       "3  [boehner, want, debtreduction, idea]      1\n",
       "4                   [jk, rowling, wish]      0"
      ]
     },
     "execution_count": 203,
     "metadata": {},
     "output_type": "execute_result"
    }
   ],
   "source": [
    "s_headlines_df.head()"
   ]
  },
  {
   "cell_type": "code",
   "execution_count": 204,
   "id": "ca36a5ea",
   "metadata": {},
   "outputs": [
    {
     "name": "stdout",
     "output_type": "stream",
     "text": [
      "(26709, 2)\n"
     ]
    }
   ],
   "source": [
    "print(s_headlines_df.shape)"
   ]
  },
  {
   "cell_type": "code",
   "execution_count": null,
   "id": "164a972b",
   "metadata": {},
   "outputs": [],
   "source": [
    "# split into train test sets\n",
    "X = s_headlines_df['Headline']\n",
    "y = s_headlines_df['Class']\n",
    "X_train, X_test, y_train, y_test = train_test_split(X, y, test_size=0.2, random_state=42)\n",
    "vect_X_train, vect_X_test = text_vect(X_train, X_test)"
   ]
  },
  {
   "cell_type": "code",
   "execution_count": 218,
   "id": "bd5e03aa",
   "metadata": {},
   "outputs": [],
   "source": [
    "#squid game\n",
    "squidgame_df=pd.read_csv(\"Squid_Game.csv\")\n",
    "#Name columns\n",
    "#clean dataset and drop rows with na values\n",
    "squidgame_df=squidgame_df.dropna()\n",
    "#drop the unused column\n",
    "squidgame_df.drop(squidgame_df.columns[[0,1,2,4]], axis=1, inplace=True)\n",
    "squidgame_df.head()\n",
    "squidgame_df.rename(columns={'Review Rating':'Class', 'Review_body':'Review'}, inplace = True)"
   ]
  },
  {
   "cell_type": "code",
   "execution_count": 219,
   "id": "1744eb76",
   "metadata": {},
   "outputs": [],
   "source": [
    "squidgame_df['Review'] = squidgame_df['Review'].apply(lambda x:text_preprocessing(x))"
   ]
  },
  {
   "cell_type": "code",
   "execution_count": 220,
   "id": "0e73302a",
   "metadata": {},
   "outputs": [
    {
     "data": {
      "text/html": [
       "<div>\n",
       "<style scoped>\n",
       "    .dataframe tbody tr th:only-of-type {\n",
       "        vertical-align: middle;\n",
       "    }\n",
       "\n",
       "    .dataframe tbody tr th {\n",
       "        vertical-align: top;\n",
       "    }\n",
       "\n",
       "    .dataframe thead th {\n",
       "        text-align: right;\n",
       "    }\n",
       "</style>\n",
       "<table border=\"1\" class=\"dataframe\">\n",
       "  <thead>\n",
       "    <tr style=\"text-align: right;\">\n",
       "      <th></th>\n",
       "      <th>Class</th>\n",
       "      <th>Review</th>\n",
       "    </tr>\n",
       "  </thead>\n",
       "  <tbody>\n",
       "    <tr>\n",
       "      <th>0</th>\n",
       "      <td>10/10</td>\n",
       "      <td>[korean, tv, netflix, japanese, alice, centred...</td>\n",
       "    </tr>\n",
       "    <tr>\n",
       "      <th>1</th>\n",
       "      <td>9/10</td>\n",
       "      <td>[game, game, played, heard, alreadyif, spoiler...</td>\n",
       "    </tr>\n",
       "    <tr>\n",
       "      <th>2</th>\n",
       "      <td>10/10</td>\n",
       "      <td>[korea, centred, seong, gihun, invited, game, ...</td>\n",
       "    </tr>\n",
       "    <tr>\n",
       "      <th>3</th>\n",
       "      <td>5/10</td>\n",
       "      <td>[korean, ive, movie, ive, ppl, korean, casuals...</td>\n",
       "    </tr>\n",
       "    <tr>\n",
       "      <th>4</th>\n",
       "      <td>7/10</td>\n",
       "      <td>[wtf, needed, attempting, having, expectation,...</td>\n",
       "    </tr>\n",
       "  </tbody>\n",
       "</table>\n",
       "</div>"
      ],
      "text/plain": [
       "   Class                                             Review\n",
       "0  10/10  [korean, tv, netflix, japanese, alice, centred...\n",
       "1   9/10  [game, game, played, heard, alreadyif, spoiler...\n",
       "2  10/10  [korea, centred, seong, gihun, invited, game, ...\n",
       "3   5/10  [korean, ive, movie, ive, ppl, korean, casuals...\n",
       "4   7/10  [wtf, needed, attempting, having, expectation,..."
      ]
     },
     "execution_count": 220,
     "metadata": {},
     "output_type": "execute_result"
    }
   ],
   "source": [
    "squidgame_df.head()"
   ]
  },
  {
   "cell_type": "code",
   "execution_count": 225,
   "id": "48632c64",
   "metadata": {},
   "outputs": [],
   "source": [
    "#check unique values\n",
    "squidgame_df['Class'].unique()\n",
    "#convert ratings into 3 classes\n",
    "squidgame_df['Class'] = squidgame_df['Class'].replace(['1/10','2/10','3/10'],'0')\n",
    "squidgame_df['Class'] = squidgame_df['Class'].replace(['4/10','5/10','6/10','7/10'],'1')\n",
    "squidgame_df['Class'] = squidgame_df['Class'].replace(['8/10','9/10','10/10'],'2')"
   ]
  },
  {
   "cell_type": "code",
   "execution_count": 226,
   "id": "4055e700",
   "metadata": {},
   "outputs": [
    {
     "data": {
      "text/html": [
       "<div>\n",
       "<style scoped>\n",
       "    .dataframe tbody tr th:only-of-type {\n",
       "        vertical-align: middle;\n",
       "    }\n",
       "\n",
       "    .dataframe tbody tr th {\n",
       "        vertical-align: top;\n",
       "    }\n",
       "\n",
       "    .dataframe thead th {\n",
       "        text-align: right;\n",
       "    }\n",
       "</style>\n",
       "<table border=\"1\" class=\"dataframe\">\n",
       "  <thead>\n",
       "    <tr style=\"text-align: right;\">\n",
       "      <th></th>\n",
       "      <th>Class</th>\n",
       "      <th>Review</th>\n",
       "    </tr>\n",
       "  </thead>\n",
       "  <tbody>\n",
       "    <tr>\n",
       "      <th>0</th>\n",
       "      <td>2</td>\n",
       "      <td>[korean, tv, netflix, japanese, alice, centred...</td>\n",
       "    </tr>\n",
       "    <tr>\n",
       "      <th>1</th>\n",
       "      <td>2</td>\n",
       "      <td>[game, game, played, heard, alreadyif, spoiler...</td>\n",
       "    </tr>\n",
       "    <tr>\n",
       "      <th>2</th>\n",
       "      <td>2</td>\n",
       "      <td>[korea, centred, seong, gihun, invited, game, ...</td>\n",
       "    </tr>\n",
       "    <tr>\n",
       "      <th>3</th>\n",
       "      <td>1</td>\n",
       "      <td>[korean, ive, movie, ive, ppl, korean, casuals...</td>\n",
       "    </tr>\n",
       "    <tr>\n",
       "      <th>4</th>\n",
       "      <td>1</td>\n",
       "      <td>[wtf, needed, attempting, having, expectation,...</td>\n",
       "    </tr>\n",
       "  </tbody>\n",
       "</table>\n",
       "</div>"
      ],
      "text/plain": [
       "  Class                                             Review\n",
       "0     2  [korean, tv, netflix, japanese, alice, centred...\n",
       "1     2  [game, game, played, heard, alreadyif, spoiler...\n",
       "2     2  [korea, centred, seong, gihun, invited, game, ...\n",
       "3     1  [korean, ive, movie, ive, ppl, korean, casuals...\n",
       "4     1  [wtf, needed, attempting, having, expectation,..."
      ]
     },
     "execution_count": 226,
     "metadata": {},
     "output_type": "execute_result"
    }
   ],
   "source": [
    "squidgame_df.head()"
   ]
  },
  {
   "cell_type": "code",
   "execution_count": 227,
   "id": "cd2bb161",
   "metadata": {},
   "outputs": [
    {
     "name": "stdout",
     "output_type": "stream",
     "text": [
      "(1185, 2)\n"
     ]
    }
   ],
   "source": [
    "print(squidgame_df.shape)"
   ]
  },
  {
   "cell_type": "code",
   "execution_count": null,
   "id": "7b5e1045",
   "metadata": {},
   "outputs": [],
   "source": [
    "# split into train test sets\n",
    "X = squidgame_df['Review']\n",
    "y = squidgame_df['Class']\n",
    "X_train, X_test, y_train, y_test = train_test_split(X, y, test_size=0.2, random_state=42)\n",
    "vect_X_train, vect_X_test = text_vect(X_train, X_test)"
   ]
  }
 ],
 "metadata": {
  "kernelspec": {
   "display_name": "Python 3 (ipykernel)",
   "language": "python",
   "name": "python3"
  },
  "language_info": {
   "codemirror_mode": {
    "name": "ipython",
    "version": 3
   },
   "file_extension": ".py",
   "mimetype": "text/x-python",
   "name": "python",
   "nbconvert_exporter": "python",
   "pygments_lexer": "ipython3",
   "version": "3.9.12"
  }
 },
 "nbformat": 4,
 "nbformat_minor": 5
}
