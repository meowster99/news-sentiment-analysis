{
 "cells": [
  {
   "cell_type": "markdown",
   "id": "c697e4a9",
   "metadata": {},
   "source": [
    "For text data preprocessing, we followed the following steps:\n",
    "- Remove punctuation signs to remove ambiguity between words such as ‘terrible!’ and ‘terrible’.\n",
    "- Convert text to lowercase.\n",
    "- Remove stop words which create noise in the dataset.\n",
    "- Remove numbers in the text\n",
    "- Remove non-english words/ non-meaningful text such as symbols, emails, urls.\n",
    "- Extract root words from every word in the data (Lemmatizing). \n",
    "- Vectorise the data into numeric tensors. \n"
   ]
  },
  {
   "cell_type": "code",
   "execution_count": 88,
   "id": "9a3a584c",
   "metadata": {},
   "outputs": [],
   "source": [
    "import pandas as pd\n",
    "import numpy as np\n",
    "import json\n",
    "import string\n",
    "import matplotlib.pyplot as plt\n",
    "import seaborn as sns\n",
    "from sklearn.model_selection import train_test_split\n",
    "from sklearn.feature_extraction.text import ENGLISH_STOP_WORDS\n",
    "from tensorflow.keras.preprocessing.text import Tokenizer\n",
    "from tensorflow.keras.preprocessing.sequence import pad_sequences\n",
    "import nltk\n",
    "from nltk.stem import WordNetLemmatizer\n",
    "import re\n",
    "from pathlib import Path   \n",
    "from transformers import MarianMTModel, MarianTokenizer"
   ]
  },
  {
   "cell_type": "markdown",
   "id": "56860d5f",
   "metadata": {},
   "source": [
    "## Functions"
   ]
  },
  {
   "cell_type": "code",
   "execution_count": 184,
   "id": "1902e37b",
   "metadata": {},
   "outputs": [],
   "source": [
    "#function for text preprocessing\n",
    "def text_preprocessing(text):\n",
    "    stop_words = ENGLISH_STOP_WORDS\n",
    "    wordnet_lemmatizer=WordNetLemmatizer()\n",
    "    #punctuations\n",
    "    text=text.translate(str.maketrans('', '', string.punctuation))\n",
    "    #numbers\n",
    "    translation_table = str.maketrans('', '', string.digits)\n",
    "    text=text.translate(translation_table)\n",
    "    #URL\n",
    "    text=text.replace(r'\\s*https?://\\S+(\\s+|$)', ' ').strip()\n",
    "    #stopwords\n",
    "    text=' '.join([word for word in text.split() if word not in (stop_words)])\n",
    "    #lemmatization\n",
    "    text=''.join([wordnet_lemmatizer.lemmatize(w) for w in text])\n",
    "    return text"
   ]
  },
  {
   "cell_type": "code",
   "execution_count": 110,
   "id": "40e110f2",
   "metadata": {},
   "outputs": [],
   "source": [
    "#function to tokenise the strings (LSTM)\n",
    "def text_vectorisation(text):\n",
    "    max_size = 10000\n",
    "    # tokenising the text data\n",
    "    tokenizer = Tokenizer(num_words = max_size,oov_token=\"<oov>\")\n",
    "    tokenizer.fit_on_texts(text)\n",
    "    #encode the training data sentences into sequences\n",
    "    text_sequences = tokenizer.texts_to_sequences(text)\n",
    "    print(\"Vocab length\", len(tokenizer.word_index) + 1)\n",
    "    #max length of the training sequence\n",
    "    max_length = np.max(list(map(lambda x: len(x), text_sequences)))\n",
    "    print(\"max length:\" ,max_length)\n",
    "    #padding the training sequence to ensure same length\n",
    "    text_padded = pad_sequences(text_sequences, padding='post',maxlen=max_length)\n",
    "    return text_padded "
   ]
  },
  {
   "cell_type": "markdown",
   "id": "43651563",
   "metadata": {},
   "source": [
    "## Read in the dataset"
   ]
  },
  {
   "cell_type": "markdown",
   "id": "dbf04759",
   "metadata": {},
   "source": [
    "## Financial News Headline"
   ]
  },
  {
   "cell_type": "code",
   "execution_count": 89,
   "id": "95fd69c4",
   "metadata": {},
   "outputs": [
    {
     "name": "stdout",
     "output_type": "stream",
     "text": [
      "(4846, 2)\n"
     ]
    }
   ],
   "source": [
    "#financial news \n",
    "f_news_df=pd.read_csv(\"data\\Financial_News.csv\",encoding='ISO-8859-1', header = None)\n",
    "#Name columns\n",
    "f_news_df.columns=[\"Class\", \"News\"]\n",
    "#clean dataset and drop rows with na values\n",
    "f_news_df=f_news_df.dropna()\n",
    "f_news_df.head()\n",
    "print(f_news_df.shape)"
   ]
  },
  {
   "cell_type": "code",
   "execution_count": 91,
   "id": "b32894fa",
   "metadata": {},
   "outputs": [],
   "source": [
    "f_news_df['News']=f_news_df['News'].apply(lambda x: x.lower())\n",
    "f_news_df['News']=f_news_df['News'].apply(lambda x:text_preprocessing(x))"
   ]
  },
  {
   "cell_type": "code",
   "execution_count": 92,
   "id": "81a3d4c8",
   "metadata": {},
   "outputs": [],
   "source": [
    "#convert ratings into 3 classes\n",
    "f_news_df['Class'] = f_news_df['Class'].replace(['negative'],'0')\n",
    "f_news_df['Class'] = f_news_df['Class'].replace(['neutral'],'1')\n",
    "f_news_df['Class'] = f_news_df['Class'].replace(['positive'],'2')"
   ]
  },
  {
   "cell_type": "code",
   "execution_count": 93,
   "id": "5cb078f3",
   "metadata": {},
   "outputs": [
    {
     "data": {
      "text/html": [
       "<div>\n",
       "<style scoped>\n",
       "    .dataframe tbody tr th:only-of-type {\n",
       "        vertical-align: middle;\n",
       "    }\n",
       "\n",
       "    .dataframe tbody tr th {\n",
       "        vertical-align: top;\n",
       "    }\n",
       "\n",
       "    .dataframe thead th {\n",
       "        text-align: right;\n",
       "    }\n",
       "</style>\n",
       "<table border=\"1\" class=\"dataframe\">\n",
       "  <thead>\n",
       "    <tr style=\"text-align: right;\">\n",
       "      <th></th>\n",
       "      <th>Class</th>\n",
       "      <th>News</th>\n",
       "    </tr>\n",
       "  </thead>\n",
       "  <tbody>\n",
       "    <tr>\n",
       "      <th>0</th>\n",
       "      <td>1</td>\n",
       "      <td>according gran company plans production russia...</td>\n",
       "    </tr>\n",
       "    <tr>\n",
       "      <th>1</th>\n",
       "      <td>1</td>\n",
       "      <td>technopolis plans develop stages area square m...</td>\n",
       "    </tr>\n",
       "    <tr>\n",
       "      <th>2</th>\n",
       "      <td>0</td>\n",
       "      <td>international electronic industry company elco...</td>\n",
       "    </tr>\n",
       "    <tr>\n",
       "      <th>3</th>\n",
       "      <td>2</td>\n",
       "      <td>new production plant company increase capacity...</td>\n",
       "    </tr>\n",
       "    <tr>\n",
       "      <th>4</th>\n",
       "      <td>2</td>\n",
       "      <td>according company s updated strategy years bas...</td>\n",
       "    </tr>\n",
       "    <tr>\n",
       "      <th>...</th>\n",
       "      <td>...</td>\n",
       "      <td>...</td>\n",
       "    </tr>\n",
       "    <tr>\n",
       "      <th>4841</th>\n",
       "      <td>0</td>\n",
       "      <td>london marketwatch share prices ended lower lo...</td>\n",
       "    </tr>\n",
       "    <tr>\n",
       "      <th>4842</th>\n",
       "      <td>1</td>\n",
       "      <td>rinkuskiai s beer sales fell cent million litr...</td>\n",
       "    </tr>\n",
       "    <tr>\n",
       "      <th>4843</th>\n",
       "      <td>0</td>\n",
       "      <td>operating profit fell eur mn eur mn including ...</td>\n",
       "    </tr>\n",
       "    <tr>\n",
       "      <th>4844</th>\n",
       "      <td>0</td>\n",
       "      <td>net sales paper segment decreased eur mn secon...</td>\n",
       "    </tr>\n",
       "    <tr>\n",
       "      <th>4845</th>\n",
       "      <td>0</td>\n",
       "      <td>sales finland decreased january sales outside ...</td>\n",
       "    </tr>\n",
       "  </tbody>\n",
       "</table>\n",
       "<p>4846 rows × 2 columns</p>\n",
       "</div>"
      ],
      "text/plain": [
       "     Class                                               News\n",
       "0        1  according gran company plans production russia...\n",
       "1        1  technopolis plans develop stages area square m...\n",
       "2        0  international electronic industry company elco...\n",
       "3        2  new production plant company increase capacity...\n",
       "4        2  according company s updated strategy years bas...\n",
       "...    ...                                                ...\n",
       "4841     0  london marketwatch share prices ended lower lo...\n",
       "4842     1  rinkuskiai s beer sales fell cent million litr...\n",
       "4843     0  operating profit fell eur mn eur mn including ...\n",
       "4844     0  net sales paper segment decreased eur mn secon...\n",
       "4845     0  sales finland decreased january sales outside ...\n",
       "\n",
       "[4846 rows x 2 columns]"
      ]
     },
     "execution_count": 93,
     "metadata": {},
     "output_type": "execute_result"
    }
   ],
   "source": [
    "f_news_df"
   ]
  },
  {
   "cell_type": "code",
   "execution_count": 94,
   "id": "c1bbb6c5",
   "metadata": {},
   "outputs": [
    {
     "name": "stdout",
     "output_type": "stream",
     "text": [
      "(4846, 2)\n"
     ]
    }
   ],
   "source": [
    "print(f_news_df.shape)"
   ]
  },
  {
   "cell_type": "code",
   "execution_count": 96,
   "id": "c36636f6",
   "metadata": {},
   "outputs": [
    {
     "name": "stdout",
     "output_type": "stream",
     "text": [
      "Vocab length 9243\n",
      "max length: 38\n"
     ]
    }
   ],
   "source": [
    "#tokenise\n",
    "train_text_padded = text_vectorisation(f_news_df['News'])"
   ]
  },
  {
   "cell_type": "code",
   "execution_count": 97,
   "id": "c707870a",
   "metadata": {
    "scrolled": true
   },
   "outputs": [
    {
     "data": {
      "text/plain": [
       "array([[  43, 3038,    4, ...,    0,    0,    0],\n",
       "       [ 630,  197,  664, ...,    0,    0,    0],\n",
       "       [ 164,  467,   72, ...,    0,    0,    0],\n",
       "       ...,\n",
       "       [  15,   11,  127, ...,    0,    0,    0],\n",
       "       [  10,    8,   76, ...,    0,    0,    0],\n",
       "       [   8,   12,   81, ...,    0,    0,    0]])"
      ]
     },
     "execution_count": 97,
     "metadata": {},
     "output_type": "execute_result"
    }
   ],
   "source": [
    "train_text_padded"
   ]
  },
  {
   "cell_type": "markdown",
   "id": "3300f972",
   "metadata": {},
   "source": [
    "#### Requires the 'glove.6B.100d.txt' file to be downloaded from Standford first : https://nlp.stanford.edu/projects/glove/"
   ]
  },
  {
   "cell_type": "code",
   "execution_count": 98,
   "id": "b0280034",
   "metadata": {},
   "outputs": [
    {
     "data": {
      "text/plain": [
       "array([[ 0.        ,  0.        ,  0.        , ...,  0.        ,\n",
       "         0.        ,  0.        ],\n",
       "       [ 0.        ,  0.        ,  0.        , ...,  0.        ,\n",
       "         0.        ,  0.        ],\n",
       "       [ 0.31106001,  0.47663999,  0.12986   , ...,  0.073349  ,\n",
       "         0.27316001, -0.79343998],\n",
       "       ...,\n",
       "       [-0.36792001,  0.16948   ,  0.53179997, ...,  0.41356999,\n",
       "         0.072457  ,  0.58749002],\n",
       "       [ 0.46875   , -0.12616   ,  0.14973   , ..., -0.027374  ,\n",
       "        -0.097867  , -0.092297  ],\n",
       "       [ 0.37041   ,  1.05400002,  0.22189   , ..., -0.038925  ,\n",
       "         0.28915   ,  1.27030003]])"
      ]
     },
     "execution_count": 98,
     "metadata": {},
     "output_type": "execute_result"
    }
   ],
   "source": [
    "#glove word embedding (transfer learning)\n",
    "\n",
    "embeddings_dictionary = dict()\n",
    "embedding_dim = 100\n",
    "vocab_length =9243\n",
    "with open('glove.6B.100d.txt',encoding=\"utf8\") as fp:\n",
    "    for line in fp.readlines():\n",
    "        records = line.split()\n",
    "        word = records[0]\n",
    "        vector_dimensions = np.asarray(records[1:], dtype='float32')\n",
    "        embeddings_dictionary [word] = vector_dimensions\n",
    "        \n",
    "max_size = 10000\n",
    "# tokenising the text data\n",
    "tokenizer = Tokenizer(num_words = max_size,oov_token=\"<oov>\")\n",
    "tokenizer.fit_on_texts(f_news_df['News'])\n",
    "embedding_matrix = np.zeros((vocab_length, embedding_dim))\n",
    "for word, index in tokenizer.word_index.items():\n",
    "    embedding_vector = embeddings_dictionary.get(word)\n",
    "    if embedding_vector is not None:\n",
    "        embedding_matrix[index] = embedding_vector\n",
    "        \n",
    "embedding_matrix"
   ]
  },
  {
   "cell_type": "code",
   "execution_count": 99,
   "id": "da8aa08e",
   "metadata": {},
   "outputs": [
    {
     "data": {
      "text/plain": [
       "(9243, 100)"
      ]
     },
     "execution_count": 99,
     "metadata": {},
     "output_type": "execute_result"
    }
   ],
   "source": [
    "embedding_matrix.shape"
   ]
  },
  {
   "cell_type": "code",
   "execution_count": 467,
   "id": "85fddd0d",
   "metadata": {},
   "outputs": [],
   "source": [
    "#save the embedded weights\n",
    "np.savetxt('data/weights/weights_fnews_.csv',embedding_matrix, delimiter=\",\")"
   ]
  },
  {
   "cell_type": "code",
   "execution_count": 13,
   "id": "8e5336ee",
   "metadata": {},
   "outputs": [],
   "source": [
    "# split into train test sets\n",
    "X = f_news_df['News']\n",
    "y = f_news_df['Class']\n",
    "y = pd.get_dummies(f_news_df['Class']).values\n",
    "X_train, X_test, y_train, y_test = train_test_split(train_text_padded, y, test_size=0.2, random_state=42)"
   ]
  },
  {
   "cell_type": "code",
   "execution_count": 17,
   "id": "025ca1be",
   "metadata": {},
   "outputs": [],
   "source": [
    "np.savetxt('data/train/fnews_Xtrain_.csv', X_train, delimiter=\",\")\n",
    "np.savetxt('data/test/fnews_Xtest_.csv', X_test, delimiter=\",\")\n",
    "np.savetxt('data/train/fnews_ytrain_.csv', y_train, delimiter=\",\")\n",
    "np.savetxt('data/test/fnews_ytest_.csv', y_test, delimiter=\",\")\n",
    "np.savetxt('data/test/fnews_X_.csv', train_text_padded, delimiter=\",\")\n",
    "np.savetxt('data/test/fnews_y_.csv', y, delimiter=\",\")"
   ]
  },
  {
   "cell_type": "markdown",
   "id": "28a576a3",
   "metadata": {},
   "source": [
    "## Original Financial News Dataset + Back Translated Dataset"
   ]
  },
  {
   "cell_type": "code",
   "execution_count": 126,
   "id": "80a239c6",
   "metadata": {},
   "outputs": [
    {
     "data": {
      "text/html": [
       "<div>\n",
       "<style scoped>\n",
       "    .dataframe tbody tr th:only-of-type {\n",
       "        vertical-align: middle;\n",
       "    }\n",
       "\n",
       "    .dataframe tbody tr th {\n",
       "        vertical-align: top;\n",
       "    }\n",
       "\n",
       "    .dataframe thead th {\n",
       "        text-align: right;\n",
       "    }\n",
       "</style>\n",
       "<table border=\"1\" class=\"dataframe\">\n",
       "  <thead>\n",
       "    <tr style=\"text-align: right;\">\n",
       "      <th></th>\n",
       "      <th>Class</th>\n",
       "      <th>News</th>\n",
       "    </tr>\n",
       "  </thead>\n",
       "  <tbody>\n",
       "    <tr>\n",
       "      <th>0</th>\n",
       "      <td>1</td>\n",
       "      <td>According to Gran, the company does not intend...</td>\n",
       "    </tr>\n",
       "    <tr>\n",
       "      <th>1</th>\n",
       "      <td>1</td>\n",
       "      <td>Technopolis plans to develop in stages of an a...</td>\n",
       "    </tr>\n",
       "    <tr>\n",
       "      <th>2</th>\n",
       "      <td>0</td>\n",
       "      <td>The International Elcoteq Electronics Society ...</td>\n",
       "    </tr>\n",
       "    <tr>\n",
       "      <th>3</th>\n",
       "      <td>2</td>\n",
       "      <td>With the new production factory, the company w...</td>\n",
       "    </tr>\n",
       "    <tr>\n",
       "      <th>4</th>\n",
       "      <td>2</td>\n",
       "      <td>According to the company's updated strategy fo...</td>\n",
       "    </tr>\n",
       "    <tr>\n",
       "      <th>...</th>\n",
       "      <td>...</td>\n",
       "      <td>...</td>\n",
       "    </tr>\n",
       "    <tr>\n",
       "      <th>4841</th>\n",
       "      <td>0</td>\n",
       "      <td>London Marketwatch - The equity price ended in...</td>\n",
       "    </tr>\n",
       "    <tr>\n",
       "      <th>4842</th>\n",
       "      <td>1</td>\n",
       "      <td>Rinkuskiai beer sales fell 6.5% to 4.16 millio...</td>\n",
       "    </tr>\n",
       "    <tr>\n",
       "      <th>4843</th>\n",
       "      <td>0</td>\n",
       "      <td>The operating profit fell to 35.4 mins from 68...</td>\n",
       "    </tr>\n",
       "    <tr>\n",
       "      <th>4844</th>\n",
       "      <td>0</td>\n",
       "      <td>Net sales of the paper segment decreased to 22...</td>\n",
       "    </tr>\n",
       "    <tr>\n",
       "      <th>4845</th>\n",
       "      <td>0</td>\n",
       "      <td>Sales in Finland decreased by 10.5% in January...</td>\n",
       "    </tr>\n",
       "  </tbody>\n",
       "</table>\n",
       "<p>4846 rows × 2 columns</p>\n",
       "</div>"
      ],
      "text/plain": [
       "     Class                                               News\n",
       "0        1  According to Gran, the company does not intend...\n",
       "1        1  Technopolis plans to develop in stages of an a...\n",
       "2        0  The International Elcoteq Electronics Society ...\n",
       "3        2  With the new production factory, the company w...\n",
       "4        2  According to the company's updated strategy fo...\n",
       "...    ...                                                ...\n",
       "4841     0  London Marketwatch - The equity price ended in...\n",
       "4842     1  Rinkuskiai beer sales fell 6.5% to 4.16 millio...\n",
       "4843     0  The operating profit fell to 35.4 mins from 68...\n",
       "4844     0  Net sales of the paper segment decreased to 22...\n",
       "4845     0  Sales in Finland decreased by 10.5% in January...\n",
       "\n",
       "[4846 rows x 2 columns]"
      ]
     },
     "execution_count": 126,
     "metadata": {},
     "output_type": "execute_result"
    }
   ],
   "source": [
    "fnews_df_bt = pd.read_csv('Back Translation - Financial News Headlines.csv')\n",
    "fnews_df_bt = fnews_df_bt.drop('News', axis=1)\n",
    "fnews_df_bt.rename(columns={'News.1':'News'}, inplace = True)\n",
    "\n",
    "#convert ratings into 3 classes\n",
    "fnews_df_bt['Class'] = fnews_df_bt['Class'].replace(['negative'],'0')\n",
    "fnews_df_bt['Class'] = fnews_df_bt['Class'].replace(['neutral'],'1')\n",
    "fnews_df_bt['Class'] = fnews_df_bt['Class'].replace(['positive'],'2')\n",
    "\n",
    "fnews_df_bt"
   ]
  },
  {
   "cell_type": "code",
   "execution_count": 127,
   "id": "588626d9",
   "metadata": {},
   "outputs": [
    {
     "data": {
      "text/html": [
       "<div>\n",
       "<style scoped>\n",
       "    .dataframe tbody tr th:only-of-type {\n",
       "        vertical-align: middle;\n",
       "    }\n",
       "\n",
       "    .dataframe tbody tr th {\n",
       "        vertical-align: top;\n",
       "    }\n",
       "\n",
       "    .dataframe thead th {\n",
       "        text-align: right;\n",
       "    }\n",
       "</style>\n",
       "<table border=\"1\" class=\"dataframe\">\n",
       "  <thead>\n",
       "    <tr style=\"text-align: right;\">\n",
       "      <th></th>\n",
       "      <th>Class</th>\n",
       "      <th>News</th>\n",
       "    </tr>\n",
       "  </thead>\n",
       "  <tbody>\n",
       "    <tr>\n",
       "      <th>0</th>\n",
       "      <td>1</td>\n",
       "      <td>according gran company plans production russia...</td>\n",
       "    </tr>\n",
       "    <tr>\n",
       "      <th>1</th>\n",
       "      <td>1</td>\n",
       "      <td>technopolis plans develop stages area square m...</td>\n",
       "    </tr>\n",
       "    <tr>\n",
       "      <th>2</th>\n",
       "      <td>0</td>\n",
       "      <td>international electronic industry company elco...</td>\n",
       "    </tr>\n",
       "    <tr>\n",
       "      <th>3</th>\n",
       "      <td>2</td>\n",
       "      <td>new production plant company increase capacity...</td>\n",
       "    </tr>\n",
       "    <tr>\n",
       "      <th>4</th>\n",
       "      <td>2</td>\n",
       "      <td>according company s updated strategy years bas...</td>\n",
       "    </tr>\n",
       "    <tr>\n",
       "      <th>...</th>\n",
       "      <td>...</td>\n",
       "      <td>...</td>\n",
       "    </tr>\n",
       "    <tr>\n",
       "      <th>4841</th>\n",
       "      <td>0</td>\n",
       "      <td>London Marketwatch - The equity price ended in...</td>\n",
       "    </tr>\n",
       "    <tr>\n",
       "      <th>4842</th>\n",
       "      <td>1</td>\n",
       "      <td>Rinkuskiai beer sales fell 6.5% to 4.16 millio...</td>\n",
       "    </tr>\n",
       "    <tr>\n",
       "      <th>4843</th>\n",
       "      <td>0</td>\n",
       "      <td>The operating profit fell to 35.4 mins from 68...</td>\n",
       "    </tr>\n",
       "    <tr>\n",
       "      <th>4844</th>\n",
       "      <td>0</td>\n",
       "      <td>Net sales of the paper segment decreased to 22...</td>\n",
       "    </tr>\n",
       "    <tr>\n",
       "      <th>4845</th>\n",
       "      <td>0</td>\n",
       "      <td>Sales in Finland decreased by 10.5% in January...</td>\n",
       "    </tr>\n",
       "  </tbody>\n",
       "</table>\n",
       "<p>9692 rows × 2 columns</p>\n",
       "</div>"
      ],
      "text/plain": [
       "     Class                                               News\n",
       "0        1  according gran company plans production russia...\n",
       "1        1  technopolis plans develop stages area square m...\n",
       "2        0  international electronic industry company elco...\n",
       "3        2  new production plant company increase capacity...\n",
       "4        2  according company s updated strategy years bas...\n",
       "...    ...                                                ...\n",
       "4841     0  London Marketwatch - The equity price ended in...\n",
       "4842     1  Rinkuskiai beer sales fell 6.5% to 4.16 millio...\n",
       "4843     0  The operating profit fell to 35.4 mins from 68...\n",
       "4844     0  Net sales of the paper segment decreased to 22...\n",
       "4845     0  Sales in Finland decreased by 10.5% in January...\n",
       "\n",
       "[9692 rows x 2 columns]"
      ]
     },
     "execution_count": 127,
     "metadata": {},
     "output_type": "execute_result"
    }
   ],
   "source": [
    "#Merge both the original dataset and the back translated dataset\n",
    "frames = [f_news_df, fnews_df_bt]\n",
    "f_news_df2 = pd.concat(frames)\n",
    "f_news_df2"
   ]
  },
  {
   "cell_type": "code",
   "execution_count": 128,
   "id": "9304e33b",
   "metadata": {},
   "outputs": [],
   "source": [
    "#preprocess the new text data \n",
    "f_news_df2['News']=f_news_df2['News'].apply(lambda x: x.lower())\n",
    "f_news_df2['News']=f_news_df2['News'].apply(lambda x:text_preprocessing(x))"
   ]
  },
  {
   "cell_type": "code",
   "execution_count": 129,
   "id": "3bf5aefc",
   "metadata": {},
   "outputs": [
    {
     "name": "stdout",
     "output_type": "stream",
     "text": [
      "Vocab length 10855\n",
      "max length: 58\n"
     ]
    }
   ],
   "source": [
    "#tokenise\n",
    "train_text_padded2 = text_vectorisation(f_news_df2['News'])"
   ]
  },
  {
   "cell_type": "code",
   "execution_count": 130,
   "id": "214731ef",
   "metadata": {},
   "outputs": [
    {
     "data": {
      "text/plain": [
       "array([[ 0.        ,  0.        ,  0.        , ...,  0.        ,\n",
       "         0.        ,  0.        ],\n",
       "       [ 0.        ,  0.        ,  0.        , ...,  0.        ,\n",
       "         0.        ,  0.        ],\n",
       "       [ 0.31106001,  0.47663999,  0.12986   , ...,  0.073349  ,\n",
       "         0.27316001, -0.79343998],\n",
       "       ...,\n",
       "       [ 0.        ,  0.        ,  0.        , ...,  0.        ,\n",
       "         0.        ,  0.        ],\n",
       "       [ 0.30566001,  0.23728999,  0.022027  , ...,  0.10943   ,\n",
       "         0.17835   , -1.0352    ],\n",
       "       [-0.068443  ,  0.27186   ,  0.36601999, ...,  0.38561001,\n",
       "         0.1999    , -0.24925999]])"
      ]
     },
     "execution_count": 130,
     "metadata": {},
     "output_type": "execute_result"
    }
   ],
   "source": [
    "#glove word embedding (transfer learning)\n",
    "\n",
    "embeddings_dictionary = dict()\n",
    "embedding_dim = 100\n",
    "vocab_length =10855\n",
    "with open('glove.6B.100d.txt',encoding=\"utf8\") as fp:\n",
    "    for line in fp.readlines():\n",
    "        records = line.split()\n",
    "        word = records[0]\n",
    "        vector_dimensions = np.asarray(records[1:], dtype='float32')\n",
    "        embeddings_dictionary [word] = vector_dimensions\n",
    "        \n",
    "max_size = 10000\n",
    "# tokenising the text data\n",
    "tokenizer = Tokenizer(num_words = max_size,oov_token=\"<oov>\")\n",
    "tokenizer.fit_on_texts(f_news_df2['News'])\n",
    "embedding_matrix = np.zeros((vocab_length, embedding_dim))\n",
    "for word, index in tokenizer.word_index.items():\n",
    "    embedding_vector = embeddings_dictionary.get(word)\n",
    "    if embedding_vector is not None:\n",
    "        embedding_matrix[index] = embedding_vector\n",
    "        \n",
    "embedding_matrix"
   ]
  },
  {
   "cell_type": "code",
   "execution_count": 131,
   "id": "3a331557",
   "metadata": {},
   "outputs": [
    {
     "data": {
      "text/plain": [
       "(10855, 100)"
      ]
     },
     "execution_count": 131,
     "metadata": {},
     "output_type": "execute_result"
    }
   ],
   "source": [
    "embedding_matrix.shape"
   ]
  },
  {
   "cell_type": "code",
   "execution_count": 132,
   "id": "0fd8ef0c",
   "metadata": {},
   "outputs": [],
   "source": [
    "#save the embedded weights\n",
    "np.savetxt('data/weights/weights_fnewsbt_.csv',embedding_matrix, delimiter=\",\")"
   ]
  },
  {
   "cell_type": "code",
   "execution_count": 135,
   "id": "bc0fba76",
   "metadata": {},
   "outputs": [],
   "source": [
    "#conduct stratified sampling\n",
    "# split into train test sets\n",
    "X = f_news_df2['News']\n",
    "y = f_news_df2['Class']\n",
    "y = pd.get_dummies(f_news_df2['Class']).values\n",
    "X_train, X_test, y_train, y_test = train_test_split(train_text_padded2, y, test_size=0.2,stratify=y, random_state=42)"
   ]
  },
  {
   "cell_type": "code",
   "execution_count": 136,
   "id": "264750f5",
   "metadata": {},
   "outputs": [],
   "source": [
    "np.savetxt('data/train/fnews_Xtrainbt_.csv', X_train, delimiter=\",\")\n",
    "np.savetxt('data/test/fnews_Xtestbt_.csv', X_test, delimiter=\",\")\n",
    "np.savetxt('data/train/fnews_ytrainbt_.csv', y_train, delimiter=\",\")\n",
    "np.savetxt('data/test/fnews_ytestbt_.csv', y_test, delimiter=\",\")"
   ]
  },
  {
   "cell_type": "markdown",
   "id": "ebe85a78",
   "metadata": {},
   "source": [
    "## Squidgame Reviews"
   ]
  },
  {
   "cell_type": "code",
   "execution_count": 111,
   "id": "bd5e03aa",
   "metadata": {},
   "outputs": [],
   "source": [
    "#squid game\n",
    "squidgame_df=pd.read_csv(\"data/Squid_Game.csv\")\n",
    "#Name columns\n",
    "#clean dataset and drop rows with na values\n",
    "squidgame_df=squidgame_df.dropna()\n",
    "#drop the unused column\n",
    "squidgame_df.drop(squidgame_df.columns[[0,1,2,4]], axis=1, inplace=True)\n",
    "squidgame_df.head()\n",
    "squidgame_df.rename(columns={'Review Rating':'Class', 'Review_body':'Review'}, inplace = True)"
   ]
  },
  {
   "cell_type": "code",
   "execution_count": 112,
   "id": "1744eb76",
   "metadata": {},
   "outputs": [],
   "source": [
    "squidgame_df['Review'] = squidgame_df['Review'].apply(lambda x:text_preprocessing(x))"
   ]
  },
  {
   "cell_type": "code",
   "execution_count": 113,
   "id": "0e73302a",
   "metadata": {},
   "outputs": [
    {
     "data": {
      "text/html": [
       "<div>\n",
       "<style scoped>\n",
       "    .dataframe tbody tr th:only-of-type {\n",
       "        vertical-align: middle;\n",
       "    }\n",
       "\n",
       "    .dataframe tbody tr th {\n",
       "        vertical-align: top;\n",
       "    }\n",
       "\n",
       "    .dataframe thead th {\n",
       "        text-align: right;\n",
       "    }\n",
       "</style>\n",
       "<table border=\"1\" class=\"dataframe\">\n",
       "  <thead>\n",
       "    <tr style=\"text-align: right;\">\n",
       "      <th></th>\n",
       "      <th>Class</th>\n",
       "      <th>Review</th>\n",
       "    </tr>\n",
       "  </thead>\n",
       "  <tbody>\n",
       "    <tr>\n",
       "      <th>0</th>\n",
       "      <td>10/10</td>\n",
       "      <td>Just finished SQUID GAME Korean TV thats globa...</td>\n",
       "    </tr>\n",
       "    <tr>\n",
       "      <th>1</th>\n",
       "      <td>9/10</td>\n",
       "      <td>Well multiple games actually accurate Now look...</td>\n",
       "    </tr>\n",
       "    <tr>\n",
       "      <th>2</th>\n",
       "      <td>10/10</td>\n",
       "      <td>This runaway hit South Korea centred Seong Gih...</td>\n",
       "    </tr>\n",
       "    <tr>\n",
       "      <th>3</th>\n",
       "      <td>5/10</td>\n",
       "      <td>I went knowing absolutely korean series And an...</td>\n",
       "    </tr>\n",
       "    <tr>\n",
       "      <th>4</th>\n",
       "      <td>7/10</td>\n",
       "      <td>I honestly dont know wtf main character needed...</td>\n",
       "    </tr>\n",
       "  </tbody>\n",
       "</table>\n",
       "</div>"
      ],
      "text/plain": [
       "   Class                                             Review\n",
       "0  10/10  Just finished SQUID GAME Korean TV thats globa...\n",
       "1   9/10  Well multiple games actually accurate Now look...\n",
       "2  10/10  This runaway hit South Korea centred Seong Gih...\n",
       "3   5/10  I went knowing absolutely korean series And an...\n",
       "4   7/10  I honestly dont know wtf main character needed..."
      ]
     },
     "execution_count": 113,
     "metadata": {},
     "output_type": "execute_result"
    }
   ],
   "source": [
    "squidgame_df.head()"
   ]
  },
  {
   "cell_type": "code",
   "execution_count": 114,
   "id": "48632c64",
   "metadata": {},
   "outputs": [],
   "source": [
    "#check unique values\n",
    "squidgame_df['Class'].unique()\n",
    "#convert ratings into 3 classes\n",
    "squidgame_df['Class'] = squidgame_df['Class'].replace(['1/10','2/10','3/10', '4/10'],'0')\n",
    "squidgame_df['Class'] = squidgame_df['Class'].replace(['5/10'],'1')\n",
    "squidgame_df['Class'] = squidgame_df['Class'].replace(['6/10','7/10','8/10','9/10','10/10'],'2')"
   ]
  },
  {
   "cell_type": "code",
   "execution_count": 74,
   "id": "965900c6",
   "metadata": {},
   "outputs": [],
   "source": [
    "#storing a version where labels are cleaned\n",
    "filepath = Path('data/Squid_Game_Cleaned.csv')   \n",
    "squidgame_df.to_csv(filepath)"
   ]
  },
  {
   "cell_type": "code",
   "execution_count": 73,
   "id": "4055e700",
   "metadata": {},
   "outputs": [
    {
     "data": {
      "text/html": [
       "<div>\n",
       "<style scoped>\n",
       "    .dataframe tbody tr th:only-of-type {\n",
       "        vertical-align: middle;\n",
       "    }\n",
       "\n",
       "    .dataframe tbody tr th {\n",
       "        vertical-align: top;\n",
       "    }\n",
       "\n",
       "    .dataframe thead th {\n",
       "        text-align: right;\n",
       "    }\n",
       "</style>\n",
       "<table border=\"1\" class=\"dataframe\">\n",
       "  <thead>\n",
       "    <tr style=\"text-align: right;\">\n",
       "      <th></th>\n",
       "      <th>Class</th>\n",
       "      <th>Review</th>\n",
       "    </tr>\n",
       "  </thead>\n",
       "  <tbody>\n",
       "    <tr>\n",
       "      <th>0</th>\n",
       "      <td>2</td>\n",
       "      <td>Just finished up SQUID GAME, the Korean TV sho...</td>\n",
       "    </tr>\n",
       "    <tr>\n",
       "      <th>1</th>\n",
       "      <td>2</td>\n",
       "      <td>Well multiple games actually, but even that yo...</td>\n",
       "    </tr>\n",
       "    <tr>\n",
       "      <th>2</th>\n",
       "      <td>2</td>\n",
       "      <td>This runaway hit from South Korea is centred o...</td>\n",
       "    </tr>\n",
       "    <tr>\n",
       "      <th>3</th>\n",
       "      <td>1</td>\n",
       "      <td>I went into this show knowing absolutely nothi...</td>\n",
       "    </tr>\n",
       "    <tr>\n",
       "      <th>4</th>\n",
       "      <td>2</td>\n",
       "      <td>I honestly don't know wtf the main character n...</td>\n",
       "    </tr>\n",
       "  </tbody>\n",
       "</table>\n",
       "</div>"
      ],
      "text/plain": [
       "  Class                                             Review\n",
       "0     2  Just finished up SQUID GAME, the Korean TV sho...\n",
       "1     2  Well multiple games actually, but even that yo...\n",
       "2     2  This runaway hit from South Korea is centred o...\n",
       "3     1  I went into this show knowing absolutely nothi...\n",
       "4     2  I honestly don't know wtf the main character n..."
      ]
     },
     "execution_count": 73,
     "metadata": {},
     "output_type": "execute_result"
    }
   ],
   "source": [
    "squidgame_df.head()"
   ]
  },
  {
   "cell_type": "code",
   "execution_count": 447,
   "id": "cd2bb161",
   "metadata": {},
   "outputs": [
    {
     "name": "stdout",
     "output_type": "stream",
     "text": [
      "(1185, 2)\n"
     ]
    }
   ],
   "source": [
    "print(squidgame_df.shape)"
   ]
  },
  {
   "cell_type": "code",
   "execution_count": 449,
   "id": "f46b2841",
   "metadata": {},
   "outputs": [
    {
     "name": "stdout",
     "output_type": "stream",
     "text": [
      "Vocab length 9067\n",
      "max length: 831\n"
     ]
    }
   ],
   "source": [
    "#tokenise\n",
    "train_text_padded = text_vectorisation(squidgame_df['Review'])"
   ]
  },
  {
   "cell_type": "code",
   "execution_count": 450,
   "id": "9d1f13e8",
   "metadata": {},
   "outputs": [
    {
     "data": {
      "text/plain": [
       "array([[  12,  406,   28, ...,    0,    0,    0],\n",
       "       [ 423,  688,   16, ...,    0,    0,    0],\n",
       "       [  27, 3840,  407, ...,    0,    0,    0],\n",
       "       ...,\n",
       "       [ 808,    3,   15, ...,    0,    0,    0],\n",
       "       [ 541,   61,  180, ...,    0,    0,    0],\n",
       "       [   3,   89,    3, ...,    0,    0,    0]])"
      ]
     },
     "execution_count": 450,
     "metadata": {},
     "output_type": "execute_result"
    }
   ],
   "source": [
    "train_text_padded"
   ]
  },
  {
   "cell_type": "markdown",
   "id": "7d6c11e2",
   "metadata": {},
   "source": [
    "#### Requires the 'glove.6B.100d.txt' file to be downloaded from Standford first : https://nlp.stanford.edu/projects/glove/"
   ]
  },
  {
   "cell_type": "code",
   "execution_count": 451,
   "id": "932f2edd",
   "metadata": {},
   "outputs": [
    {
     "data": {
      "text/plain": [
       "array([[ 0.        ,  0.        ,  0.        , ...,  0.        ,\n",
       "         0.        ,  0.        ],\n",
       "       [ 0.        ,  0.        ,  0.        , ...,  0.        ,\n",
       "         0.        ,  0.        ],\n",
       "       [-0.69441998,  0.21122999,  0.17011   , ..., -0.64331001,\n",
       "        -0.2412    ,  0.92161   ],\n",
       "       ...,\n",
       "       [ 0.        ,  0.        ,  0.        , ...,  0.        ,\n",
       "         0.        ,  0.        ],\n",
       "       [ 0.35752001,  0.63306999, -0.11818   , ..., -0.53319001,\n",
       "        -0.12426   ,  0.80176002],\n",
       "       [-0.22854   ,  0.29302001, -0.018262  , ..., -0.15219   ,\n",
       "         0.35202   , -0.0081126 ]])"
      ]
     },
     "execution_count": 451,
     "metadata": {},
     "output_type": "execute_result"
    }
   ],
   "source": [
    "#trying out glove word embedding (transfer learning)\n",
    "\n",
    "embeddings_dictionary = dict()\n",
    "embedding_dim = 100\n",
    "vocab_length =9067\n",
    "with open('glove.6B.100d.txt',encoding=\"utf8\") as fp:\n",
    "    for line in fp.readlines():\n",
    "        records = line.split()\n",
    "        word = records[0]\n",
    "        vector_dimensions = np.asarray(records[1:], dtype='float32')\n",
    "        embeddings_dictionary [word] = vector_dimensions\n",
    "        \n",
    "max_size = 10000\n",
    "# tokenising the text data\n",
    "tokenizer = Tokenizer(num_words = max_size,oov_token=\"<oov>\")\n",
    "tokenizer.fit_on_texts(squidgame_df['Review'])\n",
    "embedding_matrix = np.zeros((vocab_length, embedding_dim))\n",
    "for word, index in tokenizer.word_index.items():\n",
    "    embedding_vector = embeddings_dictionary.get(word)\n",
    "    if embedding_vector is not None:\n",
    "        embedding_matrix[index] = embedding_vector\n",
    "        \n",
    "embedding_matrix"
   ]
  },
  {
   "cell_type": "code",
   "execution_count": 452,
   "id": "6cbd1344",
   "metadata": {},
   "outputs": [],
   "source": [
    "#save the embedded weights\n",
    "np.savetxt('data/weights/weights_squidgame_.csv',embedding_matrix, delimiter=\",\")"
   ]
  },
  {
   "cell_type": "code",
   "execution_count": 401,
   "id": "7b5e1045",
   "metadata": {},
   "outputs": [],
   "source": [
    "# split into train test sets\n",
    "X = squidgame_df['Review']\n",
    "y = squidgame_df['Class']\n",
    "y = pd.get_dummies(squidgame_df['Class']).values\n",
    "X_train, X_test, y_train, y_test = train_test_split(train_text_padded, y, test_size=0.2, random_state=42)"
   ]
  },
  {
   "cell_type": "code",
   "execution_count": 403,
   "id": "99dc7553",
   "metadata": {},
   "outputs": [],
   "source": [
    "np.savetxt('data/train/squidgame_Xtrain_.csv', X_train, delimiter=\",\")\n",
    "np.savetxt('data/test/squidgame_Xtest_.csv', X_test, delimiter=\",\")\n",
    "np.savetxt('data/train/squidgame_ytrain_.csv', y_train, delimiter=\",\")\n",
    "np.savetxt('data/test/squidgame_ytest_.csv', y_test, delimiter=\",\")"
   ]
  },
  {
   "cell_type": "markdown",
   "id": "0702ef8f",
   "metadata": {},
   "source": [
    "## Original dataset + Back Translated dataset"
   ]
  },
  {
   "cell_type": "code",
   "execution_count": 185,
   "id": "1ca5c0ce",
   "metadata": {},
   "outputs": [
    {
     "data": {
      "text/html": [
       "<div>\n",
       "<style scoped>\n",
       "    .dataframe tbody tr th:only-of-type {\n",
       "        vertical-align: middle;\n",
       "    }\n",
       "\n",
       "    .dataframe tbody tr th {\n",
       "        vertical-align: top;\n",
       "    }\n",
       "\n",
       "    .dataframe thead th {\n",
       "        text-align: right;\n",
       "    }\n",
       "</style>\n",
       "<table border=\"1\" class=\"dataframe\">\n",
       "  <thead>\n",
       "    <tr style=\"text-align: right;\">\n",
       "      <th></th>\n",
       "      <th>Class</th>\n",
       "      <th>Review</th>\n",
       "    </tr>\n",
       "  </thead>\n",
       "  <tbody>\n",
       "    <tr>\n",
       "      <th>0</th>\n",
       "      <td>2</td>\n",
       "      <td>I just finished the Squid game, the Korean tel...</td>\n",
       "    </tr>\n",
       "    <tr>\n",
       "      <th>1</th>\n",
       "      <td>2</td>\n",
       "      <td>Well, several games actually, but even so that...</td>\n",
       "    </tr>\n",
       "    <tr>\n",
       "      <th>2</th>\n",
       "      <td>2</td>\n",
       "      <td>This South Korea flight is centered on Seong G...</td>\n",
       "    </tr>\n",
       "    <tr>\n",
       "      <th>3</th>\n",
       "      <td>1</td>\n",
       "      <td>I entered this show by knowing absolutely noth...</td>\n",
       "    </tr>\n",
       "    <tr>\n",
       "      <th>4</th>\n",
       "      <td>2</td>\n",
       "      <td>Honestly, I don't know that the main character...</td>\n",
       "    </tr>\n",
       "    <tr>\n",
       "      <th>...</th>\n",
       "      <td>...</td>\n",
       "      <td>...</td>\n",
       "    </tr>\n",
       "    <tr>\n",
       "      <th>1180</th>\n",
       "      <td>2</td>\n",
       "      <td>It's nails that bites all the time and I'm the...</td>\n",
       "    </tr>\n",
       "    <tr>\n",
       "      <th>1181</th>\n",
       "      <td>2</td>\n",
       "      <td>It is a well -made version of stories and film...</td>\n",
       "    </tr>\n",
       "    <tr>\n",
       "      <th>1182</th>\n",
       "      <td>2</td>\n",
       "      <td>Woman and I really enjoyed the series. The sce...</td>\n",
       "    </tr>\n",
       "    <tr>\n",
       "      <th>1183</th>\n",
       "      <td>2</td>\n",
       "      <td>Everything is perfect on this series. Do not w...</td>\n",
       "    </tr>\n",
       "    <tr>\n",
       "      <th>1184</th>\n",
       "      <td>2</td>\n",
       "      <td>I loved this show !! I would like to be able t...</td>\n",
       "    </tr>\n",
       "  </tbody>\n",
       "</table>\n",
       "<p>1185 rows × 2 columns</p>\n",
       "</div>"
      ],
      "text/plain": [
       "      Class                                             Review\n",
       "0         2  I just finished the Squid game, the Korean tel...\n",
       "1         2  Well, several games actually, but even so that...\n",
       "2         2  This South Korea flight is centered on Seong G...\n",
       "3         1  I entered this show by knowing absolutely noth...\n",
       "4         2  Honestly, I don't know that the main character...\n",
       "...     ...                                                ...\n",
       "1180      2  It's nails that bites all the time and I'm the...\n",
       "1181      2  It is a well -made version of stories and film...\n",
       "1182      2  Woman and I really enjoyed the series. The sce...\n",
       "1183      2  Everything is perfect on this series. Do not w...\n",
       "1184      2  I loved this show !! I would like to be able t...\n",
       "\n",
       "[1185 rows x 2 columns]"
      ]
     },
     "execution_count": 185,
     "metadata": {},
     "output_type": "execute_result"
    }
   ],
   "source": [
    "squidgame_df_bt = pd.read_csv('Back Translation - Squid Game.csv')\n",
    "squidgame_df_bt = squidgame_df_bt.drop('Review', axis=1)\n",
    "squidgame_df_bt.rename(columns={'Review.1':'Review'}, inplace = True)\n",
    "\n",
    "squidgame_df_bt"
   ]
  },
  {
   "cell_type": "code",
   "execution_count": 186,
   "id": "cf356c67",
   "metadata": {},
   "outputs": [
    {
     "data": {
      "text/html": [
       "<div>\n",
       "<style scoped>\n",
       "    .dataframe tbody tr th:only-of-type {\n",
       "        vertical-align: middle;\n",
       "    }\n",
       "\n",
       "    .dataframe tbody tr th {\n",
       "        vertical-align: top;\n",
       "    }\n",
       "\n",
       "    .dataframe thead th {\n",
       "        text-align: right;\n",
       "    }\n",
       "</style>\n",
       "<table border=\"1\" class=\"dataframe\">\n",
       "  <thead>\n",
       "    <tr style=\"text-align: right;\">\n",
       "      <th></th>\n",
       "      <th>Class</th>\n",
       "      <th>Review</th>\n",
       "    </tr>\n",
       "  </thead>\n",
       "  <tbody>\n",
       "    <tr>\n",
       "      <th>0</th>\n",
       "      <td>2</td>\n",
       "      <td>Just finished SQUID GAME Korean TV thats globa...</td>\n",
       "    </tr>\n",
       "    <tr>\n",
       "      <th>1</th>\n",
       "      <td>2</td>\n",
       "      <td>Well multiple games actually accurate Now look...</td>\n",
       "    </tr>\n",
       "    <tr>\n",
       "      <th>2</th>\n",
       "      <td>2</td>\n",
       "      <td>This runaway hit South Korea centred Seong Gih...</td>\n",
       "    </tr>\n",
       "    <tr>\n",
       "      <th>3</th>\n",
       "      <td>1</td>\n",
       "      <td>I went knowing absolutely korean series And an...</td>\n",
       "    </tr>\n",
       "    <tr>\n",
       "      <th>4</th>\n",
       "      <td>2</td>\n",
       "      <td>I honestly dont know wtf main character needed...</td>\n",
       "    </tr>\n",
       "    <tr>\n",
       "      <th>...</th>\n",
       "      <td>...</td>\n",
       "      <td>...</td>\n",
       "    </tr>\n",
       "    <tr>\n",
       "      <th>1180</th>\n",
       "      <td>2</td>\n",
       "      <td>It's nails that bites all the time and I'm the...</td>\n",
       "    </tr>\n",
       "    <tr>\n",
       "      <th>1181</th>\n",
       "      <td>2</td>\n",
       "      <td>It is a well -made version of stories and film...</td>\n",
       "    </tr>\n",
       "    <tr>\n",
       "      <th>1182</th>\n",
       "      <td>2</td>\n",
       "      <td>Woman and I really enjoyed the series. The sce...</td>\n",
       "    </tr>\n",
       "    <tr>\n",
       "      <th>1183</th>\n",
       "      <td>2</td>\n",
       "      <td>Everything is perfect on this series. Do not w...</td>\n",
       "    </tr>\n",
       "    <tr>\n",
       "      <th>1184</th>\n",
       "      <td>2</td>\n",
       "      <td>I loved this show !! I would like to be able t...</td>\n",
       "    </tr>\n",
       "  </tbody>\n",
       "</table>\n",
       "<p>2370 rows × 2 columns</p>\n",
       "</div>"
      ],
      "text/plain": [
       "     Class                                             Review\n",
       "0        2  Just finished SQUID GAME Korean TV thats globa...\n",
       "1        2  Well multiple games actually accurate Now look...\n",
       "2        2  This runaway hit South Korea centred Seong Gih...\n",
       "3        1  I went knowing absolutely korean series And an...\n",
       "4        2  I honestly dont know wtf main character needed...\n",
       "...    ...                                                ...\n",
       "1180     2  It's nails that bites all the time and I'm the...\n",
       "1181     2  It is a well -made version of stories and film...\n",
       "1182     2  Woman and I really enjoyed the series. The sce...\n",
       "1183     2  Everything is perfect on this series. Do not w...\n",
       "1184     2  I loved this show !! I would like to be able t...\n",
       "\n",
       "[2370 rows x 2 columns]"
      ]
     },
     "execution_count": 186,
     "metadata": {},
     "output_type": "execute_result"
    }
   ],
   "source": [
    "#Merge both the original dataset and the back translated dataset\n",
    "frames = [squidgame_df, squidgame_df_bt]\n",
    "squidgame_df2 = pd.concat(frames)\n",
    "squidgame_df2"
   ]
  },
  {
   "cell_type": "code",
   "execution_count": 187,
   "id": "c66a4b3b",
   "metadata": {},
   "outputs": [],
   "source": [
    "#preprocess the new text data \n",
    "squidgame_df2['Review']=squidgame_df2['Review'].apply(lambda x: x.lower())\n",
    "squidgame_df2['Review']=squidgame_df2['Review'].apply(lambda x:text_preprocessing(x))"
   ]
  },
  {
   "cell_type": "code",
   "execution_count": 188,
   "id": "d6ec9d80",
   "metadata": {},
   "outputs": [
    {
     "name": "stdout",
     "output_type": "stream",
     "text": [
      "Vocab length 10483\n",
      "max length: 758\n"
     ]
    }
   ],
   "source": [
    "#tokenise\n",
    "train_text_padded2 = text_vectorisation(squidgame_df2['Review'])"
   ]
  },
  {
   "cell_type": "code",
   "execution_count": 189,
   "id": "6a24d483",
   "metadata": {},
   "outputs": [
    {
     "data": {
      "text/plain": [
       "array([[ 0.        ,  0.        ,  0.        , ...,  0.        ,\n",
       "         0.        ,  0.        ],\n",
       "       [ 0.        ,  0.        ,  0.        , ...,  0.        ,\n",
       "         0.        ,  0.        ],\n",
       "       [-0.74901998, -0.19963001,  0.24901   , ..., -0.32662001,\n",
       "         0.31207001,  0.58199   ],\n",
       "       ...,\n",
       "       [ 0.1227    , -0.14037   ,  0.10969   , ...,  0.39884001,\n",
       "        -0.14473   , -0.010557  ],\n",
       "       [-0.32306999, -0.22499999,  0.22830001, ..., -0.13102999,\n",
       "        -0.24221   ,  0.53162003],\n",
       "       [-0.28795001,  0.92475998, -0.53697997, ..., -0.10077   ,\n",
       "         0.1893    ,  0.69529003]])"
      ]
     },
     "execution_count": 189,
     "metadata": {},
     "output_type": "execute_result"
    }
   ],
   "source": [
    "#glove word embedding (transfer learning)\n",
    "\n",
    "embeddings_dictionary = dict()\n",
    "embedding_dim = 100\n",
    "vocab_length =10483\n",
    "with open('glove.6B.100d.txt',encoding=\"utf8\") as fp:\n",
    "    for line in fp.readlines():\n",
    "        records = line.split()\n",
    "        word = records[0]\n",
    "        vector_dimensions = np.asarray(records[1:], dtype='float32')\n",
    "        embeddings_dictionary [word] = vector_dimensions\n",
    "        \n",
    "max_size = 10000\n",
    "# tokenising the text data\n",
    "tokenizer = Tokenizer(num_words = max_size,oov_token=\"<oov>\")\n",
    "tokenizer.fit_on_texts(squidgame_df2['Review'])\n",
    "embedding_matrix = np.zeros((vocab_length, embedding_dim))\n",
    "for word, index in tokenizer.word_index.items():\n",
    "    embedding_vector = embeddings_dictionary.get(word)\n",
    "    if embedding_vector is not None:\n",
    "        embedding_matrix[index] = embedding_vector\n",
    "        \n",
    "embedding_matrix"
   ]
  },
  {
   "cell_type": "code",
   "execution_count": 190,
   "id": "7fd1b1bb",
   "metadata": {},
   "outputs": [
    {
     "data": {
      "text/plain": [
       "(10483, 100)"
      ]
     },
     "execution_count": 190,
     "metadata": {},
     "output_type": "execute_result"
    }
   ],
   "source": [
    "embedding_matrix.shape"
   ]
  },
  {
   "cell_type": "code",
   "execution_count": 191,
   "id": "c17003fe",
   "metadata": {},
   "outputs": [],
   "source": [
    "#save the embedded weights\n",
    "np.savetxt('data/weights/weights_squidgamebt_.csv',embedding_matrix, delimiter=\",\")"
   ]
  },
  {
   "cell_type": "code",
   "execution_count": 192,
   "id": "9bfa26da",
   "metadata": {},
   "outputs": [],
   "source": [
    "#conduct stratified sampling\n",
    "# split into train test sets\n",
    "X = squidgame_df2['Review']\n",
    "y = squidgame_df2['Class']\n",
    "\n",
    "#slight cleaning \n",
    "squidgame_df2['Class'] = squidgame_df2['Class'].astype('int')\n",
    "\n",
    "y = pd.get_dummies(squidgame_df2['Class']).values\n",
    "X_train, X_test, y_train, y_test = train_test_split(train_text_padded2, y, test_size=0.2,stratify=y, random_state=42)"
   ]
  },
  {
   "cell_type": "code",
   "execution_count": 193,
   "id": "9031fdf9",
   "metadata": {},
   "outputs": [],
   "source": [
    "np.savetxt('data/train/squidgame_Xtrainbt_.csv', X_train, delimiter=\",\")\n",
    "np.savetxt('data/test/squidgame_Xtestbt_.csv', X_test, delimiter=\",\")\n",
    "np.savetxt('data/train/squidgame_ytrainbt_.csv', y_train, delimiter=\",\")\n",
    "np.savetxt('data/test/squidgame_ytestbt_.csv', y_test, delimiter=\",\")"
   ]
  }
 ],
 "metadata": {
  "kernelspec": {
   "display_name": "Python 3 (ipykernel)",
   "language": "python",
   "name": "python3"
  },
  "language_info": {
   "codemirror_mode": {
    "name": "ipython",
    "version": 3
   },
   "file_extension": ".py",
   "mimetype": "text/x-python",
   "name": "python",
   "nbconvert_exporter": "python",
   "pygments_lexer": "ipython3",
   "version": "3.9.12"
  }
 },
 "nbformat": 4,
 "nbformat_minor": 5
}
