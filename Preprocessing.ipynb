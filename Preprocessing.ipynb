{
 "cells": [
  {
   "cell_type": "markdown",
   "id": "c697e4a9",
   "metadata": {},
   "source": [
    "For text data preprocessing, we followed the following steps:\n",
    "- Remove punctuation signs to remove ambiguity between words such as ‘terrible!’ and ‘terrible’.\n",
    "- Convert text to lowercase.\n",
    "- Remove stop words which create noise in the dataset.\n",
    "- Remove numbers in the text\n",
    "- Remove non-english words/ non-meaningful text such as symbols, emails, urls.\n",
    "- Extract root words from every word in the data (Lemmatizing). \n",
    "- Vectorise the data into numeric tensors. \n"
   ]
  },
  {
   "cell_type": "code",
   "execution_count": 371,
   "id": "9a3a584c",
   "metadata": {},
   "outputs": [],
   "source": [
    "import pandas as pd\n",
    "import numpy as np\n",
    "import json\n",
    "import string\n",
    "import matplotlib.pyplot as plt\n",
    "import seaborn as sns\n",
    "from sklearn.model_selection import train_test_split\n",
    "from sklearn.feature_extraction.text import ENGLISH_STOP_WORDS\n",
    "from tensorflow.keras.preprocessing.text import Tokenizer\n",
    "from tensorflow.keras.preprocessing.sequence import pad_sequences\n",
    "import nltk\n",
    "from nltk.stem import WordNetLemmatizer\n",
    "import re\n",
    "from pathlib import Path   "
   ]
  },
  {
   "cell_type": "markdown",
   "id": "43651563",
   "metadata": {},
   "source": [
    "## Read in the dataset"
   ]
  },
  {
   "cell_type": "code",
   "execution_count": 372,
   "id": "95fd69c4",
   "metadata": {},
   "outputs": [
    {
     "name": "stdout",
     "output_type": "stream",
     "text": [
      "(4846, 2)\n"
     ]
    }
   ],
   "source": [
    "#financial news \n",
    "f_news_df=pd.read_csv(\"data\\Financial_News.csv\",encoding='ISO-8859-1', header = None)\n",
    "#Name columns\n",
    "f_news_df.columns=[\"Class\", \"News\"]\n",
    "#clean dataset and drop rows with na values\n",
    "f_news_df=f_news_df.dropna()\n",
    "f_news_df.head()\n",
    "print(f_news_df.shape)"
   ]
  },
  {
   "cell_type": "code",
   "execution_count": 373,
   "id": "5258e4b7",
   "metadata": {},
   "outputs": [],
   "source": [
    "#function for text preprocessing\n",
    "def text_preprocessing(text):\n",
    "    stop_words = ENGLISH_STOP_WORDS\n",
    "    wordnet_lemmatizer=WordNetLemmatizer()\n",
    "    #punctuations\n",
    "    text=text.translate(str.maketrans('', '', string.punctuation))\n",
    "    #numbers\n",
    "    translation_table = str.maketrans('', '', string.digits)\n",
    "    text=text.translate(translation_table)\n",
    "    #URL\n",
    "    text=text.replace(r'\\s*https?://\\S+(\\s+|$)', ' ').strip()\n",
    "    #stopwords\n",
    "    text=' '.join([word for word in text.split() if word not in (stop_words)])\n",
    "    #lemmatization\n",
    "    text=''.join([wordnet_lemmatizer.lemmatize(w) for w in text])\n",
    "    return text"
   ]
  },
  {
   "cell_type": "code",
   "execution_count": 374,
   "id": "b32894fa",
   "metadata": {},
   "outputs": [],
   "source": [
    "f_news_df['News']=f_news_df['News'].apply(lambda x: x.lower())\n",
    "f_news_df['News']=f_news_df['News'].apply(lambda x:text_preprocessing(x))"
   ]
  },
  {
   "cell_type": "code",
   "execution_count": 375,
   "id": "81a3d4c8",
   "metadata": {},
   "outputs": [],
   "source": [
    "#convert ratings into 3 classes\n",
    "f_news_df['Class'] = f_news_df['Class'].replace(['negative'],'0')\n",
    "f_news_df['Class'] = f_news_df['Class'].replace(['neutral'],'1')\n",
    "f_news_df['Class'] = f_news_df['Class'].replace(['positive'],'2')"
   ]
  },
  {
   "cell_type": "code",
   "execution_count": 376,
   "id": "3a1b416e",
   "metadata": {},
   "outputs": [
    {
     "data": {
      "text/html": [
       "<div>\n",
       "<style scoped>\n",
       "    .dataframe tbody tr th:only-of-type {\n",
       "        vertical-align: middle;\n",
       "    }\n",
       "\n",
       "    .dataframe tbody tr th {\n",
       "        vertical-align: top;\n",
       "    }\n",
       "\n",
       "    .dataframe thead th {\n",
       "        text-align: right;\n",
       "    }\n",
       "</style>\n",
       "<table border=\"1\" class=\"dataframe\">\n",
       "  <thead>\n",
       "    <tr style=\"text-align: right;\">\n",
       "      <th></th>\n",
       "      <th>Class</th>\n",
       "      <th>News</th>\n",
       "    </tr>\n",
       "  </thead>\n",
       "  <tbody>\n",
       "    <tr>\n",
       "      <th>0</th>\n",
       "      <td>1</td>\n",
       "      <td>according gran company plans production russia...</td>\n",
       "    </tr>\n",
       "    <tr>\n",
       "      <th>1</th>\n",
       "      <td>1</td>\n",
       "      <td>technopolis plans develop stages area square m...</td>\n",
       "    </tr>\n",
       "    <tr>\n",
       "      <th>2</th>\n",
       "      <td>0</td>\n",
       "      <td>international electronic industry company elco...</td>\n",
       "    </tr>\n",
       "    <tr>\n",
       "      <th>3</th>\n",
       "      <td>2</td>\n",
       "      <td>new production plant company increase capacity...</td>\n",
       "    </tr>\n",
       "    <tr>\n",
       "      <th>4</th>\n",
       "      <td>2</td>\n",
       "      <td>according company s updated strategy years bas...</td>\n",
       "    </tr>\n",
       "  </tbody>\n",
       "</table>\n",
       "</div>"
      ],
      "text/plain": [
       "  Class                                               News\n",
       "0     1  according gran company plans production russia...\n",
       "1     1  technopolis plans develop stages area square m...\n",
       "2     0  international electronic industry company elco...\n",
       "3     2  new production plant company increase capacity...\n",
       "4     2  according company s updated strategy years bas..."
      ]
     },
     "execution_count": 376,
     "metadata": {},
     "output_type": "execute_result"
    }
   ],
   "source": [
    "f_news_df.head()"
   ]
  },
  {
   "cell_type": "code",
   "execution_count": 377,
   "id": "c1bbb6c5",
   "metadata": {},
   "outputs": [
    {
     "name": "stdout",
     "output_type": "stream",
     "text": [
      "(4846, 2)\n"
     ]
    }
   ],
   "source": [
    "print(f_news_df.shape)"
   ]
  },
  {
   "cell_type": "code",
   "execution_count": 378,
   "id": "4fc43f54",
   "metadata": {},
   "outputs": [],
   "source": [
    "#function to tokenise the strings\n",
    "def text_vectorisation(text):\n",
    "    # tokenising the text data\n",
    "    tokenizer = Tokenizer()\n",
    "    tokenizer.fit_on_texts(text)\n",
    "    #encode the training data sentences into sequences\n",
    "    text_sequences = tokenizer.texts_to_sequences(text)\n",
    "    print(\"Vocab length\", len(tokenizer.word_index) + 1)\n",
    "    #max length of the training sequence\n",
    "    max_length = np.max(list(map(lambda x: len(x), text_sequences)))\n",
    "    print(\"max length:\" ,max_length)\n",
    "    #padding the training sequence to ensure same length\n",
    "    text_padded = pad_sequences(text_sequences, padding='post',maxlen=max_length)\n",
    "    return text_padded\n",
    "    "
   ]
  },
  {
   "cell_type": "code",
   "execution_count": 379,
   "id": "c36636f6",
   "metadata": {},
   "outputs": [
    {
     "name": "stdout",
     "output_type": "stream",
     "text": [
      "Vocab length 9242\n",
      "max length: 38\n"
     ]
    }
   ],
   "source": [
    "#tokenise\n",
    "train_text_padded = text_vectorisation(f_news_df['News'])"
   ]
  },
  {
   "cell_type": "code",
   "execution_count": 380,
   "id": "c707870a",
   "metadata": {},
   "outputs": [
    {
     "data": {
      "text/plain": [
       "array([[  42, 3037,    3, ...,    0,    0,    0],\n",
       "       [ 629,  196,  663, ...,    0,    0,    0],\n",
       "       [ 163,  466,   71, ...,    0,    0,    0],\n",
       "       ...,\n",
       "       [  14,   10,  126, ...,    0,    0,    0],\n",
       "       [   9,    7,   75, ...,    0,    0,    0],\n",
       "       [   7,   11,   80, ...,    0,    0,    0]])"
      ]
     },
     "execution_count": 380,
     "metadata": {},
     "output_type": "execute_result"
    }
   ],
   "source": [
    "train_text_padded"
   ]
  },
  {
   "cell_type": "code",
   "execution_count": 381,
   "id": "8e5336ee",
   "metadata": {},
   "outputs": [],
   "source": [
    "# split into train test sets\n",
    "X = f_news_df['News']\n",
    "y = f_news_df['Class']\n",
    "y = pd.get_dummies(f_news_df['Class']).values\n",
    "X_train, X_test, y_train, y_test = train_test_split(train_text_padded, y, test_size=0.2, random_state=42)"
   ]
  },
  {
   "cell_type": "code",
   "execution_count": 382,
   "id": "025ca1be",
   "metadata": {},
   "outputs": [],
   "source": [
    "np.savetxt('data/train/fnews_Xtrain_.csv', X_train, delimiter=\",\")\n",
    "np.savetxt('data/test/fnews_Xtest_.csv', X_test, delimiter=\",\")\n",
    "np.savetxt('data/train/fnews_ytrain_.csv', y_train, delimiter=\",\")\n",
    "np.savetxt('data/test/fnews_ytest_.csv', y_test, delimiter=\",\")"
   ]
  },
  {
   "cell_type": "code",
   "execution_count": 309,
   "id": "377f7516",
   "metadata": {},
   "outputs": [],
   "source": [
    "# split into train test sets\n",
    "# X = f_news_df['News']\n",
    "# y = f_news_df['Class']\n",
    "# X_train, X_test, y_train, y_test = train_test_split(X, y, test_size=0.2, random_state=42)"
   ]
  },
  {
   "cell_type": "code",
   "execution_count": 179,
   "id": "e861dea9",
   "metadata": {},
   "outputs": [],
   "source": [
    "# filepath1 = Path('data/train/fnews_Xtrain.csv')   \n",
    "# X_train.to_csv(filepath1)\n",
    "# filepath2 = Path('data/test/fnews_Xtest.csv')   \n",
    "# X_test.to_csv(filepath2)\n",
    "# filepath3 = Path('data/train/fnews_ytrain.csv')   \n",
    "# y_train.to_csv(filepath3)\n",
    "# filepath4 = Path('data/test/fnews_ytest.csv')   \n",
    "# y_test.to_csv(filepath4)"
   ]
  },
  {
   "cell_type": "code",
   "execution_count": 394,
   "id": "bd5e03aa",
   "metadata": {},
   "outputs": [],
   "source": [
    "#squid game\n",
    "squidgame_df=pd.read_csv(\"data/Squid_Game.csv\")\n",
    "#Name columns\n",
    "#clean dataset and drop rows with na values\n",
    "squidgame_df=squidgame_df.dropna()\n",
    "#drop the unused column\n",
    "squidgame_df.drop(squidgame_df.columns[[0,1,2,4]], axis=1, inplace=True)\n",
    "squidgame_df.head()\n",
    "squidgame_df.rename(columns={'Review Rating':'Class', 'Review_body':'Review'}, inplace = True)"
   ]
  },
  {
   "cell_type": "code",
   "execution_count": 395,
   "id": "1744eb76",
   "metadata": {},
   "outputs": [],
   "source": [
    "squidgame_df['Review'] = squidgame_df['Review'].apply(lambda x:text_preprocessing(x))"
   ]
  },
  {
   "cell_type": "code",
   "execution_count": 396,
   "id": "0e73302a",
   "metadata": {},
   "outputs": [
    {
     "data": {
      "text/html": [
       "<div>\n",
       "<style scoped>\n",
       "    .dataframe tbody tr th:only-of-type {\n",
       "        vertical-align: middle;\n",
       "    }\n",
       "\n",
       "    .dataframe tbody tr th {\n",
       "        vertical-align: top;\n",
       "    }\n",
       "\n",
       "    .dataframe thead th {\n",
       "        text-align: right;\n",
       "    }\n",
       "</style>\n",
       "<table border=\"1\" class=\"dataframe\">\n",
       "  <thead>\n",
       "    <tr style=\"text-align: right;\">\n",
       "      <th></th>\n",
       "      <th>Class</th>\n",
       "      <th>Review</th>\n",
       "    </tr>\n",
       "  </thead>\n",
       "  <tbody>\n",
       "    <tr>\n",
       "      <th>0</th>\n",
       "      <td>10/10</td>\n",
       "      <td>Just finished SQUID GAME Korean TV thats globa...</td>\n",
       "    </tr>\n",
       "    <tr>\n",
       "      <th>1</th>\n",
       "      <td>9/10</td>\n",
       "      <td>Well multiple games actually accurate Now look...</td>\n",
       "    </tr>\n",
       "    <tr>\n",
       "      <th>2</th>\n",
       "      <td>10/10</td>\n",
       "      <td>This runaway hit South Korea centred Seong Gih...</td>\n",
       "    </tr>\n",
       "    <tr>\n",
       "      <th>3</th>\n",
       "      <td>5/10</td>\n",
       "      <td>I went knowing absolutely korean series And an...</td>\n",
       "    </tr>\n",
       "    <tr>\n",
       "      <th>4</th>\n",
       "      <td>7/10</td>\n",
       "      <td>I honestly dont know wtf main character needed...</td>\n",
       "    </tr>\n",
       "  </tbody>\n",
       "</table>\n",
       "</div>"
      ],
      "text/plain": [
       "   Class                                             Review\n",
       "0  10/10  Just finished SQUID GAME Korean TV thats globa...\n",
       "1   9/10  Well multiple games actually accurate Now look...\n",
       "2  10/10  This runaway hit South Korea centred Seong Gih...\n",
       "3   5/10  I went knowing absolutely korean series And an...\n",
       "4   7/10  I honestly dont know wtf main character needed..."
      ]
     },
     "execution_count": 396,
     "metadata": {},
     "output_type": "execute_result"
    }
   ],
   "source": [
    "squidgame_df.head()"
   ]
  },
  {
   "cell_type": "code",
   "execution_count": 397,
   "id": "48632c64",
   "metadata": {},
   "outputs": [],
   "source": [
    "#check unique values\n",
    "squidgame_df['Class'].unique()\n",
    "#convert ratings into 3 classes\n",
    "squidgame_df['Class'] = squidgame_df['Class'].replace(['1/10','2/10','3/10', '4/10'],'0')\n",
    "squidgame_df['Class'] = squidgame_df['Class'].replace(['5/10'],'1')\n",
    "squidgame_df['Class'] = squidgame_df['Class'].replace(['6/10','7/10','8/10','9/10','10/10'],'2')"
   ]
  },
  {
   "cell_type": "code",
   "execution_count": 398,
   "id": "4055e700",
   "metadata": {},
   "outputs": [
    {
     "data": {
      "text/html": [
       "<div>\n",
       "<style scoped>\n",
       "    .dataframe tbody tr th:only-of-type {\n",
       "        vertical-align: middle;\n",
       "    }\n",
       "\n",
       "    .dataframe tbody tr th {\n",
       "        vertical-align: top;\n",
       "    }\n",
       "\n",
       "    .dataframe thead th {\n",
       "        text-align: right;\n",
       "    }\n",
       "</style>\n",
       "<table border=\"1\" class=\"dataframe\">\n",
       "  <thead>\n",
       "    <tr style=\"text-align: right;\">\n",
       "      <th></th>\n",
       "      <th>Class</th>\n",
       "      <th>Review</th>\n",
       "    </tr>\n",
       "  </thead>\n",
       "  <tbody>\n",
       "    <tr>\n",
       "      <th>0</th>\n",
       "      <td>2</td>\n",
       "      <td>Just finished SQUID GAME Korean TV thats globa...</td>\n",
       "    </tr>\n",
       "    <tr>\n",
       "      <th>1</th>\n",
       "      <td>2</td>\n",
       "      <td>Well multiple games actually accurate Now look...</td>\n",
       "    </tr>\n",
       "    <tr>\n",
       "      <th>2</th>\n",
       "      <td>2</td>\n",
       "      <td>This runaway hit South Korea centred Seong Gih...</td>\n",
       "    </tr>\n",
       "    <tr>\n",
       "      <th>3</th>\n",
       "      <td>1</td>\n",
       "      <td>I went knowing absolutely korean series And an...</td>\n",
       "    </tr>\n",
       "    <tr>\n",
       "      <th>4</th>\n",
       "      <td>2</td>\n",
       "      <td>I honestly dont know wtf main character needed...</td>\n",
       "    </tr>\n",
       "  </tbody>\n",
       "</table>\n",
       "</div>"
      ],
      "text/plain": [
       "  Class                                             Review\n",
       "0     2  Just finished SQUID GAME Korean TV thats globa...\n",
       "1     2  Well multiple games actually accurate Now look...\n",
       "2     2  This runaway hit South Korea centred Seong Gih...\n",
       "3     1  I went knowing absolutely korean series And an...\n",
       "4     2  I honestly dont know wtf main character needed..."
      ]
     },
     "execution_count": 398,
     "metadata": {},
     "output_type": "execute_result"
    }
   ],
   "source": [
    "squidgame_df.head()"
   ]
  },
  {
   "cell_type": "code",
   "execution_count": 399,
   "id": "cd2bb161",
   "metadata": {},
   "outputs": [
    {
     "name": "stdout",
     "output_type": "stream",
     "text": [
      "(1185, 2)\n"
     ]
    }
   ],
   "source": [
    "print(squidgame_df.shape)"
   ]
  },
  {
   "cell_type": "code",
   "execution_count": 400,
   "id": "f46b2841",
   "metadata": {},
   "outputs": [
    {
     "name": "stdout",
     "output_type": "stream",
     "text": [
      "Vocab length 9066\n",
      "max length: 831\n"
     ]
    }
   ],
   "source": [
    "#tokenise\n",
    "train_text_padded = text_vectorisation(squidgame_df['Review'])"
   ]
  },
  {
   "cell_type": "code",
   "execution_count": 401,
   "id": "7b5e1045",
   "metadata": {},
   "outputs": [],
   "source": [
    "# split into train test sets\n",
    "X = squidgame_df['Review']\n",
    "y = squidgame_df['Class']\n",
    "y = pd.get_dummies(squidgame_df['Class']).values\n",
    "X_train, X_test, y_train, y_test = train_test_split(train_text_padded, y, test_size=0.2, random_state=42)"
   ]
  },
  {
   "cell_type": "code",
   "execution_count": 403,
   "id": "99dc7553",
   "metadata": {},
   "outputs": [],
   "source": [
    "np.savetxt('data/train/squidgame_Xtrain_.csv', X_train, delimiter=\",\")\n",
    "np.savetxt('data/test/squidgame_Xtest_.csv', X_test, delimiter=\",\")\n",
    "np.savetxt('data/train/squidgame_ytrain_.csv', y_train, delimiter=\",\")\n",
    "np.savetxt('data/test/squidgame_ytest_.csv', y_test, delimiter=\",\")"
   ]
  },
  {
   "cell_type": "code",
   "execution_count": 196,
   "id": "dae0a40b",
   "metadata": {},
   "outputs": [],
   "source": [
    "# filepath1 = Path('data/train/squidgame_Xtrain.csv')   \n",
    "# X_train.to_csv(filepath1)\n",
    "# filepath2 = Path('data/test/squidgame_Xtest.csv')   \n",
    "# X_test.to_csv(filepath2)\n",
    "# filepath3 = Path('data/train/squidgame_ytrain.csv')   \n",
    "# y_train.to_csv(filepath3)\n",
    "# filepath4 = Path('data/test/squidgame_ytest.csv')   \n",
    "# y_test.to_csv(filepath4)"
   ]
  }
 ],
 "metadata": {
  "kernelspec": {
   "display_name": "Python 3 (ipykernel)",
   "language": "python",
   "name": "python3"
  },
  "language_info": {
   "codemirror_mode": {
    "name": "ipython",
    "version": 3
   },
   "file_extension": ".py",
   "mimetype": "text/x-python",
   "name": "python",
   "nbconvert_exporter": "python",
   "pygments_lexer": "ipython3",
   "version": "3.9.12"
  }
 },
 "nbformat": 4,
 "nbformat_minor": 5
}
