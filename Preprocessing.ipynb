{
 "cells": [
  {
   "cell_type": "markdown",
   "id": "c697e4a9",
   "metadata": {},
   "source": [
    "For text data preprocessing, we followed the following steps:\n",
    "- Remove punctuation signs to remove ambiguity between words such as ‘terrible!’ and ‘terrible’.\n",
    "- Convert text to lowercase.\n",
    "- Remove stop words which create noise in the dataset.\n",
    "- Remove numbers in the text\n",
    "- Remove non-english words/ non-meaningful text such as symbols, emails, urls.\n",
    "- Extract root words from every word in the data (Lemmatizing). \n",
    "- Vectorise the data into numeric tensors. \n"
   ]
  },
  {
   "cell_type": "code",
   "execution_count": 20,
   "id": "9a3a584c",
   "metadata": {},
   "outputs": [],
   "source": [
    "import pandas as pd\n",
    "import numpy as np\n",
    "import json\n",
    "import string\n",
    "import matplotlib.pyplot as plt\n",
    "import seaborn as sns\n",
    "from sklearn.model_selection import train_test_split\n",
    "from sklearn.feature_extraction.text import ENGLISH_STOP_WORDS\n",
    "from sklearn.feature_extraction.text import TfidfVectorizer\n",
    "import nltk\n",
    "from nltk.stem import WordNetLemmatizer\n",
    "import re\n",
    "from pathlib import Path   "
   ]
  },
  {
   "cell_type": "markdown",
   "id": "43651563",
   "metadata": {},
   "source": [
    "## Read in the dataset"
   ]
  },
  {
   "cell_type": "code",
   "execution_count": 21,
   "id": "95fd69c4",
   "metadata": {},
   "outputs": [
    {
     "name": "stdout",
     "output_type": "stream",
     "text": [
      "(4846, 2)\n"
     ]
    }
   ],
   "source": [
    "#financial news \n",
    "f_news_df=pd.read_csv(\"Financial_News.csv\",encoding='ISO-8859-1', header = None)\n",
    "#Name columns\n",
    "f_news_df.columns=[\"Class\", \"News\"]\n",
    "#clean dataset and drop rows with na values\n",
    "f_news_df=f_news_df.dropna()\n",
    "f_news_df.head()\n",
    "print(f_news_df.shape)"
   ]
  },
  {
   "cell_type": "code",
   "execution_count": 22,
   "id": "5258e4b7",
   "metadata": {},
   "outputs": [],
   "source": [
    "#function for text preprocessing\n",
    "def text_preprocessing(text):\n",
    "    stop_words = ENGLISH_STOP_WORDS\n",
    "    wordnet_lemmatizer=WordNetLemmatizer()\n",
    "    #eng_words = words = set(nltk.corpus.words.words())\n",
    "    \n",
    "    ##non-english\n",
    "    #text=' '.join([word for word in text.split() if word not in (eng_words)])\n",
    "    #punctuations\n",
    "    text=text.translate(str.maketrans('', '', string.punctuation))\n",
    "    #numbers\n",
    "    translation_table = str.maketrans('', '', string.digits)\n",
    "    text=text.translate(translation_table)\n",
    "    #URL\n",
    "    text=text.replace(r'\\s*https?://\\S+(\\s+|$)', ' ').strip()\n",
    "    #stopwords\n",
    "    text=' '.join([word for word in text.split() if word not in (stop_words)])\n",
    "    #non-english\n",
    "    #text=' '.join([word for word in text.split() if word not in (eng_words)])\n",
    "    #tokenise\n",
    "    text=nltk.word_tokenize(text)\n",
    "    #lemmatization\n",
    "    text=([wordnet_lemmatizer.lemmatize(w) for w in text])\n",
    "    #vectorisation\n",
    "    vectorizer = TfidfVectorizer(analyzer=lambda x: x)\n",
    "    return text"
   ]
  },
  {
   "cell_type": "code",
   "execution_count": 23,
   "id": "b32894fa",
   "metadata": {},
   "outputs": [],
   "source": [
    "f_news_df['News']=f_news_df['News'].apply(lambda x: x.lower())\n",
    "f_news_df['News']=f_news_df['News'].apply(lambda x:text_preprocessing(x))"
   ]
  },
  {
   "cell_type": "code",
   "execution_count": 24,
   "id": "3a1b416e",
   "metadata": {},
   "outputs": [
    {
     "data": {
      "text/html": [
       "<div>\n",
       "<style scoped>\n",
       "    .dataframe tbody tr th:only-of-type {\n",
       "        vertical-align: middle;\n",
       "    }\n",
       "\n",
       "    .dataframe tbody tr th {\n",
       "        vertical-align: top;\n",
       "    }\n",
       "\n",
       "    .dataframe thead th {\n",
       "        text-align: right;\n",
       "    }\n",
       "</style>\n",
       "<table border=\"1\" class=\"dataframe\">\n",
       "  <thead>\n",
       "    <tr style=\"text-align: right;\">\n",
       "      <th></th>\n",
       "      <th>Class</th>\n",
       "      <th>News</th>\n",
       "    </tr>\n",
       "  </thead>\n",
       "  <tbody>\n",
       "    <tr>\n",
       "      <th>0</th>\n",
       "      <td>neutral</td>\n",
       "      <td>[according, gran, company, plan, production, r...</td>\n",
       "    </tr>\n",
       "    <tr>\n",
       "      <th>1</th>\n",
       "      <td>neutral</td>\n",
       "      <td>[technopolis, plan, develop, stage, area, squa...</td>\n",
       "    </tr>\n",
       "    <tr>\n",
       "      <th>2</th>\n",
       "      <td>negative</td>\n",
       "      <td>[international, electronic, industry, company,...</td>\n",
       "    </tr>\n",
       "    <tr>\n",
       "      <th>3</th>\n",
       "      <td>positive</td>\n",
       "      <td>[new, production, plant, company, increase, ca...</td>\n",
       "    </tr>\n",
       "    <tr>\n",
       "      <th>4</th>\n",
       "      <td>positive</td>\n",
       "      <td>[according, company, s, updated, strategy, yea...</td>\n",
       "    </tr>\n",
       "  </tbody>\n",
       "</table>\n",
       "</div>"
      ],
      "text/plain": [
       "      Class                                               News\n",
       "0   neutral  [according, gran, company, plan, production, r...\n",
       "1   neutral  [technopolis, plan, develop, stage, area, squa...\n",
       "2  negative  [international, electronic, industry, company,...\n",
       "3  positive  [new, production, plant, company, increase, ca...\n",
       "4  positive  [according, company, s, updated, strategy, yea..."
      ]
     },
     "execution_count": 24,
     "metadata": {},
     "output_type": "execute_result"
    }
   ],
   "source": [
    "f_news_df.head()"
   ]
  },
  {
   "cell_type": "code",
   "execution_count": 25,
   "id": "c1bbb6c5",
   "metadata": {},
   "outputs": [
    {
     "name": "stdout",
     "output_type": "stream",
     "text": [
      "(4846, 2)\n"
     ]
    }
   ],
   "source": [
    "print(f_news_df.shape)"
   ]
  },
  {
   "cell_type": "code",
   "execution_count": 26,
   "id": "377f7516",
   "metadata": {},
   "outputs": [],
   "source": [
    "# split into train test sets\n",
    "X = f_news_df['News']\n",
    "y = f_news_df['Class']\n",
    "X_train, X_test, y_train, y_test = train_test_split(X, y, test_size=0.2, random_state=42)"
   ]
  },
  {
   "cell_type": "code",
   "execution_count": null,
   "id": "e861dea9",
   "metadata": {},
   "outputs": [],
   "source": [
    "filepath1 = Path('fnews_Xtrain.csv')   \n",
    "X_train.to_csv(filepath1)\n",
    "filepath2 = Path('fnews_Xtest.csv')   \n",
    "X_test.to_csv(filepath2)\n",
    "filepath3 = Path('fnews_ytrain.csv')   \n",
    "y_train.to_csv(filepath3)\n",
    "filepath4 = Path('fnews_ytest.csv')   \n",
    "y_test.to_csv(filepath4)"
   ]
  },
  {
   "cell_type": "code",
   "execution_count": null,
   "id": "bd5e03aa",
   "metadata": {},
   "outputs": [],
   "source": [
    "#squid game\n",
    "squidgame_df=pd.read_csv(\"Squid_Game.csv\")\n",
    "#Name columns\n",
    "#clean dataset and drop rows with na values\n",
    "squidgame_df=squidgame_df.dropna()\n",
    "#drop the unused column\n",
    "squidgame_df.drop(squidgame_df.columns[[0,1,2,4]], axis=1, inplace=True)\n",
    "squidgame_df.head()\n",
    "squidgame_df.rename(columns={'Review Rating':'Class', 'Review_body':'Review'}, inplace = True)"
   ]
  },
  {
   "cell_type": "code",
   "execution_count": null,
   "id": "1744eb76",
   "metadata": {},
   "outputs": [],
   "source": [
    "squidgame_df['Review'] = squidgame_df['Review'].apply(lambda x:text_preprocessing(x))"
   ]
  },
  {
   "cell_type": "code",
   "execution_count": null,
   "id": "0e73302a",
   "metadata": {},
   "outputs": [],
   "source": [
    "squidgame_df.head()"
   ]
  },
  {
   "cell_type": "code",
   "execution_count": null,
   "id": "48632c64",
   "metadata": {},
   "outputs": [],
   "source": [
    "#check unique values\n",
    "squidgame_df['Class'].unique()\n",
    "#convert ratings into 3 classes\n",
    "squidgame_df['Class'] = squidgame_df['Class'].replace(['1/10','2/10','3/10', '4/10'],'0')\n",
    "squidgame_df['Class'] = squidgame_df['Class'].replace(['5/10'],'1')\n",
    "squidgame_df['Class'] = squidgame_df['Class'].replace(['6/10','7/10''8/10','9/10','10/10'],'2')"
   ]
  },
  {
   "cell_type": "code",
   "execution_count": null,
   "id": "4055e700",
   "metadata": {},
   "outputs": [],
   "source": [
    "squidgame_df.head()"
   ]
  },
  {
   "cell_type": "code",
   "execution_count": null,
   "id": "cd2bb161",
   "metadata": {},
   "outputs": [],
   "source": [
    "print(squidgame_df.shape)"
   ]
  },
  {
   "cell_type": "code",
   "execution_count": null,
   "id": "7b5e1045",
   "metadata": {},
   "outputs": [],
   "source": [
    "# split into train test sets\n",
    "X = squidgame_df['Review']\n",
    "y = squidgame_df['Class']\n",
    "X_train, X_test, y_train, y_test = train_test_split(X, y, test_size=0.2, random_state=42)\n",
    "vect_X_train, vect_X_test = text_vect(X_train, X_test)"
   ]
  },
  {
   "cell_type": "code",
   "execution_count": null,
   "id": "dae0a40b",
   "metadata": {},
   "outputs": [],
   "source": [
    "filepath1 = Path('squidgame_Xtrain.csv')   \n",
    "X_train.to_csv(filepath1)\n",
    "filepath2 = Path('squidgame_Xtest.csv')   \n",
    "X_test.to_csv(filepath2)\n",
    "filepath3 = Path('squidgame_ytrain.csv')   \n",
    "y_train.to_csv(filepath3)\n",
    "filepath4 = Path('squidgame_ytest.csv')   \n",
    "y_test.to_csv(filepath4)"
   ]
  }
 ],
 "metadata": {
  "kernelspec": {
   "display_name": "Python 3 (ipykernel)",
   "language": "python",
   "name": "python3"
  },
  "language_info": {
   "codemirror_mode": {
    "name": "ipython",
    "version": 3
   },
   "file_extension": ".py",
   "mimetype": "text/x-python",
   "name": "python",
   "nbconvert_exporter": "python",
   "pygments_lexer": "ipython3",
   "version": "3.9.12"
  }
 },
 "nbformat": 4,
 "nbformat_minor": 5
}
