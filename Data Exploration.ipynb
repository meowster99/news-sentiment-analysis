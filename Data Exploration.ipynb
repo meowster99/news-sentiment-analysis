{
 "cells": [
  {
   "cell_type": "markdown",
   "id": "8ace0abd",
   "metadata": {},
   "source": [
    "# Exploratory Analysis of the Datasets"
   ]
  },
  {
   "cell_type": "code",
   "execution_count": 1,
   "id": "9a3a584c",
   "metadata": {},
   "outputs": [
    {
     "name": "stderr",
     "output_type": "stream",
     "text": [
      "c:\\Users\\alexy\\environments\\dsai-env\\lib\\site-packages\\tqdm\\auto.py:22: TqdmWarning: IProgress not found. Please update jupyter and ipywidgets. See https://ipywidgets.readthedocs.io/en/stable/user_install.html\n",
      "  from .autonotebook import tqdm as notebook_tqdm\n"
     ]
    }
   ],
   "source": [
    "import pandas as pd\n",
    "import numpy as np\n",
    "import json\n",
    "import string\n",
    "import matplotlib.pyplot as plt\n",
    "import seaborn as sns\n",
    "from sklearn.model_selection import train_test_split\n",
    "from sklearn.feature_extraction.text import ENGLISH_STOP_WORDS\n",
    "from sklearn.feature_extraction.text import TfidfVectorizer\n",
    "import nltk\n",
    "from nltk.stem import WordNetLemmatizer\n",
    "import re\n",
    "from pathlib import Path   \n",
    "import plotly.express as px\n",
    "from transformers import BertTokenizer \n",
    "from sklearn.metrics.pairwise import cosine_similarity\n",
    "import random"
   ]
  },
  {
   "cell_type": "code",
   "execution_count": 2,
   "id": "a4dee04c",
   "metadata": {},
   "outputs": [],
   "source": [
    "def text_preprocessing(text):\n",
    "    stop_words = ENGLISH_STOP_WORDS\n",
    "    wordnet_lemmatizer=WordNetLemmatizer()\n",
    "    \n",
    "    # remove punctuations\n",
    "    text=text.translate(str.maketrans('', '', string.punctuation))\n",
    "    # remove numbers\n",
    "    translation_table = str.maketrans('', '', string.digits)\n",
    "    text=text.translate(translation_table)\n",
    "    # remove URL\n",
    "    text=text.replace(r'\\s*https?://\\S+(\\s+|$)', ' ').strip()\n",
    "    # remove stopwords\n",
    "    text=' '.join([word for word in text.split() if word not in (stop_words)])\n",
    "    # simple tokenisation using NLTK\n",
    "    text=nltk.word_tokenize(text)\n",
    "    # lemmatization\n",
    "    text=([wordnet_lemmatizer.lemmatize(w) for w in text])\n",
    "\n",
    "    return text"
   ]
  },
  {
   "cell_type": "code",
   "execution_count": 3,
   "id": "7794dbf1",
   "metadata": {},
   "outputs": [],
   "source": [
    "def plot_similarity(features, labels, title='Semantic Textual Similarity'):\n",
    "  \"\"\"\n",
    "  Plot a similarity matrix of the embeddings.\n",
    "  Reference code taken from: https://towardsdatascience.com/multi-label-text-classification-using-bert-and-tensorflow-d2e88d8f488d\n",
    "  \"\"\"\n",
    "  plt.figure(figsize=(10,8))\n",
    "  sns.set(font_scale=1.2)\n",
    "  cbar_kws=dict(use_gridspec=False, location=\"left\")\n",
    "  g = sns.heatmap(\n",
    "      cosine_similarity(features), xticklabels=labels, yticklabels=labels,\n",
    "      vmin=0, vmax=1, annot=True, cmap=\"Greens\", \n",
    "      cbar_kws=cbar_kws)\n",
    "  g.tick_params(labelright=True, labelleft=False)\n",
    "  g.set_yticklabels(labels, rotation=0)\n",
    "  g.set_title(title)\n"
   ]
  },
  {
   "cell_type": "code",
   "execution_count": 4,
   "id": "9790e913",
   "metadata": {},
   "outputs": [],
   "source": [
    "def create_attention_masks(sentence, max_length):\n",
    "    \"\"\" Creating the specifically formatted inputs for BERT. \"\"\"\n",
    "    # load the pre-trained tokenizer\n",
    "    tokenizer = BertTokenizer.from_pretrained('bert-base-uncased', do_lower_case=True)\n",
    "    # initialise the input arrays\n",
    "    input_ids = []\n",
    "    token_type_ids = []\n",
    "    attention_masks = []\n",
    "    # iterate through the sentences to generate the inputs for BERT\n",
    "    for headline in sentence:\n",
    "        tokenized_texts = tokenizer.encode_plus(\" \".join(headline),\n",
    "                                                    add_special_tokens=True,\n",
    "                                                    max_length=max_length,\n",
    "                                                    padding='max_length',\n",
    "                                                    truncation=True,\n",
    "                                                    return_attention_mask=True)\n",
    "        input_ids.append(tokenized_texts['input_ids'])\n",
    "        token_type_ids.append(tokenized_texts['token_type_ids'])\n",
    "        attention_masks.append(tokenized_texts['attention_mask'])\n",
    "   \n",
    "    return input_ids, token_type_ids, attention_masks"
   ]
  },
  {
   "cell_type": "code",
   "execution_count": 5,
   "id": "bdb3ba6d",
   "metadata": {},
<<<<<<< Updated upstream
   "outputs": [],
=======
   "outputs": [
    {
     "name": "stdout",
     "output_type": "stream",
     "text": [
      "MAX_LENGTH =  20\n",
      "ORIGINAL SENTENCE:  I love CZ4042!\n",
      "input_ids:  [101, 1045, 1048, 1051, 1058, 1041, 1039, 1062, 1018, 1014, 1018, 1016, 999, 102, 0, 0, 0, 0, 0, 0]\n",
      "attention_mask:  [1, 1, 1, 1, 1, 1, 1, 1, 1, 1, 1, 1, 1, 1, 0, 0, 0, 0, 0, 0]\n",
      "token_type_ids:  [0, 0, 0, 0, 0, 0, 0, 0, 0, 0, 0, 0, 0, 0, 0, 0, 0, 0, 0, 0]\n"
     ]
    }
   ],
>>>>>>> Stashed changes
   "source": [
    "# for illustration purposes\n",
    "tokenizer = BertTokenizer.from_pretrained('bert-base-uncased', do_lower_case=True)\n",
    "sentence = 'I love CZ4042!'\n",
    "tokenized_texts = tokenizer.encode_plus(\" \".join(sentence),\n",
    "                                            add_special_tokens=True,\n",
    "                                            max_length=20,\n",
    "                                            padding='max_length',\n",
    "                                            truncation=True,\n",
    "                                            return_attention_mask=True)\n",
    "print('MAX_LENGTH = ', 20)\n",
    "print('ORIGINAL SENTENCE: ', sentence)\n",
    "print('input_ids: ', tokenized_texts['input_ids'])\n",
    "print('attention_mask: ', tokenized_texts['attention_mask'])\n",
    "print('token_type_ids: ', tokenized_texts['token_type_ids'])"
   ]
  },
  {
   "cell_type": "code",
<<<<<<< Updated upstream
   "execution_count": null,
=======
   "execution_count": 6,
>>>>>>> Stashed changes
   "id": "5672ccd9",
   "metadata": {},
   "outputs": [],
   "source": [
    "def plot_classes(df, type='bar', title='Financial Headline', col='News'):\n",
    "    fig = px.bar(df.groupby('Class').count()) if type=='bar' else px.pie(names=df.groupby('Class').count().index, values=df.groupby('Class').count()[col])\n",
    "    fig.update_layout(\n",
    "        title=f'Count per class for {title} Dataset',\n",
    "        height=500,\n",
    "        width=500\n",
    "    )\n",
    "    fig.update_xaxes(title='Sentiment')\n",
    "    fig.update_yaxes(title='Count of values')\n",
    "    fig.show()"
   ]
  },
  {
   "cell_type": "code",
<<<<<<< Updated upstream
   "execution_count": null,
=======
   "execution_count": 7,
>>>>>>> Stashed changes
   "id": "24281cf1",
   "metadata": {},
   "outputs": [],
   "source": [
    "from collections import Counter\n",
    "import itertools\n",
    "def plot_common_words_count(df, col='News', dataset='A'):\n",
    "    tokens = [[word for word in item if len(word) > 2] for item in df[col]]\n",
    "    last_token = list(itertools.chain(*tokens))  \n",
    "    bow_simple = Counter(last_token).most_common(15) \n",
    "\n",
    "    labels = [item[0] for item in bow_simple]\n",
    "    number = [item[1] for item in bow_simple]\n",
    "    nbars = len(bow_simple)\n",
    "\n",
    "    plt.grid(zorder=0)\n",
    "    plt.bar(np.arange(nbars), number, tick_label=labels, zorder=3)\n",
    "    plt.xticks(rotation=45)\n",
    "    plt.title(f'Most Common Words in Dataset {dataset}')\n",
    "    plt.ylabel('Count')\n",
    "    plt.show()"
   ]
  },
  {
   "cell_type": "markdown",
   "id": "ac11b0f9",
   "metadata": {},
   "source": [
    "## Dataset A"
   ]
  },
  {
   "cell_type": "code",
<<<<<<< Updated upstream
   "execution_count": null,
=======
   "execution_count": 8,
>>>>>>> Stashed changes
   "id": "95fd69c4",
   "metadata": {},
   "outputs": [
    {
     "name": "stdout",
     "output_type": "stream",
     "text": [
      "(4846, 2)\n"
     ]
    }
   ],
   "source": [
    "f_news_df = pd.read_csv(\"data/Financial_News.csv\",encoding='ISO-8859-1', header = None)\n",
    "f_news_df.columns=[\"Class\", \"News\"]\n",
    "f_news_df = f_news_df.dropna()\n",
    "f_news_df.head()\n",
    "print(f_news_df.shape)"
   ]
  },
  {
   "cell_type": "code",
<<<<<<< Updated upstream
   "execution_count": null,
=======
   "execution_count": 9,
>>>>>>> Stashed changes
   "id": "1b984d7c",
   "metadata": {},
   "outputs": [
    {
     "data": {
      "text/html": [
       "<div>\n",
       "<style scoped>\n",
       "    .dataframe tbody tr th:only-of-type {\n",
       "        vertical-align: middle;\n",
       "    }\n",
       "\n",
       "    .dataframe tbody tr th {\n",
       "        vertical-align: top;\n",
       "    }\n",
       "\n",
       "    .dataframe thead th {\n",
       "        text-align: right;\n",
       "    }\n",
       "</style>\n",
       "<table border=\"1\" class=\"dataframe\">\n",
       "  <thead>\n",
       "    <tr style=\"text-align: right;\">\n",
       "      <th></th>\n",
       "      <th>News</th>\n",
       "    </tr>\n",
       "    <tr>\n",
       "      <th>Class</th>\n",
       "      <th></th>\n",
       "    </tr>\n",
       "  </thead>\n",
       "  <tbody>\n",
       "    <tr>\n",
       "      <th>negative</th>\n",
       "      <td>604</td>\n",
       "    </tr>\n",
       "    <tr>\n",
       "      <th>neutral</th>\n",
       "      <td>2879</td>\n",
       "    </tr>\n",
       "    <tr>\n",
       "      <th>positive</th>\n",
       "      <td>1363</td>\n",
       "    </tr>\n",
       "  </tbody>\n",
       "</table>\n",
       "</div>"
      ],
      "text/plain": [
       "          News\n",
       "Class         \n",
       "negative   604\n",
       "neutral   2879\n",
       "positive  1363"
      ]
     },
<<<<<<< Updated upstream
     "execution_count": 5,
=======
     "execution_count": 9,
>>>>>>> Stashed changes
     "metadata": {},
     "output_type": "execute_result"
    }
   ],
   "source": [
    "f_news_df.groupby('Class').count()"
   ]
  },
  {
   "cell_type": "code",
<<<<<<< Updated upstream
   "execution_count": null,
=======
   "execution_count": 10,
>>>>>>> Stashed changes
   "id": "b3cb1abe",
   "metadata": {},
   "outputs": [
    {
     "data": {
      "application/vnd.plotly.v1+json": {
       "config": {
        "plotlyServerURL": "https://plot.ly"
       },
       "data": [
        {
         "alignmentgroup": "True",
         "hovertemplate": "variable=News<br>Class=%{x}<br>value=%{y}<extra></extra>",
         "legendgroup": "News",
         "marker": {
          "color": "#636efa",
          "pattern": {
           "shape": ""
          }
         },
         "name": "News",
         "offsetgroup": "News",
         "orientation": "v",
         "showlegend": true,
         "textposition": "auto",
         "type": "bar",
         "x": [
          "negative",
          "neutral",
          "positive"
         ],
         "xaxis": "x",
         "y": [
          604,
          2879,
          1363
         ],
         "yaxis": "y"
        }
       ],
       "layout": {
        "barmode": "relative",
        "height": 500,
        "legend": {
         "title": {
          "text": "variable"
         },
         "tracegroupgap": 0
        },
        "margin": {
         "t": 60
        },
        "template": {
         "data": {
          "bar": [
           {
            "error_x": {
             "color": "#2a3f5f"
            },
            "error_y": {
             "color": "#2a3f5f"
            },
            "marker": {
             "line": {
              "color": "#E5ECF6",
              "width": 0.5
             },
             "pattern": {
              "fillmode": "overlay",
              "size": 10,
              "solidity": 0.2
             }
            },
            "type": "bar"
           }
          ],
          "barpolar": [
           {
            "marker": {
             "line": {
              "color": "#E5ECF6",
              "width": 0.5
             },
             "pattern": {
              "fillmode": "overlay",
              "size": 10,
              "solidity": 0.2
             }
            },
            "type": "barpolar"
           }
          ],
          "carpet": [
           {
            "aaxis": {
             "endlinecolor": "#2a3f5f",
             "gridcolor": "white",
             "linecolor": "white",
             "minorgridcolor": "white",
             "startlinecolor": "#2a3f5f"
            },
            "baxis": {
             "endlinecolor": "#2a3f5f",
             "gridcolor": "white",
             "linecolor": "white",
             "minorgridcolor": "white",
             "startlinecolor": "#2a3f5f"
            },
            "type": "carpet"
           }
          ],
          "choropleth": [
           {
            "colorbar": {
             "outlinewidth": 0,
             "ticks": ""
            },
            "type": "choropleth"
           }
          ],
          "contour": [
           {
            "colorbar": {
             "outlinewidth": 0,
             "ticks": ""
            },
            "colorscale": [
             [
              0,
              "#0d0887"
             ],
             [
              0.1111111111111111,
              "#46039f"
             ],
             [
              0.2222222222222222,
              "#7201a8"
             ],
             [
              0.3333333333333333,
              "#9c179e"
             ],
             [
              0.4444444444444444,
              "#bd3786"
             ],
             [
              0.5555555555555556,
              "#d8576b"
             ],
             [
              0.6666666666666666,
              "#ed7953"
             ],
             [
              0.7777777777777778,
              "#fb9f3a"
             ],
             [
              0.8888888888888888,
              "#fdca26"
             ],
             [
              1,
              "#f0f921"
             ]
            ],
            "type": "contour"
           }
          ],
          "contourcarpet": [
           {
            "colorbar": {
             "outlinewidth": 0,
             "ticks": ""
            },
            "type": "contourcarpet"
           }
          ],
          "heatmap": [
           {
            "colorbar": {
             "outlinewidth": 0,
             "ticks": ""
            },
            "colorscale": [
             [
              0,
              "#0d0887"
             ],
             [
              0.1111111111111111,
              "#46039f"
             ],
             [
              0.2222222222222222,
              "#7201a8"
             ],
             [
              0.3333333333333333,
              "#9c179e"
             ],
             [
              0.4444444444444444,
              "#bd3786"
             ],
             [
              0.5555555555555556,
              "#d8576b"
             ],
             [
              0.6666666666666666,
              "#ed7953"
             ],
             [
              0.7777777777777778,
              "#fb9f3a"
             ],
             [
              0.8888888888888888,
              "#fdca26"
             ],
             [
              1,
              "#f0f921"
             ]
            ],
            "type": "heatmap"
           }
          ],
          "heatmapgl": [
           {
            "colorbar": {
             "outlinewidth": 0,
             "ticks": ""
            },
            "colorscale": [
             [
              0,
              "#0d0887"
             ],
             [
              0.1111111111111111,
              "#46039f"
             ],
             [
              0.2222222222222222,
              "#7201a8"
             ],
             [
              0.3333333333333333,
              "#9c179e"
             ],
             [
              0.4444444444444444,
              "#bd3786"
             ],
             [
              0.5555555555555556,
              "#d8576b"
             ],
             [
              0.6666666666666666,
              "#ed7953"
             ],
             [
              0.7777777777777778,
              "#fb9f3a"
             ],
             [
              0.8888888888888888,
              "#fdca26"
             ],
             [
              1,
              "#f0f921"
             ]
            ],
            "type": "heatmapgl"
           }
          ],
          "histogram": [
           {
            "marker": {
             "pattern": {
              "fillmode": "overlay",
              "size": 10,
              "solidity": 0.2
             }
            },
            "type": "histogram"
           }
          ],
          "histogram2d": [
           {
            "colorbar": {
             "outlinewidth": 0,
             "ticks": ""
            },
            "colorscale": [
             [
              0,
              "#0d0887"
             ],
             [
              0.1111111111111111,
              "#46039f"
             ],
             [
              0.2222222222222222,
              "#7201a8"
             ],
             [
              0.3333333333333333,
              "#9c179e"
             ],
             [
              0.4444444444444444,
              "#bd3786"
             ],
             [
              0.5555555555555556,
              "#d8576b"
             ],
             [
              0.6666666666666666,
              "#ed7953"
             ],
             [
              0.7777777777777778,
              "#fb9f3a"
             ],
             [
              0.8888888888888888,
              "#fdca26"
             ],
             [
              1,
              "#f0f921"
             ]
            ],
            "type": "histogram2d"
           }
          ],
          "histogram2dcontour": [
           {
            "colorbar": {
             "outlinewidth": 0,
             "ticks": ""
            },
            "colorscale": [
             [
              0,
              "#0d0887"
             ],
             [
              0.1111111111111111,
              "#46039f"
             ],
             [
              0.2222222222222222,
              "#7201a8"
             ],
             [
              0.3333333333333333,
              "#9c179e"
             ],
             [
              0.4444444444444444,
              "#bd3786"
             ],
             [
              0.5555555555555556,
              "#d8576b"
             ],
             [
              0.6666666666666666,
              "#ed7953"
             ],
             [
              0.7777777777777778,
              "#fb9f3a"
             ],
             [
              0.8888888888888888,
              "#fdca26"
             ],
             [
              1,
              "#f0f921"
             ]
            ],
            "type": "histogram2dcontour"
           }
          ],
          "mesh3d": [
           {
            "colorbar": {
             "outlinewidth": 0,
             "ticks": ""
            },
            "type": "mesh3d"
           }
          ],
          "parcoords": [
           {
            "line": {
             "colorbar": {
              "outlinewidth": 0,
              "ticks": ""
             }
            },
            "type": "parcoords"
           }
          ],
          "pie": [
           {
            "automargin": true,
            "type": "pie"
           }
          ],
          "scatter": [
           {
            "fillpattern": {
             "fillmode": "overlay",
             "size": 10,
             "solidity": 0.2
            },
            "type": "scatter"
           }
          ],
          "scatter3d": [
           {
            "line": {
             "colorbar": {
              "outlinewidth": 0,
              "ticks": ""
             }
            },
            "marker": {
             "colorbar": {
              "outlinewidth": 0,
              "ticks": ""
             }
            },
            "type": "scatter3d"
           }
          ],
          "scattercarpet": [
           {
            "marker": {
             "colorbar": {
              "outlinewidth": 0,
              "ticks": ""
             }
            },
            "type": "scattercarpet"
           }
          ],
          "scattergeo": [
           {
            "marker": {
             "colorbar": {
              "outlinewidth": 0,
              "ticks": ""
             }
            },
            "type": "scattergeo"
           }
          ],
          "scattergl": [
           {
            "marker": {
             "colorbar": {
              "outlinewidth": 0,
              "ticks": ""
             }
            },
            "type": "scattergl"
           }
          ],
          "scattermapbox": [
           {
            "marker": {
             "colorbar": {
              "outlinewidth": 0,
              "ticks": ""
             }
            },
            "type": "scattermapbox"
           }
          ],
          "scatterpolar": [
           {
            "marker": {
             "colorbar": {
              "outlinewidth": 0,
              "ticks": ""
             }
            },
            "type": "scatterpolar"
           }
          ],
          "scatterpolargl": [
           {
            "marker": {
             "colorbar": {
              "outlinewidth": 0,
              "ticks": ""
             }
            },
            "type": "scatterpolargl"
           }
          ],
          "scatterternary": [
           {
            "marker": {
             "colorbar": {
              "outlinewidth": 0,
              "ticks": ""
             }
            },
            "type": "scatterternary"
           }
          ],
          "surface": [
           {
            "colorbar": {
             "outlinewidth": 0,
             "ticks": ""
            },
            "colorscale": [
             [
              0,
              "#0d0887"
             ],
             [
              0.1111111111111111,
              "#46039f"
             ],
             [
              0.2222222222222222,
              "#7201a8"
             ],
             [
              0.3333333333333333,
              "#9c179e"
             ],
             [
              0.4444444444444444,
              "#bd3786"
             ],
             [
              0.5555555555555556,
              "#d8576b"
             ],
             [
              0.6666666666666666,
              "#ed7953"
             ],
             [
              0.7777777777777778,
              "#fb9f3a"
             ],
             [
              0.8888888888888888,
              "#fdca26"
             ],
             [
              1,
              "#f0f921"
             ]
            ],
            "type": "surface"
           }
          ],
          "table": [
           {
            "cells": {
             "fill": {
              "color": "#EBF0F8"
             },
             "line": {
              "color": "white"
             }
            },
            "header": {
             "fill": {
              "color": "#C8D4E3"
             },
             "line": {
              "color": "white"
             }
            },
            "type": "table"
           }
          ]
         },
         "layout": {
          "annotationdefaults": {
           "arrowcolor": "#2a3f5f",
           "arrowhead": 0,
           "arrowwidth": 1
          },
          "autotypenumbers": "strict",
          "coloraxis": {
           "colorbar": {
            "outlinewidth": 0,
            "ticks": ""
           }
          },
          "colorscale": {
           "diverging": [
            [
             0,
             "#8e0152"
            ],
            [
             0.1,
             "#c51b7d"
            ],
            [
             0.2,
             "#de77ae"
            ],
            [
             0.3,
             "#f1b6da"
            ],
            [
             0.4,
             "#fde0ef"
            ],
            [
             0.5,
             "#f7f7f7"
            ],
            [
             0.6,
             "#e6f5d0"
            ],
            [
             0.7,
             "#b8e186"
            ],
            [
             0.8,
             "#7fbc41"
            ],
            [
             0.9,
             "#4d9221"
            ],
            [
             1,
             "#276419"
            ]
           ],
           "sequential": [
            [
             0,
             "#0d0887"
            ],
            [
             0.1111111111111111,
             "#46039f"
            ],
            [
             0.2222222222222222,
             "#7201a8"
            ],
            [
             0.3333333333333333,
             "#9c179e"
            ],
            [
             0.4444444444444444,
             "#bd3786"
            ],
            [
             0.5555555555555556,
             "#d8576b"
            ],
            [
             0.6666666666666666,
             "#ed7953"
            ],
            [
             0.7777777777777778,
             "#fb9f3a"
            ],
            [
             0.8888888888888888,
             "#fdca26"
            ],
            [
             1,
             "#f0f921"
            ]
           ],
           "sequentialminus": [
            [
             0,
             "#0d0887"
            ],
            [
             0.1111111111111111,
             "#46039f"
            ],
            [
             0.2222222222222222,
             "#7201a8"
            ],
            [
             0.3333333333333333,
             "#9c179e"
            ],
            [
             0.4444444444444444,
             "#bd3786"
            ],
            [
             0.5555555555555556,
             "#d8576b"
            ],
            [
             0.6666666666666666,
             "#ed7953"
            ],
            [
             0.7777777777777778,
             "#fb9f3a"
            ],
            [
             0.8888888888888888,
             "#fdca26"
            ],
            [
             1,
             "#f0f921"
            ]
           ]
          },
          "colorway": [
           "#636efa",
           "#EF553B",
           "#00cc96",
           "#ab63fa",
           "#FFA15A",
           "#19d3f3",
           "#FF6692",
           "#B6E880",
           "#FF97FF",
           "#FECB52"
          ],
          "font": {
           "color": "#2a3f5f"
          },
          "geo": {
           "bgcolor": "white",
           "lakecolor": "white",
           "landcolor": "#E5ECF6",
           "showlakes": true,
           "showland": true,
           "subunitcolor": "white"
          },
          "hoverlabel": {
           "align": "left"
          },
          "hovermode": "closest",
          "mapbox": {
           "style": "light"
          },
          "paper_bgcolor": "white",
          "plot_bgcolor": "#E5ECF6",
          "polar": {
           "angularaxis": {
            "gridcolor": "white",
            "linecolor": "white",
            "ticks": ""
           },
           "bgcolor": "#E5ECF6",
           "radialaxis": {
            "gridcolor": "white",
            "linecolor": "white",
            "ticks": ""
           }
          },
          "scene": {
           "xaxis": {
            "backgroundcolor": "#E5ECF6",
            "gridcolor": "white",
            "gridwidth": 2,
            "linecolor": "white",
            "showbackground": true,
            "ticks": "",
            "zerolinecolor": "white"
           },
           "yaxis": {
            "backgroundcolor": "#E5ECF6",
            "gridcolor": "white",
            "gridwidth": 2,
            "linecolor": "white",
            "showbackground": true,
            "ticks": "",
            "zerolinecolor": "white"
           },
           "zaxis": {
            "backgroundcolor": "#E5ECF6",
            "gridcolor": "white",
            "gridwidth": 2,
            "linecolor": "white",
            "showbackground": true,
            "ticks": "",
            "zerolinecolor": "white"
           }
          },
          "shapedefaults": {
           "line": {
            "color": "#2a3f5f"
           }
          },
          "ternary": {
           "aaxis": {
            "gridcolor": "white",
            "linecolor": "white",
            "ticks": ""
           },
           "baxis": {
            "gridcolor": "white",
            "linecolor": "white",
            "ticks": ""
           },
           "bgcolor": "#E5ECF6",
           "caxis": {
            "gridcolor": "white",
            "linecolor": "white",
            "ticks": ""
           }
          },
          "title": {
           "x": 0.05
          },
          "xaxis": {
           "automargin": true,
           "gridcolor": "white",
           "linecolor": "white",
           "ticks": "",
           "title": {
            "standoff": 15
           },
           "zerolinecolor": "white",
           "zerolinewidth": 2
          },
          "yaxis": {
           "automargin": true,
           "gridcolor": "white",
           "linecolor": "white",
           "ticks": "",
           "title": {
            "standoff": 15
           },
           "zerolinecolor": "white",
           "zerolinewidth": 2
          }
         }
        },
        "title": {
         "text": "Count per class for Financial Headline Dataset"
        },
        "width": 500,
        "xaxis": {
         "anchor": "y",
         "domain": [
          0,
          1
         ],
         "title": {
          "text": "Sentiment"
         }
        },
        "yaxis": {
         "anchor": "x",
         "domain": [
          0,
          1
         ],
         "title": {
          "text": "Count of values"
         }
        }
       }
      }
     },
     "metadata": {},
     "output_type": "display_data"
    },
    {
     "data": {
      "application/vnd.plotly.v1+json": {
       "config": {
        "plotlyServerURL": "https://plot.ly"
       },
       "data": [
        {
         "domain": {
          "x": [
           0,
           1
          ],
          "y": [
           0,
           1
          ]
         },
         "hovertemplate": "label=%{label}<br>value=%{value}<extra></extra>",
         "labels": [
          "negative",
          "neutral",
          "positive"
         ],
         "legendgroup": "",
         "name": "",
         "showlegend": true,
         "type": "pie",
         "values": [
          604,
          2879,
          1363
         ]
        }
       ],
       "layout": {
        "height": 500,
        "legend": {
         "tracegroupgap": 0
        },
        "margin": {
         "t": 60
        },
        "template": {
         "data": {
          "bar": [
           {
            "error_x": {
             "color": "#2a3f5f"
            },
            "error_y": {
             "color": "#2a3f5f"
            },
            "marker": {
             "line": {
              "color": "#E5ECF6",
              "width": 0.5
             },
             "pattern": {
              "fillmode": "overlay",
              "size": 10,
              "solidity": 0.2
             }
            },
            "type": "bar"
           }
          ],
          "barpolar": [
           {
            "marker": {
             "line": {
              "color": "#E5ECF6",
              "width": 0.5
             },
             "pattern": {
              "fillmode": "overlay",
              "size": 10,
              "solidity": 0.2
             }
            },
            "type": "barpolar"
           }
          ],
          "carpet": [
           {
            "aaxis": {
             "endlinecolor": "#2a3f5f",
             "gridcolor": "white",
             "linecolor": "white",
             "minorgridcolor": "white",
             "startlinecolor": "#2a3f5f"
            },
            "baxis": {
             "endlinecolor": "#2a3f5f",
             "gridcolor": "white",
             "linecolor": "white",
             "minorgridcolor": "white",
             "startlinecolor": "#2a3f5f"
            },
            "type": "carpet"
           }
          ],
          "choropleth": [
           {
            "colorbar": {
             "outlinewidth": 0,
             "ticks": ""
            },
            "type": "choropleth"
           }
          ],
          "contour": [
           {
            "colorbar": {
             "outlinewidth": 0,
             "ticks": ""
            },
            "colorscale": [
             [
              0,
              "#0d0887"
             ],
             [
              0.1111111111111111,
              "#46039f"
             ],
             [
              0.2222222222222222,
              "#7201a8"
             ],
             [
              0.3333333333333333,
              "#9c179e"
             ],
             [
              0.4444444444444444,
              "#bd3786"
             ],
             [
              0.5555555555555556,
              "#d8576b"
             ],
             [
              0.6666666666666666,
              "#ed7953"
             ],
             [
              0.7777777777777778,
              "#fb9f3a"
             ],
             [
              0.8888888888888888,
              "#fdca26"
             ],
             [
              1,
              "#f0f921"
             ]
            ],
            "type": "contour"
           }
          ],
          "contourcarpet": [
           {
            "colorbar": {
             "outlinewidth": 0,
             "ticks": ""
            },
            "type": "contourcarpet"
           }
          ],
          "heatmap": [
           {
            "colorbar": {
             "outlinewidth": 0,
             "ticks": ""
            },
            "colorscale": [
             [
              0,
              "#0d0887"
             ],
             [
              0.1111111111111111,
              "#46039f"
             ],
             [
              0.2222222222222222,
              "#7201a8"
             ],
             [
              0.3333333333333333,
              "#9c179e"
             ],
             [
              0.4444444444444444,
              "#bd3786"
             ],
             [
              0.5555555555555556,
              "#d8576b"
             ],
             [
              0.6666666666666666,
              "#ed7953"
             ],
             [
              0.7777777777777778,
              "#fb9f3a"
             ],
             [
              0.8888888888888888,
              "#fdca26"
             ],
             [
              1,
              "#f0f921"
             ]
            ],
            "type": "heatmap"
           }
          ],
          "heatmapgl": [
           {
            "colorbar": {
             "outlinewidth": 0,
             "ticks": ""
            },
            "colorscale": [
             [
              0,
              "#0d0887"
             ],
             [
              0.1111111111111111,
              "#46039f"
             ],
             [
              0.2222222222222222,
              "#7201a8"
             ],
             [
              0.3333333333333333,
              "#9c179e"
             ],
             [
              0.4444444444444444,
              "#bd3786"
             ],
             [
              0.5555555555555556,
              "#d8576b"
             ],
             [
              0.6666666666666666,
              "#ed7953"
             ],
             [
              0.7777777777777778,
              "#fb9f3a"
             ],
             [
              0.8888888888888888,
              "#fdca26"
             ],
             [
              1,
              "#f0f921"
             ]
            ],
            "type": "heatmapgl"
           }
          ],
          "histogram": [
           {
            "marker": {
             "pattern": {
              "fillmode": "overlay",
              "size": 10,
              "solidity": 0.2
             }
            },
            "type": "histogram"
           }
          ],
          "histogram2d": [
           {
            "colorbar": {
             "outlinewidth": 0,
             "ticks": ""
            },
            "colorscale": [
             [
              0,
              "#0d0887"
             ],
             [
              0.1111111111111111,
              "#46039f"
             ],
             [
              0.2222222222222222,
              "#7201a8"
             ],
             [
              0.3333333333333333,
              "#9c179e"
             ],
             [
              0.4444444444444444,
              "#bd3786"
             ],
             [
              0.5555555555555556,
              "#d8576b"
             ],
             [
              0.6666666666666666,
              "#ed7953"
             ],
             [
              0.7777777777777778,
              "#fb9f3a"
             ],
             [
              0.8888888888888888,
              "#fdca26"
             ],
             [
              1,
              "#f0f921"
             ]
            ],
            "type": "histogram2d"
           }
          ],
          "histogram2dcontour": [
           {
            "colorbar": {
             "outlinewidth": 0,
             "ticks": ""
            },
            "colorscale": [
             [
              0,
              "#0d0887"
             ],
             [
              0.1111111111111111,
              "#46039f"
             ],
             [
              0.2222222222222222,
              "#7201a8"
             ],
             [
              0.3333333333333333,
              "#9c179e"
             ],
             [
              0.4444444444444444,
              "#bd3786"
             ],
             [
              0.5555555555555556,
              "#d8576b"
             ],
             [
              0.6666666666666666,
              "#ed7953"
             ],
             [
              0.7777777777777778,
              "#fb9f3a"
             ],
             [
              0.8888888888888888,
              "#fdca26"
             ],
             [
              1,
              "#f0f921"
             ]
            ],
            "type": "histogram2dcontour"
           }
          ],
          "mesh3d": [
           {
            "colorbar": {
             "outlinewidth": 0,
             "ticks": ""
            },
            "type": "mesh3d"
           }
          ],
          "parcoords": [
           {
            "line": {
             "colorbar": {
              "outlinewidth": 0,
              "ticks": ""
             }
            },
            "type": "parcoords"
           }
          ],
          "pie": [
           {
            "automargin": true,
            "type": "pie"
           }
          ],
          "scatter": [
           {
            "fillpattern": {
             "fillmode": "overlay",
             "size": 10,
             "solidity": 0.2
            },
            "type": "scatter"
           }
          ],
          "scatter3d": [
           {
            "line": {
             "colorbar": {
              "outlinewidth": 0,
              "ticks": ""
             }
            },
            "marker": {
             "colorbar": {
              "outlinewidth": 0,
              "ticks": ""
             }
            },
            "type": "scatter3d"
           }
          ],
          "scattercarpet": [
           {
            "marker": {
             "colorbar": {
              "outlinewidth": 0,
              "ticks": ""
             }
            },
            "type": "scattercarpet"
           }
          ],
          "scattergeo": [
           {
            "marker": {
             "colorbar": {
              "outlinewidth": 0,
              "ticks": ""
             }
            },
            "type": "scattergeo"
           }
          ],
          "scattergl": [
           {
            "marker": {
             "colorbar": {
              "outlinewidth": 0,
              "ticks": ""
             }
            },
            "type": "scattergl"
           }
          ],
          "scattermapbox": [
           {
            "marker": {
             "colorbar": {
              "outlinewidth": 0,
              "ticks": ""
             }
            },
            "type": "scattermapbox"
           }
          ],
          "scatterpolar": [
           {
            "marker": {
             "colorbar": {
              "outlinewidth": 0,
              "ticks": ""
             }
            },
            "type": "scatterpolar"
           }
          ],
          "scatterpolargl": [
           {
            "marker": {
             "colorbar": {
              "outlinewidth": 0,
              "ticks": ""
             }
            },
            "type": "scatterpolargl"
           }
          ],
          "scatterternary": [
           {
            "marker": {
             "colorbar": {
              "outlinewidth": 0,
              "ticks": ""
             }
            },
            "type": "scatterternary"
           }
          ],
          "surface": [
           {
            "colorbar": {
             "outlinewidth": 0,
             "ticks": ""
            },
            "colorscale": [
             [
              0,
              "#0d0887"
             ],
             [
              0.1111111111111111,
              "#46039f"
             ],
             [
              0.2222222222222222,
              "#7201a8"
             ],
             [
              0.3333333333333333,
              "#9c179e"
             ],
             [
              0.4444444444444444,
              "#bd3786"
             ],
             [
              0.5555555555555556,
              "#d8576b"
             ],
             [
              0.6666666666666666,
              "#ed7953"
             ],
             [
              0.7777777777777778,
              "#fb9f3a"
             ],
             [
              0.8888888888888888,
              "#fdca26"
             ],
             [
              1,
              "#f0f921"
             ]
            ],
            "type": "surface"
           }
          ],
          "table": [
           {
            "cells": {
             "fill": {
              "color": "#EBF0F8"
             },
             "line": {
              "color": "white"
             }
            },
            "header": {
             "fill": {
              "color": "#C8D4E3"
             },
             "line": {
              "color": "white"
             }
            },
            "type": "table"
           }
          ]
         },
         "layout": {
          "annotationdefaults": {
           "arrowcolor": "#2a3f5f",
           "arrowhead": 0,
           "arrowwidth": 1
          },
          "autotypenumbers": "strict",
          "coloraxis": {
           "colorbar": {
            "outlinewidth": 0,
            "ticks": ""
           }
          },
          "colorscale": {
           "diverging": [
            [
             0,
             "#8e0152"
            ],
            [
             0.1,
             "#c51b7d"
            ],
            [
             0.2,
             "#de77ae"
            ],
            [
             0.3,
             "#f1b6da"
            ],
            [
             0.4,
             "#fde0ef"
            ],
            [
             0.5,
             "#f7f7f7"
            ],
            [
             0.6,
             "#e6f5d0"
            ],
            [
             0.7,
             "#b8e186"
            ],
            [
             0.8,
             "#7fbc41"
            ],
            [
             0.9,
             "#4d9221"
            ],
            [
             1,
             "#276419"
            ]
           ],
           "sequential": [
            [
             0,
             "#0d0887"
            ],
            [
             0.1111111111111111,
             "#46039f"
            ],
            [
             0.2222222222222222,
             "#7201a8"
            ],
            [
             0.3333333333333333,
             "#9c179e"
            ],
            [
             0.4444444444444444,
             "#bd3786"
            ],
            [
             0.5555555555555556,
             "#d8576b"
            ],
            [
             0.6666666666666666,
             "#ed7953"
            ],
            [
             0.7777777777777778,
             "#fb9f3a"
            ],
            [
             0.8888888888888888,
             "#fdca26"
            ],
            [
             1,
             "#f0f921"
            ]
           ],
           "sequentialminus": [
            [
             0,
             "#0d0887"
            ],
            [
             0.1111111111111111,
             "#46039f"
            ],
            [
             0.2222222222222222,
             "#7201a8"
            ],
            [
             0.3333333333333333,
             "#9c179e"
            ],
            [
             0.4444444444444444,
             "#bd3786"
            ],
            [
             0.5555555555555556,
             "#d8576b"
            ],
            [
             0.6666666666666666,
             "#ed7953"
            ],
            [
             0.7777777777777778,
             "#fb9f3a"
            ],
            [
             0.8888888888888888,
             "#fdca26"
            ],
            [
             1,
             "#f0f921"
            ]
           ]
          },
          "colorway": [
           "#636efa",
           "#EF553B",
           "#00cc96",
           "#ab63fa",
           "#FFA15A",
           "#19d3f3",
           "#FF6692",
           "#B6E880",
           "#FF97FF",
           "#FECB52"
          ],
          "font": {
           "color": "#2a3f5f"
          },
          "geo": {
           "bgcolor": "white",
           "lakecolor": "white",
           "landcolor": "#E5ECF6",
           "showlakes": true,
           "showland": true,
           "subunitcolor": "white"
          },
          "hoverlabel": {
           "align": "left"
          },
          "hovermode": "closest",
          "mapbox": {
           "style": "light"
          },
          "paper_bgcolor": "white",
          "plot_bgcolor": "#E5ECF6",
          "polar": {
           "angularaxis": {
            "gridcolor": "white",
            "linecolor": "white",
            "ticks": ""
           },
           "bgcolor": "#E5ECF6",
           "radialaxis": {
            "gridcolor": "white",
            "linecolor": "white",
            "ticks": ""
           }
          },
          "scene": {
           "xaxis": {
            "backgroundcolor": "#E5ECF6",
            "gridcolor": "white",
            "gridwidth": 2,
            "linecolor": "white",
            "showbackground": true,
            "ticks": "",
            "zerolinecolor": "white"
           },
           "yaxis": {
            "backgroundcolor": "#E5ECF6",
            "gridcolor": "white",
            "gridwidth": 2,
            "linecolor": "white",
            "showbackground": true,
            "ticks": "",
            "zerolinecolor": "white"
           },
           "zaxis": {
            "backgroundcolor": "#E5ECF6",
            "gridcolor": "white",
            "gridwidth": 2,
            "linecolor": "white",
            "showbackground": true,
            "ticks": "",
            "zerolinecolor": "white"
           }
          },
          "shapedefaults": {
           "line": {
            "color": "#2a3f5f"
           }
          },
          "ternary": {
           "aaxis": {
            "gridcolor": "white",
            "linecolor": "white",
            "ticks": ""
           },
           "baxis": {
            "gridcolor": "white",
            "linecolor": "white",
            "ticks": ""
           },
           "bgcolor": "#E5ECF6",
           "caxis": {
            "gridcolor": "white",
            "linecolor": "white",
            "ticks": ""
           }
          },
          "title": {
           "x": 0.05
          },
          "xaxis": {
           "automargin": true,
           "gridcolor": "white",
           "linecolor": "white",
           "ticks": "",
           "title": {
            "standoff": 15
           },
           "zerolinecolor": "white",
           "zerolinewidth": 2
          },
          "yaxis": {
           "automargin": true,
           "gridcolor": "white",
           "linecolor": "white",
           "ticks": "",
           "title": {
            "standoff": 15
           },
           "zerolinecolor": "white",
           "zerolinewidth": 2
          }
         }
        },
        "title": {
         "text": "Count per class for Financial Headline Dataset"
        },
        "width": 500,
        "xaxis": {
         "title": {
          "text": "Sentiment"
         }
        },
        "yaxis": {
         "title": {
          "text": "Count of values"
         }
        }
       }
      }
     },
     "metadata": {},
     "output_type": "display_data"
    }
   ],
   "source": [
    "plot_classes(f_news_df)\n",
    "plot_classes(f_news_df, type='pie')"
   ]
  },
  {
   "cell_type": "markdown",
   "id": "56dca859",
   "metadata": {},
   "source": [
    "There is an uneven class distribution which can affect the model's performance. "
   ]
  },
  {
   "cell_type": "code",
<<<<<<< Updated upstream
   "execution_count": null,
=======
   "execution_count": 11,
>>>>>>> Stashed changes
   "id": "b32894fa",
   "metadata": {},
   "outputs": [],
   "source": [
    "f_news_df['News']=f_news_df['News'].apply(lambda x: x.lower())\n",
    "f_news_df['News']=f_news_df['News'].apply(lambda x:text_preprocessing(x))"
   ]
  },
  {
   "cell_type": "code",
<<<<<<< Updated upstream
   "execution_count": null,
=======
   "execution_count": 12,
>>>>>>> Stashed changes
   "id": "3a1b416e",
   "metadata": {},
   "outputs": [
    {
     "data": {
      "text/html": [
       "<div>\n",
       "<style scoped>\n",
       "    .dataframe tbody tr th:only-of-type {\n",
       "        vertical-align: middle;\n",
       "    }\n",
       "\n",
       "    .dataframe tbody tr th {\n",
       "        vertical-align: top;\n",
       "    }\n",
       "\n",
       "    .dataframe thead th {\n",
       "        text-align: right;\n",
       "    }\n",
       "</style>\n",
       "<table border=\"1\" class=\"dataframe\">\n",
       "  <thead>\n",
       "    <tr style=\"text-align: right;\">\n",
       "      <th></th>\n",
       "      <th>Class</th>\n",
       "      <th>News</th>\n",
       "    </tr>\n",
       "  </thead>\n",
       "  <tbody>\n",
       "    <tr>\n",
       "      <th>0</th>\n",
       "      <td>neutral</td>\n",
       "      <td>[according, gran, company, plan, production, r...</td>\n",
       "    </tr>\n",
       "    <tr>\n",
       "      <th>1</th>\n",
       "      <td>neutral</td>\n",
       "      <td>[technopolis, plan, develop, stage, area, squa...</td>\n",
       "    </tr>\n",
       "    <tr>\n",
       "      <th>2</th>\n",
       "      <td>negative</td>\n",
       "      <td>[international, electronic, industry, company,...</td>\n",
       "    </tr>\n",
       "    <tr>\n",
       "      <th>3</th>\n",
       "      <td>positive</td>\n",
       "      <td>[new, production, plant, company, increase, ca...</td>\n",
       "    </tr>\n",
       "    <tr>\n",
       "      <th>4</th>\n",
       "      <td>positive</td>\n",
       "      <td>[according, company, s, updated, strategy, yea...</td>\n",
       "    </tr>\n",
       "  </tbody>\n",
       "</table>\n",
       "</div>"
      ],
      "text/plain": [
       "      Class                                               News\n",
       "0   neutral  [according, gran, company, plan, production, r...\n",
       "1   neutral  [technopolis, plan, develop, stage, area, squa...\n",
       "2  negative  [international, electronic, industry, company,...\n",
       "3  positive  [new, production, plant, company, increase, ca...\n",
       "4  positive  [according, company, s, updated, strategy, yea..."
      ]
     },
<<<<<<< Updated upstream
     "execution_count": 8,
=======
     "execution_count": 12,
>>>>>>> Stashed changes
     "metadata": {},
     "output_type": "execute_result"
    }
   ],
   "source": [
    "f_news_df.head()"
   ]
  },
  {
   "cell_type": "code",
<<<<<<< Updated upstream
   "execution_count": null,
=======
   "execution_count": 13,
>>>>>>> Stashed changes
   "id": "8e901fcc",
   "metadata": {},
   "outputs": [
    {
     "data": {
      "image/png": "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",
      "text/plain": [
       "<Figure size 640x480 with 1 Axes>"
      ]
     },
     "metadata": {},
     "output_type": "display_data"
    }
   ],
   "source": [
    "plot_common_words_count(f_news_df)"
   ]
  },
  {
   "cell_type": "code",
<<<<<<< Updated upstream
   "execution_count": null,
=======
   "execution_count": 14,
>>>>>>> Stashed changes
   "id": "377f7516",
   "metadata": {},
   "outputs": [],
   "source": [
    "# split into train test sets\n",
    "X = f_news_df['News']\n",
    "y = f_news_df['Class']\n",
    "X_train, X_test, y_train, y_test = train_test_split(X, y, test_size=0.2, random_state=42)\n",
    "\n",
    "# filepath1 = Path('fnews_Xtrain.csv')   \n",
    "# X_train.to_csv(filepath1)\n",
    "# filepath2 = Path('fnews_Xtest.csv')   \n",
    "# X_test.to_csv(filepath2)\n",
    "# filepath3 = Path('fnews_ytrain.csv')   \n",
    "# y_train.to_csv(filepath3)\n",
    "# filepath4 = Path('fnews_ytest.csv')   \n",
    "# y_test.to_csv(filepath4)"
   ]
  },
  {
   "cell_type": "code",
<<<<<<< Updated upstream
   "execution_count": null,
=======
   "execution_count": 15,
>>>>>>> Stashed changes
   "id": "ae856f27",
   "metadata": {},
   "outputs": [
    {
     "name": "stdout",
     "output_type": "stream",
     "text": [
      "Train shape:  3100 3100 3100 3100\n",
      "Val shape:  776 776 776 776\n",
      "Test shape:  970 970 970 970\n"
     ]
    },
    {
     "data": {
<<<<<<< Updated upstream
      "image/png": "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",
=======
      "image/png": "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",
>>>>>>> Stashed changes
      "text/plain": [
       "<Figure size 1000x800 with 2 Axes>"
      ]
     },
     "metadata": {},
     "output_type": "display_data"
    }
   ],
   "source": [
    "import random\n",
    "train_labels = y_train.map({'neutral':1, 'positive': 2, 'negative': 0}).values\n",
    "test_labels = y_test.map({'neutral':1, 'positive': 2, 'negative': 0}).values\n",
    "\n",
    "train_input_ids, train_tokens, train_attention_masks = create_attention_masks(X_train, 150)\n",
    "test_input_ids, test_tokens, test_attention_masks = create_attention_masks(X_test, 150)\n",
    "ttrain_input_ids, val_input_ids, ttrain_tokens, val_tokens, ttrain_attention_masks, val_attention_masks, ttrain_labels, val_labels  = train_test_split(train_input_ids, train_tokens, train_attention_masks, train_labels, test_size=0.2)\n",
    "print('Train shape: ', len(ttrain_input_ids), len(ttrain_tokens), len(ttrain_attention_masks), len(ttrain_labels))\n",
    "print('Val shape: ', len(val_input_ids), len(val_tokens), len(val_attention_masks), len(val_labels))\n",
    "print('Test shape: ', len(test_input_ids), len(test_tokens), len(test_attention_masks), len(test_labels))\n",
    "\n",
    "sentiments = [\"negative\", \"neutral\", \"positive\"]\n",
    "\n",
    "# comparing a random sample from each\n",
    "neg_samples = np.array(ttrain_input_ids)[ttrain_labels==0]\n",
    "neu_samples = np.array(ttrain_input_ids)[ttrain_labels==1]\n",
    "pos_samples = np.array(ttrain_input_ids)[ttrain_labels==2]\n",
    "plot_similarity([\n",
    "  neg_samples[random.randint(0, len(neg_samples)-1)], \n",
    "  neu_samples[random.randint(0, len(neu_samples)-1)], \n",
    "  pos_samples[random.randint(0, len(pos_samples)-1)]\n",
    "  ], sentiments)"
   ]
  },
  {
   "cell_type": "markdown",
   "id": "d9c9c979",
   "metadata": {},
   "source": [
    "## Dataset B"
   ]
  },
  {
   "cell_type": "code",
<<<<<<< Updated upstream
   "execution_count": null,
=======
   "execution_count": 16,
>>>>>>> Stashed changes
   "id": "bd5e03aa",
   "metadata": {},
   "outputs": [],
   "source": [
    "squidgame_df=pd.read_csv(\"data/Squid_Game.csv\")\n",
    "squidgame_df=squidgame_df.dropna()\n",
    "squidgame_df.drop(squidgame_df.columns[[0,1,2,4]], axis=1, inplace=True)\n",
    "squidgame_df.head()\n",
    "squidgame_df.rename(columns={'Review Rating':'Class', 'Review_body':'Review'}, inplace = True)\n",
    "squidgame_df['Review'] = squidgame_df['Review'].apply(lambda x:text_preprocessing(x.lower()))"
   ]
  },
  {
   "cell_type": "code",
<<<<<<< Updated upstream
   "execution_count": null,
=======
   "execution_count": 17,
>>>>>>> Stashed changes
   "id": "0e73302a",
   "metadata": {},
   "outputs": [
    {
     "data": {
      "text/html": [
       "<div>\n",
       "<style scoped>\n",
       "    .dataframe tbody tr th:only-of-type {\n",
       "        vertical-align: middle;\n",
       "    }\n",
       "\n",
       "    .dataframe tbody tr th {\n",
       "        vertical-align: top;\n",
       "    }\n",
       "\n",
       "    .dataframe thead th {\n",
       "        text-align: right;\n",
       "    }\n",
       "</style>\n",
       "<table border=\"1\" class=\"dataframe\">\n",
       "  <thead>\n",
       "    <tr style=\"text-align: right;\">\n",
       "      <th></th>\n",
       "      <th>Class</th>\n",
       "      <th>Review</th>\n",
       "    </tr>\n",
       "  </thead>\n",
       "  <tbody>\n",
       "    <tr>\n",
       "      <th>0</th>\n",
       "      <td>10/10</td>\n",
       "      <td>[just, finished, squid, game, korean, tv, that...</td>\n",
       "    </tr>\n",
       "    <tr>\n",
       "      <th>1</th>\n",
       "      <td>9/10</td>\n",
       "      <td>[multiple, game, actually, accurate, look, way...</td>\n",
       "    </tr>\n",
       "    <tr>\n",
       "      <th>2</th>\n",
       "      <td>10/10</td>\n",
       "      <td>[runaway, hit, south, korea, centred, seong, g...</td>\n",
       "    </tr>\n",
       "    <tr>\n",
       "      <th>3</th>\n",
       "      <td>5/10</td>\n",
       "      <td>[went, knowing, absolutely, korean, series, an...</td>\n",
       "    </tr>\n",
       "    <tr>\n",
       "      <th>4</th>\n",
       "      <td>7/10</td>\n",
       "      <td>[honestly, dont, know, wtf, main, character, n...</td>\n",
       "    </tr>\n",
       "  </tbody>\n",
       "</table>\n",
       "</div>"
      ],
      "text/plain": [
       "   Class                                             Review\n",
       "0  10/10  [just, finished, squid, game, korean, tv, that...\n",
       "1   9/10  [multiple, game, actually, accurate, look, way...\n",
       "2  10/10  [runaway, hit, south, korea, centred, seong, g...\n",
       "3   5/10  [went, knowing, absolutely, korean, series, an...\n",
       "4   7/10  [honestly, dont, know, wtf, main, character, n..."
      ]
     },
<<<<<<< Updated upstream
     "execution_count": 12,
=======
     "execution_count": 17,
>>>>>>> Stashed changes
     "metadata": {},
     "output_type": "execute_result"
    }
   ],
   "source": [
    "squidgame_df.head()"
   ]
  },
  {
   "cell_type": "code",
<<<<<<< Updated upstream
   "execution_count": null,
=======
   "execution_count": 18,
>>>>>>> Stashed changes
   "id": "48632c64",
   "metadata": {},
   "outputs": [],
   "source": [
    "squidgame_df['Class'].unique()\n",
    "squidgame_df['Class'] = squidgame_df['Class'].replace(['1/10','2/10','3/10', '4/10'],'negative')\n",
    "squidgame_df['Class'] = squidgame_df['Class'].replace(['5/10'],'neutral')\n",
    "squidgame_df['Class'] = squidgame_df['Class'].replace(['6/10','7/10','8/10','9/10','10/10'],'positive')"
   ]
  },
  {
   "cell_type": "code",
<<<<<<< Updated upstream
   "execution_count": null,
=======
   "execution_count": 19,
>>>>>>> Stashed changes
   "id": "bee5ba0f",
   "metadata": {},
   "outputs": [
    {
     "data": {
      "application/vnd.plotly.v1+json": {
       "config": {
        "plotlyServerURL": "https://plot.ly"
       },
       "data": [
        {
         "alignmentgroup": "True",
         "hovertemplate": "variable=Review<br>Class=%{x}<br>value=%{y}<extra></extra>",
         "legendgroup": "Review",
         "marker": {
          "color": "#636efa",
          "pattern": {
           "shape": ""
          }
         },
         "name": "Review",
         "offsetgroup": "Review",
         "orientation": "v",
         "showlegend": true,
         "textposition": "auto",
         "type": "bar",
         "x": [
          "negative",
          "neutral",
          "positive"
         ],
         "xaxis": "x",
         "y": [
          171,
          63,
          951
         ],
         "yaxis": "y"
        }
       ],
       "layout": {
        "barmode": "relative",
        "height": 500,
        "legend": {
         "title": {
          "text": "variable"
         },
         "tracegroupgap": 0
        },
        "margin": {
         "t": 60
        },
        "template": {
         "data": {
          "bar": [
           {
            "error_x": {
             "color": "#2a3f5f"
            },
            "error_y": {
             "color": "#2a3f5f"
            },
            "marker": {
             "line": {
              "color": "#E5ECF6",
              "width": 0.5
             },
             "pattern": {
              "fillmode": "overlay",
              "size": 10,
              "solidity": 0.2
             }
            },
            "type": "bar"
           }
          ],
          "barpolar": [
           {
            "marker": {
             "line": {
              "color": "#E5ECF6",
              "width": 0.5
             },
             "pattern": {
              "fillmode": "overlay",
              "size": 10,
              "solidity": 0.2
             }
            },
            "type": "barpolar"
           }
          ],
          "carpet": [
           {
            "aaxis": {
             "endlinecolor": "#2a3f5f",
             "gridcolor": "white",
             "linecolor": "white",
             "minorgridcolor": "white",
             "startlinecolor": "#2a3f5f"
            },
            "baxis": {
             "endlinecolor": "#2a3f5f",
             "gridcolor": "white",
             "linecolor": "white",
             "minorgridcolor": "white",
             "startlinecolor": "#2a3f5f"
            },
            "type": "carpet"
           }
          ],
          "choropleth": [
           {
            "colorbar": {
             "outlinewidth": 0,
             "ticks": ""
            },
            "type": "choropleth"
           }
          ],
          "contour": [
           {
            "colorbar": {
             "outlinewidth": 0,
             "ticks": ""
            },
            "colorscale": [
             [
              0,
              "#0d0887"
             ],
             [
              0.1111111111111111,
              "#46039f"
             ],
             [
              0.2222222222222222,
              "#7201a8"
             ],
             [
              0.3333333333333333,
              "#9c179e"
             ],
             [
              0.4444444444444444,
              "#bd3786"
             ],
             [
              0.5555555555555556,
              "#d8576b"
             ],
             [
              0.6666666666666666,
              "#ed7953"
             ],
             [
              0.7777777777777778,
              "#fb9f3a"
             ],
             [
              0.8888888888888888,
              "#fdca26"
             ],
             [
              1,
              "#f0f921"
             ]
            ],
            "type": "contour"
           }
          ],
          "contourcarpet": [
           {
            "colorbar": {
             "outlinewidth": 0,
             "ticks": ""
            },
            "type": "contourcarpet"
           }
          ],
          "heatmap": [
           {
            "colorbar": {
             "outlinewidth": 0,
             "ticks": ""
            },
            "colorscale": [
             [
              0,
              "#0d0887"
             ],
             [
              0.1111111111111111,
              "#46039f"
             ],
             [
              0.2222222222222222,
              "#7201a8"
             ],
             [
              0.3333333333333333,
              "#9c179e"
             ],
             [
              0.4444444444444444,
              "#bd3786"
             ],
             [
              0.5555555555555556,
              "#d8576b"
             ],
             [
              0.6666666666666666,
              "#ed7953"
             ],
             [
              0.7777777777777778,
              "#fb9f3a"
             ],
             [
              0.8888888888888888,
              "#fdca26"
             ],
             [
              1,
              "#f0f921"
             ]
            ],
            "type": "heatmap"
           }
          ],
          "heatmapgl": [
           {
            "colorbar": {
             "outlinewidth": 0,
             "ticks": ""
            },
            "colorscale": [
             [
              0,
              "#0d0887"
             ],
             [
              0.1111111111111111,
              "#46039f"
             ],
             [
              0.2222222222222222,
              "#7201a8"
             ],
             [
              0.3333333333333333,
              "#9c179e"
             ],
             [
              0.4444444444444444,
              "#bd3786"
             ],
             [
              0.5555555555555556,
              "#d8576b"
             ],
             [
              0.6666666666666666,
              "#ed7953"
             ],
             [
              0.7777777777777778,
              "#fb9f3a"
             ],
             [
              0.8888888888888888,
              "#fdca26"
             ],
             [
              1,
              "#f0f921"
             ]
            ],
            "type": "heatmapgl"
           }
          ],
          "histogram": [
           {
            "marker": {
             "pattern": {
              "fillmode": "overlay",
              "size": 10,
              "solidity": 0.2
             }
            },
            "type": "histogram"
           }
          ],
          "histogram2d": [
           {
            "colorbar": {
             "outlinewidth": 0,
             "ticks": ""
            },
            "colorscale": [
             [
              0,
              "#0d0887"
             ],
             [
              0.1111111111111111,
              "#46039f"
             ],
             [
              0.2222222222222222,
              "#7201a8"
             ],
             [
              0.3333333333333333,
              "#9c179e"
             ],
             [
              0.4444444444444444,
              "#bd3786"
             ],
             [
              0.5555555555555556,
              "#d8576b"
             ],
             [
              0.6666666666666666,
              "#ed7953"
             ],
             [
              0.7777777777777778,
              "#fb9f3a"
             ],
             [
              0.8888888888888888,
              "#fdca26"
             ],
             [
              1,
              "#f0f921"
             ]
            ],
            "type": "histogram2d"
           }
          ],
          "histogram2dcontour": [
           {
            "colorbar": {
             "outlinewidth": 0,
             "ticks": ""
            },
            "colorscale": [
             [
              0,
              "#0d0887"
             ],
             [
              0.1111111111111111,
              "#46039f"
             ],
             [
              0.2222222222222222,
              "#7201a8"
             ],
             [
              0.3333333333333333,
              "#9c179e"
             ],
             [
              0.4444444444444444,
              "#bd3786"
             ],
             [
              0.5555555555555556,
              "#d8576b"
             ],
             [
              0.6666666666666666,
              "#ed7953"
             ],
             [
              0.7777777777777778,
              "#fb9f3a"
             ],
             [
              0.8888888888888888,
              "#fdca26"
             ],
             [
              1,
              "#f0f921"
             ]
            ],
            "type": "histogram2dcontour"
           }
          ],
          "mesh3d": [
           {
            "colorbar": {
             "outlinewidth": 0,
             "ticks": ""
            },
            "type": "mesh3d"
           }
          ],
          "parcoords": [
           {
            "line": {
             "colorbar": {
              "outlinewidth": 0,
              "ticks": ""
             }
            },
            "type": "parcoords"
           }
          ],
          "pie": [
           {
            "automargin": true,
            "type": "pie"
           }
          ],
          "scatter": [
           {
            "fillpattern": {
             "fillmode": "overlay",
             "size": 10,
             "solidity": 0.2
            },
            "type": "scatter"
           }
          ],
          "scatter3d": [
           {
            "line": {
             "colorbar": {
              "outlinewidth": 0,
              "ticks": ""
             }
            },
            "marker": {
             "colorbar": {
              "outlinewidth": 0,
              "ticks": ""
             }
            },
            "type": "scatter3d"
           }
          ],
          "scattercarpet": [
           {
            "marker": {
             "colorbar": {
              "outlinewidth": 0,
              "ticks": ""
             }
            },
            "type": "scattercarpet"
           }
          ],
          "scattergeo": [
           {
            "marker": {
             "colorbar": {
              "outlinewidth": 0,
              "ticks": ""
             }
            },
            "type": "scattergeo"
           }
          ],
          "scattergl": [
           {
            "marker": {
             "colorbar": {
              "outlinewidth": 0,
              "ticks": ""
             }
            },
            "type": "scattergl"
           }
          ],
          "scattermapbox": [
           {
            "marker": {
             "colorbar": {
              "outlinewidth": 0,
              "ticks": ""
             }
            },
            "type": "scattermapbox"
           }
          ],
          "scatterpolar": [
           {
            "marker": {
             "colorbar": {
              "outlinewidth": 0,
              "ticks": ""
             }
            },
            "type": "scatterpolar"
           }
          ],
          "scatterpolargl": [
           {
            "marker": {
             "colorbar": {
              "outlinewidth": 0,
              "ticks": ""
             }
            },
            "type": "scatterpolargl"
           }
          ],
          "scatterternary": [
           {
            "marker": {
             "colorbar": {
              "outlinewidth": 0,
              "ticks": ""
             }
            },
            "type": "scatterternary"
           }
          ],
          "surface": [
           {
            "colorbar": {
             "outlinewidth": 0,
             "ticks": ""
            },
            "colorscale": [
             [
              0,
              "#0d0887"
             ],
             [
              0.1111111111111111,
              "#46039f"
             ],
             [
              0.2222222222222222,
              "#7201a8"
             ],
             [
              0.3333333333333333,
              "#9c179e"
             ],
             [
              0.4444444444444444,
              "#bd3786"
             ],
             [
              0.5555555555555556,
              "#d8576b"
             ],
             [
              0.6666666666666666,
              "#ed7953"
             ],
             [
              0.7777777777777778,
              "#fb9f3a"
             ],
             [
              0.8888888888888888,
              "#fdca26"
             ],
             [
              1,
              "#f0f921"
             ]
            ],
            "type": "surface"
           }
          ],
          "table": [
           {
            "cells": {
             "fill": {
              "color": "#EBF0F8"
             },
             "line": {
              "color": "white"
             }
            },
            "header": {
             "fill": {
              "color": "#C8D4E3"
             },
             "line": {
              "color": "white"
             }
            },
            "type": "table"
           }
          ]
         },
         "layout": {
          "annotationdefaults": {
           "arrowcolor": "#2a3f5f",
           "arrowhead": 0,
           "arrowwidth": 1
          },
          "autotypenumbers": "strict",
          "coloraxis": {
           "colorbar": {
            "outlinewidth": 0,
            "ticks": ""
           }
          },
          "colorscale": {
           "diverging": [
            [
             0,
             "#8e0152"
            ],
            [
             0.1,
             "#c51b7d"
            ],
            [
             0.2,
             "#de77ae"
            ],
            [
             0.3,
             "#f1b6da"
            ],
            [
             0.4,
             "#fde0ef"
            ],
            [
             0.5,
             "#f7f7f7"
            ],
            [
             0.6,
             "#e6f5d0"
            ],
            [
             0.7,
             "#b8e186"
            ],
            [
             0.8,
             "#7fbc41"
            ],
            [
             0.9,
             "#4d9221"
            ],
            [
             1,
             "#276419"
            ]
           ],
           "sequential": [
            [
             0,
             "#0d0887"
            ],
            [
             0.1111111111111111,
             "#46039f"
            ],
            [
             0.2222222222222222,
             "#7201a8"
            ],
            [
             0.3333333333333333,
             "#9c179e"
            ],
            [
             0.4444444444444444,
             "#bd3786"
            ],
            [
             0.5555555555555556,
             "#d8576b"
            ],
            [
             0.6666666666666666,
             "#ed7953"
            ],
            [
             0.7777777777777778,
             "#fb9f3a"
            ],
            [
             0.8888888888888888,
             "#fdca26"
            ],
            [
             1,
             "#f0f921"
            ]
           ],
           "sequentialminus": [
            [
             0,
             "#0d0887"
            ],
            [
             0.1111111111111111,
             "#46039f"
            ],
            [
             0.2222222222222222,
             "#7201a8"
            ],
            [
             0.3333333333333333,
             "#9c179e"
            ],
            [
             0.4444444444444444,
             "#bd3786"
            ],
            [
             0.5555555555555556,
             "#d8576b"
            ],
            [
             0.6666666666666666,
             "#ed7953"
            ],
            [
             0.7777777777777778,
             "#fb9f3a"
            ],
            [
             0.8888888888888888,
             "#fdca26"
            ],
            [
             1,
             "#f0f921"
            ]
           ]
          },
          "colorway": [
           "#636efa",
           "#EF553B",
           "#00cc96",
           "#ab63fa",
           "#FFA15A",
           "#19d3f3",
           "#FF6692",
           "#B6E880",
           "#FF97FF",
           "#FECB52"
          ],
          "font": {
           "color": "#2a3f5f"
          },
          "geo": {
           "bgcolor": "white",
           "lakecolor": "white",
           "landcolor": "#E5ECF6",
           "showlakes": true,
           "showland": true,
           "subunitcolor": "white"
          },
          "hoverlabel": {
           "align": "left"
          },
          "hovermode": "closest",
          "mapbox": {
           "style": "light"
          },
          "paper_bgcolor": "white",
          "plot_bgcolor": "#E5ECF6",
          "polar": {
           "angularaxis": {
            "gridcolor": "white",
            "linecolor": "white",
            "ticks": ""
           },
           "bgcolor": "#E5ECF6",
           "radialaxis": {
            "gridcolor": "white",
            "linecolor": "white",
            "ticks": ""
           }
          },
          "scene": {
           "xaxis": {
            "backgroundcolor": "#E5ECF6",
            "gridcolor": "white",
            "gridwidth": 2,
            "linecolor": "white",
            "showbackground": true,
            "ticks": "",
            "zerolinecolor": "white"
           },
           "yaxis": {
            "backgroundcolor": "#E5ECF6",
            "gridcolor": "white",
            "gridwidth": 2,
            "linecolor": "white",
            "showbackground": true,
            "ticks": "",
            "zerolinecolor": "white"
           },
           "zaxis": {
            "backgroundcolor": "#E5ECF6",
            "gridcolor": "white",
            "gridwidth": 2,
            "linecolor": "white",
            "showbackground": true,
            "ticks": "",
            "zerolinecolor": "white"
           }
          },
          "shapedefaults": {
           "line": {
            "color": "#2a3f5f"
           }
          },
          "ternary": {
           "aaxis": {
            "gridcolor": "white",
            "linecolor": "white",
            "ticks": ""
           },
           "baxis": {
            "gridcolor": "white",
            "linecolor": "white",
            "ticks": ""
           },
           "bgcolor": "#E5ECF6",
           "caxis": {
            "gridcolor": "white",
            "linecolor": "white",
            "ticks": ""
           }
          },
          "title": {
           "x": 0.05
          },
          "xaxis": {
           "automargin": true,
           "gridcolor": "white",
           "linecolor": "white",
           "ticks": "",
           "title": {
            "standoff": 15
           },
           "zerolinecolor": "white",
           "zerolinewidth": 2
          },
          "yaxis": {
           "automargin": true,
           "gridcolor": "white",
           "linecolor": "white",
           "ticks": "",
           "title": {
            "standoff": 15
           },
           "zerolinecolor": "white",
           "zerolinewidth": 2
          }
         }
        },
        "title": {
         "text": "Count per class for Review Dataset"
        },
        "width": 500,
        "xaxis": {
         "anchor": "y",
         "domain": [
          0,
          1
         ],
         "title": {
          "text": "Sentiment"
         }
        },
        "yaxis": {
         "anchor": "x",
         "domain": [
          0,
          1
         ],
         "title": {
          "text": "Count of values"
         }
        }
       }
      }
     },
     "metadata": {},
     "output_type": "display_data"
    },
    {
     "data": {
      "application/vnd.plotly.v1+json": {
       "config": {
        "plotlyServerURL": "https://plot.ly"
       },
       "data": [
        {
         "domain": {
          "x": [
           0,
           1
          ],
          "y": [
           0,
           1
          ]
         },
         "hovertemplate": "label=%{label}<br>value=%{value}<extra></extra>",
         "labels": [
          "negative",
          "neutral",
          "positive"
         ],
         "legendgroup": "",
         "name": "",
         "showlegend": true,
         "type": "pie",
         "values": [
          171,
          63,
          951
         ]
        }
       ],
       "layout": {
        "height": 500,
        "legend": {
         "tracegroupgap": 0
        },
        "margin": {
         "t": 60
        },
        "template": {
         "data": {
          "bar": [
           {
            "error_x": {
             "color": "#2a3f5f"
            },
            "error_y": {
             "color": "#2a3f5f"
            },
            "marker": {
             "line": {
              "color": "#E5ECF6",
              "width": 0.5
             },
             "pattern": {
              "fillmode": "overlay",
              "size": 10,
              "solidity": 0.2
             }
            },
            "type": "bar"
           }
          ],
          "barpolar": [
           {
            "marker": {
             "line": {
              "color": "#E5ECF6",
              "width": 0.5
             },
             "pattern": {
              "fillmode": "overlay",
              "size": 10,
              "solidity": 0.2
             }
            },
            "type": "barpolar"
           }
          ],
          "carpet": [
           {
            "aaxis": {
             "endlinecolor": "#2a3f5f",
             "gridcolor": "white",
             "linecolor": "white",
             "minorgridcolor": "white",
             "startlinecolor": "#2a3f5f"
            },
            "baxis": {
             "endlinecolor": "#2a3f5f",
             "gridcolor": "white",
             "linecolor": "white",
             "minorgridcolor": "white",
             "startlinecolor": "#2a3f5f"
            },
            "type": "carpet"
           }
          ],
          "choropleth": [
           {
            "colorbar": {
             "outlinewidth": 0,
             "ticks": ""
            },
            "type": "choropleth"
           }
          ],
          "contour": [
           {
            "colorbar": {
             "outlinewidth": 0,
             "ticks": ""
            },
            "colorscale": [
             [
              0,
              "#0d0887"
             ],
             [
              0.1111111111111111,
              "#46039f"
             ],
             [
              0.2222222222222222,
              "#7201a8"
             ],
             [
              0.3333333333333333,
              "#9c179e"
             ],
             [
              0.4444444444444444,
              "#bd3786"
             ],
             [
              0.5555555555555556,
              "#d8576b"
             ],
             [
              0.6666666666666666,
              "#ed7953"
             ],
             [
              0.7777777777777778,
              "#fb9f3a"
             ],
             [
              0.8888888888888888,
              "#fdca26"
             ],
             [
              1,
              "#f0f921"
             ]
            ],
            "type": "contour"
           }
          ],
          "contourcarpet": [
           {
            "colorbar": {
             "outlinewidth": 0,
             "ticks": ""
            },
            "type": "contourcarpet"
           }
          ],
          "heatmap": [
           {
            "colorbar": {
             "outlinewidth": 0,
             "ticks": ""
            },
            "colorscale": [
             [
              0,
              "#0d0887"
             ],
             [
              0.1111111111111111,
              "#46039f"
             ],
             [
              0.2222222222222222,
              "#7201a8"
             ],
             [
              0.3333333333333333,
              "#9c179e"
             ],
             [
              0.4444444444444444,
              "#bd3786"
             ],
             [
              0.5555555555555556,
              "#d8576b"
             ],
             [
              0.6666666666666666,
              "#ed7953"
             ],
             [
              0.7777777777777778,
              "#fb9f3a"
             ],
             [
              0.8888888888888888,
              "#fdca26"
             ],
             [
              1,
              "#f0f921"
             ]
            ],
            "type": "heatmap"
           }
          ],
          "heatmapgl": [
           {
            "colorbar": {
             "outlinewidth": 0,
             "ticks": ""
            },
            "colorscale": [
             [
              0,
              "#0d0887"
             ],
             [
              0.1111111111111111,
              "#46039f"
             ],
             [
              0.2222222222222222,
              "#7201a8"
             ],
             [
              0.3333333333333333,
              "#9c179e"
             ],
             [
              0.4444444444444444,
              "#bd3786"
             ],
             [
              0.5555555555555556,
              "#d8576b"
             ],
             [
              0.6666666666666666,
              "#ed7953"
             ],
             [
              0.7777777777777778,
              "#fb9f3a"
             ],
             [
              0.8888888888888888,
              "#fdca26"
             ],
             [
              1,
              "#f0f921"
             ]
            ],
            "type": "heatmapgl"
           }
          ],
          "histogram": [
           {
            "marker": {
             "pattern": {
              "fillmode": "overlay",
              "size": 10,
              "solidity": 0.2
             }
            },
            "type": "histogram"
           }
          ],
          "histogram2d": [
           {
            "colorbar": {
             "outlinewidth": 0,
             "ticks": ""
            },
            "colorscale": [
             [
              0,
              "#0d0887"
             ],
             [
              0.1111111111111111,
              "#46039f"
             ],
             [
              0.2222222222222222,
              "#7201a8"
             ],
             [
              0.3333333333333333,
              "#9c179e"
             ],
             [
              0.4444444444444444,
              "#bd3786"
             ],
             [
              0.5555555555555556,
              "#d8576b"
             ],
             [
              0.6666666666666666,
              "#ed7953"
             ],
             [
              0.7777777777777778,
              "#fb9f3a"
             ],
             [
              0.8888888888888888,
              "#fdca26"
             ],
             [
              1,
              "#f0f921"
             ]
            ],
            "type": "histogram2d"
           }
          ],
          "histogram2dcontour": [
           {
            "colorbar": {
             "outlinewidth": 0,
             "ticks": ""
            },
            "colorscale": [
             [
              0,
              "#0d0887"
             ],
             [
              0.1111111111111111,
              "#46039f"
             ],
             [
              0.2222222222222222,
              "#7201a8"
             ],
             [
              0.3333333333333333,
              "#9c179e"
             ],
             [
              0.4444444444444444,
              "#bd3786"
             ],
             [
              0.5555555555555556,
              "#d8576b"
             ],
             [
              0.6666666666666666,
              "#ed7953"
             ],
             [
              0.7777777777777778,
              "#fb9f3a"
             ],
             [
              0.8888888888888888,
              "#fdca26"
             ],
             [
              1,
              "#f0f921"
             ]
            ],
            "type": "histogram2dcontour"
           }
          ],
          "mesh3d": [
           {
            "colorbar": {
             "outlinewidth": 0,
             "ticks": ""
            },
            "type": "mesh3d"
           }
          ],
          "parcoords": [
           {
            "line": {
             "colorbar": {
              "outlinewidth": 0,
              "ticks": ""
             }
            },
            "type": "parcoords"
           }
          ],
          "pie": [
           {
            "automargin": true,
            "type": "pie"
           }
          ],
          "scatter": [
           {
            "fillpattern": {
             "fillmode": "overlay",
             "size": 10,
             "solidity": 0.2
            },
            "type": "scatter"
           }
          ],
          "scatter3d": [
           {
            "line": {
             "colorbar": {
              "outlinewidth": 0,
              "ticks": ""
             }
            },
            "marker": {
             "colorbar": {
              "outlinewidth": 0,
              "ticks": ""
             }
            },
            "type": "scatter3d"
           }
          ],
          "scattercarpet": [
           {
            "marker": {
             "colorbar": {
              "outlinewidth": 0,
              "ticks": ""
             }
            },
            "type": "scattercarpet"
           }
          ],
          "scattergeo": [
           {
            "marker": {
             "colorbar": {
              "outlinewidth": 0,
              "ticks": ""
             }
            },
            "type": "scattergeo"
           }
          ],
          "scattergl": [
           {
            "marker": {
             "colorbar": {
              "outlinewidth": 0,
              "ticks": ""
             }
            },
            "type": "scattergl"
           }
          ],
          "scattermapbox": [
           {
            "marker": {
             "colorbar": {
              "outlinewidth": 0,
              "ticks": ""
             }
            },
            "type": "scattermapbox"
           }
          ],
          "scatterpolar": [
           {
            "marker": {
             "colorbar": {
              "outlinewidth": 0,
              "ticks": ""
             }
            },
            "type": "scatterpolar"
           }
          ],
          "scatterpolargl": [
           {
            "marker": {
             "colorbar": {
              "outlinewidth": 0,
              "ticks": ""
             }
            },
            "type": "scatterpolargl"
           }
          ],
          "scatterternary": [
           {
            "marker": {
             "colorbar": {
              "outlinewidth": 0,
              "ticks": ""
             }
            },
            "type": "scatterternary"
           }
          ],
          "surface": [
           {
            "colorbar": {
             "outlinewidth": 0,
             "ticks": ""
            },
            "colorscale": [
             [
              0,
              "#0d0887"
             ],
             [
              0.1111111111111111,
              "#46039f"
             ],
             [
              0.2222222222222222,
              "#7201a8"
             ],
             [
              0.3333333333333333,
              "#9c179e"
             ],
             [
              0.4444444444444444,
              "#bd3786"
             ],
             [
              0.5555555555555556,
              "#d8576b"
             ],
             [
              0.6666666666666666,
              "#ed7953"
             ],
             [
              0.7777777777777778,
              "#fb9f3a"
             ],
             [
              0.8888888888888888,
              "#fdca26"
             ],
             [
              1,
              "#f0f921"
             ]
            ],
            "type": "surface"
           }
          ],
          "table": [
           {
            "cells": {
             "fill": {
              "color": "#EBF0F8"
             },
             "line": {
              "color": "white"
             }
            },
            "header": {
             "fill": {
              "color": "#C8D4E3"
             },
             "line": {
              "color": "white"
             }
            },
            "type": "table"
           }
          ]
         },
         "layout": {
          "annotationdefaults": {
           "arrowcolor": "#2a3f5f",
           "arrowhead": 0,
           "arrowwidth": 1
          },
          "autotypenumbers": "strict",
          "coloraxis": {
           "colorbar": {
            "outlinewidth": 0,
            "ticks": ""
           }
          },
          "colorscale": {
           "diverging": [
            [
             0,
             "#8e0152"
            ],
            [
             0.1,
             "#c51b7d"
            ],
            [
             0.2,
             "#de77ae"
            ],
            [
             0.3,
             "#f1b6da"
            ],
            [
             0.4,
             "#fde0ef"
            ],
            [
             0.5,
             "#f7f7f7"
            ],
            [
             0.6,
             "#e6f5d0"
            ],
            [
             0.7,
             "#b8e186"
            ],
            [
             0.8,
             "#7fbc41"
            ],
            [
             0.9,
             "#4d9221"
            ],
            [
             1,
             "#276419"
            ]
           ],
           "sequential": [
            [
             0,
             "#0d0887"
            ],
            [
             0.1111111111111111,
             "#46039f"
            ],
            [
             0.2222222222222222,
             "#7201a8"
            ],
            [
             0.3333333333333333,
             "#9c179e"
            ],
            [
             0.4444444444444444,
             "#bd3786"
            ],
            [
             0.5555555555555556,
             "#d8576b"
            ],
            [
             0.6666666666666666,
             "#ed7953"
            ],
            [
             0.7777777777777778,
             "#fb9f3a"
            ],
            [
             0.8888888888888888,
             "#fdca26"
            ],
            [
             1,
             "#f0f921"
            ]
           ],
           "sequentialminus": [
            [
             0,
             "#0d0887"
            ],
            [
             0.1111111111111111,
             "#46039f"
            ],
            [
             0.2222222222222222,
             "#7201a8"
            ],
            [
             0.3333333333333333,
             "#9c179e"
            ],
            [
             0.4444444444444444,
             "#bd3786"
            ],
            [
             0.5555555555555556,
             "#d8576b"
            ],
            [
             0.6666666666666666,
             "#ed7953"
            ],
            [
             0.7777777777777778,
             "#fb9f3a"
            ],
            [
             0.8888888888888888,
             "#fdca26"
            ],
            [
             1,
             "#f0f921"
            ]
           ]
          },
          "colorway": [
           "#636efa",
           "#EF553B",
           "#00cc96",
           "#ab63fa",
           "#FFA15A",
           "#19d3f3",
           "#FF6692",
           "#B6E880",
           "#FF97FF",
           "#FECB52"
          ],
          "font": {
           "color": "#2a3f5f"
          },
          "geo": {
           "bgcolor": "white",
           "lakecolor": "white",
           "landcolor": "#E5ECF6",
           "showlakes": true,
           "showland": true,
           "subunitcolor": "white"
          },
          "hoverlabel": {
           "align": "left"
          },
          "hovermode": "closest",
          "mapbox": {
           "style": "light"
          },
          "paper_bgcolor": "white",
          "plot_bgcolor": "#E5ECF6",
          "polar": {
           "angularaxis": {
            "gridcolor": "white",
            "linecolor": "white",
            "ticks": ""
           },
           "bgcolor": "#E5ECF6",
           "radialaxis": {
            "gridcolor": "white",
            "linecolor": "white",
            "ticks": ""
           }
          },
          "scene": {
           "xaxis": {
            "backgroundcolor": "#E5ECF6",
            "gridcolor": "white",
            "gridwidth": 2,
            "linecolor": "white",
            "showbackground": true,
            "ticks": "",
            "zerolinecolor": "white"
           },
           "yaxis": {
            "backgroundcolor": "#E5ECF6",
            "gridcolor": "white",
            "gridwidth": 2,
            "linecolor": "white",
            "showbackground": true,
            "ticks": "",
            "zerolinecolor": "white"
           },
           "zaxis": {
            "backgroundcolor": "#E5ECF6",
            "gridcolor": "white",
            "gridwidth": 2,
            "linecolor": "white",
            "showbackground": true,
            "ticks": "",
            "zerolinecolor": "white"
           }
          },
          "shapedefaults": {
           "line": {
            "color": "#2a3f5f"
           }
          },
          "ternary": {
           "aaxis": {
            "gridcolor": "white",
            "linecolor": "white",
            "ticks": ""
           },
           "baxis": {
            "gridcolor": "white",
            "linecolor": "white",
            "ticks": ""
           },
           "bgcolor": "#E5ECF6",
           "caxis": {
            "gridcolor": "white",
            "linecolor": "white",
            "ticks": ""
           }
          },
          "title": {
           "x": 0.05
          },
          "xaxis": {
           "automargin": true,
           "gridcolor": "white",
           "linecolor": "white",
           "ticks": "",
           "title": {
            "standoff": 15
           },
           "zerolinecolor": "white",
           "zerolinewidth": 2
          },
          "yaxis": {
           "automargin": true,
           "gridcolor": "white",
           "linecolor": "white",
           "ticks": "",
           "title": {
            "standoff": 15
           },
           "zerolinecolor": "white",
           "zerolinewidth": 2
          }
         }
        },
        "title": {
         "text": "Count per class for Review Dataset"
        },
        "width": 500,
        "xaxis": {
         "title": {
          "text": "Sentiment"
         }
        },
        "yaxis": {
         "title": {
          "text": "Count of values"
         }
        }
       }
      }
     },
     "metadata": {},
     "output_type": "display_data"
    }
   ],
   "source": [
    "plot_classes(squidgame_df, title='Review', col='Review')\n",
    "plot_classes(squidgame_df, type='pie', title='Review', col='Review')"
   ]
  },
  {
   "cell_type": "markdown",
   "id": "3407ecfc",
   "metadata": {},
   "source": [
    "Even worse class distribution..."
   ]
  },
  {
   "cell_type": "code",
<<<<<<< Updated upstream
   "execution_count": null,
=======
   "execution_count": 20,
>>>>>>> Stashed changes
   "id": "a1ba3f5d",
   "metadata": {},
   "outputs": [
    {
     "data": {
<<<<<<< Updated upstream
      "image/png": "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",
=======
      "image/png": "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",
>>>>>>> Stashed changes
      "text/plain": [
       "<Figure size 640x480 with 1 Axes>"
      ]
     },
     "metadata": {},
     "output_type": "display_data"
    }
   ],
   "source": [
    "plot_common_words_count(squidgame_df, col='Review', dataset='B')"
   ]
  },
  {
   "cell_type": "code",
<<<<<<< Updated upstream
   "execution_count": null,
=======
   "execution_count": 21,
>>>>>>> Stashed changes
   "id": "7b5e1045",
   "metadata": {},
   "outputs": [],
   "source": [
    "# split into train test sets\n",
    "X = squidgame_df['Review']\n",
    "y = squidgame_df['Class']\n",
    "X_train, X_test, y_train, y_test = train_test_split(X, y, test_size=0.2, random_state=42)\n",
    "\n",
    "# filepath1 = Path('data/train/squidgame_Xtrain.csv')   \n",
    "# X_train.to_csv(filepath1)\n",
    "# filepath2 = Path('data/test/squidgame_Xtest.csv')   \n",
    "# X_test.to_csv(filepath2)\n",
    "# filepath3 = Path('data/train/squidgame_ytrain.csv')   \n",
    "# y_train.to_csv(filepath3)\n",
    "# filepath4 = Path('data/test/squidgame_ytest.csv')   \n",
    "# y_test.to_csv(filepath4)"
   ]
  },
  {
   "cell_type": "code",
<<<<<<< Updated upstream
   "execution_count": null,
=======
   "execution_count": 22,
>>>>>>> Stashed changes
   "id": "86c15967",
   "metadata": {},
   "outputs": [],
   "source": [
    "# mapping the classes to a numeric representation\n",
    "sg_train_labels = y_train.map({'neutral':1, 'positive': 2, 'negative': 0}).values\n",
    "sg_test_labels = y_test.map({'neutral':1, 'positive': 2, 'negative': 0}).values"
   ]
  },
  {
   "cell_type": "code",
<<<<<<< Updated upstream
   "execution_count": null,
=======
   "execution_count": 23,
>>>>>>> Stashed changes
   "id": "6904dfcb",
   "metadata": {},
   "outputs": [
    {
     "name": "stdout",
     "output_type": "stream",
     "text": [
<<<<<<< Updated upstream
      "Train shape:  3100 3100 3100 3100\n",
      "Val shape:  776 776 776 776\n",
      "Test shape:  970 970 970 970\n"
=======
      "Train shape:  758 758 758 758\n",
      "Val shape:  190 190 190 190\n",
      "Test shape:  237 237 237 237\n"
>>>>>>> Stashed changes
     ]
    }
   ],
   "source": [
    "sg_train_input_ids, sg_train_tokens, sg_train_attention_masks = create_attention_masks(X_train, 150)\n",
    "sg_test_input_ids, sg_test_tokens, sg_test_attention_masks = create_attention_masks(X_test, 150)\n",
    "sg_ttrain_input_ids, sg_val_input_ids, sg_ttrain_tokens, sg_val_tokens, sg_ttrain_attention_masks, sg_val_attention_masks, sg_ttrain_labels, sg_val_labels  = train_test_split(sg_train_input_ids, sg_train_tokens, sg_train_attention_masks, sg_train_labels, test_size=0.2)\n",
    "print('Train shape: ', len(sg_ttrain_input_ids), len(sg_ttrain_tokens), len(sg_ttrain_attention_masks), len(sg_ttrain_labels))\n",
    "print('Val shape: ', len(sg_val_input_ids), len(sg_val_tokens), len(sg_val_attention_masks), len(sg_val_labels))\n",
    "print('Test shape: ', len(sg_test_input_ids), len(sg_test_tokens), len(sg_test_attention_masks), len(sg_test_labels))"
   ]
  },
  {
   "cell_type": "code",
<<<<<<< Updated upstream
   "execution_count": null,
=======
   "execution_count": 24,
>>>>>>> Stashed changes
   "id": "dd3bf4bc",
   "metadata": {},
   "outputs": [
    {
     "data": {
<<<<<<< Updated upstream
      "image/png": "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",
=======
      "image/png": "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",
>>>>>>> Stashed changes
      "text/plain": [
       "<Figure size 1000x800 with 2 Axes>"
      ]
     },
     "metadata": {},
     "output_type": "display_data"
    }
   ],
   "source": [
    "sentiments = [\"negative\", \"neutral\", \"positive\"]\n",
    "\n",
    "# comparing a random sample from each\n",
    "sg_neg_samples = np.array(sg_ttrain_input_ids)[sg_ttrain_labels==0]\n",
    "sg_neu_samples = np.array(sg_ttrain_input_ids)[sg_ttrain_labels==1]\n",
    "sg_pos_samples = np.array(sg_ttrain_input_ids)[sg_ttrain_labels==2]\n",
    "plot_similarity([\n",
    "  neg_samples[random.randint(0, len(sg_neg_samples)-1)], \n",
    "  neu_samples[random.randint(0, len(sg_neu_samples)-1)], \n",
    "  pos_samples[random.randint(0, len(sg_pos_samples)-1)]\n",
    "  ], sentiments)"
   ]
  },
  {
   "cell_type": "markdown",
   "id": "4d016756",
   "metadata": {},
   "source": [
    "# Comparing Both Datasets"
   ]
  },
  {
   "cell_type": "code",
<<<<<<< Updated upstream
   "execution_count": null,
=======
   "execution_count": 25,
>>>>>>> Stashed changes
   "id": "3bc3e46e",
   "metadata": {},
   "outputs": [
    {
<<<<<<< Updated upstream
     "name": "stderr",
     "output_type": "stream",
     "text": [
      "c:\\Users\\alexy\\environments\\dsai-env\\lib\\site-packages\\sklearn\\metrics\\pairwise.py:45: VisibleDeprecationWarning:\n",
      "\n",
      "Creating an ndarray from ragged nested sequences (which is a list-or-tuple of lists-or-tuples-or ndarrays with different lengths or shapes) is deprecated. If you meant to do this, you must specify 'dtype=object' when creating the ndarray.\n",
      "\n"
     ]
    },
    {
     "ename": "ValueError",
     "evalue": "setting an array element with a sequence.",
     "output_type": "error",
     "traceback": [
      "\u001b[1;31m---------------------------------------------------------------------------\u001b[0m",
      "\u001b[1;31mTypeError\u001b[0m                                 Traceback (most recent call last)",
      "\u001b[1;31mTypeError\u001b[0m: only size-1 arrays can be converted to Python scalars",
      "\nThe above exception was the direct cause of the following exception:\n",
      "\u001b[1;31mValueError\u001b[0m                                Traceback (most recent call last)",
      "Cell \u001b[1;32mIn [55], line 4\u001b[0m\n\u001b[0;32m      2\u001b[0m \u001b[39mfor\u001b[39;00m x \u001b[39min\u001b[39;00m sg_neg_samples:\n\u001b[0;32m      3\u001b[0m     \u001b[39mfor\u001b[39;00m y \u001b[39min\u001b[39;00m neg_samples:\n\u001b[1;32m----> 4\u001b[0m         neg_cosine_sim\u001b[39m.\u001b[39mappend(cosine_similarity([x,y]))\n\u001b[0;32m      5\u001b[0m \u001b[39mprint\u001b[39m(\u001b[39m\"\u001b[39m\u001b[39mCosine Similarity for Negative Sentiments in Datasets A and B: \u001b[39m\u001b[39m\"\u001b[39m, np\u001b[39m.\u001b[39mmean(neg_cosine_sim))\n",
      "File \u001b[1;32mc:\\Users\\alexy\\environments\\dsai-env\\lib\\site-packages\\sklearn\\metrics\\pairwise.py:1377\u001b[0m, in \u001b[0;36mcosine_similarity\u001b[1;34m(X, Y, dense_output)\u001b[0m\n\u001b[0;32m   1342\u001b[0m \u001b[39m\"\"\"Compute cosine similarity between samples in X and Y.\u001b[39;00m\n\u001b[0;32m   1343\u001b[0m \n\u001b[0;32m   1344\u001b[0m \u001b[39mCosine similarity, or the cosine kernel, computes similarity as the\u001b[39;00m\n\u001b[1;32m   (...)\u001b[0m\n\u001b[0;32m   1373\u001b[0m \u001b[39m    Returns the cosine similarity between samples in X and Y.\u001b[39;00m\n\u001b[0;32m   1374\u001b[0m \u001b[39m\"\"\"\u001b[39;00m\n\u001b[0;32m   1375\u001b[0m \u001b[39m# to avoid recursive import\u001b[39;00m\n\u001b[1;32m-> 1377\u001b[0m X, Y \u001b[39m=\u001b[39m check_pairwise_arrays(X, Y)\n\u001b[0;32m   1379\u001b[0m X_normalized \u001b[39m=\u001b[39m normalize(X, copy\u001b[39m=\u001b[39m\u001b[39mTrue\u001b[39;00m)\n\u001b[0;32m   1380\u001b[0m \u001b[39mif\u001b[39;00m X \u001b[39mis\u001b[39;00m Y:\n",
      "File \u001b[1;32mc:\\Users\\alexy\\environments\\dsai-env\\lib\\site-packages\\sklearn\\metrics\\pairwise.py:146\u001b[0m, in \u001b[0;36mcheck_pairwise_arrays\u001b[1;34m(X, Y, precomputed, dtype, accept_sparse, force_all_finite, copy)\u001b[0m\n\u001b[0;32m    143\u001b[0m     dtype \u001b[39m=\u001b[39m dtype_float\n\u001b[0;32m    145\u001b[0m \u001b[39mif\u001b[39;00m Y \u001b[39mis\u001b[39;00m X \u001b[39mor\u001b[39;00m Y \u001b[39mis\u001b[39;00m \u001b[39mNone\u001b[39;00m:\n\u001b[1;32m--> 146\u001b[0m     X \u001b[39m=\u001b[39m Y \u001b[39m=\u001b[39m check_array(\n\u001b[0;32m    147\u001b[0m         X,\n\u001b[0;32m    148\u001b[0m         accept_sparse\u001b[39m=\u001b[39;49maccept_sparse,\n\u001b[0;32m    149\u001b[0m         dtype\u001b[39m=\u001b[39;49mdtype,\n\u001b[0;32m    150\u001b[0m         copy\u001b[39m=\u001b[39;49mcopy,\n\u001b[0;32m    151\u001b[0m         force_all_finite\u001b[39m=\u001b[39;49mforce_all_finite,\n\u001b[0;32m    152\u001b[0m         estimator\u001b[39m=\u001b[39;49mestimator,\n\u001b[0;32m    153\u001b[0m     )\n\u001b[0;32m    154\u001b[0m \u001b[39melse\u001b[39;00m:\n\u001b[0;32m    155\u001b[0m     X \u001b[39m=\u001b[39m check_array(\n\u001b[0;32m    156\u001b[0m         X,\n\u001b[0;32m    157\u001b[0m         accept_sparse\u001b[39m=\u001b[39maccept_sparse,\n\u001b[1;32m   (...)\u001b[0m\n\u001b[0;32m    161\u001b[0m         estimator\u001b[39m=\u001b[39mestimator,\n\u001b[0;32m    162\u001b[0m     )\n",
      "File \u001b[1;32mc:\\Users\\alexy\\environments\\dsai-env\\lib\\site-packages\\sklearn\\utils\\validation.py:856\u001b[0m, in \u001b[0;36mcheck_array\u001b[1;34m(array, accept_sparse, accept_large_sparse, dtype, order, copy, force_all_finite, ensure_2d, allow_nd, ensure_min_samples, ensure_min_features, estimator, input_name)\u001b[0m\n\u001b[0;32m    854\u001b[0m         array \u001b[39m=\u001b[39m array\u001b[39m.\u001b[39mastype(dtype, casting\u001b[39m=\u001b[39m\u001b[39m\"\u001b[39m\u001b[39munsafe\u001b[39m\u001b[39m\"\u001b[39m, copy\u001b[39m=\u001b[39m\u001b[39mFalse\u001b[39;00m)\n\u001b[0;32m    855\u001b[0m     \u001b[39melse\u001b[39;00m:\n\u001b[1;32m--> 856\u001b[0m         array \u001b[39m=\u001b[39m np\u001b[39m.\u001b[39;49masarray(array, order\u001b[39m=\u001b[39;49morder, dtype\u001b[39m=\u001b[39;49mdtype)\n\u001b[0;32m    857\u001b[0m \u001b[39mexcept\u001b[39;00m ComplexWarning \u001b[39mas\u001b[39;00m complex_warning:\n\u001b[0;32m    858\u001b[0m     \u001b[39mraise\u001b[39;00m \u001b[39mValueError\u001b[39;00m(\n\u001b[0;32m    859\u001b[0m         \u001b[39m\"\u001b[39m\u001b[39mComplex data not supported\u001b[39m\u001b[39m\\n\u001b[39;00m\u001b[39m{}\u001b[39;00m\u001b[39m\\n\u001b[39;00m\u001b[39m\"\u001b[39m\u001b[39m.\u001b[39mformat(array)\n\u001b[0;32m    860\u001b[0m     ) \u001b[39mfrom\u001b[39;00m \u001b[39mcomplex_warning\u001b[39;00m\n",
      "\u001b[1;31mValueError\u001b[0m: setting an array element with a sequence."
=======
     "name": "stdout",
     "output_type": "stream",
     "text": [
      "Cosine Similarity for Negative Sentiments in Datasets A and B:  0.6660975207313745\n"
>>>>>>> Stashed changes
     ]
    }
   ],
   "source": [
    "neg_cosine_sim = []\n",
    "for x in sg_neg_samples:\n",
    "    for y in neg_samples:\n",
    "        neg_cosine_sim.append(cosine_similarity([x,y]))\n",
    "print(\"Cosine Similarity for Negative Sentiments in Datasets A and B: \", np.mean(neg_cosine_sim))"
   ]
  },
  {
   "cell_type": "code",
<<<<<<< Updated upstream
   "execution_count": null,
=======
   "execution_count": 26,
>>>>>>> Stashed changes
   "id": "c1fc905f",
   "metadata": {},
   "outputs": [
    {
<<<<<<< Updated upstream
     "name": "stderr",
     "output_type": "stream",
     "text": [
      "c:\\Users\\alexy\\environments\\dsai-env\\lib\\site-packages\\sklearn\\metrics\\pairwise.py:45: VisibleDeprecationWarning:\n",
      "\n",
      "Creating an ndarray from ragged nested sequences (which is a list-or-tuple of lists-or-tuples-or ndarrays with different lengths or shapes) is deprecated. If you meant to do this, you must specify 'dtype=object' when creating the ndarray.\n",
      "\n"
     ]
    },
    {
     "ename": "ValueError",
     "evalue": "setting an array element with a sequence.",
     "output_type": "error",
     "traceback": [
      "\u001b[1;31m---------------------------------------------------------------------------\u001b[0m",
      "\u001b[1;31mTypeError\u001b[0m                                 Traceback (most recent call last)",
      "\u001b[1;31mTypeError\u001b[0m: only size-1 arrays can be converted to Python scalars",
      "\nThe above exception was the direct cause of the following exception:\n",
      "\u001b[1;31mValueError\u001b[0m                                Traceback (most recent call last)",
      "Cell \u001b[1;32mIn [53], line 4\u001b[0m\n\u001b[0;32m      2\u001b[0m \u001b[39mfor\u001b[39;00m x \u001b[39min\u001b[39;00m sg_pos_samples:\n\u001b[0;32m      3\u001b[0m     \u001b[39mfor\u001b[39;00m y \u001b[39min\u001b[39;00m pos_samples:\n\u001b[1;32m----> 4\u001b[0m         pos_cosine_sim\u001b[39m.\u001b[39mappend(cosine_similarity([x,y]))\n\u001b[0;32m      5\u001b[0m \u001b[39mprint\u001b[39m(\u001b[39m\"\u001b[39m\u001b[39mCosine Similarity for Positive Sentiments in Datasets A and B: \u001b[39m\u001b[39m\"\u001b[39m, np\u001b[39m.\u001b[39mmean(pos_cosine_sim))\n",
      "File \u001b[1;32mc:\\Users\\alexy\\environments\\dsai-env\\lib\\site-packages\\sklearn\\metrics\\pairwise.py:1377\u001b[0m, in \u001b[0;36mcosine_similarity\u001b[1;34m(X, Y, dense_output)\u001b[0m\n\u001b[0;32m   1342\u001b[0m \u001b[39m\"\"\"Compute cosine similarity between samples in X and Y.\u001b[39;00m\n\u001b[0;32m   1343\u001b[0m \n\u001b[0;32m   1344\u001b[0m \u001b[39mCosine similarity, or the cosine kernel, computes similarity as the\u001b[39;00m\n\u001b[1;32m   (...)\u001b[0m\n\u001b[0;32m   1373\u001b[0m \u001b[39m    Returns the cosine similarity between samples in X and Y.\u001b[39;00m\n\u001b[0;32m   1374\u001b[0m \u001b[39m\"\"\"\u001b[39;00m\n\u001b[0;32m   1375\u001b[0m \u001b[39m# to avoid recursive import\u001b[39;00m\n\u001b[1;32m-> 1377\u001b[0m X, Y \u001b[39m=\u001b[39m check_pairwise_arrays(X, Y)\n\u001b[0;32m   1379\u001b[0m X_normalized \u001b[39m=\u001b[39m normalize(X, copy\u001b[39m=\u001b[39m\u001b[39mTrue\u001b[39;00m)\n\u001b[0;32m   1380\u001b[0m \u001b[39mif\u001b[39;00m X \u001b[39mis\u001b[39;00m Y:\n",
      "File \u001b[1;32mc:\\Users\\alexy\\environments\\dsai-env\\lib\\site-packages\\sklearn\\metrics\\pairwise.py:146\u001b[0m, in \u001b[0;36mcheck_pairwise_arrays\u001b[1;34m(X, Y, precomputed, dtype, accept_sparse, force_all_finite, copy)\u001b[0m\n\u001b[0;32m    143\u001b[0m     dtype \u001b[39m=\u001b[39m dtype_float\n\u001b[0;32m    145\u001b[0m \u001b[39mif\u001b[39;00m Y \u001b[39mis\u001b[39;00m X \u001b[39mor\u001b[39;00m Y \u001b[39mis\u001b[39;00m \u001b[39mNone\u001b[39;00m:\n\u001b[1;32m--> 146\u001b[0m     X \u001b[39m=\u001b[39m Y \u001b[39m=\u001b[39m check_array(\n\u001b[0;32m    147\u001b[0m         X,\n\u001b[0;32m    148\u001b[0m         accept_sparse\u001b[39m=\u001b[39;49maccept_sparse,\n\u001b[0;32m    149\u001b[0m         dtype\u001b[39m=\u001b[39;49mdtype,\n\u001b[0;32m    150\u001b[0m         copy\u001b[39m=\u001b[39;49mcopy,\n\u001b[0;32m    151\u001b[0m         force_all_finite\u001b[39m=\u001b[39;49mforce_all_finite,\n\u001b[0;32m    152\u001b[0m         estimator\u001b[39m=\u001b[39;49mestimator,\n\u001b[0;32m    153\u001b[0m     )\n\u001b[0;32m    154\u001b[0m \u001b[39melse\u001b[39;00m:\n\u001b[0;32m    155\u001b[0m     X \u001b[39m=\u001b[39m check_array(\n\u001b[0;32m    156\u001b[0m         X,\n\u001b[0;32m    157\u001b[0m         accept_sparse\u001b[39m=\u001b[39maccept_sparse,\n\u001b[1;32m   (...)\u001b[0m\n\u001b[0;32m    161\u001b[0m         estimator\u001b[39m=\u001b[39mestimator,\n\u001b[0;32m    162\u001b[0m     )\n",
      "File \u001b[1;32mc:\\Users\\alexy\\environments\\dsai-env\\lib\\site-packages\\sklearn\\utils\\validation.py:856\u001b[0m, in \u001b[0;36mcheck_array\u001b[1;34m(array, accept_sparse, accept_large_sparse, dtype, order, copy, force_all_finite, ensure_2d, allow_nd, ensure_min_samples, ensure_min_features, estimator, input_name)\u001b[0m\n\u001b[0;32m    854\u001b[0m         array \u001b[39m=\u001b[39m array\u001b[39m.\u001b[39mastype(dtype, casting\u001b[39m=\u001b[39m\u001b[39m\"\u001b[39m\u001b[39munsafe\u001b[39m\u001b[39m\"\u001b[39m, copy\u001b[39m=\u001b[39m\u001b[39mFalse\u001b[39;00m)\n\u001b[0;32m    855\u001b[0m     \u001b[39melse\u001b[39;00m:\n\u001b[1;32m--> 856\u001b[0m         array \u001b[39m=\u001b[39m np\u001b[39m.\u001b[39;49masarray(array, order\u001b[39m=\u001b[39;49morder, dtype\u001b[39m=\u001b[39;49mdtype)\n\u001b[0;32m    857\u001b[0m \u001b[39mexcept\u001b[39;00m ComplexWarning \u001b[39mas\u001b[39;00m complex_warning:\n\u001b[0;32m    858\u001b[0m     \u001b[39mraise\u001b[39;00m \u001b[39mValueError\u001b[39;00m(\n\u001b[0;32m    859\u001b[0m         \u001b[39m\"\u001b[39m\u001b[39mComplex data not supported\u001b[39m\u001b[39m\\n\u001b[39;00m\u001b[39m{}\u001b[39;00m\u001b[39m\\n\u001b[39;00m\u001b[39m\"\u001b[39m\u001b[39m.\u001b[39mformat(array)\n\u001b[0;32m    860\u001b[0m     ) \u001b[39mfrom\u001b[39;00m \u001b[39mcomplex_warning\u001b[39;00m\n",
      "\u001b[1;31mValueError\u001b[0m: setting an array element with a sequence."
=======
     "name": "stdout",
     "output_type": "stream",
     "text": [
      "Cosine Similarity for Positive Sentiments in Datasets A and B:  0.6652174834924747\n"
>>>>>>> Stashed changes
     ]
    }
   ],
   "source": [
    "pos_cosine_sim = []\n",
    "for x in sg_pos_samples:\n",
    "    for y in pos_samples:\n",
    "        pos_cosine_sim.append(cosine_similarity([x,y]))\n",
    "print(\"Cosine Similarity for Positive Sentiments in Datasets A and B: \", np.mean(pos_cosine_sim))"
   ]
  },
  {
   "cell_type": "code",
<<<<<<< Updated upstream
   "execution_count": null,
=======
   "execution_count": 27,
>>>>>>> Stashed changes
   "id": "73d00518",
   "metadata": {},
   "outputs": [
    {
<<<<<<< Updated upstream
     "name": "stderr",
     "output_type": "stream",
     "text": [
      "c:\\Users\\alexy\\environments\\dsai-env\\lib\\site-packages\\sklearn\\metrics\\pairwise.py:45: VisibleDeprecationWarning:\n",
      "\n",
      "Creating an ndarray from ragged nested sequences (which is a list-or-tuple of lists-or-tuples-or ndarrays with different lengths or shapes) is deprecated. If you meant to do this, you must specify 'dtype=object' when creating the ndarray.\n",
      "\n"
     ]
    },
    {
     "ename": "ValueError",
     "evalue": "setting an array element with a sequence.",
     "output_type": "error",
     "traceback": [
      "\u001b[1;31m---------------------------------------------------------------------------\u001b[0m",
      "\u001b[1;31mTypeError\u001b[0m                                 Traceback (most recent call last)",
      "\u001b[1;31mTypeError\u001b[0m: only size-1 arrays can be converted to Python scalars",
      "\nThe above exception was the direct cause of the following exception:\n",
      "\u001b[1;31mValueError\u001b[0m                                Traceback (most recent call last)",
      "Cell \u001b[1;32mIn [54], line 4\u001b[0m\n\u001b[0;32m      2\u001b[0m \u001b[39mfor\u001b[39;00m x \u001b[39min\u001b[39;00m sg_neu_samples:\n\u001b[0;32m      3\u001b[0m     \u001b[39mfor\u001b[39;00m y \u001b[39min\u001b[39;00m neu_samples:\n\u001b[1;32m----> 4\u001b[0m         neu_cosine_sim\u001b[39m.\u001b[39mappend(cosine_similarity([x,y]))\n\u001b[0;32m      5\u001b[0m \u001b[39mprint\u001b[39m(\u001b[39m\"\u001b[39m\u001b[39mCosine Similarity for Neutral Sentiments in Datasets A and B: \u001b[39m\u001b[39m\"\u001b[39m, np\u001b[39m.\u001b[39mmean(neu_cosine_sim))\n",
      "File \u001b[1;32mc:\\Users\\alexy\\environments\\dsai-env\\lib\\site-packages\\sklearn\\metrics\\pairwise.py:1377\u001b[0m, in \u001b[0;36mcosine_similarity\u001b[1;34m(X, Y, dense_output)\u001b[0m\n\u001b[0;32m   1342\u001b[0m \u001b[39m\"\"\"Compute cosine similarity between samples in X and Y.\u001b[39;00m\n\u001b[0;32m   1343\u001b[0m \n\u001b[0;32m   1344\u001b[0m \u001b[39mCosine similarity, or the cosine kernel, computes similarity as the\u001b[39;00m\n\u001b[1;32m   (...)\u001b[0m\n\u001b[0;32m   1373\u001b[0m \u001b[39m    Returns the cosine similarity between samples in X and Y.\u001b[39;00m\n\u001b[0;32m   1374\u001b[0m \u001b[39m\"\"\"\u001b[39;00m\n\u001b[0;32m   1375\u001b[0m \u001b[39m# to avoid recursive import\u001b[39;00m\n\u001b[1;32m-> 1377\u001b[0m X, Y \u001b[39m=\u001b[39m check_pairwise_arrays(X, Y)\n\u001b[0;32m   1379\u001b[0m X_normalized \u001b[39m=\u001b[39m normalize(X, copy\u001b[39m=\u001b[39m\u001b[39mTrue\u001b[39;00m)\n\u001b[0;32m   1380\u001b[0m \u001b[39mif\u001b[39;00m X \u001b[39mis\u001b[39;00m Y:\n",
      "File \u001b[1;32mc:\\Users\\alexy\\environments\\dsai-env\\lib\\site-packages\\sklearn\\metrics\\pairwise.py:146\u001b[0m, in \u001b[0;36mcheck_pairwise_arrays\u001b[1;34m(X, Y, precomputed, dtype, accept_sparse, force_all_finite, copy)\u001b[0m\n\u001b[0;32m    143\u001b[0m     dtype \u001b[39m=\u001b[39m dtype_float\n\u001b[0;32m    145\u001b[0m \u001b[39mif\u001b[39;00m Y \u001b[39mis\u001b[39;00m X \u001b[39mor\u001b[39;00m Y \u001b[39mis\u001b[39;00m \u001b[39mNone\u001b[39;00m:\n\u001b[1;32m--> 146\u001b[0m     X \u001b[39m=\u001b[39m Y \u001b[39m=\u001b[39m check_array(\n\u001b[0;32m    147\u001b[0m         X,\n\u001b[0;32m    148\u001b[0m         accept_sparse\u001b[39m=\u001b[39;49maccept_sparse,\n\u001b[0;32m    149\u001b[0m         dtype\u001b[39m=\u001b[39;49mdtype,\n\u001b[0;32m    150\u001b[0m         copy\u001b[39m=\u001b[39;49mcopy,\n\u001b[0;32m    151\u001b[0m         force_all_finite\u001b[39m=\u001b[39;49mforce_all_finite,\n\u001b[0;32m    152\u001b[0m         estimator\u001b[39m=\u001b[39;49mestimator,\n\u001b[0;32m    153\u001b[0m     )\n\u001b[0;32m    154\u001b[0m \u001b[39melse\u001b[39;00m:\n\u001b[0;32m    155\u001b[0m     X \u001b[39m=\u001b[39m check_array(\n\u001b[0;32m    156\u001b[0m         X,\n\u001b[0;32m    157\u001b[0m         accept_sparse\u001b[39m=\u001b[39maccept_sparse,\n\u001b[1;32m   (...)\u001b[0m\n\u001b[0;32m    161\u001b[0m         estimator\u001b[39m=\u001b[39mestimator,\n\u001b[0;32m    162\u001b[0m     )\n",
      "File \u001b[1;32mc:\\Users\\alexy\\environments\\dsai-env\\lib\\site-packages\\sklearn\\utils\\validation.py:856\u001b[0m, in \u001b[0;36mcheck_array\u001b[1;34m(array, accept_sparse, accept_large_sparse, dtype, order, copy, force_all_finite, ensure_2d, allow_nd, ensure_min_samples, ensure_min_features, estimator, input_name)\u001b[0m\n\u001b[0;32m    854\u001b[0m         array \u001b[39m=\u001b[39m array\u001b[39m.\u001b[39mastype(dtype, casting\u001b[39m=\u001b[39m\u001b[39m\"\u001b[39m\u001b[39munsafe\u001b[39m\u001b[39m\"\u001b[39m, copy\u001b[39m=\u001b[39m\u001b[39mFalse\u001b[39;00m)\n\u001b[0;32m    855\u001b[0m     \u001b[39melse\u001b[39;00m:\n\u001b[1;32m--> 856\u001b[0m         array \u001b[39m=\u001b[39m np\u001b[39m.\u001b[39;49masarray(array, order\u001b[39m=\u001b[39;49morder, dtype\u001b[39m=\u001b[39;49mdtype)\n\u001b[0;32m    857\u001b[0m \u001b[39mexcept\u001b[39;00m ComplexWarning \u001b[39mas\u001b[39;00m complex_warning:\n\u001b[0;32m    858\u001b[0m     \u001b[39mraise\u001b[39;00m \u001b[39mValueError\u001b[39;00m(\n\u001b[0;32m    859\u001b[0m         \u001b[39m\"\u001b[39m\u001b[39mComplex data not supported\u001b[39m\u001b[39m\\n\u001b[39;00m\u001b[39m{}\u001b[39;00m\u001b[39m\\n\u001b[39;00m\u001b[39m\"\u001b[39m\u001b[39m.\u001b[39mformat(array)\n\u001b[0;32m    860\u001b[0m     ) \u001b[39mfrom\u001b[39;00m \u001b[39mcomplex_warning\u001b[39;00m\n",
      "\u001b[1;31mValueError\u001b[0m: setting an array element with a sequence."
=======
     "name": "stdout",
     "output_type": "stream",
     "text": [
      "Cosine Similarity for Neutral Sentiments in Datasets A and B:  0.654440017308443\n"
>>>>>>> Stashed changes
     ]
    }
   ],
   "source": [
    "neu_cosine_sim = []\n",
    "for x in sg_neu_samples:\n",
    "    for y in neu_samples:\n",
    "        neu_cosine_sim.append(cosine_similarity([x,y]))\n",
    "print(\"Cosine Similarity for Neutral Sentiments in Datasets A and B: \", np.mean(neu_cosine_sim))"
   ]
  },
  {
   "cell_type": "markdown",
   "id": "e12ee950",
   "metadata": {},
   "source": []
  }
 ],
 "metadata": {
  "kernelspec": {
   "display_name": "Python 3.10.7 ('dsai-env')",
   "language": "python",
   "name": "python3"
  },
  "language_info": {
   "codemirror_mode": {
    "name": "ipython",
    "version": 3
   },
   "file_extension": ".py",
   "mimetype": "text/x-python",
   "name": "python",
   "nbconvert_exporter": "python",
   "pygments_lexer": "ipython3",
   "version": "3.10.7"
  },
  "vscode": {
   "interpreter": {
    "hash": "b3ef6c030eebde62cdfd02840768360bfd8c57949c8d63aebbe27f7eabdfd728"
   }
  }
 },
 "nbformat": 4,
 "nbformat_minor": 5
}
