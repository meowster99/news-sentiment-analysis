{
 "cells": [
  {
   "cell_type": "code",
   "execution_count": 503,
   "id": "92e6e24e",
   "metadata": {},
   "outputs": [],
   "source": [
    "import time\n",
    "import pandas as pd\n",
    "from sklearn import preprocessing\n",
    "from sklearn.model_selection import KFold\n",
    "from sklearn.metrics import f1_score, precision_score, recall_score, confusion_matrix\n",
    "import tensorflow.keras as keras\n",
    "from tensorflow.keras import Sequential\n",
    "from tensorflow.keras.layers import *\n",
    "from tensorflow.keras import regularizers\n",
    "from tensorflow.keras.models import Model\n",
    "from tensorflow.keras.callbacks import ReduceLROnPlateau,EarlyStopping,ModelCheckpoint,LearningRateScheduler\n",
    "SEED = 42\n",
    "\n",
    "import os\n",
    "os.environ['TF_CUDNN_DETERMINISTIC'] = '1'\n",
    "\n",
    "import random \n",
    "random.seed(SEED)\n",
    "\n",
    "import numpy as np\n",
    "from numpy import loadtxt\n",
    "np.random.seed(SEED)\n",
    "\n",
    "import tensorflow as tf\n",
    "tf.random.set_seed(SEED)"
   ]
  },
  {
   "cell_type": "markdown",
   "id": "c4d30c10",
   "metadata": {},
   "source": [
    "## LSTM-A"
   ]
  },
  {
   "cell_type": "code",
   "execution_count": 504,
   "id": "0e8be68e",
   "metadata": {},
   "outputs": [],
   "source": [
    "#import the train and test files for financial news\n",
    "fnews_Xtrain = loadtxt('data/train/fnews_Xtrain_.csv', delimiter=',')\n",
    "fnews_Xtest = loadtxt('data/test/fnews_Xtest_.csv', delimiter=',')\n",
    "fnews_ytrain = loadtxt('data/train/fnews_ytrain_.csv',delimiter=',')\n",
    "fnews_ytest = loadtxt('data/test/fnews_ytest_.csv',delimiter=',')"
   ]
  },
  {
   "cell_type": "code",
   "execution_count": 505,
   "id": "1656c0d0",
   "metadata": {},
   "outputs": [],
   "source": [
    "#convert to array of integers from full precision\n",
    "fnews_Xtrain=fnews_Xtrain.astype(int)\n",
    "fnews_Xtest=fnews_Xtest.astype(int)\n",
    "fnews_ytrain=fnews_ytrain.astype(int)\n",
    "fnews_ytest=fnews_ytest.astype(int)"
   ]
  },
  {
   "cell_type": "code",
   "execution_count": 506,
   "id": "aafa5ed6",
   "metadata": {},
   "outputs": [],
   "source": [
    "#import the weights\n",
    "fnews_weights = loadtxt('data/weights/weights_fnews_.csv', delimiter=',')\n",
    "squidgame_weights = loadtxt('data/weights/weights_squidgame_.csv', delimiter=',')"
   ]
  },
  {
   "cell_type": "code",
   "execution_count": 507,
   "id": "edb8465c",
   "metadata": {},
   "outputs": [
    {
     "name": "stdout",
     "output_type": "stream",
     "text": [
      "Xtrain: (3876, 38) ytrain: (3876, 3)\n",
      "Xtest: (970, 38) ytest: (970, 3)\n"
     ]
    }
   ],
   "source": [
    "#check the respective shape of the train and test sets\n",
    "print('Xtrain:',fnews_Xtrain.shape, 'ytrain:' ,fnews_ytrain.shape)\n",
    "print('Xtest:',fnews_Xtest.shape, 'ytest:' ,fnews_ytest.shape)"
   ]
  },
  {
   "cell_type": "code",
   "execution_count": 508,
   "id": "18b15aef",
   "metadata": {},
   "outputs": [
    {
     "data": {
      "text/plain": [
       "(9243, 100)"
      ]
     },
     "execution_count": 508,
     "metadata": {},
     "output_type": "execute_result"
    }
   ],
   "source": [
    "fnews_weights.shape"
   ]
  },
  {
   "cell_type": "code",
   "execution_count": 527,
   "id": "4bb26c2c",
   "metadata": {},
   "outputs": [
    {
     "name": "stdout",
     "output_type": "stream",
     "text": [
      "Model: \"sequential_103\"\n",
      "_________________________________________________________________\n",
      " Layer (type)                Output Shape              Param #   \n",
      "=================================================================\n",
      " embedding_100 (Embedding)   (None, 38, 100)           924300    \n",
      "                                                                 \n",
      " batch_normalization_82 (Bat  (None, 38, 100)          400       \n",
      " chNormalization)                                                \n",
      "                                                                 \n",
      " bidirectional_86 (Bidirecti  (None, 76)               42256     \n",
      " onal)                                                           \n",
      "                                                                 \n",
      " dense_85 (Dense)            (None, 3)                 231       \n",
      "                                                                 \n",
      "=================================================================\n",
      "Total params: 967,187\n",
      "Trainable params: 966,987\n",
      "Non-trainable params: 200\n",
      "_________________________________________________________________\n"
     ]
    }
   ],
   "source": [
    "#using the word2vec \n",
    "\n",
    "def LSTM_Model():\n",
    "    \n",
    "    \n",
    "    model = Sequential()\n",
    "    \n",
    "    model.add(Embedding(fnews_weights.shape[0],fnews_weights.shape[1], weights = [fnews_weights],\n",
    "                       input_length = 38))\n",
    "    #for regularisation (batch norm)\n",
    "    model.add(BatchNormalization()) \n",
    "    #for regularisation (drop outs)\n",
    "    model.add(Bidirectional(LSTM(38, recurrent_dropout = 0.4)))\n",
    "    model.add(Dense(3, activation='softmax'))\n",
    "    model.compile(optimizer = tf.keras.optimizers.SGD(learning_rate = 0.01),loss=\"categorical_crossentropy\",metrics= [tf.keras.metrics.CategoricalAccuracy('accuracy'), tf.keras.metrics.Precision(name='precision'), tf.keras.metrics.Recall(name='recall'), 'acc'])\n",
    "    \n",
    "    return model\n",
    "\n",
    "model = LSTM_Model()\n",
    "model.summary()"
   ]
  },
  {
   "cell_type": "code",
   "execution_count": 528,
   "id": "b622a599",
   "metadata": {},
   "outputs": [
    {
     "data": {
      "image/png": "[encoded data removed]",
      "text/plain": [
       "<IPython.core.display.Image object>"
      ]
     },
     "execution_count": 528,
     "metadata": {},
     "output_type": "execute_result"
    }
   ],
   "source": [
    "tf.keras.utils.plot_model(model, show_shapes=True)"
   ]
  },
  {
   "cell_type": "code",
   "execution_count": 529,
   "id": "061767fb",
   "metadata": {},
   "outputs": [],
   "source": [
    "# set callbacks to ensure model does not overfit. Ensures training of network is stopped when \n",
    "# the validation error starts increasing\n",
    "early_stop = tf.keras.callbacks.EarlyStopping(monitor = \"loss\", patience = 3)"
   ]
  },
  {
   "cell_type": "code",
   "execution_count": 530,
   "id": "5fc222ae",
   "metadata": {},
   "outputs": [
    {
     "name": "stdout",
     "output_type": "stream",
     "text": [
      "Epoch 1/30\n",
      "61/61 [==============================] - 34s 319ms/step - loss: 1.0334 - accuracy: 0.4791 - precision: 0.5255 - recall: 0.2178 - acc: 0.4791 - val_loss: 0.9615 - val_accuracy: 0.5887 - val_precision: 0.6021 - val_recall: 0.4072 - val_acc: 0.5887\n",
      "Epoch 2/30\n",
      "61/61 [==============================] - 8s 127ms/step - loss: 0.9404 - accuracy: 0.5906 - precision: 0.6074 - recall: 0.5101 - acc: 0.5906 - val_loss: 0.9296 - val_accuracy: 0.5887 - val_precision: 0.6131 - val_recall: 0.4918 - val_acc: 0.5887\n",
      "Epoch 3/30\n",
      "61/61 [==============================] - 8s 127ms/step - loss: 0.9185 - accuracy: 0.5949 - precision: 0.6317 - recall: 0.5382 - acc: 0.5949 - val_loss: 0.9104 - val_accuracy: 0.5928 - val_precision: 0.6341 - val_recall: 0.5216 - val_acc: 0.5928\n",
      "Epoch 4/30\n",
      "61/61 [==============================] - 7s 118ms/step - loss: 0.9029 - accuracy: 0.6045 - precision: 0.6416 - recall: 0.5482 - acc: 0.6045 - val_loss: 0.8955 - val_accuracy: 0.6113 - val_precision: 0.6517 - val_recall: 0.5072 - val_acc: 0.6113\n",
      "Epoch 5/30\n",
      "61/61 [==============================] - 7s 118ms/step - loss: 0.8902 - accuracy: 0.6146 - precision: 0.6567 - recall: 0.5395 - acc: 0.6146 - val_loss: 0.8828 - val_accuracy: 0.6206 - val_precision: 0.6526 - val_recall: 0.5423 - val_acc: 0.6206\n",
      "Epoch 6/30\n",
      "61/61 [==============================] - 7s 117ms/step - loss: 0.8791 - accuracy: 0.6176 - precision: 0.6573 - recall: 0.5472 - acc: 0.6176 - val_loss: 0.8718 - val_accuracy: 0.6206 - val_precision: 0.6575 - val_recall: 0.5443 - val_acc: 0.6206\n",
      "Epoch 7/30\n",
      "61/61 [==============================] - 7s 118ms/step - loss: 0.8703 - accuracy: 0.6207 - precision: 0.6636 - recall: 0.5506 - acc: 0.6207 - val_loss: 0.8620 - val_accuracy: 0.6227 - val_precision: 0.6592 - val_recall: 0.5485 - val_acc: 0.6227\n",
      "Epoch 8/30\n",
      "61/61 [==============================] - 7s 115ms/step - loss: 0.8603 - accuracy: 0.6272 - precision: 0.6674 - recall: 0.5565 - acc: 0.6272 - val_loss: 0.8522 - val_accuracy: 0.6278 - val_precision: 0.6721 - val_recall: 0.5515 - val_acc: 0.6278\n",
      "Epoch 9/30\n",
      "61/61 [==============================] - 7s 116ms/step - loss: 0.8501 - accuracy: 0.6267 - precision: 0.6731 - recall: 0.5542 - acc: 0.6267 - val_loss: 0.8445 - val_accuracy: 0.6299 - val_precision: 0.6732 - val_recall: 0.5629 - val_acc: 0.6299\n",
      "Epoch 10/30\n",
      "61/61 [==============================] - 7s 118ms/step - loss: 0.8413 - accuracy: 0.6303 - precision: 0.6752 - recall: 0.5583 - acc: 0.6303 - val_loss: 0.8381 - val_accuracy: 0.6309 - val_precision: 0.6767 - val_recall: 0.5567 - val_acc: 0.6309\n",
      "Epoch 11/30\n",
      "61/61 [==============================] - 7s 114ms/step - loss: 0.8314 - accuracy: 0.6339 - precision: 0.6862 - recall: 0.5524 - acc: 0.6339 - val_loss: 0.8304 - val_accuracy: 0.6340 - val_precision: 0.6749 - val_recall: 0.5608 - val_acc: 0.6340\n",
      "Epoch 12/30\n",
      "61/61 [==============================] - 7s 117ms/step - loss: 0.8231 - accuracy: 0.6349 - precision: 0.6844 - recall: 0.5601 - acc: 0.6349 - val_loss: 0.8223 - val_accuracy: 0.6340 - val_precision: 0.6870 - val_recall: 0.5567 - val_acc: 0.6340\n",
      "Epoch 13/30\n",
      "61/61 [==============================] - 8s 136ms/step - loss: 0.8158 - accuracy: 0.6391 - precision: 0.6923 - recall: 0.5591 - acc: 0.6391 - val_loss: 0.8163 - val_accuracy: 0.6381 - val_precision: 0.6895 - val_recall: 0.5495 - val_acc: 0.6381\n",
      "Epoch 14/30\n",
      "61/61 [==============================] - 7s 115ms/step - loss: 0.8062 - accuracy: 0.6450 - precision: 0.7009 - recall: 0.5562 - acc: 0.6450 - val_loss: 0.8118 - val_accuracy: 0.6433 - val_precision: 0.6843 - val_recall: 0.5588 - val_acc: 0.6433\n",
      "Epoch 15/30\n",
      "61/61 [==============================] - 7s 119ms/step - loss: 0.8004 - accuracy: 0.6409 - precision: 0.6986 - recall: 0.5596 - acc: 0.6409 - val_loss: 0.8035 - val_accuracy: 0.6443 - val_precision: 0.6997 - val_recall: 0.5598 - val_acc: 0.6443\n",
      "Epoch 16/30\n",
      "61/61 [==============================] - 8s 132ms/step - loss: 0.7915 - accuracy: 0.6463 - precision: 0.7039 - recall: 0.5606 - acc: 0.6463 - val_loss: 0.7990 - val_accuracy: 0.6485 - val_precision: 0.6974 - val_recall: 0.5536 - val_acc: 0.6485\n",
      "Epoch 17/30\n",
      "61/61 [==============================] - 6s 99ms/step - loss: 0.7844 - accuracy: 0.6514 - precision: 0.7083 - recall: 0.5624 - acc: 0.6514 - val_loss: 0.7920 - val_accuracy: 0.6546 - val_precision: 0.7061 - val_recall: 0.5598 - val_acc: 0.6546\n",
      "Epoch 18/30\n",
      "61/61 [==============================] - 6s 96ms/step - loss: 0.7784 - accuracy: 0.6556 - precision: 0.7191 - recall: 0.5601 - acc: 0.6556 - val_loss: 0.7868 - val_accuracy: 0.6567 - val_precision: 0.7045 - val_recall: 0.5701 - val_acc: 0.6567\n",
      "Epoch 19/30\n",
      "61/61 [==============================] - 6s 103ms/step - loss: 0.7692 - accuracy: 0.6587 - precision: 0.7131 - recall: 0.5707 - acc: 0.6587 - val_loss: 0.7809 - val_accuracy: 0.6629 - val_precision: 0.7059 - val_recall: 0.5567 - val_acc: 0.6629\n",
      "Epoch 20/30\n",
      "61/61 [==============================] - 6s 94ms/step - loss: 0.7615 - accuracy: 0.6664 - precision: 0.7271 - recall: 0.5691 - acc: 0.6664 - val_loss: 0.7757 - val_accuracy: 0.6649 - val_precision: 0.7095 - val_recall: 0.5639 - val_acc: 0.6649\n",
      "Epoch 21/30\n",
      "61/61 [==============================] - 6s 92ms/step - loss: 0.7539 - accuracy: 0.6705 - precision: 0.7275 - recall: 0.5725 - acc: 0.6705 - val_loss: 0.7695 - val_accuracy: 0.6773 - val_precision: 0.7156 - val_recall: 0.5680 - val_acc: 0.6773\n",
      "Epoch 22/30\n",
      "61/61 [==============================] - 6s 95ms/step - loss: 0.7469 - accuracy: 0.6749 - precision: 0.7362 - recall: 0.5774 - acc: 0.6749 - val_loss: 0.7655 - val_accuracy: 0.6742 - val_precision: 0.7148 - val_recall: 0.5711 - val_acc: 0.6742\n",
      "Epoch 23/30\n",
      "61/61 [==============================] - 6s 98ms/step - loss: 0.7399 - accuracy: 0.6749 - precision: 0.7383 - recall: 0.5844 - acc: 0.6749 - val_loss: 0.7642 - val_accuracy: 0.6649 - val_precision: 0.7115 - val_recall: 0.5722 - val_acc: 0.6649\n",
      "Epoch 24/30\n",
      "61/61 [==============================] - 6s 92ms/step - loss: 0.7331 - accuracy: 0.6749 - precision: 0.7386 - recall: 0.5862 - acc: 0.6749 - val_loss: 0.7583 - val_accuracy: 0.6691 - val_precision: 0.7167 - val_recall: 0.5763 - val_acc: 0.6691\n",
      "Epoch 25/30\n",
      "61/61 [==============================] - 6s 94ms/step - loss: 0.7260 - accuracy: 0.6798 - precision: 0.7431 - recall: 0.5934 - acc: 0.6798 - val_loss: 0.7519 - val_accuracy: 0.6784 - val_precision: 0.7157 - val_recall: 0.5814 - val_acc: 0.6784\n",
      "Epoch 26/30\n",
      "61/61 [==============================] - 6s 98ms/step - loss: 0.7170 - accuracy: 0.6852 - precision: 0.7504 - recall: 0.6004 - acc: 0.6852 - val_loss: 0.7487 - val_accuracy: 0.6763 - val_precision: 0.7186 - val_recall: 0.5845 - val_acc: 0.6763\n",
      "Epoch 27/30\n",
      "61/61 [==============================] - 6s 93ms/step - loss: 0.7117 - accuracy: 0.6886 - precision: 0.7521 - recall: 0.5996 - acc: 0.6886 - val_loss: 0.7441 - val_accuracy: 0.6784 - val_precision: 0.7192 - val_recall: 0.5835 - val_acc: 0.6784\n",
      "Epoch 28/30\n",
      "61/61 [==============================] - 6s 101ms/step - loss: 0.7023 - accuracy: 0.6943 - precision: 0.7545 - recall: 0.6081 - acc: 0.6943 - val_loss: 0.7399 - val_accuracy: 0.6804 - val_precision: 0.7226 - val_recall: 0.5907 - val_acc: 0.6804\n",
      "Epoch 29/30\n",
      "61/61 [==============================] - 6s 99ms/step - loss: 0.6946 - accuracy: 0.6999 - precision: 0.7605 - recall: 0.6120 - acc: 0.6999 - val_loss: 0.7368 - val_accuracy: 0.6814 - val_precision: 0.7236 - val_recall: 0.5938 - val_acc: 0.6814\n",
      "Epoch 30/30\n",
      "61/61 [==============================] - 6s 98ms/step - loss: 0.6860 - accuracy: 0.7018 - precision: 0.7655 - recall: 0.6189 - acc: 0.7018 - val_loss: 0.7337 - val_accuracy: 0.6794 - val_precision: 0.7233 - val_recall: 0.5928 - val_acc: 0.6794\n"
     ]
    }
   ],
   "source": [
    "start = time.time()\n",
    "model= LSTM_Model()\n",
    "history = model.fit(\n",
    "    fnews_Xtrain, \n",
    "    fnews_ytrain, \n",
    "    epochs = 30,\n",
    "    batch_size = 64,\n",
    "    validation_data = (fnews_Xtest, fnews_ytest),\n",
    "    verbose = 1,\n",
    "    callbacks = early_stop,\n",
    ")\n",
    "end = time.time()"
   ]
  },
  {
   "cell_type": "code",
   "execution_count": 532,
   "id": "7c398fad",
   "metadata": {},
   "outputs": [
    {
     "name": "stdout",
     "output_type": "stream",
     "text": [
      "time taken: 227.37884759902954\n"
     ]
    },
    {
     "data": {
      "text/plain": [
       "Text(0.5, 0, 'Number of Epochs')"
      ]
     },
     "execution_count": 532,
     "metadata": {},
     "output_type": "execute_result"
    },
    {
     "data": {
      "image/png": "[encoded data removed]",
      "text/plain": [
       "<Figure size 432x288 with 1 Axes>"
      ]
     },
     "metadata": {
      "needs_background": "light"
     },
     "output_type": "display_data"
    },
    {
     "data": {
      "image/png": "[encoded data removed]",
      "text/plain": [
       "<Figure size 432x288 with 1 Axes>"
      ]
     },
     "metadata": {
      "needs_background": "light"
     },
     "output_type": "display_data"
    }
   ],
   "source": [
    "#plot the train and test accuracies\n",
    "\n",
    "print('time taken:', end-start)\n",
    "\n",
    "metrics_df_1 = pd.DataFrame(history.history)\n",
    "ax = metrics_df_1[[\"loss\", \"val_loss\"]].plot()\n",
    "ax.set_title(\"Train and Test Loss (Batch Size = 64, epoch = 30)\")\n",
    "ax.set_xlabel(\"Number of Epochs\")\n",
    "ax1 = metrics_df_1[[\"acc\", \"val_acc\"]].plot()\n",
    "ax1.set_title(\"Train and Test Accuracies (Batch Size = 64, epoch = 30)\")\n",
    "ax1.set_xlabel(\"Number of Epochs\")"
   ]
  },
  {
   "cell_type": "code",
   "execution_count": null,
   "id": "75c19cee",
   "metadata": {},
   "outputs": [],
   "source": [
    "# #tune the hyper parameters by using KFold Validation (batch size)\n",
    "\n",
    "# no_of_fold = 5\n",
    "# batch_size = [16, 32, 64, 128, 512]\n",
    "# kf = KFold(n_splits = no_of_fold)\n",
    "\n",
    "\n",
    "# def train_exp(df):\n",
    "#     results = pd.DataFrame(columns = [\"Fold Number\", \"Batch Size\",\n",
    "#                                       \"Cross Validation Accuracy\", \"Time Taken\"])\n",
    "#     acc = []\n",
    "#     fold_no = 1\n",
    "#     for train, test in kf.split(df):\n",
    "#         X_train, y_train, X_test, y_test = split_dataset(df, columns_to_drop, test_size=0.2, random_state=0) \n",
    "#         X_train_scaled, X_test_scaled = preprocess_dataset(X_train, X_test)\n",
    "#         acc_ = []\n",
    "#         print('------------------------------------------------------------------------')\n",
    "#         print(f'Training for fold {fold_no} ...')\n",
    "#         for batch in batch_size:\n",
    "#             print(f'Training for batch size {batch}')\n",
    "#             start = time.time()\n",
    "#             history = DNN_network.fit(X_train_scaled, y_train, \n",
    "#                         validation_data=(X_test_scaled, y_test), \n",
    "#                         epochs = 100 , callbacks = [early_stop,csv_logger], batch_size = batch)\n",
    "#             end = time.time()\n",
    "#             time_taken =  end - start\n",
    "#             acc_.append(min(history.history['val_binary_accuracy']))\n",
    "#             val_acc = min(history.history['val_binary_accuracy'])\n",
    "#             #add results to dataframe\n",
    "#             insert_row = {'Fold Number': fold_no, 'Batch Size':batch, \n",
    "#                           'Cross Validation Accuracy': val_acc, \n",
    "#                           'Time Taken': time_taken}\n",
    "#             results = pd.concat([results, pd.DataFrame([insert_row])])\n",
    "#         fold_no = fold_no + 1\n",
    "#         acc.append(acc_)\n",
    "#     acc_err = np.mean(np.array(acc), axis = 0)\n",
    "#     return results, acc_err"
   ]
  },
  {
   "cell_type": "code",
   "execution_count": null,
   "id": "aeb133aa",
   "metadata": {},
   "outputs": [],
   "source": [
    "#create the LSTM Model\n",
    "## LSTM is an artificial recurrent neural network architecture and instead of standard feedforward neural network,\n",
    "## LSTM has feedback connections (signals traveling in both areas)\n",
    "\n",
    "#from preprocessing\n",
    "vocab_length = 9243\n",
    "\n",
    "model1 = Sequential()\n",
    "#first embedding layer converts each word into a fixed-length vector of defined size\n",
    "model1.add(Embedding(vocab_length, 32, input_length = fnews_Xtrain.shape[1]))\n",
    "#prevent overfitting with Dropout which is a type of dropout for convolutional networks\n",
    "model1.add(Conv1D(filters=64, kernel_size=3, padding='same', activation='relu'))\n",
    "model1.add(MaxPooling1D(pool_size=2))\n",
    "#for regularisation\n",
    "model1.add(BatchNormalization()) \n",
    "\n",
    "model1.add(Bidirectional(LSTM(32, recurrent_dropout = 0.5)))\n",
    "model1.add(Dense(3,activation=\"softmax\"))"
   ]
  },
  {
   "cell_type": "code",
   "execution_count": 412,
   "id": "401a5bbd",
   "metadata": {},
   "outputs": [
    {
     "name": "stdout",
     "output_type": "stream",
     "text": [
      "Model: \"sequential_65\"\n",
      "_________________________________________________________________\n",
      " Layer (type)                Output Shape              Param #   \n",
      "=================================================================\n",
      " embedding_62 (Embedding)    (None, 38, 32)            295776    \n",
      "                                                                 \n",
      " conv1d_70 (Conv1D)          (None, 38, 64)            6208      \n",
      "                                                                 \n",
      " max_pooling1d_58 (MaxPoolin  (None, 19, 64)           0         \n",
      " g1D)                                                            \n",
      "                                                                 \n",
      " batch_normalization_46 (Bat  (None, 19, 64)           256       \n",
      " chNormalization)                                                \n",
      "                                                                 \n",
      " bidirectional_48 (Bidirecti  (None, 64)               24832     \n",
      " onal)                                                           \n",
      "                                                                 \n",
      " dense_50 (Dense)            (None, 3)                 195       \n",
      "                                                                 \n",
      "=================================================================\n",
      "Total params: 327,267\n",
      "Trainable params: 327,139\n",
      "Non-trainable params: 128\n",
      "_________________________________________________________________\n"
     ]
    }
   ],
   "source": [
    "# output model skeleton\n",
    "## batch size of 32, epochs = 50 and learning rate of 0.1 (step based decay rate)\n",
    "batch_size = 32\n",
    "learning_rate = 0.1\n",
    "epochs = 50\n",
    "model1.summary()\n",
    "model1.compile(optimizer = tf.keras.optimizers.SGD(learning_rate = learning_rate, decay=learning_rate/epochs),loss=\"categorical_crossentropy\",metrics=['acc'])"
   ]
  },
  {
   "cell_type": "markdown",
   "id": "450109ae",
   "metadata": {},
   "source": [
    "If the loss increases and the accuracy increase too is because your regularization techniques are working well and you're fighting the overfitting problem. This is true only if the loss, then, starts to decrease whilst the accuracy continues to increase. Otherwise, if the loss keep growing your model is diverging and you should look for the cause (usually you're using a too high learning rate value)."
   ]
  },
  {
   "cell_type": "markdown",
   "id": "dab3cfd1",
   "metadata": {},
   "source": [
    "# LSTM-B"
   ]
  },
  {
   "cell_type": "code",
   "execution_count": 392,
   "id": "98c3ec6e",
   "metadata": {},
   "outputs": [],
   "source": [
    "#import the train and test files for financial news\n",
    "squidgame_Xtrain = loadtxt('data/train/squidgame_Xtrain_.csv', delimiter=',')\n",
    "squidgame_Xtest = loadtxt('data/test/squidgame_Xtest_.csv', delimiter=',')\n",
    "squidgame_ytrain = loadtxt('data/train/squidgame_ytrain_.csv',delimiter=',')\n",
    "squidgame_ytest = loadtxt('data/test/squidgame_ytest_.csv',delimiter=',')"
   ]
  },
  {
   "cell_type": "code",
   "execution_count": 393,
   "id": "059195dd",
   "metadata": {},
   "outputs": [],
   "source": [
    "#convert to array of integers from full precision\n",
    "squidgame_Xtrain=squidgame_Xtrain.astype(int)\n",
    "squidgame_Xtest=squidgame_Xtest.astype(int)\n",
    "squidgame_ytrain=squidgame_ytrain.astype(int)\n",
    "squidgame_ytest=squidgame_ytest.astype(int)"
   ]
  },
  {
   "cell_type": "code",
   "execution_count": 394,
   "id": "ca644fee",
   "metadata": {},
   "outputs": [
    {
     "name": "stdout",
     "output_type": "stream",
     "text": [
      "Xtrain: (948, 831) ytrain: (948, 3)\n",
      "Xtest: (237, 831) ytest: (237, 3)\n"
     ]
    }
   ],
   "source": [
    "#check the respective shape of the train and test sets\n",
    "print('Xtrain:',squidgame_Xtrain.shape, 'ytrain:' ,squidgame_ytrain.shape)\n",
    "print('Xtest:',squidgame_Xtest.shape, 'ytest:' ,squidgame_ytest.shape)"
   ]
  },
  {
   "cell_type": "code",
   "execution_count": 537,
   "id": "4582a8c4",
   "metadata": {},
   "outputs": [
    {
     "name": "stdout",
     "output_type": "stream",
     "text": [
      "Model: \"sequential_109\"\n",
      "_________________________________________________________________\n",
      " Layer (type)                Output Shape              Param #   \n",
      "=================================================================\n",
      " embedding_106 (Embedding)   (None, 831, 100)          924300    \n",
      "                                                                 \n",
      " batch_normalization_88 (Bat  (None, 831, 100)         400       \n",
      " chNormalization)                                                \n",
      "                                                                 \n",
      " bidirectional_92 (Bidirecti  (None, 1662)             6195936   \n",
      " onal)                                                           \n",
      "                                                                 \n",
      " dense_91 (Dense)            (None, 3)                 4989      \n",
      "                                                                 \n",
      "=================================================================\n",
      "Total params: 7,125,625\n",
      "Trainable params: 7,125,425\n",
      "Non-trainable params: 200\n",
      "_________________________________________________________________\n"
     ]
    }
   ],
   "source": [
    "#using the word2vec \n",
    "\n",
    "def LSTM_Model_2():\n",
    "    \n",
    "    \n",
    "    model = Sequential()\n",
    "    \n",
    "    model.add(Embedding(fnews_weights.shape[0],fnews_weights.shape[1], weights = [fnews_weights],\n",
    "                       input_length = 831))\n",
    "    #for regularisation (batch norm)\n",
    "    model.add(BatchNormalization()) \n",
    "    #for regularisation (drop outs)\n",
    "    model.add(Bidirectional(LSTM(831, recurrent_dropout = 0.4)))\n",
    "    model.add(Dense(3, activation='softmax'))\n",
    "    model.compile(optimizer = tf.keras.optimizers.SGD(learning_rate = 0.01),loss=\"categorical_crossentropy\",metrics= [tf.keras.metrics.CategoricalAccuracy('accuracy'), tf.keras.metrics.Precision(name='precision'), tf.keras.metrics.Recall(name='recall'), 'acc'])\n",
    "    \n",
    "    return model\n",
    "\n",
    "model = LSTM_Model_2()\n",
    "model.summary()"
   ]
  },
  {
   "cell_type": "code",
   "execution_count": null,
   "id": "fdd4f3db",
   "metadata": {},
   "outputs": [
    {
     "name": "stdout",
     "output_type": "stream",
     "text": [
      "Epoch 1/10\n"
     ]
    }
   ],
   "source": [
    "start = time.time()\n",
    "model= LSTM_Model_2()\n",
    "history2 = model.fit(\n",
    "    squidgame_Xtrain, \n",
    "    squidgame_ytrain, \n",
    "    epochs = 10,\n",
    "    batch_size = 64,\n",
    "    validation_data = (squidgame_Xtest, squidgame_ytest),\n",
    "    verbose = 1,\n",
    "    callbacks = early_stop,\n",
    ")\n",
    "end = time.time()"
   ]
  },
  {
   "cell_type": "code",
   "execution_count": null,
   "id": "967d7e7b",
   "metadata": {},
   "outputs": [],
   "source": [
    "#plot the train and test accuracies\n",
    "\n",
    "print('time taken:', end-start)\n",
    "\n",
    "metrics_df_1 = pd.DataFrame(history.history)\n",
    "ax = metrics_df_1[[\"loss\", \"val_loss\"]].plot()\n",
    "ax.set_title(\"Train and Test Loss (Batch Size = 64, epoch = 30)\")\n",
    "ax.set_xlabel(\"Number of Epochs\")\n",
    "ax1 = metrics_df_1[[\"acc\", \"val_acc\"]].plot()\n",
    "ax1.set_title(\"Train and Test Accuracies (Batch Size = 64, epoch = 30)\")\n",
    "ax1.set_xlabel(\"Number of Epochs\")"
   ]
  },
  {
   "cell_type": "code",
   "execution_count": null,
   "id": "c264c8f8",
   "metadata": {},
   "outputs": [],
   "source": []
  }
 ],
 "metadata": {
  "kernelspec": {
   "display_name": "Python 3 (ipykernel)",
   "language": "python",
   "name": "python3"
  },
  "language_info": {
   "codemirror_mode": {
    "name": "ipython",
    "version": 3
   },
   "file_extension": ".py",
   "mimetype": "text/x-python",
   "name": "python",
   "nbconvert_exporter": "python",
   "pygments_lexer": "ipython3",
   "version": "3.9.12"
  }
 },
 "nbformat": 4,
 "nbformat_minor": 5
}
