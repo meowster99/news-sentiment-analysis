{
 "cells": [
  {
   "cell_type": "code",
   "execution_count": 95,
   "id": "92e6e24e",
   "metadata": {},
   "outputs": [],
   "source": [
    "import time\n",
    "import pandas as pd\n",
    "import seaborn as sns\n",
    "import matplotlib.pyplot as plt\n",
    "import IPython.display as ipd\n",
    "from sklearn import preprocessing\n",
    "from sklearn.model_selection import KFold\n",
    "from sklearn.model_selection import train_test_split\n",
    "from sklearn.metrics import f1_score, precision_score, recall_score, confusion_matrix\n",
    "import tensorflow.keras as keras\n",
    "from tensorflow.keras import Sequential\n",
    "from tensorflow.keras.layers import *\n",
    "from tensorflow.keras.regularizers import l2\n",
    "from tensorflow.keras.callbacks import ReduceLROnPlateau,EarlyStopping,ModelCheckpoint,LearningRateScheduler\n",
    "from sklearn.feature_extraction.text import TfidfVectorizer\n",
    "SEED = 42\n",
    "\n",
    "import os\n",
    "os.environ['TF_CUDNN_DETERMINISTIC'] = '1'\n",
    "\n",
    "import random \n",
    "random.seed(SEED)\n",
    "\n",
    "import numpy as np\n",
    "np.random.seed(SEED)\n",
    "\n",
    "import tensorflow as tf\n",
    "tf.random.set_seed(SEED)"
   ]
  },
  {
   "cell_type": "markdown",
   "id": "c4d30c10",
   "metadata": {},
   "source": [
    "## CNN-A"
   ]
  },
  {
   "cell_type": "code",
   "execution_count": 100,
   "id": "0e8be68e",
   "metadata": {},
   "outputs": [],
   "source": [
    "#import the train and test files for financial news\n",
    "fnews_Xtrain = pd.read_csv('data/train/fnews_Xtrain.csv')\n",
    "fnews_Xtest = pd.read_csv('data/test/fnews_Xtest.csv')\n",
    "fnews_ytrain = pd.read_csv('data/train/fnews_ytrain.csv')\n",
    "fnews_ytest = pd.read_csv('data/test/fnews_ytest.csv')"
   ]
  },
  {
   "cell_type": "code",
   "execution_count": 101,
   "id": "d0a9030d",
   "metadata": {},
   "outputs": [],
   "source": [
    "#drop the first column for all the train and test sets\n",
    "fnews_Xtrain.drop(columns=fnews_Xtrain.columns[0], axis=1, inplace=True)\n",
    "fnews_ytrain.drop(columns=fnews_ytrain.columns[0], axis=1, inplace=True)\n",
    "fnews_Xtest.drop(columns=fnews_Xtest.columns[0], axis=1, inplace=True)\n",
    "fnews_ytest.drop(columns=fnews_ytest.columns[0], axis=1, inplace=True)"
   ]
  },
  {
   "cell_type": "code",
   "execution_count": 102,
   "id": "edb8465c",
   "metadata": {},
   "outputs": [
    {
     "name": "stdout",
     "output_type": "stream",
     "text": [
      "Xtrain: (3876, 1) ytrain: (3876, 1)\n",
      "Xtest: (970, 1) ytest: (970, 1)\n"
     ]
    }
   ],
   "source": [
    "#check the respective shape of the train and test sets\n",
    "print('Xtrain:',fnews_Xtrain.shape, 'ytrain:' ,fnews_ytrain.shape)\n",
    "print('Xtest:',fnews_Xtest.shape, 'ytest:' ,fnews_ytest.shape)"
   ]
  },
  {
   "cell_type": "code",
   "execution_count": 103,
   "id": "e15b4828",
   "metadata": {},
   "outputs": [
    {
     "name": "stderr",
     "output_type": "stream",
     "text": [
      "C:\\Users\\delis\\AppData\\Local\\Temp\\ipykernel_20772\\3694005545.py:3: FutureWarning: The default value of regex will change from True to False in a future version. In addition, single character regular expressions will *not* be treated as literal strings when regex=True.\n",
      "  fnews_Xtrain['News'] = fnews_Xtrain['News'].str.replace(\"[\",\"\")\n",
      "C:\\Users\\delis\\AppData\\Local\\Temp\\ipykernel_20772\\3694005545.py:4: FutureWarning: The default value of regex will change from True to False in a future version. In addition, single character regular expressions will *not* be treated as literal strings when regex=True.\n",
      "  fnews_Xtrain['News'] = fnews_Xtrain['News'].str.replace(\"]\",\"\")\n"
     ]
    }
   ],
   "source": [
    "fnews_Xtrain['News'] = fnews_Xtrain['News'].str.replace(\"'\",\"\")\n",
    "fnews_Xtrain['News'] = fnews_Xtrain['News'].str.replace(\",\",\"\")\n",
    "fnews_Xtrain['News'] = fnews_Xtrain['News'].str.replace(\"[\",\"\")\n",
    "fnews_Xtrain['News'] = fnews_Xtrain['News'].str.replace(\"]\",\"\")"
   ]
  },
  {
   "cell_type": "code",
   "execution_count": 104,
   "id": "f7674c5b",
   "metadata": {},
   "outputs": [
    {
     "data": {
      "text/plain": [
       "'russia raisio s food division s home market stretch way vladivostok'"
      ]
     },
     "execution_count": 104,
     "metadata": {},
     "output_type": "execute_result"
    }
   ],
   "source": [
    "fnews_Xtrain['News'][0]"
   ]
  },
  {
   "cell_type": "code",
   "execution_count": 105,
   "id": "021c6933",
   "metadata": {},
   "outputs": [
    {
     "data": {
      "text/html": [
       "<div>\n",
       "<style scoped>\n",
       "    .dataframe tbody tr th:only-of-type {\n",
       "        vertical-align: middle;\n",
       "    }\n",
       "\n",
       "    .dataframe tbody tr th {\n",
       "        vertical-align: top;\n",
       "    }\n",
       "\n",
       "    .dataframe thead th {\n",
       "        text-align: right;\n",
       "    }\n",
       "</style>\n",
       "<table border=\"1\" class=\"dataframe\">\n",
       "  <thead>\n",
       "    <tr style=\"text-align: right;\">\n",
       "      <th></th>\n",
       "      <th>News</th>\n",
       "    </tr>\n",
       "  </thead>\n",
       "  <tbody>\n",
       "    <tr>\n",
       "      <th>0</th>\n",
       "      <td>russia raisio s food division s home market st...</td>\n",
       "    </tr>\n",
       "    <tr>\n",
       "      <th>1</th>\n",
       "      <td>operator need learn use device multiple level ...</td>\n",
       "    </tr>\n",
       "    <tr>\n",
       "      <th>2</th>\n",
       "      <td>company expects net sale half reach previous y...</td>\n",
       "    </tr>\n",
       "    <tr>\n",
       "      <th>3</th>\n",
       "      <td>bridge km long located anasmotet road e new tr...</td>\n",
       "    </tr>\n",
       "    <tr>\n",
       "      <th>4</th>\n",
       "      <td>nokia capcom announced resident evil degenerat...</td>\n",
       "    </tr>\n",
       "  </tbody>\n",
       "</table>\n",
       "</div>"
      ],
      "text/plain": [
       "                                                News\n",
       "0  russia raisio s food division s home market st...\n",
       "1  operator need learn use device multiple level ...\n",
       "2  company expects net sale half reach previous y...\n",
       "3  bridge km long located anasmotet road e new tr...\n",
       "4  nokia capcom announced resident evil degenerat..."
      ]
     },
     "execution_count": 105,
     "metadata": {},
     "output_type": "execute_result"
    }
   ],
   "source": [
    "fnews_Xtrain.head()"
   ]
  },
  {
   "cell_type": "code",
   "execution_count": 106,
   "id": "3d9f92ae",
   "metadata": {},
   "outputs": [
    {
     "data": {
      "text/plain": [
       "array([[1.]])"
      ]
     },
     "execution_count": 106,
     "metadata": {},
     "output_type": "execute_result"
    }
   ],
   "source": [
    "tf_idf_word_vectorizer = TfidfVectorizer(analyzer = \"word\")\n",
    "tf_idf_word_vectorizer.fit(fnews_Xtrain)\n",
    "x_train_tf_idf_word = tf_idf_word_vectorizer.transform(fnews_Xtrain)\n",
    "x_test_tf_idf_word = tf_idf_word_vectorizer.transform(fnews_Xtest)\n",
    "x_train_tf_idf_word.toarray()"
   ]
  },
  {
   "cell_type": "code",
   "execution_count": null,
   "id": "c38dd027",
   "metadata": {},
   "outputs": [],
   "source": []
  },
  {
   "cell_type": "code",
   "execution_count": null,
   "id": "c77f687d",
   "metadata": {},
   "outputs": [],
   "source": []
  }
 ],
 "metadata": {
  "kernelspec": {
   "display_name": "Python 3 (ipykernel)",
   "language": "python",
   "name": "python3"
  },
  "language_info": {
   "codemirror_mode": {
    "name": "ipython",
    "version": 3
   },
   "file_extension": ".py",
   "mimetype": "text/x-python",
   "name": "python",
   "nbconvert_exporter": "python",
   "pygments_lexer": "ipython3",
   "version": "3.9.12"
  }
 },
 "nbformat": 4,
 "nbformat_minor": 5
}
