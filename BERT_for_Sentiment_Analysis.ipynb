{
  "nbformat": 4,
  "nbformat_minor": 0,
  "metadata": {
    "colab": {
      "provenance": [],
      "collapsed_sections": [],
      "include_colab_link": true
    },
    "kernelspec": {
      "name": "python3",
      "display_name": "Python 3"
    },
    "language_info": {
      "name": "python"
    },
    "accelerator": "GPU",
    "gpuClass": "standard",
    "widgets": {
      "application/vnd.jupyter.widget-state+json": {
        "3283eddfffcc4af7b2bdbfeac73112bb": {
          "model_module": "@jupyter-widgets/controls",
          "model_name": "HBoxModel",
          "model_module_version": "1.5.0",
          "state": {
            "_dom_classes": [],
            "_model_module": "@jupyter-widgets/controls",
            "_model_module_version": "1.5.0",
            "_model_name": "HBoxModel",
            "_view_count": null,
            "_view_module": "@jupyter-widgets/controls",
            "_view_module_version": "1.5.0",
            "_view_name": "HBoxView",
            "box_style": "",
            "children": [
              "IPY_MODEL_41eac252c9bc449c93969b97ad0fa59e",
              "IPY_MODEL_4cd2898b878f4554bf6aaafd8b6b7519",
              "IPY_MODEL_ff106a756c174ed3a189a7ac4f7d2c2e"
            ],
            "layout": "IPY_MODEL_2d46e58266a84d97a5f531dfd45c661e"
          }
        },
        "41eac252c9bc449c93969b97ad0fa59e": {
          "model_module": "@jupyter-widgets/controls",
          "model_name": "HTMLModel",
          "model_module_version": "1.5.0",
          "state": {
            "_dom_classes": [],
            "_model_module": "@jupyter-widgets/controls",
            "_model_module_version": "1.5.0",
            "_model_name": "HTMLModel",
            "_view_count": null,
            "_view_module": "@jupyter-widgets/controls",
            "_view_module_version": "1.5.0",
            "_view_name": "HTMLView",
            "description": "",
            "description_tooltip": null,
            "layout": "IPY_MODEL_ed144e482069450186cd49bdb0a0e721",
            "placeholder": "​",
            "style": "IPY_MODEL_18b3682a3c5741d69d47df25ca877c8c",
            "value": "Downloading: 100%"
          }
        },
        "4cd2898b878f4554bf6aaafd8b6b7519": {
          "model_module": "@jupyter-widgets/controls",
          "model_name": "FloatProgressModel",
          "model_module_version": "1.5.0",
          "state": {
            "_dom_classes": [],
            "_model_module": "@jupyter-widgets/controls",
            "_model_module_version": "1.5.0",
            "_model_name": "FloatProgressModel",
            "_view_count": null,
            "_view_module": "@jupyter-widgets/controls",
            "_view_module_version": "1.5.0",
            "_view_name": "ProgressView",
            "bar_style": "success",
            "description": "",
            "description_tooltip": null,
            "layout": "IPY_MODEL_a49e8e50dfbe462f811b8bb083e97dde",
            "max": 231508,
            "min": 0,
            "orientation": "horizontal",
            "style": "IPY_MODEL_351caf9ff1a74f40a0c238a98e30d302",
            "value": 231508
          }
        },
        "ff106a756c174ed3a189a7ac4f7d2c2e": {
          "model_module": "@jupyter-widgets/controls",
          "model_name": "HTMLModel",
          "model_module_version": "1.5.0",
          "state": {
            "_dom_classes": [],
            "_model_module": "@jupyter-widgets/controls",
            "_model_module_version": "1.5.0",
            "_model_name": "HTMLModel",
            "_view_count": null,
            "_view_module": "@jupyter-widgets/controls",
            "_view_module_version": "1.5.0",
            "_view_name": "HTMLView",
            "description": "",
            "description_tooltip": null,
            "layout": "IPY_MODEL_a737f1658bae41e78ec0cc0e856ef6a9",
            "placeholder": "​",
            "style": "IPY_MODEL_a7c60956cd884b46a6873ca1b4c7b8fd",
            "value": " 232k/232k [00:00&lt;00:00, 1.29MB/s]"
          }
        },
        "2d46e58266a84d97a5f531dfd45c661e": {
          "model_module": "@jupyter-widgets/base",
          "model_name": "LayoutModel",
          "model_module_version": "1.2.0",
          "state": {
            "_model_module": "@jupyter-widgets/base",
            "_model_module_version": "1.2.0",
            "_model_name": "LayoutModel",
            "_view_count": null,
            "_view_module": "@jupyter-widgets/base",
            "_view_module_version": "1.2.0",
            "_view_name": "LayoutView",
            "align_content": null,
            "align_items": null,
            "align_self": null,
            "border": null,
            "bottom": null,
            "display": null,
            "flex": null,
            "flex_flow": null,
            "grid_area": null,
            "grid_auto_columns": null,
            "grid_auto_flow": null,
            "grid_auto_rows": null,
            "grid_column": null,
            "grid_gap": null,
            "grid_row": null,
            "grid_template_areas": null,
            "grid_template_columns": null,
            "grid_template_rows": null,
            "height": null,
            "justify_content": null,
            "justify_items": null,
            "left": null,
            "margin": null,
            "max_height": null,
            "max_width": null,
            "min_height": null,
            "min_width": null,
            "object_fit": null,
            "object_position": null,
            "order": null,
            "overflow": null,
            "overflow_x": null,
            "overflow_y": null,
            "padding": null,
            "right": null,
            "top": null,
            "visibility": null,
            "width": null
          }
        },
        "ed144e482069450186cd49bdb0a0e721": {
          "model_module": "@jupyter-widgets/base",
          "model_name": "LayoutModel",
          "model_module_version": "1.2.0",
          "state": {
            "_model_module": "@jupyter-widgets/base",
            "_model_module_version": "1.2.0",
            "_model_name": "LayoutModel",
            "_view_count": null,
            "_view_module": "@jupyter-widgets/base",
            "_view_module_version": "1.2.0",
            "_view_name": "LayoutView",
            "align_content": null,
            "align_items": null,
            "align_self": null,
            "border": null,
            "bottom": null,
            "display": null,
            "flex": null,
            "flex_flow": null,
            "grid_area": null,
            "grid_auto_columns": null,
            "grid_auto_flow": null,
            "grid_auto_rows": null,
            "grid_column": null,
            "grid_gap": null,
            "grid_row": null,
            "grid_template_areas": null,
            "grid_template_columns": null,
            "grid_template_rows": null,
            "height": null,
            "justify_content": null,
            "justify_items": null,
            "left": null,
            "margin": null,
            "max_height": null,
            "max_width": null,
            "min_height": null,
            "min_width": null,
            "object_fit": null,
            "object_position": null,
            "order": null,
            "overflow": null,
            "overflow_x": null,
            "overflow_y": null,
            "padding": null,
            "right": null,
            "top": null,
            "visibility": null,
            "width": null
          }
        },
        "18b3682a3c5741d69d47df25ca877c8c": {
          "model_module": "@jupyter-widgets/controls",
          "model_name": "DescriptionStyleModel",
          "model_module_version": "1.5.0",
          "state": {
            "_model_module": "@jupyter-widgets/controls",
            "_model_module_version": "1.5.0",
            "_model_name": "DescriptionStyleModel",
            "_view_count": null,
            "_view_module": "@jupyter-widgets/base",
            "_view_module_version": "1.2.0",
            "_view_name": "StyleView",
            "description_width": ""
          }
        },
        "a49e8e50dfbe462f811b8bb083e97dde": {
          "model_module": "@jupyter-widgets/base",
          "model_name": "LayoutModel",
          "model_module_version": "1.2.0",
          "state": {
            "_model_module": "@jupyter-widgets/base",
            "_model_module_version": "1.2.0",
            "_model_name": "LayoutModel",
            "_view_count": null,
            "_view_module": "@jupyter-widgets/base",
            "_view_module_version": "1.2.0",
            "_view_name": "LayoutView",
            "align_content": null,
            "align_items": null,
            "align_self": null,
            "border": null,
            "bottom": null,
            "display": null,
            "flex": null,
            "flex_flow": null,
            "grid_area": null,
            "grid_auto_columns": null,
            "grid_auto_flow": null,
            "grid_auto_rows": null,
            "grid_column": null,
            "grid_gap": null,
            "grid_row": null,
            "grid_template_areas": null,
            "grid_template_columns": null,
            "grid_template_rows": null,
            "height": null,
            "justify_content": null,
            "justify_items": null,
            "left": null,
            "margin": null,
            "max_height": null,
            "max_width": null,
            "min_height": null,
            "min_width": null,
            "object_fit": null,
            "object_position": null,
            "order": null,
            "overflow": null,
            "overflow_x": null,
            "overflow_y": null,
            "padding": null,
            "right": null,
            "top": null,
            "visibility": null,
            "width": null
          }
        },
        "351caf9ff1a74f40a0c238a98e30d302": {
          "model_module": "@jupyter-widgets/controls",
          "model_name": "ProgressStyleModel",
          "model_module_version": "1.5.0",
          "state": {
            "_model_module": "@jupyter-widgets/controls",
            "_model_module_version": "1.5.0",
            "_model_name": "ProgressStyleModel",
            "_view_count": null,
            "_view_module": "@jupyter-widgets/base",
            "_view_module_version": "1.2.0",
            "_view_name": "StyleView",
            "bar_color": null,
            "description_width": ""
          }
        },
        "a737f1658bae41e78ec0cc0e856ef6a9": {
          "model_module": "@jupyter-widgets/base",
          "model_name": "LayoutModel",
          "model_module_version": "1.2.0",
          "state": {
            "_model_module": "@jupyter-widgets/base",
            "_model_module_version": "1.2.0",
            "_model_name": "LayoutModel",
            "_view_count": null,
            "_view_module": "@jupyter-widgets/base",
            "_view_module_version": "1.2.0",
            "_view_name": "LayoutView",
            "align_content": null,
            "align_items": null,
            "align_self": null,
            "border": null,
            "bottom": null,
            "display": null,
            "flex": null,
            "flex_flow": null,
            "grid_area": null,
            "grid_auto_columns": null,
            "grid_auto_flow": null,
            "grid_auto_rows": null,
            "grid_column": null,
            "grid_gap": null,
            "grid_row": null,
            "grid_template_areas": null,
            "grid_template_columns": null,
            "grid_template_rows": null,
            "height": null,
            "justify_content": null,
            "justify_items": null,
            "left": null,
            "margin": null,
            "max_height": null,
            "max_width": null,
            "min_height": null,
            "min_width": null,
            "object_fit": null,
            "object_position": null,
            "order": null,
            "overflow": null,
            "overflow_x": null,
            "overflow_y": null,
            "padding": null,
            "right": null,
            "top": null,
            "visibility": null,
            "width": null
          }
        },
        "a7c60956cd884b46a6873ca1b4c7b8fd": {
          "model_module": "@jupyter-widgets/controls",
          "model_name": "DescriptionStyleModel",
          "model_module_version": "1.5.0",
          "state": {
            "_model_module": "@jupyter-widgets/controls",
            "_model_module_version": "1.5.0",
            "_model_name": "DescriptionStyleModel",
            "_view_count": null,
            "_view_module": "@jupyter-widgets/base",
            "_view_module_version": "1.2.0",
            "_view_name": "StyleView",
            "description_width": ""
          }
        },
        "29491452096e42f29fa73078cbd7b233": {
          "model_module": "@jupyter-widgets/controls",
          "model_name": "HBoxModel",
          "model_module_version": "1.5.0",
          "state": {
            "_dom_classes": [],
            "_model_module": "@jupyter-widgets/controls",
            "_model_module_version": "1.5.0",
            "_model_name": "HBoxModel",
            "_view_count": null,
            "_view_module": "@jupyter-widgets/controls",
            "_view_module_version": "1.5.0",
            "_view_name": "HBoxView",
            "box_style": "",
            "children": [
              "IPY_MODEL_3bad3e7216da4f819174e228eb88324f",
              "IPY_MODEL_3d659857e0104901b818440fde147c30",
              "IPY_MODEL_80b5cc3439984110ae5ae94d350e261b"
            ],
            "layout": "IPY_MODEL_a3ee70a6396549559a673385c6992054"
          }
        },
        "3bad3e7216da4f819174e228eb88324f": {
          "model_module": "@jupyter-widgets/controls",
          "model_name": "HTMLModel",
          "model_module_version": "1.5.0",
          "state": {
            "_dom_classes": [],
            "_model_module": "@jupyter-widgets/controls",
            "_model_module_version": "1.5.0",
            "_model_name": "HTMLModel",
            "_view_count": null,
            "_view_module": "@jupyter-widgets/controls",
            "_view_module_version": "1.5.0",
            "_view_name": "HTMLView",
            "description": "",
            "description_tooltip": null,
            "layout": "IPY_MODEL_aa29e3da89c9407b86a9cbe06f6c7aff",
            "placeholder": "​",
            "style": "IPY_MODEL_1d9e7f9ae34e450da62fa620914066bb",
            "value": "Downloading: 100%"
          }
        },
        "3d659857e0104901b818440fde147c30": {
          "model_module": "@jupyter-widgets/controls",
          "model_name": "FloatProgressModel",
          "model_module_version": "1.5.0",
          "state": {
            "_dom_classes": [],
            "_model_module": "@jupyter-widgets/controls",
            "_model_module_version": "1.5.0",
            "_model_name": "FloatProgressModel",
            "_view_count": null,
            "_view_module": "@jupyter-widgets/controls",
            "_view_module_version": "1.5.0",
            "_view_name": "ProgressView",
            "bar_style": "success",
            "description": "",
            "description_tooltip": null,
            "layout": "IPY_MODEL_514d5572920c4c7d861071baa8e9d543",
            "max": 28,
            "min": 0,
            "orientation": "horizontal",
            "style": "IPY_MODEL_1591c49525994c12aa3124f9da40485f",
            "value": 28
          }
        },
        "80b5cc3439984110ae5ae94d350e261b": {
          "model_module": "@jupyter-widgets/controls",
          "model_name": "HTMLModel",
          "model_module_version": "1.5.0",
          "state": {
            "_dom_classes": [],
            "_model_module": "@jupyter-widgets/controls",
            "_model_module_version": "1.5.0",
            "_model_name": "HTMLModel",
            "_view_count": null,
            "_view_module": "@jupyter-widgets/controls",
            "_view_module_version": "1.5.0",
            "_view_name": "HTMLView",
            "description": "",
            "description_tooltip": null,
            "layout": "IPY_MODEL_e8fefd4839f54a2c8db641171ef95c94",
            "placeholder": "​",
            "style": "IPY_MODEL_63811360a3804dec9a05bb374c3cbf58",
            "value": " 28.0/28.0 [00:00&lt;00:00, 515B/s]"
          }
        },
        "a3ee70a6396549559a673385c6992054": {
          "model_module": "@jupyter-widgets/base",
          "model_name": "LayoutModel",
          "model_module_version": "1.2.0",
          "state": {
            "_model_module": "@jupyter-widgets/base",
            "_model_module_version": "1.2.0",
            "_model_name": "LayoutModel",
            "_view_count": null,
            "_view_module": "@jupyter-widgets/base",
            "_view_module_version": "1.2.0",
            "_view_name": "LayoutView",
            "align_content": null,
            "align_items": null,
            "align_self": null,
            "border": null,
            "bottom": null,
            "display": null,
            "flex": null,
            "flex_flow": null,
            "grid_area": null,
            "grid_auto_columns": null,
            "grid_auto_flow": null,
            "grid_auto_rows": null,
            "grid_column": null,
            "grid_gap": null,
            "grid_row": null,
            "grid_template_areas": null,
            "grid_template_columns": null,
            "grid_template_rows": null,
            "height": null,
            "justify_content": null,
            "justify_items": null,
            "left": null,
            "margin": null,
            "max_height": null,
            "max_width": null,
            "min_height": null,
            "min_width": null,
            "object_fit": null,
            "object_position": null,
            "order": null,
            "overflow": null,
            "overflow_x": null,
            "overflow_y": null,
            "padding": null,
            "right": null,
            "top": null,
            "visibility": null,
            "width": null
          }
        },
        "aa29e3da89c9407b86a9cbe06f6c7aff": {
          "model_module": "@jupyter-widgets/base",
          "model_name": "LayoutModel",
          "model_module_version": "1.2.0",
          "state": {
            "_model_module": "@jupyter-widgets/base",
            "_model_module_version": "1.2.0",
            "_model_name": "LayoutModel",
            "_view_count": null,
            "_view_module": "@jupyter-widgets/base",
            "_view_module_version": "1.2.0",
            "_view_name": "LayoutView",
            "align_content": null,
            "align_items": null,
            "align_self": null,
            "border": null,
            "bottom": null,
            "display": null,
            "flex": null,
            "flex_flow": null,
            "grid_area": null,
            "grid_auto_columns": null,
            "grid_auto_flow": null,
            "grid_auto_rows": null,
            "grid_column": null,
            "grid_gap": null,
            "grid_row": null,
            "grid_template_areas": null,
            "grid_template_columns": null,
            "grid_template_rows": null,
            "height": null,
            "justify_content": null,
            "justify_items": null,
            "left": null,
            "margin": null,
            "max_height": null,
            "max_width": null,
            "min_height": null,
            "min_width": null,
            "object_fit": null,
            "object_position": null,
            "order": null,
            "overflow": null,
            "overflow_x": null,
            "overflow_y": null,
            "padding": null,
            "right": null,
            "top": null,
            "visibility": null,
            "width": null
          }
        },
        "1d9e7f9ae34e450da62fa620914066bb": {
          "model_module": "@jupyter-widgets/controls",
          "model_name": "DescriptionStyleModel",
          "model_module_version": "1.5.0",
          "state": {
            "_model_module": "@jupyter-widgets/controls",
            "_model_module_version": "1.5.0",
            "_model_name": "DescriptionStyleModel",
            "_view_count": null,
            "_view_module": "@jupyter-widgets/base",
            "_view_module_version": "1.2.0",
            "_view_name": "StyleView",
            "description_width": ""
          }
        },
        "514d5572920c4c7d861071baa8e9d543": {
          "model_module": "@jupyter-widgets/base",
          "model_name": "LayoutModel",
          "model_module_version": "1.2.0",
          "state": {
            "_model_module": "@jupyter-widgets/base",
            "_model_module_version": "1.2.0",
            "_model_name": "LayoutModel",
            "_view_count": null,
            "_view_module": "@jupyter-widgets/base",
            "_view_module_version": "1.2.0",
            "_view_name": "LayoutView",
            "align_content": null,
            "align_items": null,
            "align_self": null,
            "border": null,
            "bottom": null,
            "display": null,
            "flex": null,
            "flex_flow": null,
            "grid_area": null,
            "grid_auto_columns": null,
            "grid_auto_flow": null,
            "grid_auto_rows": null,
            "grid_column": null,
            "grid_gap": null,
            "grid_row": null,
            "grid_template_areas": null,
            "grid_template_columns": null,
            "grid_template_rows": null,
            "height": null,
            "justify_content": null,
            "justify_items": null,
            "left": null,
            "margin": null,
            "max_height": null,
            "max_width": null,
            "min_height": null,
            "min_width": null,
            "object_fit": null,
            "object_position": null,
            "order": null,
            "overflow": null,
            "overflow_x": null,
            "overflow_y": null,
            "padding": null,
            "right": null,
            "top": null,
            "visibility": null,
            "width": null
          }
        },
        "1591c49525994c12aa3124f9da40485f": {
          "model_module": "@jupyter-widgets/controls",
          "model_name": "ProgressStyleModel",
          "model_module_version": "1.5.0",
          "state": {
            "_model_module": "@jupyter-widgets/controls",
            "_model_module_version": "1.5.0",
            "_model_name": "ProgressStyleModel",
            "_view_count": null,
            "_view_module": "@jupyter-widgets/base",
            "_view_module_version": "1.2.0",
            "_view_name": "StyleView",
            "bar_color": null,
            "description_width": ""
          }
        },
        "e8fefd4839f54a2c8db641171ef95c94": {
          "model_module": "@jupyter-widgets/base",
          "model_name": "LayoutModel",
          "model_module_version": "1.2.0",
          "state": {
            "_model_module": "@jupyter-widgets/base",
            "_model_module_version": "1.2.0",
            "_model_name": "LayoutModel",
            "_view_count": null,
            "_view_module": "@jupyter-widgets/base",
            "_view_module_version": "1.2.0",
            "_view_name": "LayoutView",
            "align_content": null,
            "align_items": null,
            "align_self": null,
            "border": null,
            "bottom": null,
            "display": null,
            "flex": null,
            "flex_flow": null,
            "grid_area": null,
            "grid_auto_columns": null,
            "grid_auto_flow": null,
            "grid_auto_rows": null,
            "grid_column": null,
            "grid_gap": null,
            "grid_row": null,
            "grid_template_areas": null,
            "grid_template_columns": null,
            "grid_template_rows": null,
            "height": null,
            "justify_content": null,
            "justify_items": null,
            "left": null,
            "margin": null,
            "max_height": null,
            "max_width": null,
            "min_height": null,
            "min_width": null,
            "object_fit": null,
            "object_position": null,
            "order": null,
            "overflow": null,
            "overflow_x": null,
            "overflow_y": null,
            "padding": null,
            "right": null,
            "top": null,
            "visibility": null,
            "width": null
          }
        },
        "63811360a3804dec9a05bb374c3cbf58": {
          "model_module": "@jupyter-widgets/controls",
          "model_name": "DescriptionStyleModel",
          "model_module_version": "1.5.0",
          "state": {
            "_model_module": "@jupyter-widgets/controls",
            "_model_module_version": "1.5.0",
            "_model_name": "DescriptionStyleModel",
            "_view_count": null,
            "_view_module": "@jupyter-widgets/base",
            "_view_module_version": "1.2.0",
            "_view_name": "StyleView",
            "description_width": ""
          }
        },
        "6fdfa6f2eb2b4528b515250eecfd0eaa": {
          "model_module": "@jupyter-widgets/controls",
          "model_name": "HBoxModel",
          "model_module_version": "1.5.0",
          "state": {
            "_dom_classes": [],
            "_model_module": "@jupyter-widgets/controls",
            "_model_module_version": "1.5.0",
            "_model_name": "HBoxModel",
            "_view_count": null,
            "_view_module": "@jupyter-widgets/controls",
            "_view_module_version": "1.5.0",
            "_view_name": "HBoxView",
            "box_style": "",
            "children": [
              "IPY_MODEL_ea0e0f94492844fbaccfb3bdbcca0c8d",
              "IPY_MODEL_4a67510b393b4a33b0b1ca853d5e0637",
              "IPY_MODEL_8e8f76898a6747a59c0dcbd1c92d26b0"
            ],
            "layout": "IPY_MODEL_e299f57fde7d4080a741e9432fe86048"
          }
        },
        "ea0e0f94492844fbaccfb3bdbcca0c8d": {
          "model_module": "@jupyter-widgets/controls",
          "model_name": "HTMLModel",
          "model_module_version": "1.5.0",
          "state": {
            "_dom_classes": [],
            "_model_module": "@jupyter-widgets/controls",
            "_model_module_version": "1.5.0",
            "_model_name": "HTMLModel",
            "_view_count": null,
            "_view_module": "@jupyter-widgets/controls",
            "_view_module_version": "1.5.0",
            "_view_name": "HTMLView",
            "description": "",
            "description_tooltip": null,
            "layout": "IPY_MODEL_84d81f5b5d1f476cbc5685e49f20c639",
            "placeholder": "​",
            "style": "IPY_MODEL_519bc3313f0845b4b15800430a6fac14",
            "value": "Downloading: 100%"
          }
        },
        "4a67510b393b4a33b0b1ca853d5e0637": {
          "model_module": "@jupyter-widgets/controls",
          "model_name": "FloatProgressModel",
          "model_module_version": "1.5.0",
          "state": {
            "_dom_classes": [],
            "_model_module": "@jupyter-widgets/controls",
            "_model_module_version": "1.5.0",
            "_model_name": "FloatProgressModel",
            "_view_count": null,
            "_view_module": "@jupyter-widgets/controls",
            "_view_module_version": "1.5.0",
            "_view_name": "ProgressView",
            "bar_style": "success",
            "description": "",
            "description_tooltip": null,
            "layout": "IPY_MODEL_0e041559a5c44115a7bbfc5bb98377f5",
            "max": 570,
            "min": 0,
            "orientation": "horizontal",
            "style": "IPY_MODEL_07bde689215d41dc98439db5c0bf19b2",
            "value": 570
          }
        },
        "8e8f76898a6747a59c0dcbd1c92d26b0": {
          "model_module": "@jupyter-widgets/controls",
          "model_name": "HTMLModel",
          "model_module_version": "1.5.0",
          "state": {
            "_dom_classes": [],
            "_model_module": "@jupyter-widgets/controls",
            "_model_module_version": "1.5.0",
            "_model_name": "HTMLModel",
            "_view_count": null,
            "_view_module": "@jupyter-widgets/controls",
            "_view_module_version": "1.5.0",
            "_view_name": "HTMLView",
            "description": "",
            "description_tooltip": null,
            "layout": "IPY_MODEL_7f4023e90740456796cfcc39f045acd3",
            "placeholder": "​",
            "style": "IPY_MODEL_c1294068472e43fda219732a188e8efb",
            "value": " 570/570 [00:00&lt;00:00, 10.4kB/s]"
          }
        },
        "e299f57fde7d4080a741e9432fe86048": {
          "model_module": "@jupyter-widgets/base",
          "model_name": "LayoutModel",
          "model_module_version": "1.2.0",
          "state": {
            "_model_module": "@jupyter-widgets/base",
            "_model_module_version": "1.2.0",
            "_model_name": "LayoutModel",
            "_view_count": null,
            "_view_module": "@jupyter-widgets/base",
            "_view_module_version": "1.2.0",
            "_view_name": "LayoutView",
            "align_content": null,
            "align_items": null,
            "align_self": null,
            "border": null,
            "bottom": null,
            "display": null,
            "flex": null,
            "flex_flow": null,
            "grid_area": null,
            "grid_auto_columns": null,
            "grid_auto_flow": null,
            "grid_auto_rows": null,
            "grid_column": null,
            "grid_gap": null,
            "grid_row": null,
            "grid_template_areas": null,
            "grid_template_columns": null,
            "grid_template_rows": null,
            "height": null,
            "justify_content": null,
            "justify_items": null,
            "left": null,
            "margin": null,
            "max_height": null,
            "max_width": null,
            "min_height": null,
            "min_width": null,
            "object_fit": null,
            "object_position": null,
            "order": null,
            "overflow": null,
            "overflow_x": null,
            "overflow_y": null,
            "padding": null,
            "right": null,
            "top": null,
            "visibility": null,
            "width": null
          }
        },
        "84d81f5b5d1f476cbc5685e49f20c639": {
          "model_module": "@jupyter-widgets/base",
          "model_name": "LayoutModel",
          "model_module_version": "1.2.0",
          "state": {
            "_model_module": "@jupyter-widgets/base",
            "_model_module_version": "1.2.0",
            "_model_name": "LayoutModel",
            "_view_count": null,
            "_view_module": "@jupyter-widgets/base",
            "_view_module_version": "1.2.0",
            "_view_name": "LayoutView",
            "align_content": null,
            "align_items": null,
            "align_self": null,
            "border": null,
            "bottom": null,
            "display": null,
            "flex": null,
            "flex_flow": null,
            "grid_area": null,
            "grid_auto_columns": null,
            "grid_auto_flow": null,
            "grid_auto_rows": null,
            "grid_column": null,
            "grid_gap": null,
            "grid_row": null,
            "grid_template_areas": null,
            "grid_template_columns": null,
            "grid_template_rows": null,
            "height": null,
            "justify_content": null,
            "justify_items": null,
            "left": null,
            "margin": null,
            "max_height": null,
            "max_width": null,
            "min_height": null,
            "min_width": null,
            "object_fit": null,
            "object_position": null,
            "order": null,
            "overflow": null,
            "overflow_x": null,
            "overflow_y": null,
            "padding": null,
            "right": null,
            "top": null,
            "visibility": null,
            "width": null
          }
        },
        "519bc3313f0845b4b15800430a6fac14": {
          "model_module": "@jupyter-widgets/controls",
          "model_name": "DescriptionStyleModel",
          "model_module_version": "1.5.0",
          "state": {
            "_model_module": "@jupyter-widgets/controls",
            "_model_module_version": "1.5.0",
            "_model_name": "DescriptionStyleModel",
            "_view_count": null,
            "_view_module": "@jupyter-widgets/base",
            "_view_module_version": "1.2.0",
            "_view_name": "StyleView",
            "description_width": ""
          }
        },
        "0e041559a5c44115a7bbfc5bb98377f5": {
          "model_module": "@jupyter-widgets/base",
          "model_name": "LayoutModel",
          "model_module_version": "1.2.0",
          "state": {
            "_model_module": "@jupyter-widgets/base",
            "_model_module_version": "1.2.0",
            "_model_name": "LayoutModel",
            "_view_count": null,
            "_view_module": "@jupyter-widgets/base",
            "_view_module_version": "1.2.0",
            "_view_name": "LayoutView",
            "align_content": null,
            "align_items": null,
            "align_self": null,
            "border": null,
            "bottom": null,
            "display": null,
            "flex": null,
            "flex_flow": null,
            "grid_area": null,
            "grid_auto_columns": null,
            "grid_auto_flow": null,
            "grid_auto_rows": null,
            "grid_column": null,
            "grid_gap": null,
            "grid_row": null,
            "grid_template_areas": null,
            "grid_template_columns": null,
            "grid_template_rows": null,
            "height": null,
            "justify_content": null,
            "justify_items": null,
            "left": null,
            "margin": null,
            "max_height": null,
            "max_width": null,
            "min_height": null,
            "min_width": null,
            "object_fit": null,
            "object_position": null,
            "order": null,
            "overflow": null,
            "overflow_x": null,
            "overflow_y": null,
            "padding": null,
            "right": null,
            "top": null,
            "visibility": null,
            "width": null
          }
        },
        "07bde689215d41dc98439db5c0bf19b2": {
          "model_module": "@jupyter-widgets/controls",
          "model_name": "ProgressStyleModel",
          "model_module_version": "1.5.0",
          "state": {
            "_model_module": "@jupyter-widgets/controls",
            "_model_module_version": "1.5.0",
            "_model_name": "ProgressStyleModel",
            "_view_count": null,
            "_view_module": "@jupyter-widgets/base",
            "_view_module_version": "1.2.0",
            "_view_name": "StyleView",
            "bar_color": null,
            "description_width": ""
          }
        },
        "7f4023e90740456796cfcc39f045acd3": {
          "model_module": "@jupyter-widgets/base",
          "model_name": "LayoutModel",
          "model_module_version": "1.2.0",
          "state": {
            "_model_module": "@jupyter-widgets/base",
            "_model_module_version": "1.2.0",
            "_model_name": "LayoutModel",
            "_view_count": null,
            "_view_module": "@jupyter-widgets/base",
            "_view_module_version": "1.2.0",
            "_view_name": "LayoutView",
            "align_content": null,
            "align_items": null,
            "align_self": null,
            "border": null,
            "bottom": null,
            "display": null,
            "flex": null,
            "flex_flow": null,
            "grid_area": null,
            "grid_auto_columns": null,
            "grid_auto_flow": null,
            "grid_auto_rows": null,
            "grid_column": null,
            "grid_gap": null,
            "grid_row": null,
            "grid_template_areas": null,
            "grid_template_columns": null,
            "grid_template_rows": null,
            "height": null,
            "justify_content": null,
            "justify_items": null,
            "left": null,
            "margin": null,
            "max_height": null,
            "max_width": null,
            "min_height": null,
            "min_width": null,
            "object_fit": null,
            "object_position": null,
            "order": null,
            "overflow": null,
            "overflow_x": null,
            "overflow_y": null,
            "padding": null,
            "right": null,
            "top": null,
            "visibility": null,
            "width": null
          }
        },
        "c1294068472e43fda219732a188e8efb": {
          "model_module": "@jupyter-widgets/controls",
          "model_name": "DescriptionStyleModel",
          "model_module_version": "1.5.0",
          "state": {
            "_model_module": "@jupyter-widgets/controls",
            "_model_module_version": "1.5.0",
            "_model_name": "DescriptionStyleModel",
            "_view_count": null,
            "_view_module": "@jupyter-widgets/base",
            "_view_module_version": "1.2.0",
            "_view_name": "StyleView",
            "description_width": ""
          }
        },
        "0207faa4201949d59990e85075afae10": {
          "model_module": "@jupyter-widgets/controls",
          "model_name": "HBoxModel",
          "model_module_version": "1.5.0",
          "state": {
            "_dom_classes": [],
            "_model_module": "@jupyter-widgets/controls",
            "_model_module_version": "1.5.0",
            "_model_name": "HBoxModel",
            "_view_count": null,
            "_view_module": "@jupyter-widgets/controls",
            "_view_module_version": "1.5.0",
            "_view_name": "HBoxView",
            "box_style": "",
            "children": [
              "IPY_MODEL_ab22a439b65544c483038664805ef6b0",
              "IPY_MODEL_f97700f8134a4251af410d7009c72faa",
              "IPY_MODEL_89764010ab794993896479be46b0da9d"
            ],
            "layout": "IPY_MODEL_f68cd3165dd94cfcb4a8e2c63bfc8c81"
          }
        },
        "ab22a439b65544c483038664805ef6b0": {
          "model_module": "@jupyter-widgets/controls",
          "model_name": "HTMLModel",
          "model_module_version": "1.5.0",
          "state": {
            "_dom_classes": [],
            "_model_module": "@jupyter-widgets/controls",
            "_model_module_version": "1.5.0",
            "_model_name": "HTMLModel",
            "_view_count": null,
            "_view_module": "@jupyter-widgets/controls",
            "_view_module_version": "1.5.0",
            "_view_name": "HTMLView",
            "description": "",
            "description_tooltip": null,
            "layout": "IPY_MODEL_dfc47f67ad644499a9d3bde3d4fbd291",
            "placeholder": "​",
            "style": "IPY_MODEL_273466aada3a4a1184be6faf2cc4f4a4",
            "value": "Downloading: 100%"
          }
        },
        "f97700f8134a4251af410d7009c72faa": {
          "model_module": "@jupyter-widgets/controls",
          "model_name": "FloatProgressModel",
          "model_module_version": "1.5.0",
          "state": {
            "_dom_classes": [],
            "_model_module": "@jupyter-widgets/controls",
            "_model_module_version": "1.5.0",
            "_model_name": "FloatProgressModel",
            "_view_count": null,
            "_view_module": "@jupyter-widgets/controls",
            "_view_module_version": "1.5.0",
            "_view_name": "ProgressView",
            "bar_style": "success",
            "description": "",
            "description_tooltip": null,
            "layout": "IPY_MODEL_074e48efdee84b8797526b8b10fffa79",
            "max": 536063208,
            "min": 0,
            "orientation": "horizontal",
            "style": "IPY_MODEL_3d0c65c4b20741189eedea0064a99157",
            "value": 536063208
          }
        },
        "89764010ab794993896479be46b0da9d": {
          "model_module": "@jupyter-widgets/controls",
          "model_name": "HTMLModel",
          "model_module_version": "1.5.0",
          "state": {
            "_dom_classes": [],
            "_model_module": "@jupyter-widgets/controls",
            "_model_module_version": "1.5.0",
            "_model_name": "HTMLModel",
            "_view_count": null,
            "_view_module": "@jupyter-widgets/controls",
            "_view_module_version": "1.5.0",
            "_view_name": "HTMLView",
            "description": "",
            "description_tooltip": null,
            "layout": "IPY_MODEL_19ad87983455497eb8110b0c837092e1",
            "placeholder": "​",
            "style": "IPY_MODEL_c2fb20b6208b4ffdac4eabd02f267ba5",
            "value": " 536M/536M [00:18&lt;00:00, 38.9MB/s]"
          }
        },
        "f68cd3165dd94cfcb4a8e2c63bfc8c81": {
          "model_module": "@jupyter-widgets/base",
          "model_name": "LayoutModel",
          "model_module_version": "1.2.0",
          "state": {
            "_model_module": "@jupyter-widgets/base",
            "_model_module_version": "1.2.0",
            "_model_name": "LayoutModel",
            "_view_count": null,
            "_view_module": "@jupyter-widgets/base",
            "_view_module_version": "1.2.0",
            "_view_name": "LayoutView",
            "align_content": null,
            "align_items": null,
            "align_self": null,
            "border": null,
            "bottom": null,
            "display": null,
            "flex": null,
            "flex_flow": null,
            "grid_area": null,
            "grid_auto_columns": null,
            "grid_auto_flow": null,
            "grid_auto_rows": null,
            "grid_column": null,
            "grid_gap": null,
            "grid_row": null,
            "grid_template_areas": null,
            "grid_template_columns": null,
            "grid_template_rows": null,
            "height": null,
            "justify_content": null,
            "justify_items": null,
            "left": null,
            "margin": null,
            "max_height": null,
            "max_width": null,
            "min_height": null,
            "min_width": null,
            "object_fit": null,
            "object_position": null,
            "order": null,
            "overflow": null,
            "overflow_x": null,
            "overflow_y": null,
            "padding": null,
            "right": null,
            "top": null,
            "visibility": null,
            "width": null
          }
        },
        "dfc47f67ad644499a9d3bde3d4fbd291": {
          "model_module": "@jupyter-widgets/base",
          "model_name": "LayoutModel",
          "model_module_version": "1.2.0",
          "state": {
            "_model_module": "@jupyter-widgets/base",
            "_model_module_version": "1.2.0",
            "_model_name": "LayoutModel",
            "_view_count": null,
            "_view_module": "@jupyter-widgets/base",
            "_view_module_version": "1.2.0",
            "_view_name": "LayoutView",
            "align_content": null,
            "align_items": null,
            "align_self": null,
            "border": null,
            "bottom": null,
            "display": null,
            "flex": null,
            "flex_flow": null,
            "grid_area": null,
            "grid_auto_columns": null,
            "grid_auto_flow": null,
            "grid_auto_rows": null,
            "grid_column": null,
            "grid_gap": null,
            "grid_row": null,
            "grid_template_areas": null,
            "grid_template_columns": null,
            "grid_template_rows": null,
            "height": null,
            "justify_content": null,
            "justify_items": null,
            "left": null,
            "margin": null,
            "max_height": null,
            "max_width": null,
            "min_height": null,
            "min_width": null,
            "object_fit": null,
            "object_position": null,
            "order": null,
            "overflow": null,
            "overflow_x": null,
            "overflow_y": null,
            "padding": null,
            "right": null,
            "top": null,
            "visibility": null,
            "width": null
          }
        },
        "273466aada3a4a1184be6faf2cc4f4a4": {
          "model_module": "@jupyter-widgets/controls",
          "model_name": "DescriptionStyleModel",
          "model_module_version": "1.5.0",
          "state": {
            "_model_module": "@jupyter-widgets/controls",
            "_model_module_version": "1.5.0",
            "_model_name": "DescriptionStyleModel",
            "_view_count": null,
            "_view_module": "@jupyter-widgets/base",
            "_view_module_version": "1.2.0",
            "_view_name": "StyleView",
            "description_width": ""
          }
        },
        "074e48efdee84b8797526b8b10fffa79": {
          "model_module": "@jupyter-widgets/base",
          "model_name": "LayoutModel",
          "model_module_version": "1.2.0",
          "state": {
            "_model_module": "@jupyter-widgets/base",
            "_model_module_version": "1.2.0",
            "_model_name": "LayoutModel",
            "_view_count": null,
            "_view_module": "@jupyter-widgets/base",
            "_view_module_version": "1.2.0",
            "_view_name": "LayoutView",
            "align_content": null,
            "align_items": null,
            "align_self": null,
            "border": null,
            "bottom": null,
            "display": null,
            "flex": null,
            "flex_flow": null,
            "grid_area": null,
            "grid_auto_columns": null,
            "grid_auto_flow": null,
            "grid_auto_rows": null,
            "grid_column": null,
            "grid_gap": null,
            "grid_row": null,
            "grid_template_areas": null,
            "grid_template_columns": null,
            "grid_template_rows": null,
            "height": null,
            "justify_content": null,
            "justify_items": null,
            "left": null,
            "margin": null,
            "max_height": null,
            "max_width": null,
            "min_height": null,
            "min_width": null,
            "object_fit": null,
            "object_position": null,
            "order": null,
            "overflow": null,
            "overflow_x": null,
            "overflow_y": null,
            "padding": null,
            "right": null,
            "top": null,
            "visibility": null,
            "width": null
          }
        },
        "3d0c65c4b20741189eedea0064a99157": {
          "model_module": "@jupyter-widgets/controls",
          "model_name": "ProgressStyleModel",
          "model_module_version": "1.5.0",
          "state": {
            "_model_module": "@jupyter-widgets/controls",
            "_model_module_version": "1.5.0",
            "_model_name": "ProgressStyleModel",
            "_view_count": null,
            "_view_module": "@jupyter-widgets/base",
            "_view_module_version": "1.2.0",
            "_view_name": "StyleView",
            "bar_color": null,
            "description_width": ""
          }
        },
        "19ad87983455497eb8110b0c837092e1": {
          "model_module": "@jupyter-widgets/base",
          "model_name": "LayoutModel",
          "model_module_version": "1.2.0",
          "state": {
            "_model_module": "@jupyter-widgets/base",
            "_model_module_version": "1.2.0",
            "_model_name": "LayoutModel",
            "_view_count": null,
            "_view_module": "@jupyter-widgets/base",
            "_view_module_version": "1.2.0",
            "_view_name": "LayoutView",
            "align_content": null,
            "align_items": null,
            "align_self": null,
            "border": null,
            "bottom": null,
            "display": null,
            "flex": null,
            "flex_flow": null,
            "grid_area": null,
            "grid_auto_columns": null,
            "grid_auto_flow": null,
            "grid_auto_rows": null,
            "grid_column": null,
            "grid_gap": null,
            "grid_row": null,
            "grid_template_areas": null,
            "grid_template_columns": null,
            "grid_template_rows": null,
            "height": null,
            "justify_content": null,
            "justify_items": null,
            "left": null,
            "margin": null,
            "max_height": null,
            "max_width": null,
            "min_height": null,
            "min_width": null,
            "object_fit": null,
            "object_position": null,
            "order": null,
            "overflow": null,
            "overflow_x": null,
            "overflow_y": null,
            "padding": null,
            "right": null,
            "top": null,
            "visibility": null,
            "width": null
          }
        },
        "c2fb20b6208b4ffdac4eabd02f267ba5": {
          "model_module": "@jupyter-widgets/controls",
          "model_name": "DescriptionStyleModel",
          "model_module_version": "1.5.0",
          "state": {
            "_model_module": "@jupyter-widgets/controls",
            "_model_module_version": "1.5.0",
            "_model_name": "DescriptionStyleModel",
            "_view_count": null,
            "_view_module": "@jupyter-widgets/base",
            "_view_module_version": "1.2.0",
            "_view_name": "StyleView",
            "description_width": ""
          }
        },
        "e83bb69e1d934e469ecee4ebd763e03b": {
          "model_module": "@jupyter-widgets/controls",
          "model_name": "HBoxModel",
          "model_module_version": "1.5.0",
          "state": {
            "_dom_classes": [],
            "_model_module": "@jupyter-widgets/controls",
            "_model_module_version": "1.5.0",
            "_model_name": "HBoxModel",
            "_view_count": null,
            "_view_module": "@jupyter-widgets/controls",
            "_view_module_version": "1.5.0",
            "_view_name": "HBoxView",
            "box_style": "",
            "children": [
              "IPY_MODEL_edde97bc33cd490e97739bf7972b3f00",
              "IPY_MODEL_356fd3a1534a4219a4116477c99f24a8",
              "IPY_MODEL_53519cc323ca4aed98d0ce9c90298809"
            ],
            "layout": "IPY_MODEL_f1342d34dfd5457a93512e27ffe5877f"
          }
        },
        "edde97bc33cd490e97739bf7972b3f00": {
          "model_module": "@jupyter-widgets/controls",
          "model_name": "HTMLModel",
          "model_module_version": "1.5.0",
          "state": {
            "_dom_classes": [],
            "_model_module": "@jupyter-widgets/controls",
            "_model_module_version": "1.5.0",
            "_model_name": "HTMLModel",
            "_view_count": null,
            "_view_module": "@jupyter-widgets/controls",
            "_view_module_version": "1.5.0",
            "_view_name": "HTMLView",
            "description": "",
            "description_tooltip": null,
            "layout": "IPY_MODEL_5dcd1d4ec0bc4836a0374ef40993f7ec",
            "placeholder": "​",
            "style": "IPY_MODEL_14d4fd1503574e208c313b24dd33917c",
            "value": "Downloading: 100%"
          }
        },
        "356fd3a1534a4219a4116477c99f24a8": {
          "model_module": "@jupyter-widgets/controls",
          "model_name": "FloatProgressModel",
          "model_module_version": "1.5.0",
          "state": {
            "_dom_classes": [],
            "_model_module": "@jupyter-widgets/controls",
            "_model_module_version": "1.5.0",
            "_model_name": "FloatProgressModel",
            "_view_count": null,
            "_view_module": "@jupyter-widgets/controls",
            "_view_module_version": "1.5.0",
            "_view_name": "ProgressView",
            "bar_style": "success",
            "description": "",
            "description_tooltip": null,
            "layout": "IPY_MODEL_4c96694c783145afb085c79564c623c3",
            "max": 1416,
            "min": 0,
            "orientation": "horizontal",
            "style": "IPY_MODEL_67a01543c1474711bb6cbb46ec7559c0",
            "value": 1416
          }
        },
        "53519cc323ca4aed98d0ce9c90298809": {
          "model_module": "@jupyter-widgets/controls",
          "model_name": "HTMLModel",
          "model_module_version": "1.5.0",
          "state": {
            "_dom_classes": [],
            "_model_module": "@jupyter-widgets/controls",
            "_model_module_version": "1.5.0",
            "_model_name": "HTMLModel",
            "_view_count": null,
            "_view_module": "@jupyter-widgets/controls",
            "_view_module_version": "1.5.0",
            "_view_name": "HTMLView",
            "description": "",
            "description_tooltip": null,
            "layout": "IPY_MODEL_2eaa7a341f234803a11569ca27f81633",
            "placeholder": "​",
            "style": "IPY_MODEL_9154a56d1080435893625be0aefb05b0",
            "value": " 1.42k/1.42k [00:00&lt;00:00, 17.1kB/s]"
          }
        },
        "f1342d34dfd5457a93512e27ffe5877f": {
          "model_module": "@jupyter-widgets/base",
          "model_name": "LayoutModel",
          "model_module_version": "1.2.0",
          "state": {
            "_model_module": "@jupyter-widgets/base",
            "_model_module_version": "1.2.0",
            "_model_name": "LayoutModel",
            "_view_count": null,
            "_view_module": "@jupyter-widgets/base",
            "_view_module_version": "1.2.0",
            "_view_name": "LayoutView",
            "align_content": null,
            "align_items": null,
            "align_self": null,
            "border": null,
            "bottom": null,
            "display": null,
            "flex": null,
            "flex_flow": null,
            "grid_area": null,
            "grid_auto_columns": null,
            "grid_auto_flow": null,
            "grid_auto_rows": null,
            "grid_column": null,
            "grid_gap": null,
            "grid_row": null,
            "grid_template_areas": null,
            "grid_template_columns": null,
            "grid_template_rows": null,
            "height": null,
            "justify_content": null,
            "justify_items": null,
            "left": null,
            "margin": null,
            "max_height": null,
            "max_width": null,
            "min_height": null,
            "min_width": null,
            "object_fit": null,
            "object_position": null,
            "order": null,
            "overflow": null,
            "overflow_x": null,
            "overflow_y": null,
            "padding": null,
            "right": null,
            "top": null,
            "visibility": null,
            "width": null
          }
        },
        "5dcd1d4ec0bc4836a0374ef40993f7ec": {
          "model_module": "@jupyter-widgets/base",
          "model_name": "LayoutModel",
          "model_module_version": "1.2.0",
          "state": {
            "_model_module": "@jupyter-widgets/base",
            "_model_module_version": "1.2.0",
            "_model_name": "LayoutModel",
            "_view_count": null,
            "_view_module": "@jupyter-widgets/base",
            "_view_module_version": "1.2.0",
            "_view_name": "LayoutView",
            "align_content": null,
            "align_items": null,
            "align_self": null,
            "border": null,
            "bottom": null,
            "display": null,
            "flex": null,
            "flex_flow": null,
            "grid_area": null,
            "grid_auto_columns": null,
            "grid_auto_flow": null,
            "grid_auto_rows": null,
            "grid_column": null,
            "grid_gap": null,
            "grid_row": null,
            "grid_template_areas": null,
            "grid_template_columns": null,
            "grid_template_rows": null,
            "height": null,
            "justify_content": null,
            "justify_items": null,
            "left": null,
            "margin": null,
            "max_height": null,
            "max_width": null,
            "min_height": null,
            "min_width": null,
            "object_fit": null,
            "object_position": null,
            "order": null,
            "overflow": null,
            "overflow_x": null,
            "overflow_y": null,
            "padding": null,
            "right": null,
            "top": null,
            "visibility": null,
            "width": null
          }
        },
        "14d4fd1503574e208c313b24dd33917c": {
          "model_module": "@jupyter-widgets/controls",
          "model_name": "DescriptionStyleModel",
          "model_module_version": "1.5.0",
          "state": {
            "_model_module": "@jupyter-widgets/controls",
            "_model_module_version": "1.5.0",
            "_model_name": "DescriptionStyleModel",
            "_view_count": null,
            "_view_module": "@jupyter-widgets/base",
            "_view_module_version": "1.2.0",
            "_view_name": "StyleView",
            "description_width": ""
          }
        },
        "4c96694c783145afb085c79564c623c3": {
          "model_module": "@jupyter-widgets/base",
          "model_name": "LayoutModel",
          "model_module_version": "1.2.0",
          "state": {
            "_model_module": "@jupyter-widgets/base",
            "_model_module_version": "1.2.0",
            "_model_name": "LayoutModel",
            "_view_count": null,
            "_view_module": "@jupyter-widgets/base",
            "_view_module_version": "1.2.0",
            "_view_name": "LayoutView",
            "align_content": null,
            "align_items": null,
            "align_self": null,
            "border": null,
            "bottom": null,
            "display": null,
            "flex": null,
            "flex_flow": null,
            "grid_area": null,
            "grid_auto_columns": null,
            "grid_auto_flow": null,
            "grid_auto_rows": null,
            "grid_column": null,
            "grid_gap": null,
            "grid_row": null,
            "grid_template_areas": null,
            "grid_template_columns": null,
            "grid_template_rows": null,
            "height": null,
            "justify_content": null,
            "justify_items": null,
            "left": null,
            "margin": null,
            "max_height": null,
            "max_width": null,
            "min_height": null,
            "min_width": null,
            "object_fit": null,
            "object_position": null,
            "order": null,
            "overflow": null,
            "overflow_x": null,
            "overflow_y": null,
            "padding": null,
            "right": null,
            "top": null,
            "visibility": null,
            "width": null
          }
        },
        "67a01543c1474711bb6cbb46ec7559c0": {
          "model_module": "@jupyter-widgets/controls",
          "model_name": "ProgressStyleModel",
          "model_module_version": "1.5.0",
          "state": {
            "_model_module": "@jupyter-widgets/controls",
            "_model_module_version": "1.5.0",
            "_model_name": "ProgressStyleModel",
            "_view_count": null,
            "_view_module": "@jupyter-widgets/base",
            "_view_module_version": "1.2.0",
            "_view_name": "StyleView",
            "bar_color": null,
            "description_width": ""
          }
        },
        "2eaa7a341f234803a11569ca27f81633": {
          "model_module": "@jupyter-widgets/base",
          "model_name": "LayoutModel",
          "model_module_version": "1.2.0",
          "state": {
            "_model_module": "@jupyter-widgets/base",
            "_model_module_version": "1.2.0",
            "_model_name": "LayoutModel",
            "_view_count": null,
            "_view_module": "@jupyter-widgets/base",
            "_view_module_version": "1.2.0",
            "_view_name": "LayoutView",
            "align_content": null,
            "align_items": null,
            "align_self": null,
            "border": null,
            "bottom": null,
            "display": null,
            "flex": null,
            "flex_flow": null,
            "grid_area": null,
            "grid_auto_columns": null,
            "grid_auto_flow": null,
            "grid_auto_rows": null,
            "grid_column": null,
            "grid_gap": null,
            "grid_row": null,
            "grid_template_areas": null,
            "grid_template_columns": null,
            "grid_template_rows": null,
            "height": null,
            "justify_content": null,
            "justify_items": null,
            "left": null,
            "margin": null,
            "max_height": null,
            "max_width": null,
            "min_height": null,
            "min_width": null,
            "object_fit": null,
            "object_position": null,
            "order": null,
            "overflow": null,
            "overflow_x": null,
            "overflow_y": null,
            "padding": null,
            "right": null,
            "top": null,
            "visibility": null,
            "width": null
          }
        },
        "9154a56d1080435893625be0aefb05b0": {
          "model_module": "@jupyter-widgets/controls",
          "model_name": "DescriptionStyleModel",
          "model_module_version": "1.5.0",
          "state": {
            "_model_module": "@jupyter-widgets/controls",
            "_model_module_version": "1.5.0",
            "_model_name": "DescriptionStyleModel",
            "_view_count": null,
            "_view_module": "@jupyter-widgets/base",
            "_view_module_version": "1.2.0",
            "_view_name": "StyleView",
            "description_width": ""
          }
        },
        "b86052a957c944bba94275db031bb04f": {
          "model_module": "@jupyter-widgets/controls",
          "model_name": "HBoxModel",
          "model_module_version": "1.5.0",
          "state": {
            "_dom_classes": [],
            "_model_module": "@jupyter-widgets/controls",
            "_model_module_version": "1.5.0",
            "_model_name": "HBoxModel",
            "_view_count": null,
            "_view_module": "@jupyter-widgets/controls",
            "_view_module_version": "1.5.0",
            "_view_name": "HBoxView",
            "box_style": "",
            "children": [
              "IPY_MODEL_79234a9bdd614f38b4cc503c9277619d",
              "IPY_MODEL_cda2db3c29f049b68d9cad853b498633",
              "IPY_MODEL_ccb3e81b3ba44d36b7544a8268d0a979"
            ],
            "layout": "IPY_MODEL_a51857e398584290851c67eb21eb95d6"
          }
        },
        "79234a9bdd614f38b4cc503c9277619d": {
          "model_module": "@jupyter-widgets/controls",
          "model_name": "HTMLModel",
          "model_module_version": "1.5.0",
          "state": {
            "_dom_classes": [],
            "_model_module": "@jupyter-widgets/controls",
            "_model_module_version": "1.5.0",
            "_model_name": "HTMLModel",
            "_view_count": null,
            "_view_module": "@jupyter-widgets/controls",
            "_view_module_version": "1.5.0",
            "_view_name": "HTMLView",
            "description": "",
            "description_tooltip": null,
            "layout": "IPY_MODEL_d7128bda141044ccb0c336d6aa14ee6c",
            "placeholder": "​",
            "style": "IPY_MODEL_abe806b0c16d419db2fb5c2d25d6c14f",
            "value": "Downloading: 100%"
          }
        },
        "cda2db3c29f049b68d9cad853b498633": {
          "model_module": "@jupyter-widgets/controls",
          "model_name": "FloatProgressModel",
          "model_module_version": "1.5.0",
          "state": {
            "_dom_classes": [],
            "_model_module": "@jupyter-widgets/controls",
            "_model_module_version": "1.5.0",
            "_model_name": "FloatProgressModel",
            "_view_count": null,
            "_view_module": "@jupyter-widgets/controls",
            "_view_module_version": "1.5.0",
            "_view_name": "ProgressView",
            "bar_style": "success",
            "description": "",
            "description_tooltip": null,
            "layout": "IPY_MODEL_568678aa0eae49e792dfeea820758d8f",
            "max": 300827685,
            "min": 0,
            "orientation": "horizontal",
            "style": "IPY_MODEL_b16d326a00a74654abff855ec8b13f9b",
            "value": 300827685
          }
        },
        "ccb3e81b3ba44d36b7544a8268d0a979": {
          "model_module": "@jupyter-widgets/controls",
          "model_name": "HTMLModel",
          "model_module_version": "1.5.0",
          "state": {
            "_dom_classes": [],
            "_model_module": "@jupyter-widgets/controls",
            "_model_module_version": "1.5.0",
            "_model_name": "HTMLModel",
            "_view_count": null,
            "_view_module": "@jupyter-widgets/controls",
            "_view_module_version": "1.5.0",
            "_view_name": "HTMLView",
            "description": "",
            "description_tooltip": null,
            "layout": "IPY_MODEL_2dca65db3b4e4be782bf64d634d10a81",
            "placeholder": "​",
            "style": "IPY_MODEL_b4d6bad2211b4ad78389ca4d679a27a5",
            "value": " 301M/301M [00:11&lt;00:00, 20.6MB/s]"
          }
        },
        "a51857e398584290851c67eb21eb95d6": {
          "model_module": "@jupyter-widgets/base",
          "model_name": "LayoutModel",
          "model_module_version": "1.2.0",
          "state": {
            "_model_module": "@jupyter-widgets/base",
            "_model_module_version": "1.2.0",
            "_model_name": "LayoutModel",
            "_view_count": null,
            "_view_module": "@jupyter-widgets/base",
            "_view_module_version": "1.2.0",
            "_view_name": "LayoutView",
            "align_content": null,
            "align_items": null,
            "align_self": null,
            "border": null,
            "bottom": null,
            "display": null,
            "flex": null,
            "flex_flow": null,
            "grid_area": null,
            "grid_auto_columns": null,
            "grid_auto_flow": null,
            "grid_auto_rows": null,
            "grid_column": null,
            "grid_gap": null,
            "grid_row": null,
            "grid_template_areas": null,
            "grid_template_columns": null,
            "grid_template_rows": null,
            "height": null,
            "justify_content": null,
            "justify_items": null,
            "left": null,
            "margin": null,
            "max_height": null,
            "max_width": null,
            "min_height": null,
            "min_width": null,
            "object_fit": null,
            "object_position": null,
            "order": null,
            "overflow": null,
            "overflow_x": null,
            "overflow_y": null,
            "padding": null,
            "right": null,
            "top": null,
            "visibility": null,
            "width": null
          }
        },
        "d7128bda141044ccb0c336d6aa14ee6c": {
          "model_module": "@jupyter-widgets/base",
          "model_name": "LayoutModel",
          "model_module_version": "1.2.0",
          "state": {
            "_model_module": "@jupyter-widgets/base",
            "_model_module_version": "1.2.0",
            "_model_name": "LayoutModel",
            "_view_count": null,
            "_view_module": "@jupyter-widgets/base",
            "_view_module_version": "1.2.0",
            "_view_name": "LayoutView",
            "align_content": null,
            "align_items": null,
            "align_self": null,
            "border": null,
            "bottom": null,
            "display": null,
            "flex": null,
            "flex_flow": null,
            "grid_area": null,
            "grid_auto_columns": null,
            "grid_auto_flow": null,
            "grid_auto_rows": null,
            "grid_column": null,
            "grid_gap": null,
            "grid_row": null,
            "grid_template_areas": null,
            "grid_template_columns": null,
            "grid_template_rows": null,
            "height": null,
            "justify_content": null,
            "justify_items": null,
            "left": null,
            "margin": null,
            "max_height": null,
            "max_width": null,
            "min_height": null,
            "min_width": null,
            "object_fit": null,
            "object_position": null,
            "order": null,
            "overflow": null,
            "overflow_x": null,
            "overflow_y": null,
            "padding": null,
            "right": null,
            "top": null,
            "visibility": null,
            "width": null
          }
        },
        "abe806b0c16d419db2fb5c2d25d6c14f": {
          "model_module": "@jupyter-widgets/controls",
          "model_name": "DescriptionStyleModel",
          "model_module_version": "1.5.0",
          "state": {
            "_model_module": "@jupyter-widgets/controls",
            "_model_module_version": "1.5.0",
            "_model_name": "DescriptionStyleModel",
            "_view_count": null,
            "_view_module": "@jupyter-widgets/base",
            "_view_module_version": "1.2.0",
            "_view_name": "StyleView",
            "description_width": ""
          }
        },
        "568678aa0eae49e792dfeea820758d8f": {
          "model_module": "@jupyter-widgets/base",
          "model_name": "LayoutModel",
          "model_module_version": "1.2.0",
          "state": {
            "_model_module": "@jupyter-widgets/base",
            "_model_module_version": "1.2.0",
            "_model_name": "LayoutModel",
            "_view_count": null,
            "_view_module": "@jupyter-widgets/base",
            "_view_module_version": "1.2.0",
            "_view_name": "LayoutView",
            "align_content": null,
            "align_items": null,
            "align_self": null,
            "border": null,
            "bottom": null,
            "display": null,
            "flex": null,
            "flex_flow": null,
            "grid_area": null,
            "grid_auto_columns": null,
            "grid_auto_flow": null,
            "grid_auto_rows": null,
            "grid_column": null,
            "grid_gap": null,
            "grid_row": null,
            "grid_template_areas": null,
            "grid_template_columns": null,
            "grid_template_rows": null,
            "height": null,
            "justify_content": null,
            "justify_items": null,
            "left": null,
            "margin": null,
            "max_height": null,
            "max_width": null,
            "min_height": null,
            "min_width": null,
            "object_fit": null,
            "object_position": null,
            "order": null,
            "overflow": null,
            "overflow_x": null,
            "overflow_y": null,
            "padding": null,
            "right": null,
            "top": null,
            "visibility": null,
            "width": null
          }
        },
        "b16d326a00a74654abff855ec8b13f9b": {
          "model_module": "@jupyter-widgets/controls",
          "model_name": "ProgressStyleModel",
          "model_module_version": "1.5.0",
          "state": {
            "_model_module": "@jupyter-widgets/controls",
            "_model_module_version": "1.5.0",
            "_model_name": "ProgressStyleModel",
            "_view_count": null,
            "_view_module": "@jupyter-widgets/base",
            "_view_module_version": "1.2.0",
            "_view_name": "StyleView",
            "bar_color": null,
            "description_width": ""
          }
        },
        "2dca65db3b4e4be782bf64d634d10a81": {
          "model_module": "@jupyter-widgets/base",
          "model_name": "LayoutModel",
          "model_module_version": "1.2.0",
          "state": {
            "_model_module": "@jupyter-widgets/base",
            "_model_module_version": "1.2.0",
            "_model_name": "LayoutModel",
            "_view_count": null,
            "_view_module": "@jupyter-widgets/base",
            "_view_module_version": "1.2.0",
            "_view_name": "LayoutView",
            "align_content": null,
            "align_items": null,
            "align_self": null,
            "border": null,
            "bottom": null,
            "display": null,
            "flex": null,
            "flex_flow": null,
            "grid_area": null,
            "grid_auto_columns": null,
            "grid_auto_flow": null,
            "grid_auto_rows": null,
            "grid_column": null,
            "grid_gap": null,
            "grid_row": null,
            "grid_template_areas": null,
            "grid_template_columns": null,
            "grid_template_rows": null,
            "height": null,
            "justify_content": null,
            "justify_items": null,
            "left": null,
            "margin": null,
            "max_height": null,
            "max_width": null,
            "min_height": null,
            "min_width": null,
            "object_fit": null,
            "object_position": null,
            "order": null,
            "overflow": null,
            "overflow_x": null,
            "overflow_y": null,
            "padding": null,
            "right": null,
            "top": null,
            "visibility": null,
            "width": null
          }
        },
        "b4d6bad2211b4ad78389ca4d679a27a5": {
          "model_module": "@jupyter-widgets/controls",
          "model_name": "DescriptionStyleModel",
          "model_module_version": "1.5.0",
          "state": {
            "_model_module": "@jupyter-widgets/controls",
            "_model_module_version": "1.5.0",
            "_model_name": "DescriptionStyleModel",
            "_view_count": null,
            "_view_module": "@jupyter-widgets/base",
            "_view_module_version": "1.2.0",
            "_view_name": "StyleView",
            "description_width": ""
          }
        },
        "8257d0874a794294b96c38039e7bbaef": {
          "model_module": "@jupyter-widgets/controls",
          "model_name": "HBoxModel",
          "model_module_version": "1.5.0",
          "state": {
            "_dom_classes": [],
            "_model_module": "@jupyter-widgets/controls",
            "_model_module_version": "1.5.0",
            "_model_name": "HBoxModel",
            "_view_count": null,
            "_view_module": "@jupyter-widgets/controls",
            "_view_module_version": "1.5.0",
            "_view_name": "HBoxView",
            "box_style": "",
            "children": [
              "IPY_MODEL_615d986bffdc4dca91b9580d02c95e45",
              "IPY_MODEL_74b36487dee344e29f5ec256eea591b5",
              "IPY_MODEL_58e2b039f803479da8b0ff9842e6b46c"
            ],
            "layout": "IPY_MODEL_0bf5fd7b4302408d8b31fb8088aea36b"
          }
        },
        "615d986bffdc4dca91b9580d02c95e45": {
          "model_module": "@jupyter-widgets/controls",
          "model_name": "HTMLModel",
          "model_module_version": "1.5.0",
          "state": {
            "_dom_classes": [],
            "_model_module": "@jupyter-widgets/controls",
            "_model_module_version": "1.5.0",
            "_model_name": "HTMLModel",
            "_view_count": null,
            "_view_module": "@jupyter-widgets/controls",
            "_view_module_version": "1.5.0",
            "_view_name": "HTMLView",
            "description": "",
            "description_tooltip": null,
            "layout": "IPY_MODEL_a9a1ac4e6c4343628765e3aa971b33f8",
            "placeholder": "​",
            "style": "IPY_MODEL_9e66ed62ce1045f4a4385d188c5a2a16",
            "value": "Downloading: 100%"
          }
        },
        "74b36487dee344e29f5ec256eea591b5": {
          "model_module": "@jupyter-widgets/controls",
          "model_name": "FloatProgressModel",
          "model_module_version": "1.5.0",
          "state": {
            "_dom_classes": [],
            "_model_module": "@jupyter-widgets/controls",
            "_model_module_version": "1.5.0",
            "_model_name": "FloatProgressModel",
            "_view_count": null,
            "_view_module": "@jupyter-widgets/controls",
            "_view_module_version": "1.5.0",
            "_view_name": "ProgressView",
            "bar_style": "success",
            "description": "",
            "description_tooltip": null,
            "layout": "IPY_MODEL_36053ce547744fd4aaca28499b2bdb95",
            "max": 1416,
            "min": 0,
            "orientation": "horizontal",
            "style": "IPY_MODEL_467b3f3ca75940d389e9f1c1287bd8da",
            "value": 1416
          }
        },
        "58e2b039f803479da8b0ff9842e6b46c": {
          "model_module": "@jupyter-widgets/controls",
          "model_name": "HTMLModel",
          "model_module_version": "1.5.0",
          "state": {
            "_dom_classes": [],
            "_model_module": "@jupyter-widgets/controls",
            "_model_module_version": "1.5.0",
            "_model_name": "HTMLModel",
            "_view_count": null,
            "_view_module": "@jupyter-widgets/controls",
            "_view_module_version": "1.5.0",
            "_view_name": "HTMLView",
            "description": "",
            "description_tooltip": null,
            "layout": "IPY_MODEL_c1253fb1908a493e8f3d3ede9b962651",
            "placeholder": "​",
            "style": "IPY_MODEL_9bc815d5f54a49f8ad3294eba3dcf889",
            "value": " 1.42k/1.42k [00:00&lt;00:00, 40.6kB/s]"
          }
        },
        "0bf5fd7b4302408d8b31fb8088aea36b": {
          "model_module": "@jupyter-widgets/base",
          "model_name": "LayoutModel",
          "model_module_version": "1.2.0",
          "state": {
            "_model_module": "@jupyter-widgets/base",
            "_model_module_version": "1.2.0",
            "_model_name": "LayoutModel",
            "_view_count": null,
            "_view_module": "@jupyter-widgets/base",
            "_view_module_version": "1.2.0",
            "_view_name": "LayoutView",
            "align_content": null,
            "align_items": null,
            "align_self": null,
            "border": null,
            "bottom": null,
            "display": null,
            "flex": null,
            "flex_flow": null,
            "grid_area": null,
            "grid_auto_columns": null,
            "grid_auto_flow": null,
            "grid_auto_rows": null,
            "grid_column": null,
            "grid_gap": null,
            "grid_row": null,
            "grid_template_areas": null,
            "grid_template_columns": null,
            "grid_template_rows": null,
            "height": null,
            "justify_content": null,
            "justify_items": null,
            "left": null,
            "margin": null,
            "max_height": null,
            "max_width": null,
            "min_height": null,
            "min_width": null,
            "object_fit": null,
            "object_position": null,
            "order": null,
            "overflow": null,
            "overflow_x": null,
            "overflow_y": null,
            "padding": null,
            "right": null,
            "top": null,
            "visibility": null,
            "width": null
          }
        },
        "a9a1ac4e6c4343628765e3aa971b33f8": {
          "model_module": "@jupyter-widgets/base",
          "model_name": "LayoutModel",
          "model_module_version": "1.2.0",
          "state": {
            "_model_module": "@jupyter-widgets/base",
            "_model_module_version": "1.2.0",
            "_model_name": "LayoutModel",
            "_view_count": null,
            "_view_module": "@jupyter-widgets/base",
            "_view_module_version": "1.2.0",
            "_view_name": "LayoutView",
            "align_content": null,
            "align_items": null,
            "align_self": null,
            "border": null,
            "bottom": null,
            "display": null,
            "flex": null,
            "flex_flow": null,
            "grid_area": null,
            "grid_auto_columns": null,
            "grid_auto_flow": null,
            "grid_auto_rows": null,
            "grid_column": null,
            "grid_gap": null,
            "grid_row": null,
            "grid_template_areas": null,
            "grid_template_columns": null,
            "grid_template_rows": null,
            "height": null,
            "justify_content": null,
            "justify_items": null,
            "left": null,
            "margin": null,
            "max_height": null,
            "max_width": null,
            "min_height": null,
            "min_width": null,
            "object_fit": null,
            "object_position": null,
            "order": null,
            "overflow": null,
            "overflow_x": null,
            "overflow_y": null,
            "padding": null,
            "right": null,
            "top": null,
            "visibility": null,
            "width": null
          }
        },
        "9e66ed62ce1045f4a4385d188c5a2a16": {
          "model_module": "@jupyter-widgets/controls",
          "model_name": "DescriptionStyleModel",
          "model_module_version": "1.5.0",
          "state": {
            "_model_module": "@jupyter-widgets/controls",
            "_model_module_version": "1.5.0",
            "_model_name": "DescriptionStyleModel",
            "_view_count": null,
            "_view_module": "@jupyter-widgets/base",
            "_view_module_version": "1.2.0",
            "_view_name": "StyleView",
            "description_width": ""
          }
        },
        "36053ce547744fd4aaca28499b2bdb95": {
          "model_module": "@jupyter-widgets/base",
          "model_name": "LayoutModel",
          "model_module_version": "1.2.0",
          "state": {
            "_model_module": "@jupyter-widgets/base",
            "_model_module_version": "1.2.0",
            "_model_name": "LayoutModel",
            "_view_count": null,
            "_view_module": "@jupyter-widgets/base",
            "_view_module_version": "1.2.0",
            "_view_name": "LayoutView",
            "align_content": null,
            "align_items": null,
            "align_self": null,
            "border": null,
            "bottom": null,
            "display": null,
            "flex": null,
            "flex_flow": null,
            "grid_area": null,
            "grid_auto_columns": null,
            "grid_auto_flow": null,
            "grid_auto_rows": null,
            "grid_column": null,
            "grid_gap": null,
            "grid_row": null,
            "grid_template_areas": null,
            "grid_template_columns": null,
            "grid_template_rows": null,
            "height": null,
            "justify_content": null,
            "justify_items": null,
            "left": null,
            "margin": null,
            "max_height": null,
            "max_width": null,
            "min_height": null,
            "min_width": null,
            "object_fit": null,
            "object_position": null,
            "order": null,
            "overflow": null,
            "overflow_x": null,
            "overflow_y": null,
            "padding": null,
            "right": null,
            "top": null,
            "visibility": null,
            "width": null
          }
        },
        "467b3f3ca75940d389e9f1c1287bd8da": {
          "model_module": "@jupyter-widgets/controls",
          "model_name": "ProgressStyleModel",
          "model_module_version": "1.5.0",
          "state": {
            "_model_module": "@jupyter-widgets/controls",
            "_model_module_version": "1.5.0",
            "_model_name": "ProgressStyleModel",
            "_view_count": null,
            "_view_module": "@jupyter-widgets/base",
            "_view_module_version": "1.2.0",
            "_view_name": "StyleView",
            "bar_color": null,
            "description_width": ""
          }
        },
        "c1253fb1908a493e8f3d3ede9b962651": {
          "model_module": "@jupyter-widgets/base",
          "model_name": "LayoutModel",
          "model_module_version": "1.2.0",
          "state": {
            "_model_module": "@jupyter-widgets/base",
            "_model_module_version": "1.2.0",
            "_model_name": "LayoutModel",
            "_view_count": null,
            "_view_module": "@jupyter-widgets/base",
            "_view_module_version": "1.2.0",
            "_view_name": "LayoutView",
            "align_content": null,
            "align_items": null,
            "align_self": null,
            "border": null,
            "bottom": null,
            "display": null,
            "flex": null,
            "flex_flow": null,
            "grid_area": null,
            "grid_auto_columns": null,
            "grid_auto_flow": null,
            "grid_auto_rows": null,
            "grid_column": null,
            "grid_gap": null,
            "grid_row": null,
            "grid_template_areas": null,
            "grid_template_columns": null,
            "grid_template_rows": null,
            "height": null,
            "justify_content": null,
            "justify_items": null,
            "left": null,
            "margin": null,
            "max_height": null,
            "max_width": null,
            "min_height": null,
            "min_width": null,
            "object_fit": null,
            "object_position": null,
            "order": null,
            "overflow": null,
            "overflow_x": null,
            "overflow_y": null,
            "padding": null,
            "right": null,
            "top": null,
            "visibility": null,
            "width": null
          }
        },
        "9bc815d5f54a49f8ad3294eba3dcf889": {
          "model_module": "@jupyter-widgets/controls",
          "model_name": "DescriptionStyleModel",
          "model_module_version": "1.5.0",
          "state": {
            "_model_module": "@jupyter-widgets/controls",
            "_model_module_version": "1.5.0",
            "_model_name": "DescriptionStyleModel",
            "_view_count": null,
            "_view_module": "@jupyter-widgets/base",
            "_view_module_version": "1.2.0",
            "_view_name": "StyleView",
            "description_width": ""
          }
        },
        "c50e9403689e4f21a79b09851675c526": {
          "model_module": "@jupyter-widgets/controls",
          "model_name": "HBoxModel",
          "model_module_version": "1.5.0",
          "state": {
            "_dom_classes": [],
            "_model_module": "@jupyter-widgets/controls",
            "_model_module_version": "1.5.0",
            "_model_name": "HBoxModel",
            "_view_count": null,
            "_view_module": "@jupyter-widgets/controls",
            "_view_module_version": "1.5.0",
            "_view_name": "HBoxView",
            "box_style": "",
            "children": [
              "IPY_MODEL_7a79afef55054e5386622e3cfeea79d7",
              "IPY_MODEL_1113b9d4f9a74fd8aed7eb19249bb74c",
              "IPY_MODEL_bba7b3cf57ed40639ca6ae1b66fb13fa"
            ],
            "layout": "IPY_MODEL_b1935b0c8d48461789a8cc37db80fb6c"
          }
        },
        "7a79afef55054e5386622e3cfeea79d7": {
          "model_module": "@jupyter-widgets/controls",
          "model_name": "HTMLModel",
          "model_module_version": "1.5.0",
          "state": {
            "_dom_classes": [],
            "_model_module": "@jupyter-widgets/controls",
            "_model_module_version": "1.5.0",
            "_model_name": "HTMLModel",
            "_view_count": null,
            "_view_module": "@jupyter-widgets/controls",
            "_view_module_version": "1.5.0",
            "_view_name": "HTMLView",
            "description": "",
            "description_tooltip": null,
            "layout": "IPY_MODEL_dd7c580382414c0aa700e4bdb3e39e1d",
            "placeholder": "​",
            "style": "IPY_MODEL_41b11c505d2a485ba02ffeee1308f2e2",
            "value": "Downloading: 100%"
          }
        },
        "1113b9d4f9a74fd8aed7eb19249bb74c": {
          "model_module": "@jupyter-widgets/controls",
          "model_name": "FloatProgressModel",
          "model_module_version": "1.5.0",
          "state": {
            "_dom_classes": [],
            "_model_module": "@jupyter-widgets/controls",
            "_model_module_version": "1.5.0",
            "_model_name": "FloatProgressModel",
            "_view_count": null,
            "_view_module": "@jupyter-widgets/controls",
            "_view_module_version": "1.5.0",
            "_view_name": "ProgressView",
            "bar_style": "success",
            "description": "",
            "description_tooltip": null,
            "layout": "IPY_MODEL_87192326430e4ad4a3566ca357c3efbb",
            "max": 300827685,
            "min": 0,
            "orientation": "horizontal",
            "style": "IPY_MODEL_8bfc7cab8ad4421480d702e42ea6c39b",
            "value": 300827685
          }
        },
        "bba7b3cf57ed40639ca6ae1b66fb13fa": {
          "model_module": "@jupyter-widgets/controls",
          "model_name": "HTMLModel",
          "model_module_version": "1.5.0",
          "state": {
            "_dom_classes": [],
            "_model_module": "@jupyter-widgets/controls",
            "_model_module_version": "1.5.0",
            "_model_name": "HTMLModel",
            "_view_count": null,
            "_view_module": "@jupyter-widgets/controls",
            "_view_module_version": "1.5.0",
            "_view_name": "HTMLView",
            "description": "",
            "description_tooltip": null,
            "layout": "IPY_MODEL_b83acfa596b84f42bf632cf2a0b75904",
            "placeholder": "​",
            "style": "IPY_MODEL_a278689e8d7846b280342aa5b7726d69",
            "value": " 301M/301M [00:08&lt;00:00, 46.1MB/s]"
          }
        },
        "b1935b0c8d48461789a8cc37db80fb6c": {
          "model_module": "@jupyter-widgets/base",
          "model_name": "LayoutModel",
          "model_module_version": "1.2.0",
          "state": {
            "_model_module": "@jupyter-widgets/base",
            "_model_module_version": "1.2.0",
            "_model_name": "LayoutModel",
            "_view_count": null,
            "_view_module": "@jupyter-widgets/base",
            "_view_module_version": "1.2.0",
            "_view_name": "LayoutView",
            "align_content": null,
            "align_items": null,
            "align_self": null,
            "border": null,
            "bottom": null,
            "display": null,
            "flex": null,
            "flex_flow": null,
            "grid_area": null,
            "grid_auto_columns": null,
            "grid_auto_flow": null,
            "grid_auto_rows": null,
            "grid_column": null,
            "grid_gap": null,
            "grid_row": null,
            "grid_template_areas": null,
            "grid_template_columns": null,
            "grid_template_rows": null,
            "height": null,
            "justify_content": null,
            "justify_items": null,
            "left": null,
            "margin": null,
            "max_height": null,
            "max_width": null,
            "min_height": null,
            "min_width": null,
            "object_fit": null,
            "object_position": null,
            "order": null,
            "overflow": null,
            "overflow_x": null,
            "overflow_y": null,
            "padding": null,
            "right": null,
            "top": null,
            "visibility": null,
            "width": null
          }
        },
        "dd7c580382414c0aa700e4bdb3e39e1d": {
          "model_module": "@jupyter-widgets/base",
          "model_name": "LayoutModel",
          "model_module_version": "1.2.0",
          "state": {
            "_model_module": "@jupyter-widgets/base",
            "_model_module_version": "1.2.0",
            "_model_name": "LayoutModel",
            "_view_count": null,
            "_view_module": "@jupyter-widgets/base",
            "_view_module_version": "1.2.0",
            "_view_name": "LayoutView",
            "align_content": null,
            "align_items": null,
            "align_self": null,
            "border": null,
            "bottom": null,
            "display": null,
            "flex": null,
            "flex_flow": null,
            "grid_area": null,
            "grid_auto_columns": null,
            "grid_auto_flow": null,
            "grid_auto_rows": null,
            "grid_column": null,
            "grid_gap": null,
            "grid_row": null,
            "grid_template_areas": null,
            "grid_template_columns": null,
            "grid_template_rows": null,
            "height": null,
            "justify_content": null,
            "justify_items": null,
            "left": null,
            "margin": null,
            "max_height": null,
            "max_width": null,
            "min_height": null,
            "min_width": null,
            "object_fit": null,
            "object_position": null,
            "order": null,
            "overflow": null,
            "overflow_x": null,
            "overflow_y": null,
            "padding": null,
            "right": null,
            "top": null,
            "visibility": null,
            "width": null
          }
        },
        "41b11c505d2a485ba02ffeee1308f2e2": {
          "model_module": "@jupyter-widgets/controls",
          "model_name": "DescriptionStyleModel",
          "model_module_version": "1.5.0",
          "state": {
            "_model_module": "@jupyter-widgets/controls",
            "_model_module_version": "1.5.0",
            "_model_name": "DescriptionStyleModel",
            "_view_count": null,
            "_view_module": "@jupyter-widgets/base",
            "_view_module_version": "1.2.0",
            "_view_name": "StyleView",
            "description_width": ""
          }
        },
        "87192326430e4ad4a3566ca357c3efbb": {
          "model_module": "@jupyter-widgets/base",
          "model_name": "LayoutModel",
          "model_module_version": "1.2.0",
          "state": {
            "_model_module": "@jupyter-widgets/base",
            "_model_module_version": "1.2.0",
            "_model_name": "LayoutModel",
            "_view_count": null,
            "_view_module": "@jupyter-widgets/base",
            "_view_module_version": "1.2.0",
            "_view_name": "LayoutView",
            "align_content": null,
            "align_items": null,
            "align_self": null,
            "border": null,
            "bottom": null,
            "display": null,
            "flex": null,
            "flex_flow": null,
            "grid_area": null,
            "grid_auto_columns": null,
            "grid_auto_flow": null,
            "grid_auto_rows": null,
            "grid_column": null,
            "grid_gap": null,
            "grid_row": null,
            "grid_template_areas": null,
            "grid_template_columns": null,
            "grid_template_rows": null,
            "height": null,
            "justify_content": null,
            "justify_items": null,
            "left": null,
            "margin": null,
            "max_height": null,
            "max_width": null,
            "min_height": null,
            "min_width": null,
            "object_fit": null,
            "object_position": null,
            "order": null,
            "overflow": null,
            "overflow_x": null,
            "overflow_y": null,
            "padding": null,
            "right": null,
            "top": null,
            "visibility": null,
            "width": null
          }
        },
        "8bfc7cab8ad4421480d702e42ea6c39b": {
          "model_module": "@jupyter-widgets/controls",
          "model_name": "ProgressStyleModel",
          "model_module_version": "1.5.0",
          "state": {
            "_model_module": "@jupyter-widgets/controls",
            "_model_module_version": "1.5.0",
            "_model_name": "ProgressStyleModel",
            "_view_count": null,
            "_view_module": "@jupyter-widgets/base",
            "_view_module_version": "1.2.0",
            "_view_name": "StyleView",
            "bar_color": null,
            "description_width": ""
          }
        },
        "b83acfa596b84f42bf632cf2a0b75904": {
          "model_module": "@jupyter-widgets/base",
          "model_name": "LayoutModel",
          "model_module_version": "1.2.0",
          "state": {
            "_model_module": "@jupyter-widgets/base",
            "_model_module_version": "1.2.0",
            "_model_name": "LayoutModel",
            "_view_count": null,
            "_view_module": "@jupyter-widgets/base",
            "_view_module_version": "1.2.0",
            "_view_name": "LayoutView",
            "align_content": null,
            "align_items": null,
            "align_self": null,
            "border": null,
            "bottom": null,
            "display": null,
            "flex": null,
            "flex_flow": null,
            "grid_area": null,
            "grid_auto_columns": null,
            "grid_auto_flow": null,
            "grid_auto_rows": null,
            "grid_column": null,
            "grid_gap": null,
            "grid_row": null,
            "grid_template_areas": null,
            "grid_template_columns": null,
            "grid_template_rows": null,
            "height": null,
            "justify_content": null,
            "justify_items": null,
            "left": null,
            "margin": null,
            "max_height": null,
            "max_width": null,
            "min_height": null,
            "min_width": null,
            "object_fit": null,
            "object_position": null,
            "order": null,
            "overflow": null,
            "overflow_x": null,
            "overflow_y": null,
            "padding": null,
            "right": null,
            "top": null,
            "visibility": null,
            "width": null
          }
        },
        "a278689e8d7846b280342aa5b7726d69": {
          "model_module": "@jupyter-widgets/controls",
          "model_name": "DescriptionStyleModel",
          "model_module_version": "1.5.0",
          "state": {
            "_model_module": "@jupyter-widgets/controls",
            "_model_module_version": "1.5.0",
            "_model_name": "DescriptionStyleModel",
            "_view_count": null,
            "_view_module": "@jupyter-widgets/base",
            "_view_module_version": "1.2.0",
            "_view_name": "StyleView",
            "description_width": ""
          }
        },
        "f4afab9f3a97499db3a92b02227426a4": {
          "model_module": "@jupyter-widgets/controls",
          "model_name": "HBoxModel",
          "model_module_version": "1.5.0",
          "state": {
            "_dom_classes": [],
            "_model_module": "@jupyter-widgets/controls",
            "_model_module_version": "1.5.0",
            "_model_name": "HBoxModel",
            "_view_count": null,
            "_view_module": "@jupyter-widgets/controls",
            "_view_module_version": "1.5.0",
            "_view_name": "HBoxView",
            "box_style": "",
            "children": [
              "IPY_MODEL_8f325665293f47c8b151ba2f5b65572e",
              "IPY_MODEL_3a03c2d4719a44c3be4aadd57ec83305",
              "IPY_MODEL_2a1154d300c343e28e6a90000631e5f1"
            ],
            "layout": "IPY_MODEL_86e83ce60146490fa36ec7493865007d"
          }
        },
        "8f325665293f47c8b151ba2f5b65572e": {
          "model_module": "@jupyter-widgets/controls",
          "model_name": "HTMLModel",
          "model_module_version": "1.5.0",
          "state": {
            "_dom_classes": [],
            "_model_module": "@jupyter-widgets/controls",
            "_model_module_version": "1.5.0",
            "_model_name": "HTMLModel",
            "_view_count": null,
            "_view_module": "@jupyter-widgets/controls",
            "_view_module_version": "1.5.0",
            "_view_name": "HTMLView",
            "description": "",
            "description_tooltip": null,
            "layout": "IPY_MODEL_5b3aaca0a13646c5bf6e3610c9044d6d",
            "placeholder": "​",
            "style": "IPY_MODEL_1b81f8067c694d7690a6cdd8d056b493",
            "value": "Downloading: 100%"
          }
        },
        "3a03c2d4719a44c3be4aadd57ec83305": {
          "model_module": "@jupyter-widgets/controls",
          "model_name": "FloatProgressModel",
          "model_module_version": "1.5.0",
          "state": {
            "_dom_classes": [],
            "_model_module": "@jupyter-widgets/controls",
            "_model_module_version": "1.5.0",
            "_model_name": "FloatProgressModel",
            "_view_count": null,
            "_view_module": "@jupyter-widgets/controls",
            "_view_module_version": "1.5.0",
            "_view_name": "ProgressView",
            "bar_style": "success",
            "description": "",
            "description_tooltip": null,
            "layout": "IPY_MODEL_17c27b9593f04f079c890cbd1c4cc2c3",
            "max": 778395,
            "min": 0,
            "orientation": "horizontal",
            "style": "IPY_MODEL_c5a6264a38114e90b40dffbc77e59b55",
            "value": 778395
          }
        },
        "2a1154d300c343e28e6a90000631e5f1": {
          "model_module": "@jupyter-widgets/controls",
          "model_name": "HTMLModel",
          "model_module_version": "1.5.0",
          "state": {
            "_dom_classes": [],
            "_model_module": "@jupyter-widgets/controls",
            "_model_module_version": "1.5.0",
            "_model_name": "HTMLModel",
            "_view_count": null,
            "_view_module": "@jupyter-widgets/controls",
            "_view_module_version": "1.5.0",
            "_view_name": "HTMLView",
            "description": "",
            "description_tooltip": null,
            "layout": "IPY_MODEL_e7497dd4606e491ca1ca02c3feaeb14c",
            "placeholder": "​",
            "style": "IPY_MODEL_add175242c78421088de0e576801f3f2",
            "value": " 778k/778k [00:00&lt;00:00, 863kB/s]"
          }
        },
        "86e83ce60146490fa36ec7493865007d": {
          "model_module": "@jupyter-widgets/base",
          "model_name": "LayoutModel",
          "model_module_version": "1.2.0",
          "state": {
            "_model_module": "@jupyter-widgets/base",
            "_model_module_version": "1.2.0",
            "_model_name": "LayoutModel",
            "_view_count": null,
            "_view_module": "@jupyter-widgets/base",
            "_view_module_version": "1.2.0",
            "_view_name": "LayoutView",
            "align_content": null,
            "align_items": null,
            "align_self": null,
            "border": null,
            "bottom": null,
            "display": null,
            "flex": null,
            "flex_flow": null,
            "grid_area": null,
            "grid_auto_columns": null,
            "grid_auto_flow": null,
            "grid_auto_rows": null,
            "grid_column": null,
            "grid_gap": null,
            "grid_row": null,
            "grid_template_areas": null,
            "grid_template_columns": null,
            "grid_template_rows": null,
            "height": null,
            "justify_content": null,
            "justify_items": null,
            "left": null,
            "margin": null,
            "max_height": null,
            "max_width": null,
            "min_height": null,
            "min_width": null,
            "object_fit": null,
            "object_position": null,
            "order": null,
            "overflow": null,
            "overflow_x": null,
            "overflow_y": null,
            "padding": null,
            "right": null,
            "top": null,
            "visibility": null,
            "width": null
          }
        },
        "5b3aaca0a13646c5bf6e3610c9044d6d": {
          "model_module": "@jupyter-widgets/base",
          "model_name": "LayoutModel",
          "model_module_version": "1.2.0",
          "state": {
            "_model_module": "@jupyter-widgets/base",
            "_model_module_version": "1.2.0",
            "_model_name": "LayoutModel",
            "_view_count": null,
            "_view_module": "@jupyter-widgets/base",
            "_view_module_version": "1.2.0",
            "_view_name": "LayoutView",
            "align_content": null,
            "align_items": null,
            "align_self": null,
            "border": null,
            "bottom": null,
            "display": null,
            "flex": null,
            "flex_flow": null,
            "grid_area": null,
            "grid_auto_columns": null,
            "grid_auto_flow": null,
            "grid_auto_rows": null,
            "grid_column": null,
            "grid_gap": null,
            "grid_row": null,
            "grid_template_areas": null,
            "grid_template_columns": null,
            "grid_template_rows": null,
            "height": null,
            "justify_content": null,
            "justify_items": null,
            "left": null,
            "margin": null,
            "max_height": null,
            "max_width": null,
            "min_height": null,
            "min_width": null,
            "object_fit": null,
            "object_position": null,
            "order": null,
            "overflow": null,
            "overflow_x": null,
            "overflow_y": null,
            "padding": null,
            "right": null,
            "top": null,
            "visibility": null,
            "width": null
          }
        },
        "1b81f8067c694d7690a6cdd8d056b493": {
          "model_module": "@jupyter-widgets/controls",
          "model_name": "DescriptionStyleModel",
          "model_module_version": "1.5.0",
          "state": {
            "_model_module": "@jupyter-widgets/controls",
            "_model_module_version": "1.5.0",
            "_model_name": "DescriptionStyleModel",
            "_view_count": null,
            "_view_module": "@jupyter-widgets/base",
            "_view_module_version": "1.2.0",
            "_view_name": "StyleView",
            "description_width": ""
          }
        },
        "17c27b9593f04f079c890cbd1c4cc2c3": {
          "model_module": "@jupyter-widgets/base",
          "model_name": "LayoutModel",
          "model_module_version": "1.2.0",
          "state": {
            "_model_module": "@jupyter-widgets/base",
            "_model_module_version": "1.2.0",
            "_model_name": "LayoutModel",
            "_view_count": null,
            "_view_module": "@jupyter-widgets/base",
            "_view_module_version": "1.2.0",
            "_view_name": "LayoutView",
            "align_content": null,
            "align_items": null,
            "align_self": null,
            "border": null,
            "bottom": null,
            "display": null,
            "flex": null,
            "flex_flow": null,
            "grid_area": null,
            "grid_auto_columns": null,
            "grid_auto_flow": null,
            "grid_auto_rows": null,
            "grid_column": null,
            "grid_gap": null,
            "grid_row": null,
            "grid_template_areas": null,
            "grid_template_columns": null,
            "grid_template_rows": null,
            "height": null,
            "justify_content": null,
            "justify_items": null,
            "left": null,
            "margin": null,
            "max_height": null,
            "max_width": null,
            "min_height": null,
            "min_width": null,
            "object_fit": null,
            "object_position": null,
            "order": null,
            "overflow": null,
            "overflow_x": null,
            "overflow_y": null,
            "padding": null,
            "right": null,
            "top": null,
            "visibility": null,
            "width": null
          }
        },
        "c5a6264a38114e90b40dffbc77e59b55": {
          "model_module": "@jupyter-widgets/controls",
          "model_name": "ProgressStyleModel",
          "model_module_version": "1.5.0",
          "state": {
            "_model_module": "@jupyter-widgets/controls",
            "_model_module_version": "1.5.0",
            "_model_name": "ProgressStyleModel",
            "_view_count": null,
            "_view_module": "@jupyter-widgets/base",
            "_view_module_version": "1.2.0",
            "_view_name": "StyleView",
            "bar_color": null,
            "description_width": ""
          }
        },
        "e7497dd4606e491ca1ca02c3feaeb14c": {
          "model_module": "@jupyter-widgets/base",
          "model_name": "LayoutModel",
          "model_module_version": "1.2.0",
          "state": {
            "_model_module": "@jupyter-widgets/base",
            "_model_module_version": "1.2.0",
            "_model_name": "LayoutModel",
            "_view_count": null,
            "_view_module": "@jupyter-widgets/base",
            "_view_module_version": "1.2.0",
            "_view_name": "LayoutView",
            "align_content": null,
            "align_items": null,
            "align_self": null,
            "border": null,
            "bottom": null,
            "display": null,
            "flex": null,
            "flex_flow": null,
            "grid_area": null,
            "grid_auto_columns": null,
            "grid_auto_flow": null,
            "grid_auto_rows": null,
            "grid_column": null,
            "grid_gap": null,
            "grid_row": null,
            "grid_template_areas": null,
            "grid_template_columns": null,
            "grid_template_rows": null,
            "height": null,
            "justify_content": null,
            "justify_items": null,
            "left": null,
            "margin": null,
            "max_height": null,
            "max_width": null,
            "min_height": null,
            "min_width": null,
            "object_fit": null,
            "object_position": null,
            "order": null,
            "overflow": null,
            "overflow_x": null,
            "overflow_y": null,
            "padding": null,
            "right": null,
            "top": null,
            "visibility": null,
            "width": null
          }
        },
        "add175242c78421088de0e576801f3f2": {
          "model_module": "@jupyter-widgets/controls",
          "model_name": "DescriptionStyleModel",
          "model_module_version": "1.5.0",
          "state": {
            "_model_module": "@jupyter-widgets/controls",
            "_model_module_version": "1.5.0",
            "_model_name": "DescriptionStyleModel",
            "_view_count": null,
            "_view_module": "@jupyter-widgets/base",
            "_view_module_version": "1.2.0",
            "_view_name": "StyleView",
            "description_width": ""
          }
        },
        "35644d66dae54db193da2472d4a31854": {
          "model_module": "@jupyter-widgets/controls",
          "model_name": "HBoxModel",
          "model_module_version": "1.5.0",
          "state": {
            "_dom_classes": [],
            "_model_module": "@jupyter-widgets/controls",
            "_model_module_version": "1.5.0",
            "_model_name": "HBoxModel",
            "_view_count": null,
            "_view_module": "@jupyter-widgets/controls",
            "_view_module_version": "1.5.0",
            "_view_name": "HBoxView",
            "box_style": "",
            "children": [
              "IPY_MODEL_49353be53037480a85edebd0c6adf405",
              "IPY_MODEL_e2b4c1b8479542e1914d6b76d6b3ee68",
              "IPY_MODEL_421c86da19d54ca3af712e6b57169e8d"
            ],
            "layout": "IPY_MODEL_a6e881fcdfef4db387aba950ead4ce17"
          }
        },
        "49353be53037480a85edebd0c6adf405": {
          "model_module": "@jupyter-widgets/controls",
          "model_name": "HTMLModel",
          "model_module_version": "1.5.0",
          "state": {
            "_dom_classes": [],
            "_model_module": "@jupyter-widgets/controls",
            "_model_module_version": "1.5.0",
            "_model_name": "HTMLModel",
            "_view_count": null,
            "_view_module": "@jupyter-widgets/controls",
            "_view_module_version": "1.5.0",
            "_view_name": "HTMLView",
            "description": "",
            "description_tooltip": null,
            "layout": "IPY_MODEL_5612eb436a7b4a9f9a217b465636e3f1",
            "placeholder": "​",
            "style": "IPY_MODEL_6d40912b08a94a5bae2b24d16d5c49ff",
            "value": "Downloading: 100%"
          }
        },
        "e2b4c1b8479542e1914d6b76d6b3ee68": {
          "model_module": "@jupyter-widgets/controls",
          "model_name": "FloatProgressModel",
          "model_module_version": "1.5.0",
          "state": {
            "_dom_classes": [],
            "_model_module": "@jupyter-widgets/controls",
            "_model_module_version": "1.5.0",
            "_model_name": "FloatProgressModel",
            "_view_count": null,
            "_view_module": "@jupyter-widgets/controls",
            "_view_module_version": "1.5.0",
            "_view_name": "ProgressView",
            "bar_style": "success",
            "description": "",
            "description_tooltip": null,
            "layout": "IPY_MODEL_628197adf7cb4b74a1df483905013365",
            "max": 802397,
            "min": 0,
            "orientation": "horizontal",
            "style": "IPY_MODEL_58d1b2b444cf42008b5b100b5e5f8c53",
            "value": 802397
          }
        },
        "421c86da19d54ca3af712e6b57169e8d": {
          "model_module": "@jupyter-widgets/controls",
          "model_name": "HTMLModel",
          "model_module_version": "1.5.0",
          "state": {
            "_dom_classes": [],
            "_model_module": "@jupyter-widgets/controls",
            "_model_module_version": "1.5.0",
            "_model_name": "HTMLModel",
            "_view_count": null,
            "_view_module": "@jupyter-widgets/controls",
            "_view_module_version": "1.5.0",
            "_view_name": "HTMLView",
            "description": "",
            "description_tooltip": null,
            "layout": "IPY_MODEL_dd6f7f3fe9ca416182859eb3cfb65b28",
            "placeholder": "​",
            "style": "IPY_MODEL_505d157dc8f74d5c8e1a9ec70b935837",
            "value": " 802k/802k [00:00&lt;00:00, 2.55MB/s]"
          }
        },
        "a6e881fcdfef4db387aba950ead4ce17": {
          "model_module": "@jupyter-widgets/base",
          "model_name": "LayoutModel",
          "model_module_version": "1.2.0",
          "state": {
            "_model_module": "@jupyter-widgets/base",
            "_model_module_version": "1.2.0",
            "_model_name": "LayoutModel",
            "_view_count": null,
            "_view_module": "@jupyter-widgets/base",
            "_view_module_version": "1.2.0",
            "_view_name": "LayoutView",
            "align_content": null,
            "align_items": null,
            "align_self": null,
            "border": null,
            "bottom": null,
            "display": null,
            "flex": null,
            "flex_flow": null,
            "grid_area": null,
            "grid_auto_columns": null,
            "grid_auto_flow": null,
            "grid_auto_rows": null,
            "grid_column": null,
            "grid_gap": null,
            "grid_row": null,
            "grid_template_areas": null,
            "grid_template_columns": null,
            "grid_template_rows": null,
            "height": null,
            "justify_content": null,
            "justify_items": null,
            "left": null,
            "margin": null,
            "max_height": null,
            "max_width": null,
            "min_height": null,
            "min_width": null,
            "object_fit": null,
            "object_position": null,
            "order": null,
            "overflow": null,
            "overflow_x": null,
            "overflow_y": null,
            "padding": null,
            "right": null,
            "top": null,
            "visibility": null,
            "width": null
          }
        },
        "5612eb436a7b4a9f9a217b465636e3f1": {
          "model_module": "@jupyter-widgets/base",
          "model_name": "LayoutModel",
          "model_module_version": "1.2.0",
          "state": {
            "_model_module": "@jupyter-widgets/base",
            "_model_module_version": "1.2.0",
            "_model_name": "LayoutModel",
            "_view_count": null,
            "_view_module": "@jupyter-widgets/base",
            "_view_module_version": "1.2.0",
            "_view_name": "LayoutView",
            "align_content": null,
            "align_items": null,
            "align_self": null,
            "border": null,
            "bottom": null,
            "display": null,
            "flex": null,
            "flex_flow": null,
            "grid_area": null,
            "grid_auto_columns": null,
            "grid_auto_flow": null,
            "grid_auto_rows": null,
            "grid_column": null,
            "grid_gap": null,
            "grid_row": null,
            "grid_template_areas": null,
            "grid_template_columns": null,
            "grid_template_rows": null,
            "height": null,
            "justify_content": null,
            "justify_items": null,
            "left": null,
            "margin": null,
            "max_height": null,
            "max_width": null,
            "min_height": null,
            "min_width": null,
            "object_fit": null,
            "object_position": null,
            "order": null,
            "overflow": null,
            "overflow_x": null,
            "overflow_y": null,
            "padding": null,
            "right": null,
            "top": null,
            "visibility": null,
            "width": null
          }
        },
        "6d40912b08a94a5bae2b24d16d5c49ff": {
          "model_module": "@jupyter-widgets/controls",
          "model_name": "DescriptionStyleModel",
          "model_module_version": "1.5.0",
          "state": {
            "_model_module": "@jupyter-widgets/controls",
            "_model_module_version": "1.5.0",
            "_model_name": "DescriptionStyleModel",
            "_view_count": null,
            "_view_module": "@jupyter-widgets/base",
            "_view_module_version": "1.2.0",
            "_view_name": "StyleView",
            "description_width": ""
          }
        },
        "628197adf7cb4b74a1df483905013365": {
          "model_module": "@jupyter-widgets/base",
          "model_name": "LayoutModel",
          "model_module_version": "1.2.0",
          "state": {
            "_model_module": "@jupyter-widgets/base",
            "_model_module_version": "1.2.0",
            "_model_name": "LayoutModel",
            "_view_count": null,
            "_view_module": "@jupyter-widgets/base",
            "_view_module_version": "1.2.0",
            "_view_name": "LayoutView",
            "align_content": null,
            "align_items": null,
            "align_self": null,
            "border": null,
            "bottom": null,
            "display": null,
            "flex": null,
            "flex_flow": null,
            "grid_area": null,
            "grid_auto_columns": null,
            "grid_auto_flow": null,
            "grid_auto_rows": null,
            "grid_column": null,
            "grid_gap": null,
            "grid_row": null,
            "grid_template_areas": null,
            "grid_template_columns": null,
            "grid_template_rows": null,
            "height": null,
            "justify_content": null,
            "justify_items": null,
            "left": null,
            "margin": null,
            "max_height": null,
            "max_width": null,
            "min_height": null,
            "min_width": null,
            "object_fit": null,
            "object_position": null,
            "order": null,
            "overflow": null,
            "overflow_x": null,
            "overflow_y": null,
            "padding": null,
            "right": null,
            "top": null,
            "visibility": null,
            "width": null
          }
        },
        "58d1b2b444cf42008b5b100b5e5f8c53": {
          "model_module": "@jupyter-widgets/controls",
          "model_name": "ProgressStyleModel",
          "model_module_version": "1.5.0",
          "state": {
            "_model_module": "@jupyter-widgets/controls",
            "_model_module_version": "1.5.0",
            "_model_name": "ProgressStyleModel",
            "_view_count": null,
            "_view_module": "@jupyter-widgets/base",
            "_view_module_version": "1.2.0",
            "_view_name": "StyleView",
            "bar_color": null,
            "description_width": ""
          }
        },
        "dd6f7f3fe9ca416182859eb3cfb65b28": {
          "model_module": "@jupyter-widgets/base",
          "model_name": "LayoutModel",
          "model_module_version": "1.2.0",
          "state": {
            "_model_module": "@jupyter-widgets/base",
            "_model_module_version": "1.2.0",
            "_model_name": "LayoutModel",
            "_view_count": null,
            "_view_module": "@jupyter-widgets/base",
            "_view_module_version": "1.2.0",
            "_view_name": "LayoutView",
            "align_content": null,
            "align_items": null,
            "align_self": null,
            "border": null,
            "bottom": null,
            "display": null,
            "flex": null,
            "flex_flow": null,
            "grid_area": null,
            "grid_auto_columns": null,
            "grid_auto_flow": null,
            "grid_auto_rows": null,
            "grid_column": null,
            "grid_gap": null,
            "grid_row": null,
            "grid_template_areas": null,
            "grid_template_columns": null,
            "grid_template_rows": null,
            "height": null,
            "justify_content": null,
            "justify_items": null,
            "left": null,
            "margin": null,
            "max_height": null,
            "max_width": null,
            "min_height": null,
            "min_width": null,
            "object_fit": null,
            "object_position": null,
            "order": null,
            "overflow": null,
            "overflow_x": null,
            "overflow_y": null,
            "padding": null,
            "right": null,
            "top": null,
            "visibility": null,
            "width": null
          }
        },
        "505d157dc8f74d5c8e1a9ec70b935837": {
          "model_module": "@jupyter-widgets/controls",
          "model_name": "DescriptionStyleModel",
          "model_module_version": "1.5.0",
          "state": {
            "_model_module": "@jupyter-widgets/controls",
            "_model_module_version": "1.5.0",
            "_model_name": "DescriptionStyleModel",
            "_view_count": null,
            "_view_module": "@jupyter-widgets/base",
            "_view_module_version": "1.2.0",
            "_view_name": "StyleView",
            "description_width": ""
          }
        },
        "caa36bdc556441929ae204b20fdcd497": {
          "model_module": "@jupyter-widgets/controls",
          "model_name": "HBoxModel",
          "model_module_version": "1.5.0",
          "state": {
            "_dom_classes": [],
            "_model_module": "@jupyter-widgets/controls",
            "_model_module_version": "1.5.0",
            "_model_name": "HBoxModel",
            "_view_count": null,
            "_view_module": "@jupyter-widgets/controls",
            "_view_module_version": "1.5.0",
            "_view_name": "HBoxView",
            "box_style": "",
            "children": [
              "IPY_MODEL_b21290b5c2aa438387f9ad6277ffa1d0",
              "IPY_MODEL_ac2e32542a8e4f619c8603b789545d7e",
              "IPY_MODEL_30df6a6e786b4c319e109714a1afdd8f"
            ],
            "layout": "IPY_MODEL_132296a32dae4243965be31c240ca5d7"
          }
        },
        "b21290b5c2aa438387f9ad6277ffa1d0": {
          "model_module": "@jupyter-widgets/controls",
          "model_name": "HTMLModel",
          "model_module_version": "1.5.0",
          "state": {
            "_dom_classes": [],
            "_model_module": "@jupyter-widgets/controls",
            "_model_module_version": "1.5.0",
            "_model_name": "HTMLModel",
            "_view_count": null,
            "_view_module": "@jupyter-widgets/controls",
            "_view_module_version": "1.5.0",
            "_view_name": "HTMLView",
            "description": "",
            "description_tooltip": null,
            "layout": "IPY_MODEL_5f8f490f5d214eb696e74df2d87e6ae3",
            "placeholder": "​",
            "style": "IPY_MODEL_acc8bab1e031434cba23d403e0d1cbc3",
            "value": "Downloading: 100%"
          }
        },
        "ac2e32542a8e4f619c8603b789545d7e": {
          "model_module": "@jupyter-widgets/controls",
          "model_name": "FloatProgressModel",
          "model_module_version": "1.5.0",
          "state": {
            "_dom_classes": [],
            "_model_module": "@jupyter-widgets/controls",
            "_model_module_version": "1.5.0",
            "_model_name": "FloatProgressModel",
            "_view_count": null,
            "_view_module": "@jupyter-widgets/controls",
            "_view_module_version": "1.5.0",
            "_view_name": "ProgressView",
            "bar_style": "success",
            "description": "",
            "description_tooltip": null,
            "layout": "IPY_MODEL_21640159ea9b40f08b4644cb97ba6f31",
            "max": 1339166,
            "min": 0,
            "orientation": "horizontal",
            "style": "IPY_MODEL_7aaff89636554a27b20456bbb7c00449",
            "value": 1339166
          }
        },
        "30df6a6e786b4c319e109714a1afdd8f": {
          "model_module": "@jupyter-widgets/controls",
          "model_name": "HTMLModel",
          "model_module_version": "1.5.0",
          "state": {
            "_dom_classes": [],
            "_model_module": "@jupyter-widgets/controls",
            "_model_module_version": "1.5.0",
            "_model_name": "HTMLModel",
            "_view_count": null,
            "_view_module": "@jupyter-widgets/controls",
            "_view_module_version": "1.5.0",
            "_view_name": "HTMLView",
            "description": "",
            "description_tooltip": null,
            "layout": "IPY_MODEL_10058c8c847b4e80acc84a2fa55d87a6",
            "placeholder": "​",
            "style": "IPY_MODEL_4e4bfe11101940459fc5bcbdd217c6c2",
            "value": " 1.34M/1.34M [00:00&lt;00:00, 1.88MB/s]"
          }
        },
        "132296a32dae4243965be31c240ca5d7": {
          "model_module": "@jupyter-widgets/base",
          "model_name": "LayoutModel",
          "model_module_version": "1.2.0",
          "state": {
            "_model_module": "@jupyter-widgets/base",
            "_model_module_version": "1.2.0",
            "_model_name": "LayoutModel",
            "_view_count": null,
            "_view_module": "@jupyter-widgets/base",
            "_view_module_version": "1.2.0",
            "_view_name": "LayoutView",
            "align_content": null,
            "align_items": null,
            "align_self": null,
            "border": null,
            "bottom": null,
            "display": null,
            "flex": null,
            "flex_flow": null,
            "grid_area": null,
            "grid_auto_columns": null,
            "grid_auto_flow": null,
            "grid_auto_rows": null,
            "grid_column": null,
            "grid_gap": null,
            "grid_row": null,
            "grid_template_areas": null,
            "grid_template_columns": null,
            "grid_template_rows": null,
            "height": null,
            "justify_content": null,
            "justify_items": null,
            "left": null,
            "margin": null,
            "max_height": null,
            "max_width": null,
            "min_height": null,
            "min_width": null,
            "object_fit": null,
            "object_position": null,
            "order": null,
            "overflow": null,
            "overflow_x": null,
            "overflow_y": null,
            "padding": null,
            "right": null,
            "top": null,
            "visibility": null,
            "width": null
          }
        },
        "5f8f490f5d214eb696e74df2d87e6ae3": {
          "model_module": "@jupyter-widgets/base",
          "model_name": "LayoutModel",
          "model_module_version": "1.2.0",
          "state": {
            "_model_module": "@jupyter-widgets/base",
            "_model_module_version": "1.2.0",
            "_model_name": "LayoutModel",
            "_view_count": null,
            "_view_module": "@jupyter-widgets/base",
            "_view_module_version": "1.2.0",
            "_view_name": "LayoutView",
            "align_content": null,
            "align_items": null,
            "align_self": null,
            "border": null,
            "bottom": null,
            "display": null,
            "flex": null,
            "flex_flow": null,
            "grid_area": null,
            "grid_auto_columns": null,
            "grid_auto_flow": null,
            "grid_auto_rows": null,
            "grid_column": null,
            "grid_gap": null,
            "grid_row": null,
            "grid_template_areas": null,
            "grid_template_columns": null,
            "grid_template_rows": null,
            "height": null,
            "justify_content": null,
            "justify_items": null,
            "left": null,
            "margin": null,
            "max_height": null,
            "max_width": null,
            "min_height": null,
            "min_width": null,
            "object_fit": null,
            "object_position": null,
            "order": null,
            "overflow": null,
            "overflow_x": null,
            "overflow_y": null,
            "padding": null,
            "right": null,
            "top": null,
            "visibility": null,
            "width": null
          }
        },
        "acc8bab1e031434cba23d403e0d1cbc3": {
          "model_module": "@jupyter-widgets/controls",
          "model_name": "DescriptionStyleModel",
          "model_module_version": "1.5.0",
          "state": {
            "_model_module": "@jupyter-widgets/controls",
            "_model_module_version": "1.5.0",
            "_model_name": "DescriptionStyleModel",
            "_view_count": null,
            "_view_module": "@jupyter-widgets/base",
            "_view_module_version": "1.2.0",
            "_view_name": "StyleView",
            "description_width": ""
          }
        },
        "21640159ea9b40f08b4644cb97ba6f31": {
          "model_module": "@jupyter-widgets/base",
          "model_name": "LayoutModel",
          "model_module_version": "1.2.0",
          "state": {
            "_model_module": "@jupyter-widgets/base",
            "_model_module_version": "1.2.0",
            "_model_name": "LayoutModel",
            "_view_count": null,
            "_view_module": "@jupyter-widgets/base",
            "_view_module_version": "1.2.0",
            "_view_name": "LayoutView",
            "align_content": null,
            "align_items": null,
            "align_self": null,
            "border": null,
            "bottom": null,
            "display": null,
            "flex": null,
            "flex_flow": null,
            "grid_area": null,
            "grid_auto_columns": null,
            "grid_auto_flow": null,
            "grid_auto_rows": null,
            "grid_column": null,
            "grid_gap": null,
            "grid_row": null,
            "grid_template_areas": null,
            "grid_template_columns": null,
            "grid_template_rows": null,
            "height": null,
            "justify_content": null,
            "justify_items": null,
            "left": null,
            "margin": null,
            "max_height": null,
            "max_width": null,
            "min_height": null,
            "min_width": null,
            "object_fit": null,
            "object_position": null,
            "order": null,
            "overflow": null,
            "overflow_x": null,
            "overflow_y": null,
            "padding": null,
            "right": null,
            "top": null,
            "visibility": null,
            "width": null
          }
        },
        "7aaff89636554a27b20456bbb7c00449": {
          "model_module": "@jupyter-widgets/controls",
          "model_name": "ProgressStyleModel",
          "model_module_version": "1.5.0",
          "state": {
            "_model_module": "@jupyter-widgets/controls",
            "_model_module_version": "1.5.0",
            "_model_name": "ProgressStyleModel",
            "_view_count": null,
            "_view_module": "@jupyter-widgets/base",
            "_view_module_version": "1.2.0",
            "_view_name": "StyleView",
            "bar_color": null,
            "description_width": ""
          }
        },
        "10058c8c847b4e80acc84a2fa55d87a6": {
          "model_module": "@jupyter-widgets/base",
          "model_name": "LayoutModel",
          "model_module_version": "1.2.0",
          "state": {
            "_model_module": "@jupyter-widgets/base",
            "_model_module_version": "1.2.0",
            "_model_name": "LayoutModel",
            "_view_count": null,
            "_view_module": "@jupyter-widgets/base",
            "_view_module_version": "1.2.0",
            "_view_name": "LayoutView",
            "align_content": null,
            "align_items": null,
            "align_self": null,
            "border": null,
            "bottom": null,
            "display": null,
            "flex": null,
            "flex_flow": null,
            "grid_area": null,
            "grid_auto_columns": null,
            "grid_auto_flow": null,
            "grid_auto_rows": null,
            "grid_column": null,
            "grid_gap": null,
            "grid_row": null,
            "grid_template_areas": null,
            "grid_template_columns": null,
            "grid_template_rows": null,
            "height": null,
            "justify_content": null,
            "justify_items": null,
            "left": null,
            "margin": null,
            "max_height": null,
            "max_width": null,
            "min_height": null,
            "min_width": null,
            "object_fit": null,
            "object_position": null,
            "order": null,
            "overflow": null,
            "overflow_x": null,
            "overflow_y": null,
            "padding": null,
            "right": null,
            "top": null,
            "visibility": null,
            "width": null
          }
        },
        "4e4bfe11101940459fc5bcbdd217c6c2": {
          "model_module": "@jupyter-widgets/controls",
          "model_name": "DescriptionStyleModel",
          "model_module_version": "1.5.0",
          "state": {
            "_model_module": "@jupyter-widgets/controls",
            "_model_module_version": "1.5.0",
            "_model_name": "DescriptionStyleModel",
            "_view_count": null,
            "_view_module": "@jupyter-widgets/base",
            "_view_module_version": "1.2.0",
            "_view_name": "StyleView",
            "description_width": ""
          }
        },
        "34cd3e68df184120b1549e6432b5521d": {
          "model_module": "@jupyter-widgets/controls",
          "model_name": "HBoxModel",
          "model_module_version": "1.5.0",
          "state": {
            "_dom_classes": [],
            "_model_module": "@jupyter-widgets/controls",
            "_model_module_version": "1.5.0",
            "_model_name": "HBoxModel",
            "_view_count": null,
            "_view_module": "@jupyter-widgets/controls",
            "_view_module_version": "1.5.0",
            "_view_name": "HBoxView",
            "box_style": "",
            "children": [
              "IPY_MODEL_2af55a038f68438aa9eec7596ea63c22",
              "IPY_MODEL_b64a554ec9ac4f78a32e9b49ce5d1ea9",
              "IPY_MODEL_acb56b015f4e4386bba7414384906223"
            ],
            "layout": "IPY_MODEL_be8fa335235c4d4d8e2e12681cc09e08"
          }
        },
        "2af55a038f68438aa9eec7596ea63c22": {
          "model_module": "@jupyter-widgets/controls",
          "model_name": "HTMLModel",
          "model_module_version": "1.5.0",
          "state": {
            "_dom_classes": [],
            "_model_module": "@jupyter-widgets/controls",
            "_model_module_version": "1.5.0",
            "_model_name": "HTMLModel",
            "_view_count": null,
            "_view_module": "@jupyter-widgets/controls",
            "_view_module_version": "1.5.0",
            "_view_name": "HTMLView",
            "description": "",
            "description_tooltip": null,
            "layout": "IPY_MODEL_8139d2227e464dd8829e8a48705dc82d",
            "placeholder": "​",
            "style": "IPY_MODEL_afaf13901c9f4763bb96cd2e7dc2e81b",
            "value": "Downloading: 100%"
          }
        },
        "b64a554ec9ac4f78a32e9b49ce5d1ea9": {
          "model_module": "@jupyter-widgets/controls",
          "model_name": "FloatProgressModel",
          "model_module_version": "1.5.0",
          "state": {
            "_dom_classes": [],
            "_model_module": "@jupyter-widgets/controls",
            "_model_module_version": "1.5.0",
            "_model_name": "FloatProgressModel",
            "_view_count": null,
            "_view_module": "@jupyter-widgets/controls",
            "_view_module_version": "1.5.0",
            "_view_name": "ProgressView",
            "bar_style": "success",
            "description": "",
            "description_tooltip": null,
            "layout": "IPY_MODEL_32293701c25c428aad78f990920978e8",
            "max": 42,
            "min": 0,
            "orientation": "horizontal",
            "style": "IPY_MODEL_43ef28d94e734875b68936f7ed6d2e90",
            "value": 42
          }
        },
        "acb56b015f4e4386bba7414384906223": {
          "model_module": "@jupyter-widgets/controls",
          "model_name": "HTMLModel",
          "model_module_version": "1.5.0",
          "state": {
            "_dom_classes": [],
            "_model_module": "@jupyter-widgets/controls",
            "_model_module_version": "1.5.0",
            "_model_name": "HTMLModel",
            "_view_count": null,
            "_view_module": "@jupyter-widgets/controls",
            "_view_module_version": "1.5.0",
            "_view_name": "HTMLView",
            "description": "",
            "description_tooltip": null,
            "layout": "IPY_MODEL_4b1b0b46d9d749ed9d3761e15e06e50c",
            "placeholder": "​",
            "style": "IPY_MODEL_d7acaa2c36c54ce8b6d4382ffbec9e8d",
            "value": " 42.0/42.0 [00:00&lt;00:00, 1.41kB/s]"
          }
        },
        "be8fa335235c4d4d8e2e12681cc09e08": {
          "model_module": "@jupyter-widgets/base",
          "model_name": "LayoutModel",
          "model_module_version": "1.2.0",
          "state": {
            "_model_module": "@jupyter-widgets/base",
            "_model_module_version": "1.2.0",
            "_model_name": "LayoutModel",
            "_view_count": null,
            "_view_module": "@jupyter-widgets/base",
            "_view_module_version": "1.2.0",
            "_view_name": "LayoutView",
            "align_content": null,
            "align_items": null,
            "align_self": null,
            "border": null,
            "bottom": null,
            "display": null,
            "flex": null,
            "flex_flow": null,
            "grid_area": null,
            "grid_auto_columns": null,
            "grid_auto_flow": null,
            "grid_auto_rows": null,
            "grid_column": null,
            "grid_gap": null,
            "grid_row": null,
            "grid_template_areas": null,
            "grid_template_columns": null,
            "grid_template_rows": null,
            "height": null,
            "justify_content": null,
            "justify_items": null,
            "left": null,
            "margin": null,
            "max_height": null,
            "max_width": null,
            "min_height": null,
            "min_width": null,
            "object_fit": null,
            "object_position": null,
            "order": null,
            "overflow": null,
            "overflow_x": null,
            "overflow_y": null,
            "padding": null,
            "right": null,
            "top": null,
            "visibility": null,
            "width": null
          }
        },
        "8139d2227e464dd8829e8a48705dc82d": {
          "model_module": "@jupyter-widgets/base",
          "model_name": "LayoutModel",
          "model_module_version": "1.2.0",
          "state": {
            "_model_module": "@jupyter-widgets/base",
            "_model_module_version": "1.2.0",
            "_model_name": "LayoutModel",
            "_view_count": null,
            "_view_module": "@jupyter-widgets/base",
            "_view_module_version": "1.2.0",
            "_view_name": "LayoutView",
            "align_content": null,
            "align_items": null,
            "align_self": null,
            "border": null,
            "bottom": null,
            "display": null,
            "flex": null,
            "flex_flow": null,
            "grid_area": null,
            "grid_auto_columns": null,
            "grid_auto_flow": null,
            "grid_auto_rows": null,
            "grid_column": null,
            "grid_gap": null,
            "grid_row": null,
            "grid_template_areas": null,
            "grid_template_columns": null,
            "grid_template_rows": null,
            "height": null,
            "justify_content": null,
            "justify_items": null,
            "left": null,
            "margin": null,
            "max_height": null,
            "max_width": null,
            "min_height": null,
            "min_width": null,
            "object_fit": null,
            "object_position": null,
            "order": null,
            "overflow": null,
            "overflow_x": null,
            "overflow_y": null,
            "padding": null,
            "right": null,
            "top": null,
            "visibility": null,
            "width": null
          }
        },
        "afaf13901c9f4763bb96cd2e7dc2e81b": {
          "model_module": "@jupyter-widgets/controls",
          "model_name": "DescriptionStyleModel",
          "model_module_version": "1.5.0",
          "state": {
            "_model_module": "@jupyter-widgets/controls",
            "_model_module_version": "1.5.0",
            "_model_name": "DescriptionStyleModel",
            "_view_count": null,
            "_view_module": "@jupyter-widgets/base",
            "_view_module_version": "1.2.0",
            "_view_name": "StyleView",
            "description_width": ""
          }
        },
        "32293701c25c428aad78f990920978e8": {
          "model_module": "@jupyter-widgets/base",
          "model_name": "LayoutModel",
          "model_module_version": "1.2.0",
          "state": {
            "_model_module": "@jupyter-widgets/base",
            "_model_module_version": "1.2.0",
            "_model_name": "LayoutModel",
            "_view_count": null,
            "_view_module": "@jupyter-widgets/base",
            "_view_module_version": "1.2.0",
            "_view_name": "LayoutView",
            "align_content": null,
            "align_items": null,
            "align_self": null,
            "border": null,
            "bottom": null,
            "display": null,
            "flex": null,
            "flex_flow": null,
            "grid_area": null,
            "grid_auto_columns": null,
            "grid_auto_flow": null,
            "grid_auto_rows": null,
            "grid_column": null,
            "grid_gap": null,
            "grid_row": null,
            "grid_template_areas": null,
            "grid_template_columns": null,
            "grid_template_rows": null,
            "height": null,
            "justify_content": null,
            "justify_items": null,
            "left": null,
            "margin": null,
            "max_height": null,
            "max_width": null,
            "min_height": null,
            "min_width": null,
            "object_fit": null,
            "object_position": null,
            "order": null,
            "overflow": null,
            "overflow_x": null,
            "overflow_y": null,
            "padding": null,
            "right": null,
            "top": null,
            "visibility": null,
            "width": null
          }
        },
        "43ef28d94e734875b68936f7ed6d2e90": {
          "model_module": "@jupyter-widgets/controls",
          "model_name": "ProgressStyleModel",
          "model_module_version": "1.5.0",
          "state": {
            "_model_module": "@jupyter-widgets/controls",
            "_model_module_version": "1.5.0",
            "_model_name": "ProgressStyleModel",
            "_view_count": null,
            "_view_module": "@jupyter-widgets/base",
            "_view_module_version": "1.2.0",
            "_view_name": "StyleView",
            "bar_color": null,
            "description_width": ""
          }
        },
        "4b1b0b46d9d749ed9d3761e15e06e50c": {
          "model_module": "@jupyter-widgets/base",
          "model_name": "LayoutModel",
          "model_module_version": "1.2.0",
          "state": {
            "_model_module": "@jupyter-widgets/base",
            "_model_module_version": "1.2.0",
            "_model_name": "LayoutModel",
            "_view_count": null,
            "_view_module": "@jupyter-widgets/base",
            "_view_module_version": "1.2.0",
            "_view_name": "LayoutView",
            "align_content": null,
            "align_items": null,
            "align_self": null,
            "border": null,
            "bottom": null,
            "display": null,
            "flex": null,
            "flex_flow": null,
            "grid_area": null,
            "grid_auto_columns": null,
            "grid_auto_flow": null,
            "grid_auto_rows": null,
            "grid_column": null,
            "grid_gap": null,
            "grid_row": null,
            "grid_template_areas": null,
            "grid_template_columns": null,
            "grid_template_rows": null,
            "height": null,
            "justify_content": null,
            "justify_items": null,
            "left": null,
            "margin": null,
            "max_height": null,
            "max_width": null,
            "min_height": null,
            "min_width": null,
            "object_fit": null,
            "object_position": null,
            "order": null,
            "overflow": null,
            "overflow_x": null,
            "overflow_y": null,
            "padding": null,
            "right": null,
            "top": null,
            "visibility": null,
            "width": null
          }
        },
        "d7acaa2c36c54ce8b6d4382ffbec9e8d": {
          "model_module": "@jupyter-widgets/controls",
          "model_name": "DescriptionStyleModel",
          "model_module_version": "1.5.0",
          "state": {
            "_model_module": "@jupyter-widgets/controls",
            "_model_module_version": "1.5.0",
            "_model_name": "DescriptionStyleModel",
            "_view_count": null,
            "_view_module": "@jupyter-widgets/base",
            "_view_module_version": "1.2.0",
            "_view_name": "StyleView",
            "description_width": ""
          }
        },
        "f7482bb0e8574419b27d2490f1f2046a": {
          "model_module": "@jupyter-widgets/controls",
          "model_name": "HBoxModel",
          "model_module_version": "1.5.0",
          "state": {
            "_dom_classes": [],
            "_model_module": "@jupyter-widgets/controls",
            "_model_module_version": "1.5.0",
            "_model_name": "HBoxModel",
            "_view_count": null,
            "_view_module": "@jupyter-widgets/controls",
            "_view_module_version": "1.5.0",
            "_view_name": "HBoxView",
            "box_style": "",
            "children": [
              "IPY_MODEL_5692b3f182744877aabd269365ba869c",
              "IPY_MODEL_1a52439717d041fba555a87dccb91d82",
              "IPY_MODEL_2950ea08ec574ada8fee8d951d4f05ed"
            ],
            "layout": "IPY_MODEL_2b2611cacc2040c8bfbabd0766b3fb5b"
          }
        },
        "5692b3f182744877aabd269365ba869c": {
          "model_module": "@jupyter-widgets/controls",
          "model_name": "HTMLModel",
          "model_module_version": "1.5.0",
          "state": {
            "_dom_classes": [],
            "_model_module": "@jupyter-widgets/controls",
            "_model_module_version": "1.5.0",
            "_model_name": "HTMLModel",
            "_view_count": null,
            "_view_module": "@jupyter-widgets/controls",
            "_view_module_version": "1.5.0",
            "_view_name": "HTMLView",
            "description": "",
            "description_tooltip": null,
            "layout": "IPY_MODEL_4632706ca2934e13bfbd82d4f4d26ab9",
            "placeholder": "​",
            "style": "IPY_MODEL_c4cb03ce23e64579806d44f543c9184a",
            "value": "Downloading: 100%"
          }
        },
        "1a52439717d041fba555a87dccb91d82": {
          "model_module": "@jupyter-widgets/controls",
          "model_name": "FloatProgressModel",
          "model_module_version": "1.5.0",
          "state": {
            "_dom_classes": [],
            "_model_module": "@jupyter-widgets/controls",
            "_model_module_version": "1.5.0",
            "_model_name": "FloatProgressModel",
            "_view_count": null,
            "_view_module": "@jupyter-widgets/controls",
            "_view_module_version": "1.5.0",
            "_view_name": "ProgressView",
            "bar_style": "success",
            "description": "",
            "description_tooltip": null,
            "layout": "IPY_MODEL_4c09243e46214adbbadcc9af6de908ae",
            "max": 802397,
            "min": 0,
            "orientation": "horizontal",
            "style": "IPY_MODEL_91522c4aacb04a89b8eb9f2d2bda7972",
            "value": 802397
          }
        },
        "2950ea08ec574ada8fee8d951d4f05ed": {
          "model_module": "@jupyter-widgets/controls",
          "model_name": "HTMLModel",
          "model_module_version": "1.5.0",
          "state": {
            "_dom_classes": [],
            "_model_module": "@jupyter-widgets/controls",
            "_model_module_version": "1.5.0",
            "_model_name": "HTMLModel",
            "_view_count": null,
            "_view_module": "@jupyter-widgets/controls",
            "_view_module_version": "1.5.0",
            "_view_name": "HTMLView",
            "description": "",
            "description_tooltip": null,
            "layout": "IPY_MODEL_ce110af4b04a4279be637980626d179b",
            "placeholder": "​",
            "style": "IPY_MODEL_9b2f1d1ccf2d4105b92ccb8ae80c9f27",
            "value": " 802k/802k [00:00&lt;00:00, 2.46MB/s]"
          }
        },
        "2b2611cacc2040c8bfbabd0766b3fb5b": {
          "model_module": "@jupyter-widgets/base",
          "model_name": "LayoutModel",
          "model_module_version": "1.2.0",
          "state": {
            "_model_module": "@jupyter-widgets/base",
            "_model_module_version": "1.2.0",
            "_model_name": "LayoutModel",
            "_view_count": null,
            "_view_module": "@jupyter-widgets/base",
            "_view_module_version": "1.2.0",
            "_view_name": "LayoutView",
            "align_content": null,
            "align_items": null,
            "align_self": null,
            "border": null,
            "bottom": null,
            "display": null,
            "flex": null,
            "flex_flow": null,
            "grid_area": null,
            "grid_auto_columns": null,
            "grid_auto_flow": null,
            "grid_auto_rows": null,
            "grid_column": null,
            "grid_gap": null,
            "grid_row": null,
            "grid_template_areas": null,
            "grid_template_columns": null,
            "grid_template_rows": null,
            "height": null,
            "justify_content": null,
            "justify_items": null,
            "left": null,
            "margin": null,
            "max_height": null,
            "max_width": null,
            "min_height": null,
            "min_width": null,
            "object_fit": null,
            "object_position": null,
            "order": null,
            "overflow": null,
            "overflow_x": null,
            "overflow_y": null,
            "padding": null,
            "right": null,
            "top": null,
            "visibility": null,
            "width": null
          }
        },
        "4632706ca2934e13bfbd82d4f4d26ab9": {
          "model_module": "@jupyter-widgets/base",
          "model_name": "LayoutModel",
          "model_module_version": "1.2.0",
          "state": {
            "_model_module": "@jupyter-widgets/base",
            "_model_module_version": "1.2.0",
            "_model_name": "LayoutModel",
            "_view_count": null,
            "_view_module": "@jupyter-widgets/base",
            "_view_module_version": "1.2.0",
            "_view_name": "LayoutView",
            "align_content": null,
            "align_items": null,
            "align_self": null,
            "border": null,
            "bottom": null,
            "display": null,
            "flex": null,
            "flex_flow": null,
            "grid_area": null,
            "grid_auto_columns": null,
            "grid_auto_flow": null,
            "grid_auto_rows": null,
            "grid_column": null,
            "grid_gap": null,
            "grid_row": null,
            "grid_template_areas": null,
            "grid_template_columns": null,
            "grid_template_rows": null,
            "height": null,
            "justify_content": null,
            "justify_items": null,
            "left": null,
            "margin": null,
            "max_height": null,
            "max_width": null,
            "min_height": null,
            "min_width": null,
            "object_fit": null,
            "object_position": null,
            "order": null,
            "overflow": null,
            "overflow_x": null,
            "overflow_y": null,
            "padding": null,
            "right": null,
            "top": null,
            "visibility": null,
            "width": null
          }
        },
        "c4cb03ce23e64579806d44f543c9184a": {
          "model_module": "@jupyter-widgets/controls",
          "model_name": "DescriptionStyleModel",
          "model_module_version": "1.5.0",
          "state": {
            "_model_module": "@jupyter-widgets/controls",
            "_model_module_version": "1.5.0",
            "_model_name": "DescriptionStyleModel",
            "_view_count": null,
            "_view_module": "@jupyter-widgets/base",
            "_view_module_version": "1.2.0",
            "_view_name": "StyleView",
            "description_width": ""
          }
        },
        "4c09243e46214adbbadcc9af6de908ae": {
          "model_module": "@jupyter-widgets/base",
          "model_name": "LayoutModel",
          "model_module_version": "1.2.0",
          "state": {
            "_model_module": "@jupyter-widgets/base",
            "_model_module_version": "1.2.0",
            "_model_name": "LayoutModel",
            "_view_count": null,
            "_view_module": "@jupyter-widgets/base",
            "_view_module_version": "1.2.0",
            "_view_name": "LayoutView",
            "align_content": null,
            "align_items": null,
            "align_self": null,
            "border": null,
            "bottom": null,
            "display": null,
            "flex": null,
            "flex_flow": null,
            "grid_area": null,
            "grid_auto_columns": null,
            "grid_auto_flow": null,
            "grid_auto_rows": null,
            "grid_column": null,
            "grid_gap": null,
            "grid_row": null,
            "grid_template_areas": null,
            "grid_template_columns": null,
            "grid_template_rows": null,
            "height": null,
            "justify_content": null,
            "justify_items": null,
            "left": null,
            "margin": null,
            "max_height": null,
            "max_width": null,
            "min_height": null,
            "min_width": null,
            "object_fit": null,
            "object_position": null,
            "order": null,
            "overflow": null,
            "overflow_x": null,
            "overflow_y": null,
            "padding": null,
            "right": null,
            "top": null,
            "visibility": null,
            "width": null
          }
        },
        "91522c4aacb04a89b8eb9f2d2bda7972": {
          "model_module": "@jupyter-widgets/controls",
          "model_name": "ProgressStyleModel",
          "model_module_version": "1.5.0",
          "state": {
            "_model_module": "@jupyter-widgets/controls",
            "_model_module_version": "1.5.0",
            "_model_name": "ProgressStyleModel",
            "_view_count": null,
            "_view_module": "@jupyter-widgets/base",
            "_view_module_version": "1.2.0",
            "_view_name": "StyleView",
            "bar_color": null,
            "description_width": ""
          }
        },
        "ce110af4b04a4279be637980626d179b": {
          "model_module": "@jupyter-widgets/base",
          "model_name": "LayoutModel",
          "model_module_version": "1.2.0",
          "state": {
            "_model_module": "@jupyter-widgets/base",
            "_model_module_version": "1.2.0",
            "_model_name": "LayoutModel",
            "_view_count": null,
            "_view_module": "@jupyter-widgets/base",
            "_view_module_version": "1.2.0",
            "_view_name": "LayoutView",
            "align_content": null,
            "align_items": null,
            "align_self": null,
            "border": null,
            "bottom": null,
            "display": null,
            "flex": null,
            "flex_flow": null,
            "grid_area": null,
            "grid_auto_columns": null,
            "grid_auto_flow": null,
            "grid_auto_rows": null,
            "grid_column": null,
            "grid_gap": null,
            "grid_row": null,
            "grid_template_areas": null,
            "grid_template_columns": null,
            "grid_template_rows": null,
            "height": null,
            "justify_content": null,
            "justify_items": null,
            "left": null,
            "margin": null,
            "max_height": null,
            "max_width": null,
            "min_height": null,
            "min_width": null,
            "object_fit": null,
            "object_position": null,
            "order": null,
            "overflow": null,
            "overflow_x": null,
            "overflow_y": null,
            "padding": null,
            "right": null,
            "top": null,
            "visibility": null,
            "width": null
          }
        },
        "9b2f1d1ccf2d4105b92ccb8ae80c9f27": {
          "model_module": "@jupyter-widgets/controls",
          "model_name": "DescriptionStyleModel",
          "model_module_version": "1.5.0",
          "state": {
            "_model_module": "@jupyter-widgets/controls",
            "_model_module_version": "1.5.0",
            "_model_name": "DescriptionStyleModel",
            "_view_count": null,
            "_view_module": "@jupyter-widgets/base",
            "_view_module_version": "1.2.0",
            "_view_name": "StyleView",
            "description_width": ""
          }
        },
        "057a4f5186e84655bf7ee59cdaed3644": {
          "model_module": "@jupyter-widgets/controls",
          "model_name": "HBoxModel",
          "model_module_version": "1.5.0",
          "state": {
            "_dom_classes": [],
            "_model_module": "@jupyter-widgets/controls",
            "_model_module_version": "1.5.0",
            "_model_name": "HBoxModel",
            "_view_count": null,
            "_view_module": "@jupyter-widgets/controls",
            "_view_module_version": "1.5.0",
            "_view_name": "HBoxView",
            "box_style": "",
            "children": [
              "IPY_MODEL_5d7bd933d9864ca8b9d6e7f00105bf31",
              "IPY_MODEL_3e54a9cbb54a436eb04201acbbe66413",
              "IPY_MODEL_6c692b90bab049cf85ea58c33daaab19"
            ],
            "layout": "IPY_MODEL_449087893994409cb227b22a26d2158c"
          }
        },
        "5d7bd933d9864ca8b9d6e7f00105bf31": {
          "model_module": "@jupyter-widgets/controls",
          "model_name": "HTMLModel",
          "model_module_version": "1.5.0",
          "state": {
            "_dom_classes": [],
            "_model_module": "@jupyter-widgets/controls",
            "_model_module_version": "1.5.0",
            "_model_name": "HTMLModel",
            "_view_count": null,
            "_view_module": "@jupyter-widgets/controls",
            "_view_module_version": "1.5.0",
            "_view_name": "HTMLView",
            "description": "",
            "description_tooltip": null,
            "layout": "IPY_MODEL_543fb200838e4e689b14e55bf49d2f07",
            "placeholder": "​",
            "style": "IPY_MODEL_eb3276e17bf34a80a04d599768662568",
            "value": "Downloading: 100%"
          }
        },
        "3e54a9cbb54a436eb04201acbbe66413": {
          "model_module": "@jupyter-widgets/controls",
          "model_name": "FloatProgressModel",
          "model_module_version": "1.5.0",
          "state": {
            "_dom_classes": [],
            "_model_module": "@jupyter-widgets/controls",
            "_model_module_version": "1.5.0",
            "_model_name": "FloatProgressModel",
            "_view_count": null,
            "_view_module": "@jupyter-widgets/controls",
            "_view_module_version": "1.5.0",
            "_view_name": "ProgressView",
            "bar_style": "success",
            "description": "",
            "description_tooltip": null,
            "layout": "IPY_MODEL_bedea60dfd0244f5b97de5b862f56f25",
            "max": 778395,
            "min": 0,
            "orientation": "horizontal",
            "style": "IPY_MODEL_88738a24bfa34ed5b63142da6b96f375",
            "value": 778395
          }
        },
        "6c692b90bab049cf85ea58c33daaab19": {
          "model_module": "@jupyter-widgets/controls",
          "model_name": "HTMLModel",
          "model_module_version": "1.5.0",
          "state": {
            "_dom_classes": [],
            "_model_module": "@jupyter-widgets/controls",
            "_model_module_version": "1.5.0",
            "_model_name": "HTMLModel",
            "_view_count": null,
            "_view_module": "@jupyter-widgets/controls",
            "_view_module_version": "1.5.0",
            "_view_name": "HTMLView",
            "description": "",
            "description_tooltip": null,
            "layout": "IPY_MODEL_6e2a13ac9e674d54a0b0bb1b0fed9965",
            "placeholder": "​",
            "style": "IPY_MODEL_cb3442b5808b40619d06dbcc3cd23e86",
            "value": " 778k/778k [00:00&lt;00:00, 2.25MB/s]"
          }
        },
        "449087893994409cb227b22a26d2158c": {
          "model_module": "@jupyter-widgets/base",
          "model_name": "LayoutModel",
          "model_module_version": "1.2.0",
          "state": {
            "_model_module": "@jupyter-widgets/base",
            "_model_module_version": "1.2.0",
            "_model_name": "LayoutModel",
            "_view_count": null,
            "_view_module": "@jupyter-widgets/base",
            "_view_module_version": "1.2.0",
            "_view_name": "LayoutView",
            "align_content": null,
            "align_items": null,
            "align_self": null,
            "border": null,
            "bottom": null,
            "display": null,
            "flex": null,
            "flex_flow": null,
            "grid_area": null,
            "grid_auto_columns": null,
            "grid_auto_flow": null,
            "grid_auto_rows": null,
            "grid_column": null,
            "grid_gap": null,
            "grid_row": null,
            "grid_template_areas": null,
            "grid_template_columns": null,
            "grid_template_rows": null,
            "height": null,
            "justify_content": null,
            "justify_items": null,
            "left": null,
            "margin": null,
            "max_height": null,
            "max_width": null,
            "min_height": null,
            "min_width": null,
            "object_fit": null,
            "object_position": null,
            "order": null,
            "overflow": null,
            "overflow_x": null,
            "overflow_y": null,
            "padding": null,
            "right": null,
            "top": null,
            "visibility": null,
            "width": null
          }
        },
        "543fb200838e4e689b14e55bf49d2f07": {
          "model_module": "@jupyter-widgets/base",
          "model_name": "LayoutModel",
          "model_module_version": "1.2.0",
          "state": {
            "_model_module": "@jupyter-widgets/base",
            "_model_module_version": "1.2.0",
            "_model_name": "LayoutModel",
            "_view_count": null,
            "_view_module": "@jupyter-widgets/base",
            "_view_module_version": "1.2.0",
            "_view_name": "LayoutView",
            "align_content": null,
            "align_items": null,
            "align_self": null,
            "border": null,
            "bottom": null,
            "display": null,
            "flex": null,
            "flex_flow": null,
            "grid_area": null,
            "grid_auto_columns": null,
            "grid_auto_flow": null,
            "grid_auto_rows": null,
            "grid_column": null,
            "grid_gap": null,
            "grid_row": null,
            "grid_template_areas": null,
            "grid_template_columns": null,
            "grid_template_rows": null,
            "height": null,
            "justify_content": null,
            "justify_items": null,
            "left": null,
            "margin": null,
            "max_height": null,
            "max_width": null,
            "min_height": null,
            "min_width": null,
            "object_fit": null,
            "object_position": null,
            "order": null,
            "overflow": null,
            "overflow_x": null,
            "overflow_y": null,
            "padding": null,
            "right": null,
            "top": null,
            "visibility": null,
            "width": null
          }
        },
        "eb3276e17bf34a80a04d599768662568": {
          "model_module": "@jupyter-widgets/controls",
          "model_name": "DescriptionStyleModel",
          "model_module_version": "1.5.0",
          "state": {
            "_model_module": "@jupyter-widgets/controls",
            "_model_module_version": "1.5.0",
            "_model_name": "DescriptionStyleModel",
            "_view_count": null,
            "_view_module": "@jupyter-widgets/base",
            "_view_module_version": "1.2.0",
            "_view_name": "StyleView",
            "description_width": ""
          }
        },
        "bedea60dfd0244f5b97de5b862f56f25": {
          "model_module": "@jupyter-widgets/base",
          "model_name": "LayoutModel",
          "model_module_version": "1.2.0",
          "state": {
            "_model_module": "@jupyter-widgets/base",
            "_model_module_version": "1.2.0",
            "_model_name": "LayoutModel",
            "_view_count": null,
            "_view_module": "@jupyter-widgets/base",
            "_view_module_version": "1.2.0",
            "_view_name": "LayoutView",
            "align_content": null,
            "align_items": null,
            "align_self": null,
            "border": null,
            "bottom": null,
            "display": null,
            "flex": null,
            "flex_flow": null,
            "grid_area": null,
            "grid_auto_columns": null,
            "grid_auto_flow": null,
            "grid_auto_rows": null,
            "grid_column": null,
            "grid_gap": null,
            "grid_row": null,
            "grid_template_areas": null,
            "grid_template_columns": null,
            "grid_template_rows": null,
            "height": null,
            "justify_content": null,
            "justify_items": null,
            "left": null,
            "margin": null,
            "max_height": null,
            "max_width": null,
            "min_height": null,
            "min_width": null,
            "object_fit": null,
            "object_position": null,
            "order": null,
            "overflow": null,
            "overflow_x": null,
            "overflow_y": null,
            "padding": null,
            "right": null,
            "top": null,
            "visibility": null,
            "width": null
          }
        },
        "88738a24bfa34ed5b63142da6b96f375": {
          "model_module": "@jupyter-widgets/controls",
          "model_name": "ProgressStyleModel",
          "model_module_version": "1.5.0",
          "state": {
            "_model_module": "@jupyter-widgets/controls",
            "_model_module_version": "1.5.0",
            "_model_name": "ProgressStyleModel",
            "_view_count": null,
            "_view_module": "@jupyter-widgets/base",
            "_view_module_version": "1.2.0",
            "_view_name": "StyleView",
            "bar_color": null,
            "description_width": ""
          }
        },
        "6e2a13ac9e674d54a0b0bb1b0fed9965": {
          "model_module": "@jupyter-widgets/base",
          "model_name": "LayoutModel",
          "model_module_version": "1.2.0",
          "state": {
            "_model_module": "@jupyter-widgets/base",
            "_model_module_version": "1.2.0",
            "_model_name": "LayoutModel",
            "_view_count": null,
            "_view_module": "@jupyter-widgets/base",
            "_view_module_version": "1.2.0",
            "_view_name": "LayoutView",
            "align_content": null,
            "align_items": null,
            "align_self": null,
            "border": null,
            "bottom": null,
            "display": null,
            "flex": null,
            "flex_flow": null,
            "grid_area": null,
            "grid_auto_columns": null,
            "grid_auto_flow": null,
            "grid_auto_rows": null,
            "grid_column": null,
            "grid_gap": null,
            "grid_row": null,
            "grid_template_areas": null,
            "grid_template_columns": null,
            "grid_template_rows": null,
            "height": null,
            "justify_content": null,
            "justify_items": null,
            "left": null,
            "margin": null,
            "max_height": null,
            "max_width": null,
            "min_height": null,
            "min_width": null,
            "object_fit": null,
            "object_position": null,
            "order": null,
            "overflow": null,
            "overflow_x": null,
            "overflow_y": null,
            "padding": null,
            "right": null,
            "top": null,
            "visibility": null,
            "width": null
          }
        },
        "cb3442b5808b40619d06dbcc3cd23e86": {
          "model_module": "@jupyter-widgets/controls",
          "model_name": "DescriptionStyleModel",
          "model_module_version": "1.5.0",
          "state": {
            "_model_module": "@jupyter-widgets/controls",
            "_model_module_version": "1.5.0",
            "_model_name": "DescriptionStyleModel",
            "_view_count": null,
            "_view_module": "@jupyter-widgets/base",
            "_view_module_version": "1.2.0",
            "_view_name": "StyleView",
            "description_width": ""
          }
        },
        "c54265541c794be59f075e664f5d23b1": {
          "model_module": "@jupyter-widgets/controls",
          "model_name": "HBoxModel",
          "model_module_version": "1.5.0",
          "state": {
            "_dom_classes": [],
            "_model_module": "@jupyter-widgets/controls",
            "_model_module_version": "1.5.0",
            "_model_name": "HBoxModel",
            "_view_count": null,
            "_view_module": "@jupyter-widgets/controls",
            "_view_module_version": "1.5.0",
            "_view_name": "HBoxView",
            "box_style": "",
            "children": [
              "IPY_MODEL_06246acd07604dfeabffae686648b25d",
              "IPY_MODEL_43abc11bf63a45839966065c43e0e66f",
              "IPY_MODEL_938b742bf612462bbf92aa2aa9aa0465"
            ],
            "layout": "IPY_MODEL_6b99d511b7a34c21a404b6d43f8ab2b4"
          }
        },
        "06246acd07604dfeabffae686648b25d": {
          "model_module": "@jupyter-widgets/controls",
          "model_name": "HTMLModel",
          "model_module_version": "1.5.0",
          "state": {
            "_dom_classes": [],
            "_model_module": "@jupyter-widgets/controls",
            "_model_module_version": "1.5.0",
            "_model_name": "HTMLModel",
            "_view_count": null,
            "_view_module": "@jupyter-widgets/controls",
            "_view_module_version": "1.5.0",
            "_view_name": "HTMLView",
            "description": "",
            "description_tooltip": null,
            "layout": "IPY_MODEL_a8b70ee548c840c3b1d70adece9c0783",
            "placeholder": "​",
            "style": "IPY_MODEL_42f44d6868ac4f239699dec55afa8684",
            "value": "Downloading: 100%"
          }
        },
        "43abc11bf63a45839966065c43e0e66f": {
          "model_module": "@jupyter-widgets/controls",
          "model_name": "FloatProgressModel",
          "model_module_version": "1.5.0",
          "state": {
            "_dom_classes": [],
            "_model_module": "@jupyter-widgets/controls",
            "_model_module_version": "1.5.0",
            "_model_name": "FloatProgressModel",
            "_view_count": null,
            "_view_module": "@jupyter-widgets/controls",
            "_view_module_version": "1.5.0",
            "_view_name": "ProgressView",
            "bar_style": "success",
            "description": "",
            "description_tooltip": null,
            "layout": "IPY_MODEL_7f1c08bfdad343eb9162ccd72e171f3f",
            "max": 1339166,
            "min": 0,
            "orientation": "horizontal",
            "style": "IPY_MODEL_f7b583ba1b624a6ebcc1412cca99ceff",
            "value": 1339166
          }
        },
        "938b742bf612462bbf92aa2aa9aa0465": {
          "model_module": "@jupyter-widgets/controls",
          "model_name": "HTMLModel",
          "model_module_version": "1.5.0",
          "state": {
            "_dom_classes": [],
            "_model_module": "@jupyter-widgets/controls",
            "_model_module_version": "1.5.0",
            "_model_name": "HTMLModel",
            "_view_count": null,
            "_view_module": "@jupyter-widgets/controls",
            "_view_module_version": "1.5.0",
            "_view_name": "HTMLView",
            "description": "",
            "description_tooltip": null,
            "layout": "IPY_MODEL_0e9a2c64d88b47c6a8d2f0183273dfb0",
            "placeholder": "​",
            "style": "IPY_MODEL_d9ba8ffb51c3487aa560ae052a237714",
            "value": " 1.34M/1.34M [00:00&lt;00:00, 2.47MB/s]"
          }
        },
        "6b99d511b7a34c21a404b6d43f8ab2b4": {
          "model_module": "@jupyter-widgets/base",
          "model_name": "LayoutModel",
          "model_module_version": "1.2.0",
          "state": {
            "_model_module": "@jupyter-widgets/base",
            "_model_module_version": "1.2.0",
            "_model_name": "LayoutModel",
            "_view_count": null,
            "_view_module": "@jupyter-widgets/base",
            "_view_module_version": "1.2.0",
            "_view_name": "LayoutView",
            "align_content": null,
            "align_items": null,
            "align_self": null,
            "border": null,
            "bottom": null,
            "display": null,
            "flex": null,
            "flex_flow": null,
            "grid_area": null,
            "grid_auto_columns": null,
            "grid_auto_flow": null,
            "grid_auto_rows": null,
            "grid_column": null,
            "grid_gap": null,
            "grid_row": null,
            "grid_template_areas": null,
            "grid_template_columns": null,
            "grid_template_rows": null,
            "height": null,
            "justify_content": null,
            "justify_items": null,
            "left": null,
            "margin": null,
            "max_height": null,
            "max_width": null,
            "min_height": null,
            "min_width": null,
            "object_fit": null,
            "object_position": null,
            "order": null,
            "overflow": null,
            "overflow_x": null,
            "overflow_y": null,
            "padding": null,
            "right": null,
            "top": null,
            "visibility": null,
            "width": null
          }
        },
        "a8b70ee548c840c3b1d70adece9c0783": {
          "model_module": "@jupyter-widgets/base",
          "model_name": "LayoutModel",
          "model_module_version": "1.2.0",
          "state": {
            "_model_module": "@jupyter-widgets/base",
            "_model_module_version": "1.2.0",
            "_model_name": "LayoutModel",
            "_view_count": null,
            "_view_module": "@jupyter-widgets/base",
            "_view_module_version": "1.2.0",
            "_view_name": "LayoutView",
            "align_content": null,
            "align_items": null,
            "align_self": null,
            "border": null,
            "bottom": null,
            "display": null,
            "flex": null,
            "flex_flow": null,
            "grid_area": null,
            "grid_auto_columns": null,
            "grid_auto_flow": null,
            "grid_auto_rows": null,
            "grid_column": null,
            "grid_gap": null,
            "grid_row": null,
            "grid_template_areas": null,
            "grid_template_columns": null,
            "grid_template_rows": null,
            "height": null,
            "justify_content": null,
            "justify_items": null,
            "left": null,
            "margin": null,
            "max_height": null,
            "max_width": null,
            "min_height": null,
            "min_width": null,
            "object_fit": null,
            "object_position": null,
            "order": null,
            "overflow": null,
            "overflow_x": null,
            "overflow_y": null,
            "padding": null,
            "right": null,
            "top": null,
            "visibility": null,
            "width": null
          }
        },
        "42f44d6868ac4f239699dec55afa8684": {
          "model_module": "@jupyter-widgets/controls",
          "model_name": "DescriptionStyleModel",
          "model_module_version": "1.5.0",
          "state": {
            "_model_module": "@jupyter-widgets/controls",
            "_model_module_version": "1.5.0",
            "_model_name": "DescriptionStyleModel",
            "_view_count": null,
            "_view_module": "@jupyter-widgets/base",
            "_view_module_version": "1.2.0",
            "_view_name": "StyleView",
            "description_width": ""
          }
        },
        "7f1c08bfdad343eb9162ccd72e171f3f": {
          "model_module": "@jupyter-widgets/base",
          "model_name": "LayoutModel",
          "model_module_version": "1.2.0",
          "state": {
            "_model_module": "@jupyter-widgets/base",
            "_model_module_version": "1.2.0",
            "_model_name": "LayoutModel",
            "_view_count": null,
            "_view_module": "@jupyter-widgets/base",
            "_view_module_version": "1.2.0",
            "_view_name": "LayoutView",
            "align_content": null,
            "align_items": null,
            "align_self": null,
            "border": null,
            "bottom": null,
            "display": null,
            "flex": null,
            "flex_flow": null,
            "grid_area": null,
            "grid_auto_columns": null,
            "grid_auto_flow": null,
            "grid_auto_rows": null,
            "grid_column": null,
            "grid_gap": null,
            "grid_row": null,
            "grid_template_areas": null,
            "grid_template_columns": null,
            "grid_template_rows": null,
            "height": null,
            "justify_content": null,
            "justify_items": null,
            "left": null,
            "margin": null,
            "max_height": null,
            "max_width": null,
            "min_height": null,
            "min_width": null,
            "object_fit": null,
            "object_position": null,
            "order": null,
            "overflow": null,
            "overflow_x": null,
            "overflow_y": null,
            "padding": null,
            "right": null,
            "top": null,
            "visibility": null,
            "width": null
          }
        },
        "f7b583ba1b624a6ebcc1412cca99ceff": {
          "model_module": "@jupyter-widgets/controls",
          "model_name": "ProgressStyleModel",
          "model_module_version": "1.5.0",
          "state": {
            "_model_module": "@jupyter-widgets/controls",
            "_model_module_version": "1.5.0",
            "_model_name": "ProgressStyleModel",
            "_view_count": null,
            "_view_module": "@jupyter-widgets/base",
            "_view_module_version": "1.2.0",
            "_view_name": "StyleView",
            "bar_color": null,
            "description_width": ""
          }
        },
        "0e9a2c64d88b47c6a8d2f0183273dfb0": {
          "model_module": "@jupyter-widgets/base",
          "model_name": "LayoutModel",
          "model_module_version": "1.2.0",
          "state": {
            "_model_module": "@jupyter-widgets/base",
            "_model_module_version": "1.2.0",
            "_model_name": "LayoutModel",
            "_view_count": null,
            "_view_module": "@jupyter-widgets/base",
            "_view_module_version": "1.2.0",
            "_view_name": "LayoutView",
            "align_content": null,
            "align_items": null,
            "align_self": null,
            "border": null,
            "bottom": null,
            "display": null,
            "flex": null,
            "flex_flow": null,
            "grid_area": null,
            "grid_auto_columns": null,
            "grid_auto_flow": null,
            "grid_auto_rows": null,
            "grid_column": null,
            "grid_gap": null,
            "grid_row": null,
            "grid_template_areas": null,
            "grid_template_columns": null,
            "grid_template_rows": null,
            "height": null,
            "justify_content": null,
            "justify_items": null,
            "left": null,
            "margin": null,
            "max_height": null,
            "max_width": null,
            "min_height": null,
            "min_width": null,
            "object_fit": null,
            "object_position": null,
            "order": null,
            "overflow": null,
            "overflow_x": null,
            "overflow_y": null,
            "padding": null,
            "right": null,
            "top": null,
            "visibility": null,
            "width": null
          }
        },
        "d9ba8ffb51c3487aa560ae052a237714": {
          "model_module": "@jupyter-widgets/controls",
          "model_name": "DescriptionStyleModel",
          "model_module_version": "1.5.0",
          "state": {
            "_model_module": "@jupyter-widgets/controls",
            "_model_module_version": "1.5.0",
            "_model_name": "DescriptionStyleModel",
            "_view_count": null,
            "_view_module": "@jupyter-widgets/base",
            "_view_module_version": "1.2.0",
            "_view_name": "StyleView",
            "description_width": ""
          }
        },
        "048bbfad6b094c1cbfd37be986054e85": {
          "model_module": "@jupyter-widgets/controls",
          "model_name": "HBoxModel",
          "model_module_version": "1.5.0",
          "state": {
            "_dom_classes": [],
            "_model_module": "@jupyter-widgets/controls",
            "_model_module_version": "1.5.0",
            "_model_name": "HBoxModel",
            "_view_count": null,
            "_view_module": "@jupyter-widgets/controls",
            "_view_module_version": "1.5.0",
            "_view_name": "HBoxView",
            "box_style": "",
            "children": [
              "IPY_MODEL_2eb764fd41864bb1b12017c1c55ada18",
              "IPY_MODEL_94884fee8ff247929f7dadd09279c61e",
              "IPY_MODEL_9a8426fd00b64cf0bea1d4da460bfc9e"
            ],
            "layout": "IPY_MODEL_e11932bad8a84281b106c0312d585dfe"
          }
        },
        "2eb764fd41864bb1b12017c1c55ada18": {
          "model_module": "@jupyter-widgets/controls",
          "model_name": "HTMLModel",
          "model_module_version": "1.5.0",
          "state": {
            "_dom_classes": [],
            "_model_module": "@jupyter-widgets/controls",
            "_model_module_version": "1.5.0",
            "_model_name": "HTMLModel",
            "_view_count": null,
            "_view_module": "@jupyter-widgets/controls",
            "_view_module_version": "1.5.0",
            "_view_name": "HTMLView",
            "description": "",
            "description_tooltip": null,
            "layout": "IPY_MODEL_68e49a437f2848789b873be4464eb067",
            "placeholder": "​",
            "style": "IPY_MODEL_eec0176083d746ac9d6fbbdef89e697c",
            "value": "Downloading: 100%"
          }
        },
        "94884fee8ff247929f7dadd09279c61e": {
          "model_module": "@jupyter-widgets/controls",
          "model_name": "FloatProgressModel",
          "model_module_version": "1.5.0",
          "state": {
            "_dom_classes": [],
            "_model_module": "@jupyter-widgets/controls",
            "_model_module_version": "1.5.0",
            "_model_name": "FloatProgressModel",
            "_view_count": null,
            "_view_module": "@jupyter-widgets/controls",
            "_view_module_version": "1.5.0",
            "_view_name": "ProgressView",
            "bar_style": "success",
            "description": "",
            "description_tooltip": null,
            "layout": "IPY_MODEL_d158b8346be14ca3be5361b06fb5bed2",
            "max": 42,
            "min": 0,
            "orientation": "horizontal",
            "style": "IPY_MODEL_849dd741cc0d4b55be641b678017d041",
            "value": 42
          }
        },
        "9a8426fd00b64cf0bea1d4da460bfc9e": {
          "model_module": "@jupyter-widgets/controls",
          "model_name": "HTMLModel",
          "model_module_version": "1.5.0",
          "state": {
            "_dom_classes": [],
            "_model_module": "@jupyter-widgets/controls",
            "_model_module_version": "1.5.0",
            "_model_name": "HTMLModel",
            "_view_count": null,
            "_view_module": "@jupyter-widgets/controls",
            "_view_module_version": "1.5.0",
            "_view_name": "HTMLView",
            "description": "",
            "description_tooltip": null,
            "layout": "IPY_MODEL_db192d2cbbee476dafd0c11ab53482d8",
            "placeholder": "​",
            "style": "IPY_MODEL_c7e0ea2933714710a213568e65788e21",
            "value": " 42.0/42.0 [00:00&lt;00:00, 1.34kB/s]"
          }
        },
        "e11932bad8a84281b106c0312d585dfe": {
          "model_module": "@jupyter-widgets/base",
          "model_name": "LayoutModel",
          "model_module_version": "1.2.0",
          "state": {
            "_model_module": "@jupyter-widgets/base",
            "_model_module_version": "1.2.0",
            "_model_name": "LayoutModel",
            "_view_count": null,
            "_view_module": "@jupyter-widgets/base",
            "_view_module_version": "1.2.0",
            "_view_name": "LayoutView",
            "align_content": null,
            "align_items": null,
            "align_self": null,
            "border": null,
            "bottom": null,
            "display": null,
            "flex": null,
            "flex_flow": null,
            "grid_area": null,
            "grid_auto_columns": null,
            "grid_auto_flow": null,
            "grid_auto_rows": null,
            "grid_column": null,
            "grid_gap": null,
            "grid_row": null,
            "grid_template_areas": null,
            "grid_template_columns": null,
            "grid_template_rows": null,
            "height": null,
            "justify_content": null,
            "justify_items": null,
            "left": null,
            "margin": null,
            "max_height": null,
            "max_width": null,
            "min_height": null,
            "min_width": null,
            "object_fit": null,
            "object_position": null,
            "order": null,
            "overflow": null,
            "overflow_x": null,
            "overflow_y": null,
            "padding": null,
            "right": null,
            "top": null,
            "visibility": null,
            "width": null
          }
        },
        "68e49a437f2848789b873be4464eb067": {
          "model_module": "@jupyter-widgets/base",
          "model_name": "LayoutModel",
          "model_module_version": "1.2.0",
          "state": {
            "_model_module": "@jupyter-widgets/base",
            "_model_module_version": "1.2.0",
            "_model_name": "LayoutModel",
            "_view_count": null,
            "_view_module": "@jupyter-widgets/base",
            "_view_module_version": "1.2.0",
            "_view_name": "LayoutView",
            "align_content": null,
            "align_items": null,
            "align_self": null,
            "border": null,
            "bottom": null,
            "display": null,
            "flex": null,
            "flex_flow": null,
            "grid_area": null,
            "grid_auto_columns": null,
            "grid_auto_flow": null,
            "grid_auto_rows": null,
            "grid_column": null,
            "grid_gap": null,
            "grid_row": null,
            "grid_template_areas": null,
            "grid_template_columns": null,
            "grid_template_rows": null,
            "height": null,
            "justify_content": null,
            "justify_items": null,
            "left": null,
            "margin": null,
            "max_height": null,
            "max_width": null,
            "min_height": null,
            "min_width": null,
            "object_fit": null,
            "object_position": null,
            "order": null,
            "overflow": null,
            "overflow_x": null,
            "overflow_y": null,
            "padding": null,
            "right": null,
            "top": null,
            "visibility": null,
            "width": null
          }
        },
        "eec0176083d746ac9d6fbbdef89e697c": {
          "model_module": "@jupyter-widgets/controls",
          "model_name": "DescriptionStyleModel",
          "model_module_version": "1.5.0",
          "state": {
            "_model_module": "@jupyter-widgets/controls",
            "_model_module_version": "1.5.0",
            "_model_name": "DescriptionStyleModel",
            "_view_count": null,
            "_view_module": "@jupyter-widgets/base",
            "_view_module_version": "1.2.0",
            "_view_name": "StyleView",
            "description_width": ""
          }
        },
        "d158b8346be14ca3be5361b06fb5bed2": {
          "model_module": "@jupyter-widgets/base",
          "model_name": "LayoutModel",
          "model_module_version": "1.2.0",
          "state": {
            "_model_module": "@jupyter-widgets/base",
            "_model_module_version": "1.2.0",
            "_model_name": "LayoutModel",
            "_view_count": null,
            "_view_module": "@jupyter-widgets/base",
            "_view_module_version": "1.2.0",
            "_view_name": "LayoutView",
            "align_content": null,
            "align_items": null,
            "align_self": null,
            "border": null,
            "bottom": null,
            "display": null,
            "flex": null,
            "flex_flow": null,
            "grid_area": null,
            "grid_auto_columns": null,
            "grid_auto_flow": null,
            "grid_auto_rows": null,
            "grid_column": null,
            "grid_gap": null,
            "grid_row": null,
            "grid_template_areas": null,
            "grid_template_columns": null,
            "grid_template_rows": null,
            "height": null,
            "justify_content": null,
            "justify_items": null,
            "left": null,
            "margin": null,
            "max_height": null,
            "max_width": null,
            "min_height": null,
            "min_width": null,
            "object_fit": null,
            "object_position": null,
            "order": null,
            "overflow": null,
            "overflow_x": null,
            "overflow_y": null,
            "padding": null,
            "right": null,
            "top": null,
            "visibility": null,
            "width": null
          }
        },
        "849dd741cc0d4b55be641b678017d041": {
          "model_module": "@jupyter-widgets/controls",
          "model_name": "ProgressStyleModel",
          "model_module_version": "1.5.0",
          "state": {
            "_model_module": "@jupyter-widgets/controls",
            "_model_module_version": "1.5.0",
            "_model_name": "ProgressStyleModel",
            "_view_count": null,
            "_view_module": "@jupyter-widgets/base",
            "_view_module_version": "1.2.0",
            "_view_name": "StyleView",
            "bar_color": null,
            "description_width": ""
          }
        },
        "db192d2cbbee476dafd0c11ab53482d8": {
          "model_module": "@jupyter-widgets/base",
          "model_name": "LayoutModel",
          "model_module_version": "1.2.0",
          "state": {
            "_model_module": "@jupyter-widgets/base",
            "_model_module_version": "1.2.0",
            "_model_name": "LayoutModel",
            "_view_count": null,
            "_view_module": "@jupyter-widgets/base",
            "_view_module_version": "1.2.0",
            "_view_name": "LayoutView",
            "align_content": null,
            "align_items": null,
            "align_self": null,
            "border": null,
            "bottom": null,
            "display": null,
            "flex": null,
            "flex_flow": null,
            "grid_area": null,
            "grid_auto_columns": null,
            "grid_auto_flow": null,
            "grid_auto_rows": null,
            "grid_column": null,
            "grid_gap": null,
            "grid_row": null,
            "grid_template_areas": null,
            "grid_template_columns": null,
            "grid_template_rows": null,
            "height": null,
            "justify_content": null,
            "justify_items": null,
            "left": null,
            "margin": null,
            "max_height": null,
            "max_width": null,
            "min_height": null,
            "min_width": null,
            "object_fit": null,
            "object_position": null,
            "order": null,
            "overflow": null,
            "overflow_x": null,
            "overflow_y": null,
            "padding": null,
            "right": null,
            "top": null,
            "visibility": null,
            "width": null
          }
        },
        "c7e0ea2933714710a213568e65788e21": {
          "model_module": "@jupyter-widgets/controls",
          "model_name": "DescriptionStyleModel",
          "model_module_version": "1.5.0",
          "state": {
            "_model_module": "@jupyter-widgets/controls",
            "_model_module_version": "1.5.0",
            "_model_name": "DescriptionStyleModel",
            "_view_count": null,
            "_view_module": "@jupyter-widgets/base",
            "_view_module_version": "1.2.0",
            "_view_name": "StyleView",
            "description_width": ""
          }
        }
      }
    }
  },
  "cells": [
    {
      "cell_type": "markdown",
      "metadata": {
        "id": "view-in-github",
        "colab_type": "text"
      },
      "source": [
        "<a href=\"https://colab.research.google.com/github/meowster99/news-sentiment-analysis/blob/bert-anaylsis/BERT_for_Sentiment_Analysis.ipynb\" target=\"_parent\"><img src=\"https://colab.research.google.com/assets/colab-badge.svg\" alt=\"Open In Colab\"/></a>"
      ]
    },
    {
      "cell_type": "code",
      "source": [
        "!pip install transformers\n",
        "!pip install tensorflow"
      ],
      "metadata": {
        "colab": {
          "base_uri": "https://localhost:8080/"
        },
        "id": "aoHhIfOhyAZG",
        "outputId": "bafff010-9d27-4495-f7f6-3f861b63ed3f"
      },
      "execution_count": 9,
      "outputs": [
        {
          "output_type": "stream",
          "name": "stdout",
          "text": [
            "Looking in indexes: https://pypi.org/simple, https://us-python.pkg.dev/colab-wheels/public/simple/\n",
            "Collecting transformers\n",
            "  Downloading transformers-4.24.0-py3-none-any.whl (5.5 MB)\n",
            "\u001b[K     |████████████████████████████████| 5.5 MB 5.1 MB/s \n",
            "\u001b[?25hCollecting tokenizers!=0.11.3,<0.14,>=0.11.1\n",
            "  Downloading tokenizers-0.13.2-cp37-cp37m-manylinux_2_17_x86_64.manylinux2014_x86_64.whl (7.6 MB)\n",
            "\u001b[K     |████████████████████████████████| 7.6 MB 46.8 MB/s \n",
            "\u001b[?25hRequirement already satisfied: filelock in /usr/local/lib/python3.7/dist-packages (from transformers) (3.8.0)\n",
            "Requirement already satisfied: numpy>=1.17 in /usr/local/lib/python3.7/dist-packages (from transformers) (1.21.6)\n",
            "Collecting huggingface-hub<1.0,>=0.10.0\n",
            "  Downloading huggingface_hub-0.10.1-py3-none-any.whl (163 kB)\n",
            "\u001b[K     |████████████████████████████████| 163 kB 58.5 MB/s \n",
            "\u001b[?25hRequirement already satisfied: importlib-metadata in /usr/local/lib/python3.7/dist-packages (from transformers) (4.13.0)\n",
            "Requirement already satisfied: packaging>=20.0 in /usr/local/lib/python3.7/dist-packages (from transformers) (21.3)\n",
            "Requirement already satisfied: regex!=2019.12.17 in /usr/local/lib/python3.7/dist-packages (from transformers) (2022.6.2)\n",
            "Requirement already satisfied: tqdm>=4.27 in /usr/local/lib/python3.7/dist-packages (from transformers) (4.64.1)\n",
            "Requirement already satisfied: pyyaml>=5.1 in /usr/local/lib/python3.7/dist-packages (from transformers) (6.0)\n",
            "Requirement already satisfied: requests in /usr/local/lib/python3.7/dist-packages (from transformers) (2.23.0)\n",
            "Requirement already satisfied: typing-extensions>=3.7.4.3 in /usr/local/lib/python3.7/dist-packages (from huggingface-hub<1.0,>=0.10.0->transformers) (4.1.1)\n",
            "Requirement already satisfied: pyparsing!=3.0.5,>=2.0.2 in /usr/local/lib/python3.7/dist-packages (from packaging>=20.0->transformers) (3.0.9)\n",
            "Requirement already satisfied: zipp>=0.5 in /usr/local/lib/python3.7/dist-packages (from importlib-metadata->transformers) (3.10.0)\n",
            "Requirement already satisfied: urllib3!=1.25.0,!=1.25.1,<1.26,>=1.21.1 in /usr/local/lib/python3.7/dist-packages (from requests->transformers) (1.24.3)\n",
            "Requirement already satisfied: certifi>=2017.4.17 in /usr/local/lib/python3.7/dist-packages (from requests->transformers) (2022.9.24)\n",
            "Requirement already satisfied: idna<3,>=2.5 in /usr/local/lib/python3.7/dist-packages (from requests->transformers) (2.10)\n",
            "Requirement already satisfied: chardet<4,>=3.0.2 in /usr/local/lib/python3.7/dist-packages (from requests->transformers) (3.0.4)\n",
            "Installing collected packages: tokenizers, huggingface-hub, transformers\n",
            "Successfully installed huggingface-hub-0.10.1 tokenizers-0.13.2 transformers-4.24.0\n",
            "Looking in indexes: https://pypi.org/simple, https://us-python.pkg.dev/colab-wheels/public/simple/\n",
            "Requirement already satisfied: tensorflow in /usr/local/lib/python3.7/dist-packages (2.9.2)\n",
            "Requirement already satisfied: tensorflow-io-gcs-filesystem>=0.23.1 in /usr/local/lib/python3.7/dist-packages (from tensorflow) (0.27.0)\n",
            "Requirement already satisfied: tensorboard<2.10,>=2.9 in /usr/local/lib/python3.7/dist-packages (from tensorflow) (2.9.1)\n",
            "Requirement already satisfied: absl-py>=1.0.0 in /usr/local/lib/python3.7/dist-packages (from tensorflow) (1.3.0)\n",
            "Requirement already satisfied: grpcio<2.0,>=1.24.3 in /usr/local/lib/python3.7/dist-packages (from tensorflow) (1.50.0)\n",
            "Requirement already satisfied: setuptools in /usr/local/lib/python3.7/dist-packages (from tensorflow) (57.4.0)\n",
            "Requirement already satisfied: gast<=0.4.0,>=0.2.1 in /usr/local/lib/python3.7/dist-packages (from tensorflow) (0.4.0)\n",
            "Requirement already satisfied: packaging in /usr/local/lib/python3.7/dist-packages (from tensorflow) (21.3)\n",
            "Requirement already satisfied: wrapt>=1.11.0 in /usr/local/lib/python3.7/dist-packages (from tensorflow) (1.14.1)\n",
            "Requirement already satisfied: keras-preprocessing>=1.1.1 in /usr/local/lib/python3.7/dist-packages (from tensorflow) (1.1.2)\n",
            "Requirement already satisfied: tensorflow-estimator<2.10.0,>=2.9.0rc0 in /usr/local/lib/python3.7/dist-packages (from tensorflow) (2.9.0)\n",
            "Requirement already satisfied: libclang>=13.0.0 in /usr/local/lib/python3.7/dist-packages (from tensorflow) (14.0.6)\n",
            "Requirement already satisfied: astunparse>=1.6.0 in /usr/local/lib/python3.7/dist-packages (from tensorflow) (1.6.3)\n",
            "Requirement already satisfied: opt-einsum>=2.3.2 in /usr/local/lib/python3.7/dist-packages (from tensorflow) (3.3.0)\n",
            "Requirement already satisfied: google-pasta>=0.1.1 in /usr/local/lib/python3.7/dist-packages (from tensorflow) (0.2.0)\n",
            "Requirement already satisfied: termcolor>=1.1.0 in /usr/local/lib/python3.7/dist-packages (from tensorflow) (2.1.0)\n",
            "Requirement already satisfied: protobuf<3.20,>=3.9.2 in /usr/local/lib/python3.7/dist-packages (from tensorflow) (3.19.6)\n",
            "Requirement already satisfied: numpy>=1.20 in /usr/local/lib/python3.7/dist-packages (from tensorflow) (1.21.6)\n",
            "Requirement already satisfied: typing-extensions>=3.6.6 in /usr/local/lib/python3.7/dist-packages (from tensorflow) (4.1.1)\n",
            "Requirement already satisfied: h5py>=2.9.0 in /usr/local/lib/python3.7/dist-packages (from tensorflow) (3.1.0)\n",
            "Requirement already satisfied: six>=1.12.0 in /usr/local/lib/python3.7/dist-packages (from tensorflow) (1.15.0)\n",
            "Requirement already satisfied: keras<2.10.0,>=2.9.0rc0 in /usr/local/lib/python3.7/dist-packages (from tensorflow) (2.9.0)\n",
            "Requirement already satisfied: flatbuffers<2,>=1.12 in /usr/local/lib/python3.7/dist-packages (from tensorflow) (1.12)\n",
            "Requirement already satisfied: wheel<1.0,>=0.23.0 in /usr/local/lib/python3.7/dist-packages (from astunparse>=1.6.0->tensorflow) (0.38.3)\n",
            "Requirement already satisfied: cached-property in /usr/local/lib/python3.7/dist-packages (from h5py>=2.9.0->tensorflow) (1.5.2)\n",
            "Requirement already satisfied: werkzeug>=1.0.1 in /usr/local/lib/python3.7/dist-packages (from tensorboard<2.10,>=2.9->tensorflow) (1.0.1)\n",
            "Requirement already satisfied: requests<3,>=2.21.0 in /usr/local/lib/python3.7/dist-packages (from tensorboard<2.10,>=2.9->tensorflow) (2.23.0)\n",
            "Requirement already satisfied: markdown>=2.6.8 in /usr/local/lib/python3.7/dist-packages (from tensorboard<2.10,>=2.9->tensorflow) (3.4.1)\n",
            "Requirement already satisfied: tensorboard-data-server<0.7.0,>=0.6.0 in /usr/local/lib/python3.7/dist-packages (from tensorboard<2.10,>=2.9->tensorflow) (0.6.1)\n",
            "Requirement already satisfied: tensorboard-plugin-wit>=1.6.0 in /usr/local/lib/python3.7/dist-packages (from tensorboard<2.10,>=2.9->tensorflow) (1.8.1)\n",
            "Requirement already satisfied: google-auth-oauthlib<0.5,>=0.4.1 in /usr/local/lib/python3.7/dist-packages (from tensorboard<2.10,>=2.9->tensorflow) (0.4.6)\n",
            "Requirement already satisfied: google-auth<3,>=1.6.3 in /usr/local/lib/python3.7/dist-packages (from tensorboard<2.10,>=2.9->tensorflow) (2.14.1)\n",
            "Requirement already satisfied: pyasn1-modules>=0.2.1 in /usr/local/lib/python3.7/dist-packages (from google-auth<3,>=1.6.3->tensorboard<2.10,>=2.9->tensorflow) (0.2.8)\n",
            "Requirement already satisfied: rsa<5,>=3.1.4 in /usr/local/lib/python3.7/dist-packages (from google-auth<3,>=1.6.3->tensorboard<2.10,>=2.9->tensorflow) (4.9)\n",
            "Requirement already satisfied: cachetools<6.0,>=2.0.0 in /usr/local/lib/python3.7/dist-packages (from google-auth<3,>=1.6.3->tensorboard<2.10,>=2.9->tensorflow) (5.2.0)\n",
            "Requirement already satisfied: requests-oauthlib>=0.7.0 in /usr/local/lib/python3.7/dist-packages (from google-auth-oauthlib<0.5,>=0.4.1->tensorboard<2.10,>=2.9->tensorflow) (1.3.1)\n",
            "Requirement already satisfied: importlib-metadata>=4.4 in /usr/local/lib/python3.7/dist-packages (from markdown>=2.6.8->tensorboard<2.10,>=2.9->tensorflow) (4.13.0)\n",
            "Requirement already satisfied: zipp>=0.5 in /usr/local/lib/python3.7/dist-packages (from importlib-metadata>=4.4->markdown>=2.6.8->tensorboard<2.10,>=2.9->tensorflow) (3.10.0)\n",
            "Requirement already satisfied: pyasn1<0.5.0,>=0.4.6 in /usr/local/lib/python3.7/dist-packages (from pyasn1-modules>=0.2.1->google-auth<3,>=1.6.3->tensorboard<2.10,>=2.9->tensorflow) (0.4.8)\n",
            "Requirement already satisfied: urllib3!=1.25.0,!=1.25.1,<1.26,>=1.21.1 in /usr/local/lib/python3.7/dist-packages (from requests<3,>=2.21.0->tensorboard<2.10,>=2.9->tensorflow) (1.24.3)\n",
            "Requirement already satisfied: certifi>=2017.4.17 in /usr/local/lib/python3.7/dist-packages (from requests<3,>=2.21.0->tensorboard<2.10,>=2.9->tensorflow) (2022.9.24)\n",
            "Requirement already satisfied: chardet<4,>=3.0.2 in /usr/local/lib/python3.7/dist-packages (from requests<3,>=2.21.0->tensorboard<2.10,>=2.9->tensorflow) (3.0.4)\n",
            "Requirement already satisfied: idna<3,>=2.5 in /usr/local/lib/python3.7/dist-packages (from requests<3,>=2.21.0->tensorboard<2.10,>=2.9->tensorflow) (2.10)\n",
            "Requirement already satisfied: oauthlib>=3.0.0 in /usr/local/lib/python3.7/dist-packages (from requests-oauthlib>=0.7.0->google-auth-oauthlib<0.5,>=0.4.1->tensorboard<2.10,>=2.9->tensorflow) (3.2.2)\n",
            "Requirement already satisfied: pyparsing!=3.0.5,>=2.0.2 in /usr/local/lib/python3.7/dist-packages (from packaging->tensorflow) (3.0.9)\n"
          ]
        }
      ]
    },
    {
      "cell_type": "code",
      "source": [
        "from transformers import AutoTokenizer, AutoModelForMaskedLM\n",
        "from transformers import BertConfig, TFBertModel, BertTokenizer, TFBertForSequenceClassification, TFDistilBertModel, TFAutoModelForSequenceClassification\n",
        "\n",
        "import time\n",
        "\n",
        "import pandas as pd\n",
        "import seaborn as sns\n",
        "import matplotlib.pyplot as plt\n",
        "import numpy as np\n",
        "\n",
        "import IPython.display as ipd\n",
        "\n",
        "from scipy.io import wavfile as wav\n",
        "\n",
        "from sklearn.preprocessing import StandardScaler\n",
        "from sklearn.model_selection import train_test_split\n",
        "import tensorflow as tf\n",
        "import tensorflow.keras as keras\n",
        "from tensorflow.keras import Sequential\n",
        "from tensorflow.keras.layers import *\n",
        "from tensorflow.keras.regularizers import l2\n",
        "from tensorflow.keras.callbacks import ReduceLROnPlateau,EarlyStopping,ModelCheckpoint,LearningRateScheduler\n",
        "from sklearn.feature_extraction.text import TfidfVectorizer\n",
        "from tensorflow.keras.utils import pad_sequences\n",
        "\n",
        "\n",
        "SEED = 42\n",
        "\n",
        "import os\n",
        "os.environ['TF_CUDNN_DETERMINISTIC'] = '1'\n",
        "\n",
        "import random \n",
        "random.seed(SEED)\n",
        "\n",
        "import numpy as np\n",
        "np.random.seed(SEED)\n",
        "\n",
        "import tensorflow as tf\n",
        "tf.random.set_seed(SEED)"
      ],
      "metadata": {
        "id": "DJH3cggtzwlT"
      },
      "execution_count": 10,
      "outputs": []
    },
    {
      "cell_type": "code",
      "source": [
        "tf.test.gpu_device_name()"
      ],
      "metadata": {
        "colab": {
          "base_uri": "https://localhost:8080/",
          "height": 35
        },
        "id": "ueVksKegJafm",
        "outputId": "314b1b4c-4977-4abd-fee5-e30f1c6af0c2"
      },
      "execution_count": 2,
      "outputs": [
        {
          "output_type": "execute_result",
          "data": {
            "text/plain": [
              "'/device:GPU:0'"
            ],
            "application/vnd.google.colaboratory.intrinsic+json": {
              "type": "string"
            }
          },
          "metadata": {},
          "execution_count": 2
        }
      ]
    },
    {
      "cell_type": "code",
      "source": [
        "!cat /proc/meminfo"
      ],
      "metadata": {
        "colab": {
          "base_uri": "https://localhost:8080/"
        },
        "id": "WspVJnnUJgTG",
        "outputId": "ce5f0f9e-1f6d-4311-98a4-c20ce5f4b14c"
      },
      "execution_count": null,
      "outputs": [
        {
          "output_type": "stream",
          "name": "stdout",
          "text": [
            "MemTotal:       13297220 kB\n",
            "MemFree:         7888636 kB\n",
            "MemAvailable:   10270456 kB\n",
            "Buffers:           68032 kB\n",
            "Cached:          2156324 kB\n",
            "SwapCached:            0 kB\n",
            "Active:           486532 kB\n",
            "Inactive:        4529808 kB\n",
            "Active(anon):      15936 kB\n",
            "Inactive(anon):  2420556 kB\n",
            "Active(file):     470596 kB\n",
            "Inactive(file):  2109252 kB\n",
            "Unevictable:           0 kB\n",
            "Mlocked:               0 kB\n",
            "SwapTotal:             0 kB\n",
            "SwapFree:              0 kB\n",
            "Dirty:              1156 kB\n",
            "Writeback:             0 kB\n",
            "AnonPages:       2792000 kB\n",
            "Mapped:           727848 kB\n",
            "Shmem:             11548 kB\n",
            "KReclaimable:      87100 kB\n",
            "Slab:             133016 kB\n",
            "SReclaimable:      87100 kB\n",
            "SUnreclaim:        45916 kB\n",
            "KernelStack:        4960 kB\n",
            "PageTables:        60448 kB\n",
            "NFS_Unstable:          0 kB\n",
            "Bounce:                0 kB\n",
            "WritebackTmp:          0 kB\n",
            "CommitLimit:     6648608 kB\n",
            "Committed_AS:    4064876 kB\n",
            "VmallocTotal:   34359738367 kB\n",
            "VmallocUsed:       53500 kB\n",
            "VmallocChunk:          0 kB\n",
            "Percpu:             1432 kB\n",
            "HardwareCorrupted:     0 kB\n",
            "AnonHugePages:         0 kB\n",
            "ShmemHugePages:        0 kB\n",
            "ShmemPmdMapped:        0 kB\n",
            "FileHugePages:         0 kB\n",
            "FilePmdMapped:         0 kB\n",
            "CmaTotal:              0 kB\n",
            "CmaFree:               0 kB\n",
            "HugePages_Total:       0\n",
            "HugePages_Free:        0\n",
            "HugePages_Rsvd:        0\n",
            "HugePages_Surp:        0\n",
            "Hugepagesize:       2048 kB\n",
            "Hugetlb:               0 kB\n",
            "DirectMap4k:      258880 kB\n",
            "DirectMap2M:     8126464 kB\n",
            "DirectMap1G:     7340032 kB\n"
          ]
        }
      ]
    },
    {
      "cell_type": "code",
      "source": [
        "loss = tf.keras.losses.CategoricalCrossentropy()\n",
        "metrics = [tf.keras.metrics.CategoricalAccuracy('accuracy'), tf.keras.metrics.Precision(name='precision'), tf.keras.metrics.Recall(name='recall')]\n",
        "class time_for_epoch(tf.keras.callbacks.Callback):\n",
        "    def on_train_begin(self, logs={}):\n",
        "        self.times = []\n",
        "    def on_epoch_begin(self, epoch, logs={}):\n",
        "        self.epoch_time_start = time.time()\n",
        "    def on_epoch_end(self, epoch, logs={}):\n",
        "        self.times.append(time.time() - self.epoch_time_start)\n"
      ],
      "metadata": {
        "id": "hezcw6W8lw3g"
      },
      "execution_count": 11,
      "outputs": []
    },
    {
      "cell_type": "markdown",
      "source": [
        "# BERT For Dataset A: Financial News Dataset"
      ],
      "metadata": {
        "id": "1WYIGmarTN-F"
      }
    },
    {
      "cell_type": "markdown",
      "source": [
        "## Loading News Data"
      ],
      "metadata": {
        "id": "eqSK6SDp2Okq"
      }
    },
    {
      "cell_type": "code",
      "execution_count": 14,
      "metadata": {
        "colab": {
          "base_uri": "https://localhost:8080/"
        },
        "id": "I9dTy6tpxGcF",
        "outputId": "617c1276-83a4-4997-d996-45e884209ce3"
      },
      "outputs": [
        {
          "output_type": "stream",
          "name": "stdout",
          "text": [
            "Xtrain: (3876, 1) ytrain: (3876, 1)\n",
            "Xtest: (970, 1) ytest: (970, 1)\n"
          ]
        }
      ],
      "source": [
        "# Read Train and Test data\n",
        "#import the train and test files for financial news\n",
        "fnews_Xtrain = pd.read_csv('fnews_Xtrain.csv')\n",
        "fnews_Xtest = pd.read_csv('fnews_Xtest.csv')\n",
        "fnews_ytrain = pd.read_csv('fnews_ytrain.csv')\n",
        "fnews_ytest = pd.read_csv('fnews_ytest.csv')\n",
        "\n",
        "# drop the first column for all the train and test sets\n",
        "fnews_Xtrain.drop(columns=fnews_Xtrain.columns[0], axis=1, inplace=True)\n",
        "fnews_ytrain.drop(columns=fnews_ytrain.columns[0], axis=1, inplace=True)\n",
        "fnews_Xtest.drop(columns=fnews_Xtest.columns[0], axis=1, inplace=True)\n",
        "fnews_ytest.drop(columns=fnews_ytest.columns[0], axis=1, inplace=True)\n",
        "\n",
        "#check the respective shape of the train and test sets\n",
        "print('Xtrain:',fnews_Xtrain.shape, 'ytrain:' ,fnews_ytrain.shape)\n",
        "print('Xtest:',fnews_Xtest.shape, 'ytest:' ,fnews_ytest.shape)"
      ]
    },
    {
      "cell_type": "code",
      "source": [
        "fnews_Xtrain.head()"
      ],
      "metadata": {
        "colab": {
          "base_uri": "https://localhost:8080/",
          "height": 206
        },
        "id": "oEzbS1_Zy6Y1",
        "outputId": "6e8adc8f-8dad-41c4-bd6c-4c853efe44e6"
      },
      "execution_count": 15,
      "outputs": [
        {
          "output_type": "execute_result",
          "data": {
            "text/plain": [
              "                                                News\n",
              "0  ['russia', 'raisio', 's', 'food', 'division', ...\n",
              "1  ['operator', 'need', 'learn', 'use', 'device',...\n",
              "2  ['company', 'expects', 'net', 'sale', 'half', ...\n",
              "3  ['bridge', 'km', 'long', 'located', 'anasmotet...\n",
              "4  ['nokia', 'capcom', 'announced', 'resident', '..."
            ],
            "text/html": [
              "\n",
              "  <div id=\"df-bdf1d6a1-77f7-4a19-80d9-4e5b2bcc1554\">\n",
              "    <div class=\"colab-df-container\">\n",
              "      <div>\n",
              "<style scoped>\n",
              "    .dataframe tbody tr th:only-of-type {\n",
              "        vertical-align: middle;\n",
              "    }\n",
              "\n",
              "    .dataframe tbody tr th {\n",
              "        vertical-align: top;\n",
              "    }\n",
              "\n",
              "    .dataframe thead th {\n",
              "        text-align: right;\n",
              "    }\n",
              "</style>\n",
              "<table border=\"1\" class=\"dataframe\">\n",
              "  <thead>\n",
              "    <tr style=\"text-align: right;\">\n",
              "      <th></th>\n",
              "      <th>News</th>\n",
              "    </tr>\n",
              "  </thead>\n",
              "  <tbody>\n",
              "    <tr>\n",
              "      <th>0</th>\n",
              "      <td>['russia', 'raisio', 's', 'food', 'division', ...</td>\n",
              "    </tr>\n",
              "    <tr>\n",
              "      <th>1</th>\n",
              "      <td>['operator', 'need', 'learn', 'use', 'device',...</td>\n",
              "    </tr>\n",
              "    <tr>\n",
              "      <th>2</th>\n",
              "      <td>['company', 'expects', 'net', 'sale', 'half', ...</td>\n",
              "    </tr>\n",
              "    <tr>\n",
              "      <th>3</th>\n",
              "      <td>['bridge', 'km', 'long', 'located', 'anasmotet...</td>\n",
              "    </tr>\n",
              "    <tr>\n",
              "      <th>4</th>\n",
              "      <td>['nokia', 'capcom', 'announced', 'resident', '...</td>\n",
              "    </tr>\n",
              "  </tbody>\n",
              "</table>\n",
              "</div>\n",
              "      <button class=\"colab-df-convert\" onclick=\"convertToInteractive('df-bdf1d6a1-77f7-4a19-80d9-4e5b2bcc1554')\"\n",
              "              title=\"Convert this dataframe to an interactive table.\"\n",
              "              style=\"display:none;\">\n",
              "        \n",
              "  <svg xmlns=\"http://www.w3.org/2000/svg\" height=\"24px\"viewBox=\"0 0 24 24\"\n",
              "       width=\"24px\">\n",
              "    <path d=\"M0 0h24v24H0V0z\" fill=\"none\"/>\n",
              "    <path d=\"M18.56 5.44l.94 2.06.94-2.06 2.06-.94-2.06-.94-.94-2.06-.94 2.06-2.06.94zm-11 1L8.5 8.5l.94-2.06 2.06-.94-2.06-.94L8.5 2.5l-.94 2.06-2.06.94zm10 10l.94 2.06.94-2.06 2.06-.94-2.06-.94-.94-2.06-.94 2.06-2.06.94z\"/><path d=\"M17.41 7.96l-1.37-1.37c-.4-.4-.92-.59-1.43-.59-.52 0-1.04.2-1.43.59L10.3 9.45l-7.72 7.72c-.78.78-.78 2.05 0 2.83L4 21.41c.39.39.9.59 1.41.59.51 0 1.02-.2 1.41-.59l7.78-7.78 2.81-2.81c.8-.78.8-2.07 0-2.86zM5.41 20L4 18.59l7.72-7.72 1.47 1.35L5.41 20z\"/>\n",
              "  </svg>\n",
              "      </button>\n",
              "      \n",
              "  <style>\n",
              "    .colab-df-container {\n",
              "      display:flex;\n",
              "      flex-wrap:wrap;\n",
              "      gap: 12px;\n",
              "    }\n",
              "\n",
              "    .colab-df-convert {\n",
              "      background-color: #E8F0FE;\n",
              "      border: none;\n",
              "      border-radius: 50%;\n",
              "      cursor: pointer;\n",
              "      display: none;\n",
              "      fill: #1967D2;\n",
              "      height: 32px;\n",
              "      padding: 0 0 0 0;\n",
              "      width: 32px;\n",
              "    }\n",
              "\n",
              "    .colab-df-convert:hover {\n",
              "      background-color: #E2EBFA;\n",
              "      box-shadow: 0px 1px 2px rgba(60, 64, 67, 0.3), 0px 1px 3px 1px rgba(60, 64, 67, 0.15);\n",
              "      fill: #174EA6;\n",
              "    }\n",
              "\n",
              "    [theme=dark] .colab-df-convert {\n",
              "      background-color: #3B4455;\n",
              "      fill: #D2E3FC;\n",
              "    }\n",
              "\n",
              "    [theme=dark] .colab-df-convert:hover {\n",
              "      background-color: #434B5C;\n",
              "      box-shadow: 0px 1px 3px 1px rgba(0, 0, 0, 0.15);\n",
              "      filter: drop-shadow(0px 1px 2px rgba(0, 0, 0, 0.3));\n",
              "      fill: #FFFFFF;\n",
              "    }\n",
              "  </style>\n",
              "\n",
              "      <script>\n",
              "        const buttonEl =\n",
              "          document.querySelector('#df-bdf1d6a1-77f7-4a19-80d9-4e5b2bcc1554 button.colab-df-convert');\n",
              "        buttonEl.style.display =\n",
              "          google.colab.kernel.accessAllowed ? 'block' : 'none';\n",
              "\n",
              "        async function convertToInteractive(key) {\n",
              "          const element = document.querySelector('#df-bdf1d6a1-77f7-4a19-80d9-4e5b2bcc1554');\n",
              "          const dataTable =\n",
              "            await google.colab.kernel.invokeFunction('convertToInteractive',\n",
              "                                                     [key], {});\n",
              "          if (!dataTable) return;\n",
              "\n",
              "          const docLinkHtml = 'Like what you see? Visit the ' +\n",
              "            '<a target=\"_blank\" href=https://colab.research.google.com/notebooks/data_table.ipynb>data table notebook</a>'\n",
              "            + ' to learn more about interactive tables.';\n",
              "          element.innerHTML = '';\n",
              "          dataTable['output_type'] = 'display_data';\n",
              "          await google.colab.output.renderOutput(dataTable, element);\n",
              "          const docLink = document.createElement('div');\n",
              "          docLink.innerHTML = docLinkHtml;\n",
              "          element.appendChild(docLink);\n",
              "        }\n",
              "      </script>\n",
              "    </div>\n",
              "  </div>\n",
              "  "
            ]
          },
          "metadata": {},
          "execution_count": 15
        }
      ]
    },
    {
      "cell_type": "markdown",
      "source": [
        "## Preparing Data for BERT"
      ],
      "metadata": {
        "id": "hfAal1n12WL0"
      }
    },
    {
      "cell_type": "code",
      "source": [
        "# set the maximum length of sentences for BERT\n",
        "MAX_LEN = max([len(x) for x in fnews_Xtrain[\"News\"]])\n",
        "\n",
        "# some dataset handling\n",
        "fnews_Xtrain['News'] = fnews_Xtrain['News'].apply(eval)\n",
        "fnews_Xtest['News'] = fnews_Xtest['News'].apply(eval)\n",
        "\n",
        "# preparing the data for BERT\n",
        "def create_attention_masks(df):\n",
        "    # BERT requires special tokens at the beginning and end of each sentence for it to work properly\n",
        "    tokenizer = BertTokenizer.from_pretrained('bert-base-uncased', do_lower_case=True)\n",
        "\n",
        "    input_ids = []\n",
        "    token_type_ids = []\n",
        "    attention_masks = []\n",
        "    for headline in df:\n",
        "        tokenized_texts = tokenizer.encode_plus(\" \".join(headline),\n",
        "                                                    add_special_tokens=True,\n",
        "                                                    max_length=MAX_LEN,\n",
        "                                                    padding='max_length',\n",
        "                                                    truncation=True,\n",
        "                                                    return_attention_mask=True)\n",
        "        input_ids.append(tokenized_texts['input_ids'])\n",
        "        token_type_ids.append(tokenized_texts['token_type_ids'])\n",
        "        attention_masks.append(tokenized_texts['attention_mask'])\n",
        "    return input_ids, token_type_ids, attention_masks\n",
        "\n",
        "# mapping the classes to a numeric representation\n",
        "train_labels = fnews_ytrain['Class'].map({'neutral':1, 'positive': 2, 'negative': 0}).values\n",
        "test_labels = fnews_ytest['Class'].map({'neutral':1, 'positive': 2, 'negative': 0}).values\n",
        "\n",
        "# split into train, val and test datasets and check the shapes\n",
        "train_input_ids, train_tokens, train_attention_masks = create_attention_masks(fnews_Xtrain['News'])\n",
        "test_input_ids, test_tokens, test_attention_masks = create_attention_masks(fnews_Xtest['News'])\n",
        "ttrain_input_ids, val_input_ids, ttrain_tokens, val_tokens, ttrain_attention_masks, val_attention_masks, ttrain_labels, val_labels  = train_test_split(train_input_ids, train_tokens, train_attention_masks, train_labels, test_size=0.2)\n",
        "print('Train shape: ', len(ttrain_input_ids), len(ttrain_tokens), len(ttrain_attention_masks), len(ttrain_labels))\n",
        "print('Val shape: ', len(val_input_ids), len(val_tokens), len(val_attention_masks), len(val_labels))\n",
        "print('Test shape: ', len(test_input_ids), len(test_tokens), len(test_attention_masks), len(test_labels))"
      ],
      "metadata": {
        "colab": {
          "base_uri": "https://localhost:8080/",
          "height": 167,
          "referenced_widgets": [
            "3283eddfffcc4af7b2bdbfeac73112bb",
            "41eac252c9bc449c93969b97ad0fa59e",
            "4cd2898b878f4554bf6aaafd8b6b7519",
            "ff106a756c174ed3a189a7ac4f7d2c2e",
            "2d46e58266a84d97a5f531dfd45c661e",
            "ed144e482069450186cd49bdb0a0e721",
            "18b3682a3c5741d69d47df25ca877c8c",
            "a49e8e50dfbe462f811b8bb083e97dde",
            "351caf9ff1a74f40a0c238a98e30d302",
            "a737f1658bae41e78ec0cc0e856ef6a9",
            "a7c60956cd884b46a6873ca1b4c7b8fd",
            "29491452096e42f29fa73078cbd7b233",
            "3bad3e7216da4f819174e228eb88324f",
            "3d659857e0104901b818440fde147c30",
            "80b5cc3439984110ae5ae94d350e261b",
            "a3ee70a6396549559a673385c6992054",
            "aa29e3da89c9407b86a9cbe06f6c7aff",
            "1d9e7f9ae34e450da62fa620914066bb",
            "514d5572920c4c7d861071baa8e9d543",
            "1591c49525994c12aa3124f9da40485f",
            "e8fefd4839f54a2c8db641171ef95c94",
            "63811360a3804dec9a05bb374c3cbf58",
            "6fdfa6f2eb2b4528b515250eecfd0eaa",
            "ea0e0f94492844fbaccfb3bdbcca0c8d",
            "4a67510b393b4a33b0b1ca853d5e0637",
            "8e8f76898a6747a59c0dcbd1c92d26b0",
            "e299f57fde7d4080a741e9432fe86048",
            "84d81f5b5d1f476cbc5685e49f20c639",
            "519bc3313f0845b4b15800430a6fac14",
            "0e041559a5c44115a7bbfc5bb98377f5",
            "07bde689215d41dc98439db5c0bf19b2",
            "7f4023e90740456796cfcc39f045acd3",
            "c1294068472e43fda219732a188e8efb"
          ]
        },
        "id": "L-9vrrNAx7XJ",
        "outputId": "f1c41d2f-33e4-4f23-e5fd-72e65ab03d23"
      },
      "execution_count": 16,
      "outputs": [
        {
          "output_type": "display_data",
          "data": {
            "text/plain": [
              "Downloading:   0%|          | 0.00/232k [00:00<?, ?B/s]"
            ],
            "application/vnd.jupyter.widget-view+json": {
              "version_major": 2,
              "version_minor": 0,
              "model_id": "3283eddfffcc4af7b2bdbfeac73112bb"
            }
          },
          "metadata": {}
        },
        {
          "output_type": "display_data",
          "data": {
            "text/plain": [
              "Downloading:   0%|          | 0.00/28.0 [00:00<?, ?B/s]"
            ],
            "application/vnd.jupyter.widget-view+json": {
              "version_major": 2,
              "version_minor": 0,
              "model_id": "29491452096e42f29fa73078cbd7b233"
            }
          },
          "metadata": {}
        },
        {
          "output_type": "display_data",
          "data": {
            "text/plain": [
              "Downloading:   0%|          | 0.00/570 [00:00<?, ?B/s]"
            ],
            "application/vnd.jupyter.widget-view+json": {
              "version_major": 2,
              "version_minor": 0,
              "model_id": "6fdfa6f2eb2b4528b515250eecfd0eaa"
            }
          },
          "metadata": {}
        },
        {
          "output_type": "stream",
          "name": "stdout",
          "text": [
            "Train shape:  3100 3100 3100 3100\n",
            "Val shape:  776 776 776 776\n",
            "Test shape:  970 970 970 970\n"
          ]
        }
      ]
    },
    {
      "cell_type": "code",
      "source": [
        "NUM_CLASSES = 3\n",
        "ttrain_inputs = tf.convert_to_tensor(ttrain_input_ids, dtype=tf.int32, name='input_ids')\n",
        "val_inputs = tf.convert_to_tensor(val_input_ids, dtype=tf.int32, name='input_ids')\n",
        "test_inputs = tf.convert_to_tensor(test_input_ids, dtype=tf.int32, name='input_ids')\n",
        "\n",
        "ttrain_tokens = tf.convert_to_tensor(ttrain_tokens,dtype=tf.int32, name='token_ids')\n",
        "val_tokens = tf.convert_to_tensor(val_tokens, dtype=tf.int32, name='token_ids')\n",
        "test_tokens = tf.convert_to_tensor( test_tokens, dtype=tf.int32, name='token_ids')\n",
        "\n",
        "ttrain_masks = tf.convert_to_tensor(ttrain_attention_masks, dtype=tf.int32, name='attention_masks')\n",
        "val_masks = tf.convert_to_tensor(val_attention_masks, dtype=tf.int32, name='attention_masks')\n",
        "test_masks = tf.convert_to_tensor(test_attention_masks, dtype=tf.int32, name='attention_masks')\n",
        "\n",
        "# ttrain_labels = tf.convert_to_tensor(ttrain_labels)\n",
        "# val_labels = tf.convert_to_tensor(val_labels)\n",
        "# test_labels = tf.convert_to_tensor(test_labels)\n",
        "\n",
        "ttrain_labels = tf.keras.utils.to_categorical(ttrain_labels, num_classes=NUM_CLASSES)\n",
        "val_labels = tf.keras.utils.to_categorical(val_labels, num_classes=NUM_CLASSES)\n",
        "test_labels = tf.keras.utils.to_categorical(test_labels, num_classes=NUM_CLASSES)\n",
        "\n",
        "\n",
        "def map_to_dict(inputs, masks, tokens, labels):\n",
        "    return {\n",
        "        'input_ids': inputs,\n",
        "        'attention_masks': masks,\n",
        "        'token_ids': tokens,\n",
        "    }, labels\n",
        "\n",
        "BATCH_SIZE = 8\n",
        "train_ds = tf.data.Dataset.from_tensor_slices((ttrain_inputs, ttrain_masks, ttrain_tokens, ttrain_labels)).map(map_to_dict).shuffle(len(ttrain_inputs)).batch(BATCH_SIZE)\n",
        "val_ds = tf.data.Dataset.from_tensor_slices((val_inputs, val_masks, val_tokens, val_labels)).map(map_to_dict).shuffle(len(val_inputs)).batch(BATCH_SIZE)\n",
        "test_ds = tf.data.Dataset.from_tensor_slices((test_inputs, test_masks, test_tokens, test_labels)).map(map_to_dict).shuffle(len(test_inputs)).batch(BATCH_SIZE)"
      ],
      "metadata": {
        "id": "7lMCqgU8yZhH"
      },
      "execution_count": 17,
      "outputs": []
    },
    {
      "cell_type": "code",
      "source": [
        "## Initialize pre-built BERT-based classifier from transformers\n",
        "def create_base_model():\n",
        "    ids = keras.layers.Input(shape=((MAX_LEN,)), name=\"input_ids\", dtype=\"int32\")\n",
        "    # tokens = keras.layers.Input(shape=((MAX_LEN,)), name=\"token_ids\", dtype=\"int32\")\n",
        "    masks = keras.layers.Input(shape=((MAX_LEN,)), name=\"attention_masks\", dtype=\"int32\") \n",
        "    inputs = [ids, masks]\n",
        "    config = BertConfig()\n",
        "    config.output_hidden_states = False\n",
        "    bert_model = TFAutoModelForSequenceClassification.from_pretrained(\n",
        "        'distilbert-base-uncased', config=config)\n",
        "    \n",
        "    embedded_layer = bert_model(ids, attention_mask=masks)[0]\n",
        "    outputs = keras.layers.Dense(3, activation='softmax')(embedded_layer)\n",
        "    \n",
        "    # outputs = bert_model(input_ids=ids, attention_mask=masks, token_type_ids=tokens)\n",
        "    bert_model = keras.Model(inputs, outputs)  \n",
        "    bert_model.summary()\n",
        "    return bert_model\n",
        "epochs = 10\n",
        "learning_rate = 1e-5\n",
        "optimizer = tf.keras.optimizers.Adam(learning_rate=learning_rate, epsilon=1e-08)\n",
        "bert_model = create_base_model()\n",
        "# bert_model = TFBertForSequenceClassification.from_pretrained(\n",
        "#         'bert-base-uncased', num_labels=NUM_CLASSES)\n",
        "bert_model.compile(loss=loss,\n",
        "                   optimizer=optimizer,\n",
        "                   metrics=[metrics],\n",
        ")"
      ],
      "metadata": {
        "colab": {
          "base_uri": "https://localhost:8080/"
        },
        "id": "QZo-J58rx96i",
        "outputId": "5901b763-2109-41b0-aeda-1bf31f8c7bc3"
      },
      "execution_count": null,
      "outputs": [
        {
          "output_type": "stream",
          "name": "stderr",
          "text": [
            "Some layers from the model checkpoint at distilbert-base-uncased were not used when initializing TFBertForSequenceClassification: ['vocab_transform', 'vocab_layer_norm', 'vocab_projector', 'distilbert', 'activation_13']\n",
            "- This IS expected if you are initializing TFBertForSequenceClassification from the checkpoint of a model trained on another task or with another architecture (e.g. initializing a BertForSequenceClassification model from a BertForPreTraining model).\n",
            "- This IS NOT expected if you are initializing TFBertForSequenceClassification from the checkpoint of a model that you expect to be exactly identical (initializing a BertForSequenceClassification model from a BertForSequenceClassification model).\n",
            "Some layers of TFBertForSequenceClassification were not initialized from the model checkpoint at distilbert-base-uncased and are newly initialized: ['bert', 'classifier']\n",
            "You should probably TRAIN this model on a down-stream task to be able to use it for predictions and inference.\n"
          ]
        },
        {
          "output_type": "stream",
          "name": "stdout",
          "text": [
            "Model: \"model\"\n",
            "__________________________________________________________________________________________________\n",
            " Layer (type)                   Output Shape         Param #     Connected to                     \n",
            "==================================================================================================\n",
            " input_ids (InputLayer)         [(None, 345)]        0           []                               \n",
            "                                                                                                  \n",
            " attention_masks (InputLayer)   [(None, 345)]        0           []                               \n",
            "                                                                                                  \n",
            " tf_bert_for_sequence_classific  TFSequenceClassifie  109483778  ['input_ids[0][0]',              \n",
            " ation (TFBertForSequenceClassi  rOutput(loss=None,               'attention_masks[0][0]']        \n",
            " fication)                      logits=(None, 2),                                                 \n",
            "                                 hidden_states=None                                               \n",
            "                                , attentions=None)                                                \n",
            "                                                                                                  \n",
            " dense (Dense)                  (None, 3)            9           ['tf_bert_for_sequence_classifica\n",
            "                                                                 tion[0][0]']                     \n",
            "                                                                                                  \n",
            "==================================================================================================\n",
            "Total params: 109,483,787\n",
            "Trainable params: 109,483,787\n",
            "Non-trainable params: 0\n",
            "__________________________________________________________________________________________________\n"
          ]
        }
      ]
    },
    {
      "cell_type": "code",
      "source": [
        "from datetime import datetime\n",
        "from tensorflow.keras.callbacks import Callback\n",
        "log_dir = \"bert-distilled/fit/\" + f'base-model/' + datetime.now().strftime(\"%Y%m%d-%H%M%S\")\n",
        "tensorboard_callback = tf.keras.callbacks.TensorBoard(log_dir=log_dir, histogram_freq=1)\n",
        "es = tf.keras.callbacks.EarlyStopping(monitor='val_loss', patience=3, restore_best_weights=True)\n",
        "\n",
        "class time_for_epoch(Callback):\n",
        "    def on_train_begin(self, logs={}):\n",
        "        self.times = []\n",
        "    def on_epoch_begin(self, epoch, logs={}):\n",
        "        self.epoch_time_start = time.time()\n",
        "    def on_epoch_end(self, epoch, logs={}):\n",
        "        self.times.append(time.time() - self.epoch_time_start)\n",
        "\n",
        "te = time_for_epoch()     "
      ],
      "metadata": {
        "id": "D16NamxQb7Fe"
      },
      "execution_count": 18,
      "outputs": []
    },
    {
      "cell_type": "code",
      "source": [
        "base_model_history = bert_model.fit(train_ds,\n",
        "                         epochs=epochs,\n",
        "                         validation_data=val_ds, \n",
        "                         callbacks=[tensorboard_callback, te, es]\n",
        "                         )"
      ],
      "metadata": {
        "colab": {
          "base_uri": "https://localhost:8080/"
        },
        "id": "YRy_beOt4GQL",
        "outputId": "97fd54ea-5c5b-4fe4-b6df-40af209562ce"
      },
      "execution_count": null,
      "outputs": [
        {
          "output_type": "stream",
          "name": "stderr",
          "text": [
            "Some layers from the model checkpoint at distilbert-base-uncased were not used when initializing TFBertForSequenceClassification: ['distilbert', 'vocab_layer_norm', 'vocab_transform', 'activation_13', 'vocab_projector']\n",
            "- This IS expected if you are initializing TFBertForSequenceClassification from the checkpoint of a model trained on another task or with another architecture (e.g. initializing a BertForSequenceClassification model from a BertForPreTraining model).\n",
            "- This IS NOT expected if you are initializing TFBertForSequenceClassification from the checkpoint of a model that you expect to be exactly identical (initializing a BertForSequenceClassification model from a BertForSequenceClassification model).\n",
            "Some layers of TFBertForSequenceClassification were not initialized from the model checkpoint at distilbert-base-uncased and are newly initialized: ['bert', 'classifier']\n",
            "You should probably TRAIN this model on a down-stream task to be able to use it for predictions and inference.\n"
          ]
        },
        {
          "output_type": "stream",
          "name": "stdout",
          "text": [
            "Model: \"model_1\"\n",
            "__________________________________________________________________________________________________\n",
            " Layer (type)                   Output Shape         Param #     Connected to                     \n",
            "==================================================================================================\n",
            " input_ids (InputLayer)         [(None, 345)]        0           []                               \n",
            "                                                                                                  \n",
            " attention_masks (InputLayer)   [(None, 345)]        0           []                               \n",
            "                                                                                                  \n",
            " tf_bert_for_sequence_classific  TFSequenceClassifie  109483778  ['input_ids[0][0]',              \n",
            " ation_1 (TFBertForSequenceClas  rOutput(loss=None,               'attention_masks[0][0]']        \n",
            " sification)                    logits=(None, 2),                                                 \n",
            "                                 hidden_states=None                                               \n",
            "                                , attentions=None)                                                \n",
            "                                                                                                  \n",
            " dense_1 (Dense)                (None, 3)            9           ['tf_bert_for_sequence_classifica\n",
            "                                                                 tion_1[0][0]']                   \n",
            "                                                                                                  \n",
            "==================================================================================================\n",
            "Total params: 109,483,787\n",
            "Trainable params: 109,483,787\n",
            "Non-trainable params: 0\n",
            "__________________________________________________________________________________________________\n",
            "Epoch 1/10\n"
          ]
        },
        {
          "output_type": "stream",
          "name": "stderr",
          "text": [
            "/usr/local/lib/python3.7/dist-packages/keras/engine/functional.py:566: UserWarning: Input dict contained keys ['token_ids'] which did not match any model input. They will be ignored by the model.\n",
            "  inputs = self._flatten_to_reference_inputs(inputs)\n"
          ]
        },
        {
          "output_type": "stream",
          "name": "stdout",
          "text": [
            "388/388 [==============================] - 298s 724ms/step - loss: 0.9137 - accuracy: 0.6065 - precision: 0.6245 - recall: 0.5155 - val_loss: 0.8569 - val_accuracy: 0.6366 - val_precision: 0.6571 - val_recall: 0.6224\n",
            "Epoch 2/10\n",
            "388/388 [==============================] - 273s 704ms/step - loss: 0.8366 - accuracy: 0.6397 - precision: 0.6757 - recall: 0.5645 - val_loss: 0.8186 - val_accuracy: 0.6482 - val_precision: 0.6759 - val_recall: 0.5966\n",
            "Epoch 3/10\n",
            "388/388 [==============================] - 273s 703ms/step - loss: 0.7234 - accuracy: 0.6842 - precision: 0.7347 - recall: 0.6200 - val_loss: 0.7745 - val_accuracy: 0.6546 - val_precision: 0.7099 - val_recall: 0.5644\n",
            "Epoch 4/10\n",
            "388/388 [==============================] - 274s 707ms/step - loss: 0.6068 - accuracy: 0.7374 - precision: 0.7737 - recall: 0.6884 - val_loss: 0.8553 - val_accuracy: 0.6082 - val_precision: 0.6377 - val_recall: 0.5760\n",
            "Epoch 5/10\n",
            "388/388 [==============================] - 279s 719ms/step - loss: 0.5215 - accuracy: 0.7719 - precision: 0.7986 - recall: 0.7303 - val_loss: 0.7954 - val_accuracy: 0.6495 - val_precision: 0.6915 - val_recall: 0.5863\n",
            "Epoch 6/10\n",
            "388/388 [==============================] - 272s 701ms/step - loss: 0.4354 - accuracy: 0.8126 - precision: 0.8349 - recall: 0.7845 - val_loss: 1.0925 - val_accuracy: 0.6134 - val_precision: 0.6134 - val_recall: 0.6031\n"
          ]
        }
      ]
    },
    {
      "cell_type": "code",
      "source": [
        "def f1_score(precision, recall):\n",
        "   return 2*((precision*recall)/(precision+recall))\n",
        "\n",
        "print('Train F1 Score of last epoch: ', f1_score(0.8349,0.7845))\n",
        "print('Val F1 Score of last epoch: ', f1_score(0.6134,0.6031))"
      ],
      "metadata": {
        "colab": {
          "base_uri": "https://localhost:8080/"
        },
        "id": "pvVvEzBadenP",
        "outputId": "530def89-56ef-41db-ac01-9229a6087a0d"
      },
      "execution_count": 19,
      "outputs": [
        {
          "output_type": "stream",
          "name": "stdout",
          "text": [
            "Train F1 Score of last epoch:  0.8089157095220453\n",
            "Val F1 Score of last epoch:  0.6082063953966297\n"
          ]
        }
      ]
    },
    {
      "cell_type": "code",
      "source": [
        "def plot_acc_loss_against_epoch(model, max_range, title1='', title2=''):\n",
        "  plt.figure()\n",
        "  plt.plot(model.history['accuracy'])\n",
        "  plt.plot(model.history['val_accuracy'])\n",
        "  plt.title('Model Accuracy (Training)') if title1=='' else plt.title(title1)\n",
        "  plt.ylabel('accuracy')\n",
        "  plt.xlabel('epoch')\n",
        "  plt.xticks(range(0,max_range))\n",
        "  plt.legend(['train', 'val'], loc='upper left')\n",
        "\n",
        "  plt.figure()\n",
        "  plt.plot(model.history['loss'])\n",
        "  plt.plot(model.history['val_loss'])\n",
        "  plt.title('Model Loss (Training)') if title2=='' else plt.title(title2)\n",
        "  plt.ylabel('cross-entropy')\n",
        "  plt.xlabel('epoch')\n",
        "  plt.xticks(range(0,max_range))\n",
        "  plt.legend(['train', 'val'], loc='upper right')\n",
        "  \n",
        "def plot_prec_recall_against_epoch(model, max_range, title1='', title2=''):\n",
        "  plt.figure()\n",
        "  plt.plot(model.history['precision'])\n",
        "  plt.plot(model.history['val_precision'])\n",
        "  plt.title('Model Precision (Training)') if title1=='' else plt.title(title1)\n",
        "  plt.ylabel('precision')\n",
        "  plt.xlabel('epoch')\n",
        "  plt.xticks(range(0,max_range))\n",
        "  plt.legend(['train', 'val'], loc='upper left')\n",
        "\n",
        "  plt.figure()\n",
        "  plt.plot(model.history['recall'])\n",
        "  plt.plot(model.history['val_recall'])\n",
        "  plt.title('Model Recall (Training)')  if title2=='' else plt.title(title2)\n",
        "  plt.ylabel('Recall')\n",
        "  plt.xlabel('epoch')\n",
        "  plt.xticks(range(0,max_range))\n",
        "  plt.legend(['train', 'val'], loc='upper right')"
      ],
      "metadata": {
        "id": "HxN9iKLXqAEk"
      },
      "execution_count": 20,
      "outputs": []
    },
    {
      "cell_type": "code",
      "source": [
        "plot_acc_loss_against_epoch(base_model_history, 6)"
      ],
      "metadata": {
        "colab": {
          "base_uri": "https://localhost:8080/",
          "height": 613
        },
        "id": "WCvQumMbzTvS",
        "outputId": "26eb9a2a-c630-4e49-e50b-439c59ac394b"
      },
      "execution_count": null,
      "outputs": [
        {
          "output_type": "execute_result",
          "data": {
            "text/plain": [
              "<matplotlib.legend.Legend at 0x7ff2aed8de50>"
            ]
          },
          "metadata": {},
          "execution_count": 32
        },
        {
          "output_type": "display_data",
          "data": {
            "text/plain": [
              "<Figure size 432x288 with 1 Axes>"
            ],
            "image/png": "[encoded data removed]"
          },
          "metadata": {}
        },
        {
          "output_type": "display_data",
          "data": {
            "text/plain": [
              "<Figure size 432x288 with 1 Axes>"
            ],
            "image/png": "[encoded data removed]"
          },
          "metadata": {}
        }
      ]
    },
    {
      "cell_type": "markdown",
      "source": [
        "Model has a tendency to overfit and not reach convergence."
      ],
      "metadata": {
        "id": "q69ALs9WBu0P"
      }
    },
    {
      "cell_type": "code",
      "source": [
        "plot_prec_recall_against_epoch(base_model_history, 6)"
      ],
      "metadata": {
        "colab": {
          "base_uri": "https://localhost:8080/",
          "height": 613
        },
        "id": "ctmDUCfr3O8h",
        "outputId": "a16de858-e63f-4fe4-dabc-f2259ad6ff0f"
      },
      "execution_count": null,
      "outputs": [
        {
          "output_type": "execute_result",
          "data": {
            "text/plain": [
              "<matplotlib.legend.Legend at 0x7ff2aec88e50>"
            ]
          },
          "metadata": {},
          "execution_count": 34
        },
        {
          "output_type": "display_data",
          "data": {
            "text/plain": [
              "<Figure size 432x288 with 1 Axes>"
            ],
            "image/png": "[encoded data removed]"
          },
          "metadata": {}
        },
        {
          "output_type": "display_data",
          "data": {
            "text/plain": [
              "<Figure size 432x288 with 1 Axes>"
            ],
            "image/png": "[encoded data removed]"
          },
          "metadata": {}
        }
      ]
    },
    {
      "cell_type": "code",
      "source": [
        "print('Time for each epoch: ', sum(te.times)/len(te.times))"
      ],
      "metadata": {
        "colab": {
          "base_uri": "https://localhost:8080/"
        },
        "id": "fn6aTH-pB189",
        "outputId": "4126ac51-31aa-4175-dab0-6f943860ee95"
      },
      "execution_count": null,
      "outputs": [
        {
          "output_type": "stream",
          "name": "stdout",
          "text": [
            "Time for each epoch:  277.876158952713\n"
          ]
        }
      ]
    },
    {
      "cell_type": "code",
      "source": [
        "bert_model.evaluate(test_ds)"
      ],
      "metadata": {
        "colab": {
          "base_uri": "https://localhost:8080/"
        },
        "id": "52SsQ7HT1yzx",
        "outputId": "7767c688-2414-4479-a04f-d38755014b4e"
      },
      "execution_count": null,
      "outputs": [
        {
          "output_type": "stream",
          "name": "stdout",
          "text": [
            "122/122 [==============================] - 27s 218ms/step - loss: 0.7400 - accuracy: 0.6804 - precision: 0.7285 - recall: 0.6031\n"
          ]
        },
        {
          "output_type": "execute_result",
          "data": {
            "text/plain": [
              "[0.7399803996086121,\n",
              " 0.6804123520851135,\n",
              " 0.7285180687904358,\n",
              " 0.6030927896499634]"
            ]
          },
          "metadata": {},
          "execution_count": 36
        }
      ]
    },
    {
      "cell_type": "code",
      "source": [
        "print('Test F1 Score: ', f1_score(0.7285,0.6031))"
      ],
      "metadata": {
        "colab": {
          "base_uri": "https://localhost:8080/"
        },
        "id": "syZz5aIkeKGP",
        "outputId": "a7290f6d-da99-4640-a445-a26918632cc5"
      },
      "execution_count": null,
      "outputs": [
        {
          "output_type": "stream",
          "name": "stdout",
          "text": [
            "Test F1 Score:  0.6598953890057074\n"
          ]
        }
      ]
    },
    {
      "cell_type": "code",
      "source": [
        "def print_all_results(model, model_history, te, predict=True):\n",
        "  last_idx = len(model_history.history['precision'])-1\n",
        "  print('Train F1 Score of last epoch: ', f1_score(model_history.history['precision'][last_idx],model_history.history['recall'][last_idx]))\n",
        "  print('Val F1 Score of last epoch: ', f1_score(model_history.history['val_precision'][last_idx],model_history.history['val_recall'][last_idx]))\n",
        "  print('Time for each epoch: ', sum(te.times)/len(te.times))\n",
        "  if predict:\n",
        "    preds = model.evaluate(test_ds)\n",
        "    print('Test Prediction Results: ', preds)\n",
        "    print('Test F1 Score: ', f1_score(preds[2],preds[3]))"
      ],
      "metadata": {
        "id": "0J8R74WqmKFV"
      },
      "execution_count": 21,
      "outputs": []
    },
    {
      "cell_type": "markdown",
      "source": [
        "## Using Base Bert Models - 'bert-base' and 'distilbert-base'"
      ],
      "metadata": {
        "id": "wryg_vVM2Jsi"
      }
    },
    {
      "cell_type": "code",
      "source": [
        "## Initialize pre-built BERT-based classifier from transformers\n",
        "def create_full_base_model():\n",
        "    ids = keras.layers.Input(shape=((MAX_LEN,)), name=\"input_ids\", dtype=\"int32\")\n",
        "    tokens = keras.layers.Input(shape=((MAX_LEN,)), name=\"token_ids\", dtype=\"int32\")\n",
        "    masks = keras.layers.Input(shape=((MAX_LEN,)), name=\"attention_masks\", dtype=\"int32\") \n",
        "\n",
        "    inputs = [ids, tokens, masks]\n",
        "    config = BertConfig()\n",
        "    config.output_hidden_states = False\n",
        "    # We are NOT using the Distilled Version in this case\n",
        "    # We will also using the token_type_ids as inputs for this BERT Model\n",
        "    bert_model = TFBertForSequenceClassification.from_pretrained(\n",
        "        'bert-base-uncased', config=config)\n",
        "    \n",
        "    embedded_layer = bert_model(ids, attention_mask=masks, token_type_ids=tokens)[0]\n",
        "    outputs = keras.layers.Dense(3, activation='softmax')(embedded_layer)\n",
        "    \n",
        "    bert_model = keras.Model(inputs, outputs)  \n",
        "    bert_model.summary()\n",
        "    return bert_model\n",
        "\n",
        "epochs = 10\n",
        "learning_rate = 1e-5\n",
        "optimizer = tf.keras.optimizers.Adam(learning_rate=learning_rate)\n",
        "loss = tf.keras.losses.CategoricalCrossentropy()\n",
        "metrics = [tf.keras.metrics.CategoricalAccuracy('accuracy'), tf.keras.metrics.Precision(name='precision'), tf.keras.metrics.Recall(name='recall')]\n",
        "bert_model_full = create_full_base_model()\n",
        "bert_model_full.compile(loss=loss,\n",
        "                   optimizer=optimizer,\n",
        "                   metrics=[metrics],\n",
        ")"
      ],
      "metadata": {
        "colab": {
          "base_uri": "https://localhost:8080/"
        },
        "id": "qw0mGzm52JgX",
        "outputId": "e000f079-6abb-43fb-91c8-a8c4669a36c4"
      },
      "execution_count": null,
      "outputs": [
        {
          "output_type": "stream",
          "name": "stderr",
          "text": [
            "All model checkpoint layers were used when initializing TFBertForSequenceClassification.\n",
            "\n",
            "Some layers of TFBertForSequenceClassification were not initialized from the model checkpoint at bert-base-uncased and are newly initialized: ['classifier']\n",
            "You should probably TRAIN this model on a down-stream task to be able to use it for predictions and inference.\n"
          ]
        },
        {
          "output_type": "stream",
          "name": "stdout",
          "text": [
            "Model: \"model_1\"\n",
            "__________________________________________________________________________________________________\n",
            " Layer (type)                   Output Shape         Param #     Connected to                     \n",
            "==================================================================================================\n",
            " input_ids (InputLayer)         [(None, 345)]        0           []                               \n",
            "                                                                                                  \n",
            " attention_masks (InputLayer)   [(None, 345)]        0           []                               \n",
            "                                                                                                  \n",
            " token_ids (InputLayer)         [(None, 345)]        0           []                               \n",
            "                                                                                                  \n",
            " tf_bert_for_sequence_classific  TFSequenceClassifie  109483778  ['input_ids[0][0]',              \n",
            " ation_1 (TFBertForSequenceClas  rOutput(loss=None,               'attention_masks[0][0]',        \n",
            " sification)                    logits=(None, 2),                 'token_ids[0][0]']              \n",
            "                                 hidden_states=None                                               \n",
            "                                , attentions=None)                                                \n",
            "                                                                                                  \n",
            " dense_1 (Dense)                (None, 3)            9           ['tf_bert_for_sequence_classifica\n",
            "                                                                 tion_1[0][0]']                   \n",
            "                                                                                                  \n",
            "==================================================================================================\n",
            "Total params: 109,483,787\n",
            "Trainable params: 109,483,787\n",
            "Non-trainable params: 0\n",
            "__________________________________________________________________________________________________\n"
          ]
        }
      ]
    },
    {
      "cell_type": "code",
      "source": [
        "log_dir = \"bert-full/fit/\" + f'base-model/' + datetime.now().strftime(\"%Y%m%d-%H%M%S\")\n",
        "tensorboard_callback = tf.keras.callbacks.TensorBoard(log_dir=log_dir, histogram_freq=1)\n",
        "es = tf.keras.callbacks.EarlyStopping(monitor='val_loss', patience=3, restore_best_weights=True)\n",
        "\n",
        "class time_for_epoch(Callback):\n",
        "    def on_train_begin(self, logs={}):\n",
        "        self.times = []\n",
        "    def on_epoch_begin(self, epoch, logs={}):\n",
        "        self.epoch_time_start = time.time()\n",
        "    def on_epoch_end(self, epoch, logs={}):\n",
        "        self.times.append(time.time() - self.epoch_time_start)\n",
        "\n",
        "te_full = time_for_epoch()      \n",
        "bert_model_full_history = bert_model_full.fit(train_ds,\n",
        "                         epochs=epochs,\n",
        "                         validation_data=val_ds, \n",
        "                         callbacks=[tensorboard_callback, te_full, es]\n",
        "                         )"
      ],
      "metadata": {
        "colab": {
          "base_uri": "https://localhost:8080/"
        },
        "id": "BQFq_Hr6CaRR",
        "outputId": "4e11f3bd-9bc7-4b3a-f41b-bf547c730ce3"
      },
      "execution_count": null,
      "outputs": [
        {
          "output_type": "stream",
          "name": "stdout",
          "text": [
            "Epoch 1/10\n",
            "388/388 [==============================] - 294s 712ms/step - loss: 0.7898 - accuracy: 0.6574 - precision: 0.7479 - recall: 0.5071 - val_loss: 0.6408 - val_accuracy: 0.7397 - val_precision: 0.8366 - val_recall: 0.5541\n",
            "Epoch 2/10\n",
            "388/388 [==============================] - 272s 702ms/step - loss: 0.5977 - accuracy: 0.7477 - precision: 0.7947 - recall: 0.6681 - val_loss: 0.5843 - val_accuracy: 0.7526 - val_precision: 0.7861 - val_recall: 0.7010\n",
            "Epoch 3/10\n",
            "388/388 [==============================] - 272s 700ms/step - loss: 0.4382 - accuracy: 0.8481 - precision: 0.8787 - recall: 0.8132 - val_loss: 0.5164 - val_accuracy: 0.8093 - val_precision: 0.8366 - val_recall: 0.7719\n",
            "Epoch 4/10\n",
            "388/388 [==============================] - 272s 702ms/step - loss: 0.2958 - accuracy: 0.9084 - precision: 0.9188 - recall: 0.8942 - val_loss: 0.5466 - val_accuracy: 0.8157 - val_precision: 0.8259 - val_recall: 0.8067\n",
            "Epoch 5/10\n",
            "388/388 [==============================] - 272s 702ms/step - loss: 0.1969 - accuracy: 0.9377 - precision: 0.9402 - recall: 0.9332 - val_loss: 0.5448 - val_accuracy: 0.8080 - val_precision: 0.8181 - val_recall: 0.8054\n",
            "Epoch 6/10\n",
            "388/388 [==============================] - 272s 701ms/step - loss: 0.1413 - accuracy: 0.9587 - precision: 0.9601 - recall: 0.9558 - val_loss: 0.5802 - val_accuracy: 0.8273 - val_precision: 0.8305 - val_recall: 0.8209\n"
          ]
        }
      ]
    },
    {
      "cell_type": "code",
      "source": [
        "print('Train F1 Score of last epoch: ', f1_score(0.9601,0.9558))\n",
        "print('Val F1 Score of last epoch: ', f1_score(0.8305,0.8209))"
      ],
      "metadata": {
        "colab": {
          "base_uri": "https://localhost:8080/"
        },
        "id": "c8IyHjA7c4M1",
        "outputId": "75a139a9-c80a-47d2-d137-587023ec309c"
      },
      "execution_count": null,
      "outputs": [
        {
          "output_type": "stream",
          "name": "stdout",
          "text": [
            "Train F1 Score of last epoch:  0.9579451745915757\n",
            "Val F1 Score of last epoch:  0.825672096403052\n"
          ]
        }
      ]
    },
    {
      "cell_type": "code",
      "source": [
        "plot_acc_loss_against_epoch(bert_model_full_history, 6,  title1='BERT-base Model Accuracy (Training)', title2='BERT-base Model Loss (Training)')"
      ],
      "metadata": {
        "colab": {
          "base_uri": "https://localhost:8080/",
          "height": 613
        },
        "id": "c4b9f0PtD0oY",
        "outputId": "dfa0e379-b1fa-4f54-c579-1099b6238131"
      },
      "execution_count": null,
      "outputs": [
        {
          "output_type": "execute_result",
          "data": {
            "text/plain": [
              "<matplotlib.legend.Legend at 0x7fef75525290>"
            ]
          },
          "metadata": {},
          "execution_count": 44
        },
        {
          "output_type": "display_data",
          "data": {
            "text/plain": [
              "<Figure size 432x288 with 1 Axes>"
            ],
            "image/png": "[encoded data removed]"
          },
          "metadata": {}
        },
        {
          "output_type": "display_data",
          "data": {
            "text/plain": [
              "<Figure size 432x288 with 1 Axes>"
            ],
            "image/png": "[encoded data removed]"
          },
          "metadata": {}
        }
      ]
    },
    {
      "cell_type": "code",
      "source": [
        "plot_prec_recall_against_epoch(bert_model_full_history, 6, title1='BERT-base Model Precision (Training)', title2='BERT-base Model Recall (Training)')"
      ],
      "metadata": {
        "id": "3lofxEYjj7eP"
      },
      "execution_count": null,
      "outputs": []
    },
    {
      "cell_type": "code",
      "source": [
        "print('Time for each epoch: ', sum(te_full.times)/len(te_full.times))"
      ],
      "metadata": {
        "id": "0u4Zh48tOA8a"
      },
      "execution_count": null,
      "outputs": []
    },
    {
      "cell_type": "code",
      "source": [
        "bert_model_full.evaluate(test_ds)"
      ],
      "metadata": {
        "colab": {
          "base_uri": "https://localhost:8080/"
        },
        "id": "ra9_ggULN17q",
        "outputId": "aedfca31-57dd-44d2-d2fa-f7eaa6309d6b"
      },
      "execution_count": null,
      "outputs": [
        {
          "output_type": "stream",
          "name": "stdout",
          "text": [
            "122/122 [==============================] - 27s 219ms/step - loss: 0.5829 - accuracy: 0.8093 - precision: 0.8245 - recall: 0.7701\n"
          ]
        },
        {
          "output_type": "execute_result",
          "data": {
            "text/plain": [
              "[0.5829474329948425,\n",
              " 0.8092783689498901,\n",
              " 0.8245033025741577,\n",
              " 0.7701030969619751]"
            ]
          },
          "metadata": {},
          "execution_count": 45
        }
      ]
    },
    {
      "cell_type": "code",
      "source": [
        "print('Test F1 Score: ', f1_score(0.8245,0.7701))"
      ],
      "metadata": {
        "colab": {
          "base_uri": "https://localhost:8080/"
        },
        "id": "iBBbZ-6-eWDG",
        "outputId": "91c58896-8c54-49cd-bf75-94dafea48c5e"
      },
      "execution_count": null,
      "outputs": [
        {
          "output_type": "stream",
          "name": "stdout",
          "text": [
            "Test F1 Score:  0.7963720682302772\n"
          ]
        }
      ]
    },
    {
      "cell_type": "markdown",
      "source": [
        "Bert-base appears to work better than DistilledBERT. "
      ],
      "metadata": {
        "id": "lk38NW9uNYBe"
      }
    },
    {
      "cell_type": "markdown",
      "source": [
        "## Modifying BERT-base to prevent overfitting & to improve performance"
      ],
      "metadata": {
        "id": "cVR-kOO4NgNv"
      }
    },
    {
      "cell_type": "markdown",
      "source": [
        "We will do the following to improve the performance of BERT. \n",
        "\n",
        "First, add a dropout layer to prevent overfitting.\n",
        "\n",
        "Second, test different MAX_LEN on the dataset to see if truncating the sentences earlier improves the model performance.\n",
        "\n",
        "Third, apply hyperparameter tuning for the learning_rate, and batch_size.\n",
        "\n",
        "Fourth, use backtranslation to upsample the dataset due to the uneven class distribution.\n",
        "\n",
        "Fifth, unfreeze the last layer and modify BERT."
      ],
      "metadata": {
        "id": "TQwvh48nRY55"
      }
    },
    {
      "cell_type": "markdown",
      "source": [
        "### Adding a dropout layer"
      ],
      "metadata": {
        "id": "7LrG_xWkMr9X"
      }
    },
    {
      "cell_type": "code",
      "source": [
        "def create_modified_model():\n",
        "    \"\"\" Adding a dropout layer to prevent overfitting. \"\"\"\n",
        "    ids = keras.layers.Input(shape=((MAX_LEN,)), name=\"input_ids\", dtype=\"int32\")\n",
        "    tokens = keras.layers.Input(shape=((MAX_LEN,)), name=\"token_ids\", dtype=\"int32\")\n",
        "    masks = keras.layers.Input(shape=((MAX_LEN,)), name=\"attention_masks\", dtype=\"int32\") \n",
        "\n",
        "    inputs = [ids, tokens, masks]\n",
        "    config = BertConfig()\n",
        "    config.output_hidden_states = False\n",
        "\n",
        "    bert_model = TFBertForSequenceClassification.from_pretrained(\n",
        "        'bert-base-uncased', config=config)\n",
        "    \n",
        "    embedded_layer = bert_model(ids, attention_mask=masks, token_type_ids=tokens)[0]\n",
        "    outputs = keras.layers.Dropout(0.2)(embedded_layer)\n",
        "    outputs = keras.layers.Dense(3, activation='softmax')(outputs)\n",
        "    \n",
        "    bert_model = keras.Model(inputs, outputs)  \n",
        "    bert_model.summary()\n",
        "    return bert_model\n",
        "\n",
        "epochs = 10\n",
        "learning_rate = 1e-5\n",
        "optimizer = tf.keras.optimizers.Adam(learning_rate=learning_rate)\n",
        "loss = tf.keras.losses.CategoricalCrossentropy()\n",
        "metrics = [tf.keras.metrics.CategoricalAccuracy('accuracy'), tf.keras.metrics.Precision(name='precision'), tf.keras.metrics.Recall(name='recall')]\n",
        "bert_model_dropout = create_modified_model()\n",
        "bert_model_dropout.compile(loss=loss,\n",
        "                   optimizer=optimizer,\n",
        "                   metrics=[metrics],\n",
        ")"
      ],
      "metadata": {
        "colab": {
          "base_uri": "https://localhost:8080/"
        },
        "id": "_Vju_o0ce8O9",
        "outputId": "5b776ab8-e724-488d-ed46-a660c55e5c9b"
      },
      "execution_count": null,
      "outputs": [
        {
          "output_type": "stream",
          "name": "stderr",
          "text": [
            "All model checkpoint layers were used when initializing TFBertForSequenceClassification.\n",
            "\n",
            "Some layers of TFBertForSequenceClassification were not initialized from the model checkpoint at bert-base-uncased and are newly initialized: ['classifier']\n",
            "You should probably TRAIN this model on a down-stream task to be able to use it for predictions and inference.\n"
          ]
        },
        {
          "output_type": "stream",
          "name": "stdout",
          "text": [
            "Model: \"model_2\"\n",
            "__________________________________________________________________________________________________\n",
            " Layer (type)                   Output Shape         Param #     Connected to                     \n",
            "==================================================================================================\n",
            " input_ids (InputLayer)         [(None, 345)]        0           []                               \n",
            "                                                                                                  \n",
            " attention_masks (InputLayer)   [(None, 345)]        0           []                               \n",
            "                                                                                                  \n",
            " token_ids (InputLayer)         [(None, 345)]        0           []                               \n",
            "                                                                                                  \n",
            " tf_bert_for_sequence_classific  TFSequenceClassifie  109483778  ['input_ids[0][0]',              \n",
            " ation_2 (TFBertForSequenceClas  rOutput(loss=None,               'attention_masks[0][0]',        \n",
            " sification)                    logits=(None, 2),                 'token_ids[0][0]']              \n",
            "                                 hidden_states=None                                               \n",
            "                                , attentions=None)                                                \n",
            "                                                                                                  \n",
            " dropout_115 (Dropout)          (None, 2)            0           ['tf_bert_for_sequence_classifica\n",
            "                                                                 tion_2[0][0]']                   \n",
            "                                                                                                  \n",
            " dense_2 (Dense)                (None, 3)            9           ['dropout_115[0][0]']            \n",
            "                                                                                                  \n",
            "==================================================================================================\n",
            "Total params: 109,483,787\n",
            "Trainable params: 109,483,787\n",
            "Non-trainable params: 0\n",
            "__________________________________________________________________________________________________\n"
          ]
        }
      ]
    },
    {
      "cell_type": "code",
      "source": [
        "log_dir = \"bert-dropout/fit/\" + f'base-model/' + datetime.now().strftime(\"%Y%m%d-%H%M%S\")\n",
        "tensorboard_callback = tf.keras.callbacks.TensorBoard(log_dir=log_dir, histogram_freq=1)\n",
        "es = tf.keras.callbacks.EarlyStopping(monitor='val_loss', patience=3, restore_best_weights=True)\n",
        "\n",
        "te_dropout = time_for_epoch()      \n",
        "bert_model_dropout_history = bert_model_dropout.fit(train_ds,\n",
        "                         epochs=epochs,\n",
        "                         validation_data=val_ds, \n",
        "                         callbacks=[tensorboard_callback, te_dropout, es]\n",
        "                         )"
      ],
      "metadata": {
        "colab": {
          "base_uri": "https://localhost:8080/"
        },
        "id": "Bb-Kjigje8FV",
        "outputId": "95585f3a-4d56-4142-9f2c-cb25a1de77cf"
      },
      "execution_count": null,
      "outputs": [
        {
          "output_type": "stream",
          "name": "stdout",
          "text": [
            "Epoch 1/10\n",
            "388/388 [==============================] - 297s 719ms/step - loss: 0.9855 - accuracy: 0.5890 - precision: 0.7371 - recall: 0.2071 - val_loss: 0.8169 - val_accuracy: 0.7178 - val_precision: 0.7968 - val_recall: 0.5863\n",
            "Epoch 2/10\n",
            "388/388 [==============================] - 281s 723ms/step - loss: 0.7853 - accuracy: 0.7094 - precision: 0.7820 - recall: 0.6065 - val_loss: 0.6617 - val_accuracy: 0.7990 - val_precision: 0.8516 - val_recall: 0.7101\n",
            "Epoch 3/10\n",
            "388/388 [==============================] - 287s 740ms/step - loss: 0.6692 - accuracy: 0.7468 - precision: 0.8173 - recall: 0.6926 - val_loss: 0.6225 - val_accuracy: 0.8144 - val_precision: 0.8455 - val_recall: 0.7758\n",
            "Epoch 4/10\n",
            "388/388 [==============================] - 276s 710ms/step - loss: 0.5576 - accuracy: 0.7877 - precision: 0.8696 - recall: 0.7484 - val_loss: 0.6577 - val_accuracy: 0.7990 - val_precision: 0.8119 - val_recall: 0.7732\n",
            "Epoch 5/10\n",
            "388/388 [==============================] - 272s 700ms/step - loss: 0.4850 - accuracy: 0.8074 - precision: 0.8999 - recall: 0.7684 - val_loss: 0.6100 - val_accuracy: 0.8286 - val_precision: 0.8448 - val_recall: 0.8067\n",
            "Epoch 6/10\n",
            "388/388 [==============================] - 306s 790ms/step - loss: 0.4043 - accuracy: 0.8358 - precision: 0.9287 - recall: 0.7984 - val_loss: 0.6921 - val_accuracy: 0.8041 - val_precision: 0.8182 - val_recall: 0.7887\n",
            "Epoch 7/10\n",
            "388/388 [==============================] - 272s 701ms/step - loss: 0.3802 - accuracy: 0.8348 - precision: 0.9520 - recall: 0.7994 - val_loss: 0.6515 - val_accuracy: 0.8157 - val_precision: 0.8288 - val_recall: 0.7925\n",
            "Epoch 8/10\n",
            "388/388 [==============================] - 275s 708ms/step - loss: 0.3338 - accuracy: 0.8529 - precision: 0.9558 - recall: 0.8168 - val_loss: 0.6796 - val_accuracy: 0.8351 - val_precision: 0.8417 - val_recall: 0.8222\n"
          ]
        }
      ]
    },
    {
      "cell_type": "code",
      "source": [
        "print_all_results(bert_model_dropout, bert_model_dropout_history, te_dropout)"
      ],
      "metadata": {
        "colab": {
          "base_uri": "https://localhost:8080/"
        },
        "id": "elIggmb1plnx",
        "outputId": "43afb9a2-1616-49a0-f977-573f1349df7b"
      },
      "execution_count": null,
      "outputs": [
        {
          "output_type": "stream",
          "name": "stdout",
          "text": [
            "Train F1 Score of last epoch:  0.880848829269317\n",
            "Val F1 Score of last epoch:  0.8318122472977839\n",
            "Time for each epoch:  282.82676526904106\n",
            "122/122 [==============================] - 26s 212ms/step - loss: 0.7140 - accuracy: 0.8062 - precision: 0.8263 - recall: 0.7845\n",
            "Test Prediction Results:  [0.7139534950256348, 0.8061855435371399, 0.8262757658958435, 0.7845360636711121]\n",
            "Test F1 Score:  0.8048651307173843\n"
          ]
        }
      ]
    },
    {
      "cell_type": "code",
      "source": [
        "plot_acc_loss_against_epoch(bert_model_dropout_history, max_range=9, title1='BERT-dropout Model Accuracy (Training)', title2='BERT-dropout Model Loss (Training)')"
      ],
      "metadata": {
        "colab": {
          "base_uri": "https://localhost:8080/",
          "height": 573
        },
        "id": "rfQH9jMnqxkz",
        "outputId": "03e7cedc-43f4-425e-c152-637835a24591"
      },
      "execution_count": null,
      "outputs": [
        {
          "output_type": "display_data",
          "data": {
            "text/plain": [
              "<Figure size 432x288 with 1 Axes>"
            ],
            "image/png": "[encoded data removed]"
          },
          "metadata": {
            "needs_background": "light"
          }
        },
        {
          "output_type": "display_data",
          "data": {
            "text/plain": [
              "<Figure size 432x288 with 1 Axes>"
            ],
            "image/png": "[encoded data removed]"
          },
          "metadata": {
            "needs_background": "light"
          }
        }
      ]
    },
    {
      "cell_type": "code",
      "source": [
        "plot_prec_recall_against_epoch(bert_model_dropout_history, max_range=9, title1='BERT-dropout Model Precision (Training)', title2='BERT-dropout Model Recall (Training)')"
      ],
      "metadata": {
        "colab": {
          "base_uri": "https://localhost:8080/",
          "height": 573
        },
        "id": "g1n771-NrBSD",
        "outputId": "7701e51b-ece2-406f-d88b-1656aa2395f9"
      },
      "execution_count": null,
      "outputs": [
        {
          "output_type": "display_data",
          "data": {
            "text/plain": [
              "<Figure size 432x288 with 1 Axes>"
            ],
            "image/png": "[encoded data removed]"
          },
          "metadata": {
            "needs_background": "light"
          }
        },
        {
          "output_type": "display_data",
          "data": {
            "text/plain": [
              "<Figure size 432x288 with 1 Axes>"
            ],
            "image/png": "[encoded data removed]"
          },
          "metadata": {
            "needs_background": "light"
          }
        }
      ]
    },
    {
      "cell_type": "markdown",
      "source": [
        "The addition of the dropout layer has reduced the overfitting of the model, but increased the number of epochs/ time until convergence."
      ],
      "metadata": {
        "id": "544EmJF6Mxbr"
      }
    },
    {
      "cell_type": "markdown",
      "source": [
        "### Effect of MAX_LEN on training"
      ],
      "metadata": {
        "id": "ODGKi0qwiah1"
      }
    },
    {
      "cell_type": "code",
      "source": [
        "tokenizer = BertTokenizer.from_pretrained('bert-base-uncased', do_lower_case=True)\n",
        "def create_bert_inputs(df, max_len):\n",
        "  \"\"\" \n",
        "  Creates bert features as in create_attention_masks(), \n",
        "  but with the addition of the parameter max_len to adjust the truncation/padding of sentences.\n",
        "  \"\"\"\n",
        "  input_ids = []\n",
        "  token_type_ids = []\n",
        "  attention_masks = []\n",
        "  for headline in df:\n",
        "      tokenized_texts = tokenizer.encode_plus(\" \".join(headline),\n",
        "                                                  add_special_tokens=True,\n",
        "                                                  max_length=max_len,\n",
        "                                                  padding='max_length',\n",
        "                                                  truncation=True,\n",
        "                                                  return_attention_mask=True)\n",
        "      input_ids.append(tokenized_texts['input_ids'])\n",
        "      token_type_ids.append(tokenized_texts['token_type_ids'])\n",
        "      attention_masks.append(tokenized_texts['attention_mask'])\n",
        "  return input_ids, token_type_ids, attention_masks"
      ],
      "metadata": {
        "id": "eJqiQfKBTI-W"
      },
      "execution_count": 22,
      "outputs": []
    },
    {
      "cell_type": "code",
      "source": [
        "def generate_custom_ds(batch_size, max_len):\n",
        "  \"\"\"\n",
        "  Creates the train_ds and val_ds used for training with the updated max_len value.\n",
        "  \"\"\"\n",
        "  hp_modified_train_input_ids, hp_modified_train_tokens, hp_modified_train_attention_masks = create_bert_inputs(fnews_Xtrain['News'], max_len)\n",
        "  hp_modified_ttrain_input_ids, hp_modified_val_input_ids, hp_modified_ttrain_tokens, hp_modified_val_tokens, hp_modified_ttrain_attention_masks, hp_modified_val_attention_masks, hp_modified_ttrain_labels, hp_modified_val_labels = train_test_split(hp_modified_train_input_ids, hp_modified_train_tokens, hp_modified_train_attention_masks, train_labels, test_size=0.2)\n",
        "  \n",
        "  hp_modified_ttrain_inputs = tf.convert_to_tensor(hp_modified_ttrain_input_ids, dtype=tf.int32, name='input_ids')\n",
        "  hp_modified_val_inputs = tf.convert_to_tensor(hp_modified_val_input_ids, dtype=tf.int32, name='input_ids')\n",
        "\n",
        "  hp_modified_ttrain_tokens = tf.convert_to_tensor(hp_modified_ttrain_tokens,dtype=tf.int32, name='token_ids')\n",
        "  hp_modified_val_tokens = tf.convert_to_tensor(hp_modified_val_tokens, dtype=tf.int32, name='token_ids')\n",
        "\n",
        "  hp_modified_ttrain_masks = tf.convert_to_tensor(hp_modified_ttrain_attention_masks, dtype=tf.int32, name='attention_masks')\n",
        "  hp_modified_val_masks = tf.convert_to_tensor(hp_modified_val_attention_masks, dtype=tf.int32, name='attention_masks')\n",
        "\n",
        "  hp_train_ds = tf.data.Dataset.from_tensor_slices((hp_modified_ttrain_inputs, hp_modified_ttrain_masks, hp_modified_ttrain_tokens, ttrain_labels)).map(map_to_dict).shuffle(len(hp_modified_ttrain_inputs)).batch(batch_size)\n",
        "  hp_val_ds = tf.data.Dataset.from_tensor_slices((hp_modified_val_inputs, hp_modified_val_masks, hp_modified_val_tokens, val_labels)).map(map_to_dict).shuffle(len(hp_modified_val_inputs)).batch(batch_size)\n",
        "  return hp_train_ds, hp_val_ds"
      ],
      "metadata": {
        "id": "bxgZ2gwwY58K"
      },
      "execution_count": 23,
      "outputs": []
    },
    {
      "cell_type": "code",
      "source": [
        "def create_modified_max_length_model(max_len):\n",
        "    \"\"\" Testing the effect of MAX_LEN on the model. \"\"\"\n",
        "    ids = keras.layers.Input(shape=((max_len,)), name=\"input_ids\", dtype=\"int32\")\n",
        "    tokens = keras.layers.Input(shape=((max_len,)), name=\"token_ids\", dtype=\"int32\")\n",
        "    masks = keras.layers.Input(shape=((max_len,)), name=\"attention_masks\", dtype=\"int32\") \n",
        "\n",
        "    inputs = [ids, tokens, masks]\n",
        "    config = BertConfig()\n",
        "    config.output_hidden_states = False\n",
        "\n",
        "    bert_model = TFBertForSequenceClassification.from_pretrained(\n",
        "        'bert-base-uncased', config=config)\n",
        "    \n",
        "    embedded_layer = bert_model(ids, attention_mask=masks, token_type_ids=tokens)[0]\n",
        "    outputs = keras.layers.Dropout(0.2)(embedded_layer)\n",
        "    outputs = keras.layers.Dense(3, activation='softmax')(outputs)\n",
        "    \n",
        "    bert_model = keras.Model(inputs, outputs)  \n",
        "    bert_model.summary()\n",
        "    return bert_model"
      ],
      "metadata": {
        "id": "HLFwPHBhiZ7v"
      },
      "execution_count": 24,
      "outputs": []
    },
    {
      "cell_type": "code",
      "source": [
        "max_lengths = [MAX_LEN//4, MAX_LEN//2]\n",
        "\n",
        "epochs = 10\n",
        "learning_rate = 1e-5\n",
        "optimizer = tf.keras.optimizers.Adam(learning_rate=learning_rate)\n",
        "max_len_models = {}\n",
        "max_len_model_histories = {}\n",
        "max_len_model_te = {}\n",
        "model_names = ['model1', 'model2']\n",
        "for idx, max_len in enumerate(max_lengths):\n",
        "  new_train_ds, new_val_ds = generate_custom_ds(8, max_len)\n",
        "  max_len_models[model_names[idx]] = create_modified_max_length_model(max_len)\n",
        "  max_len_models[model_names[idx]].compile(loss=loss,\n",
        "                    optimizer=optimizer,\n",
        "                    metrics=[metrics],\n",
        "  )\n",
        "  log_dir = \"bert-dropout/fit/\" + f'{max_len}/' + datetime.now().strftime(\"%Y%m%d-%H%M%S\")\n",
        "  tensorboard_callback = tf.keras.callbacks.TensorBoard(log_dir=log_dir, histogram_freq=1)\n",
        "  es = tf.keras.callbacks.EarlyStopping(monitor='val_loss', patience=2, restore_best_weights=True)\n",
        "\n",
        "  max_len_model_te[model_names[idx]] = time_for_epoch()      \n",
        "  max_len_model_histories[model_names[idx]] = max_len_models[model_names[idx]].fit(\n",
        "      new_train_ds,\n",
        "      epochs=epochs,\n",
        "      validation_data=new_val_ds, \n",
        "      callbacks=[tensorboard_callback, max_len_model_te[model_names[idx]], es]\n",
        ")"
      ],
      "metadata": {
        "colab": {
          "base_uri": "https://localhost:8080/"
        },
        "id": "dhcZCZFbiZxZ",
        "outputId": "b16a9da7-a4b4-4143-cb3c-17fab9f958b4"
      },
      "execution_count": null,
      "outputs": [
        {
          "output_type": "stream",
          "name": "stderr",
          "text": [
            "All model checkpoint layers were used when initializing TFBertForSequenceClassification.\n",
            "\n",
            "Some layers of TFBertForSequenceClassification were not initialized from the model checkpoint at bert-base-uncased and are newly initialized: ['classifier']\n",
            "You should probably TRAIN this model on a down-stream task to be able to use it for predictions and inference.\n"
          ]
        },
        {
          "output_type": "stream",
          "name": "stdout",
          "text": [
            "Model: \"model_8\"\n",
            "__________________________________________________________________________________________________\n",
            " Layer (type)                   Output Shape         Param #     Connected to                     \n",
            "==================================================================================================\n",
            " input_ids (InputLayer)         [(None, 86)]         0           []                               \n",
            "                                                                                                  \n",
            " attention_masks (InputLayer)   [(None, 86)]         0           []                               \n",
            "                                                                                                  \n",
            " token_ids (InputLayer)         [(None, 86)]         0           []                               \n",
            "                                                                                                  \n",
            " tf_bert_for_sequence_classific  TFSequenceClassifie  109483778  ['input_ids[0][0]',              \n",
            " ation_8 (TFBertForSequenceClas  rOutput(loss=None,               'attention_masks[0][0]',        \n",
            " sification)                    logits=(None, 2),                 'token_ids[0][0]']              \n",
            "                                 hidden_states=None                                               \n",
            "                                , attentions=None)                                                \n",
            "                                                                                                  \n",
            " dropout_347 (Dropout)          (None, 2)            0           ['tf_bert_for_sequence_classifica\n",
            "                                                                 tion_8[0][0]']                   \n",
            "                                                                                                  \n",
            " dense_8 (Dense)                (None, 3)            9           ['dropout_347[0][0]']            \n",
            "                                                                                                  \n",
            "==================================================================================================\n",
            "Total params: 109,483,787\n",
            "Trainable params: 109,483,787\n",
            "Non-trainable params: 0\n",
            "__________________________________________________________________________________________________\n",
            "Epoch 1/10\n",
            "388/388 [==============================] - 111s 239ms/step - loss: 0.9807 - accuracy: 0.6349 - precision: 0.6634 - recall: 0.5057 - val_loss: 0.9350 - val_accuracy: 0.6005 - val_precision: 0.6008 - val_recall: 0.5992\n",
            "Epoch 2/10\n",
            "388/388 [==============================] - 88s 226ms/step - loss: 0.9733 - accuracy: 0.5823 - precision: 0.5931 - recall: 0.4500 - val_loss: 0.9412 - val_accuracy: 0.6005 - val_precision: 0.6008 - val_recall: 0.5915\n"
          ]
        },
        {
          "output_type": "stream",
          "name": "stderr",
          "text": [
            "All model checkpoint layers were used when initializing TFBertForSequenceClassification.\n",
            "\n",
            "Some layers of TFBertForSequenceClassification were not initialized from the model checkpoint at bert-base-uncased and are newly initialized: ['classifier']\n",
            "You should probably TRAIN this model on a down-stream task to be able to use it for predictions and inference.\n"
          ]
        },
        {
          "output_type": "stream",
          "name": "stdout",
          "text": [
            "Model: \"model_9\"\n",
            "__________________________________________________________________________________________________\n",
            " Layer (type)                   Output Shape         Param #     Connected to                     \n",
            "==================================================================================================\n",
            " input_ids (InputLayer)         [(None, 172)]        0           []                               \n",
            "                                                                                                  \n",
            " attention_masks (InputLayer)   [(None, 172)]        0           []                               \n",
            "                                                                                                  \n",
            " token_ids (InputLayer)         [(None, 172)]        0           []                               \n",
            "                                                                                                  \n",
            " tf_bert_for_sequence_classific  TFSequenceClassifie  109483778  ['input_ids[0][0]',              \n",
            " ation_9 (TFBertForSequenceClas  rOutput(loss=None,               'attention_masks[0][0]',        \n",
            " sification)                    logits=(None, 2),                 'token_ids[0][0]']              \n",
            "                                 hidden_states=None                                               \n",
            "                                , attentions=None)                                                \n",
            "                                                                                                  \n",
            " dropout_386 (Dropout)          (None, 2)            0           ['tf_bert_for_sequence_classifica\n",
            "                                                                 tion_9[0][0]']                   \n",
            "                                                                                                  \n",
            " dense_9 (Dense)                (None, 3)            9           ['dropout_386[0][0]']            \n",
            "                                                                                                  \n",
            "==================================================================================================\n",
            "Total params: 109,483,787\n",
            "Trainable params: 109,483,787\n",
            "Non-trainable params: 0\n",
            "__________________________________________________________________________________________________\n",
            "Epoch 1/10\n",
            "388/388 [==============================] - 166s 384ms/step - loss: 0.9753 - accuracy: 0.5459 - precision: 0.6004 - recall: 0.4058 - val_loss: 0.9323 - val_accuracy: 0.6005 - val_precision: 0.6005 - val_recall: 0.6005\n",
            "Epoch 2/10\n",
            "388/388 [==============================] - 147s 379ms/step - loss: 0.9707 - accuracy: 0.5442 - precision: 0.5869 - recall: 0.3694 - val_loss: 0.9234 - val_accuracy: 0.5992 - val_precision: 0.6026 - val_recall: 0.5979\n",
            "Epoch 3/10\n",
            "388/388 [==============================] - 145s 372ms/step - loss: 0.9713 - accuracy: 0.5445 - precision: 0.5906 - recall: 0.3639 - val_loss: 0.9595 - val_accuracy: 0.6005 - val_precision: 0.6667 - val_recall: 0.0232\n"
          ]
        }
      ]
    },
    {
      "cell_type": "code",
      "source": [
        "# adding the old result to the model dictionaries\n",
        "max_len_models['model3'] = bert_model_dropout\n",
        "max_len_model_histories['model3'] = bert_model_dropout_history\n",
        "max_len_model_te['model3'] = te_dropout"
      ],
      "metadata": {
        "id": "7wowCfdCe8DO"
      },
      "execution_count": null,
      "outputs": []
    },
    {
      "cell_type": "code",
      "source": [
        "# comparison of the results\n",
        "# ranges = [3,4]\n",
        "for idx, model in enumerate(model_names):\n",
        "  print('RESULTS FOR ', model.upper())\n",
        "  print_all_results(\n",
        "      max_len_models[model],\n",
        "      max_len_model_histories[model],\n",
        "      max_len_model_te[model], \n",
        "      predict=False\n",
        "  )\n",
        "  print()\n",
        "  # plot_acc_loss_againt_epoch(max_len_model_histories[model], max_range=ranges[idx], title1=f'BERT-{model} Model Accuracy (Training)', title2=f'BERT-{model} Model Loss (Training)')\n",
        "  # plot_prec_recall_against_epoch(max_len_model_histories[model], max_range=ranges[idx], title1=f'BERT-{model} Model Precision (Training)', title2=f'BERT-{model} Model Recall (Training)')"
      ],
      "metadata": {
        "colab": {
          "base_uri": "https://localhost:8080/"
        },
        "id": "Gl-qGexpzyWy",
        "outputId": "a49feceb-4d6f-47f0-aeb9-380162aabb56"
      },
      "execution_count": null,
      "outputs": [
        {
          "output_type": "stream",
          "name": "stdout",
          "text": [
            "RESULTS FOR  MODEL1\n",
            "Train F1 Score of last epoch:  0.5117387983039308\n",
            "Val F1 Score of last epoch:  0.5961038902144057\n",
            "Time for each epoch:  99.2100350856781\n",
            "\n",
            "RESULTS FOR  MODEL2\n",
            "Train F1 Score of last epoch:  0.45029941433204146\n",
            "Val F1 Score of last epoch:  0.04483187959659806\n",
            "Time for each epoch:  152.1954799493154\n",
            "\n"
          ]
        }
      ]
    },
    {
      "cell_type": "code",
      "source": [
        "plot_acc_loss_against_epoch(max_len_model_histories['model1'], 2, title1='BERT-(MAX_LEN//4) Model Accuracy (Training)', title2='BERT-(MAX_LEN//4) Model Loss (Training)')"
      ],
      "metadata": {
        "colab": {
          "base_uri": "https://localhost:8080/",
          "height": 573
        },
        "id": "yqCoCnP8_GL4",
        "outputId": "1768e977-6b54-4e22-adfa-09c5000832d5"
      },
      "execution_count": null,
      "outputs": [
        {
          "output_type": "display_data",
          "data": {
            "text/plain": [
              "<Figure size 432x288 with 1 Axes>"
            ],
            "image/png": "[encoded data removed]"
          },
          "metadata": {
            "needs_background": "light"
          }
        },
        {
          "output_type": "display_data",
          "data": {
            "text/plain": [
              "<Figure size 432x288 with 1 Axes>"
            ],
            "image/png": "[encoded data removed]"
          },
          "metadata": {
            "needs_background": "light"
          }
        }
      ]
    },
    {
      "cell_type": "code",
      "source": [
        "plot_prec_recall_against_epoch(max_len_model_histories['model1'], max_range=2, title1='BERT-(MAX_LEN//4) Model Precision (Training)', title2='BERT-(MAX_LEN//4) Model Recall (Training)')"
      ],
      "metadata": {
        "colab": {
          "base_uri": "https://localhost:8080/",
          "height": 573
        },
        "id": "KtsdTOGG_WJJ",
        "outputId": "8ada6a95-96ae-478d-9e31-ed252ebe5bf8"
      },
      "execution_count": null,
      "outputs": [
        {
          "output_type": "display_data",
          "data": {
            "text/plain": [
              "<Figure size 432x288 with 1 Axes>"
            ],
            "image/png": "[encoded data removed]"
          },
          "metadata": {
            "needs_background": "light"
          }
        },
        {
          "output_type": "display_data",
          "data": {
            "text/plain": [
              "<Figure size 432x288 with 1 Axes>"
            ],
            "image/png": "[encoded data removed]"
          },
          "metadata": {
            "needs_background": "light"
          }
        }
      ]
    },
    {
      "cell_type": "code",
      "source": [
        "plot_acc_loss_against_epoch(max_len_model_histories['model2'], 3, title1='BERT-(MAX_LEN//2) Model Accuracy (Training)', title2='BERT-(MAX_LEN//4) Model Loss (Training)')"
      ],
      "metadata": {
        "colab": {
          "base_uri": "https://localhost:8080/",
          "height": 573
        },
        "outputId": "36de4ee0-729d-4b4a-bf26-29385d404008",
        "id": "JNtBlL9l_hmI"
      },
      "execution_count": null,
      "outputs": [
        {
          "output_type": "display_data",
          "data": {
            "text/plain": [
              "<Figure size 432x288 with 1 Axes>"
            ],
            "image/png": "[encoded data removed]"
          },
          "metadata": {
            "needs_background": "light"
          }
        },
        {
          "output_type": "display_data",
          "data": {
            "text/plain": [
              "<Figure size 432x288 with 1 Axes>"
            ],
            "image/png": "[encoded data removed]"
          },
          "metadata": {
            "needs_background": "light"
          }
        }
      ]
    },
    {
      "cell_type": "code",
      "source": [
        "plot_prec_recall_against_epoch(max_len_model_histories['model2'], max_range=3, title1='BERT-(MAX_LEN//2) Model Precision (Training)', title2='BERT-(MAX_LEN//4) Model Recall (Training)')"
      ],
      "metadata": {
        "colab": {
          "base_uri": "https://localhost:8080/",
          "height": 573
        },
        "outputId": "b5763dd8-3070-45b5-d6ce-305db0af95f7",
        "id": "htVbI8OS_hmI"
      },
      "execution_count": null,
      "outputs": [
        {
          "output_type": "display_data",
          "data": {
            "text/plain": [
              "<Figure size 432x288 with 1 Axes>"
            ],
            "image/png": "[encoded data removed]"
          },
          "metadata": {
            "needs_background": "light"
          }
        },
        {
          "output_type": "display_data",
          "data": {
            "text/plain": [
              "<Figure size 432x288 with 1 Axes>"
            ],
            "image/png": "[encoded data removed]"
          },
          "metadata": {
            "needs_background": "light"
          }
        }
      ]
    },
    {
      "cell_type": "markdown",
      "source": [
        "While reducing the max_length decreases the runtime, it worsens the model results quite significantly. Use original MAX_LEN defined."
      ],
      "metadata": {
        "id": "6_4ySYO9_1HA"
      }
    },
    {
      "cell_type": "markdown",
      "source": [
        "## Effect of Learning Rate on BERT"
      ],
      "metadata": {
        "id": "li7Ie_Kr2B0V"
      }
    },
    {
      "cell_type": "code",
      "source": [
        "!pip install keras_tuner"
      ],
      "metadata": {
        "colab": {
          "base_uri": "https://localhost:8080/"
        },
        "id": "_SCwZoHAKKCu",
        "outputId": "7984b70d-696d-4fe7-a9d1-c477b9082f61"
      },
      "execution_count": null,
      "outputs": [
        {
          "output_type": "stream",
          "name": "stdout",
          "text": [
            "Looking in indexes: https://pypi.org/simple, https://us-python.pkg.dev/colab-wheels/public/simple/\n",
            "Collecting keras_tuner\n",
            "  Downloading keras_tuner-1.1.3-py3-none-any.whl (135 kB)\n",
            "\u001b[K     |████████████████████████████████| 135 kB 8.1 MB/s \n",
            "\u001b[?25hCollecting kt-legacy\n",
            "  Downloading kt_legacy-1.0.4-py3-none-any.whl (9.6 kB)\n",
            "Requirement already satisfied: ipython in /usr/local/lib/python3.7/dist-packages (from keras_tuner) (7.9.0)\n",
            "Requirement already satisfied: packaging in /usr/local/lib/python3.7/dist-packages (from keras_tuner) (21.3)\n",
            "Requirement already satisfied: tensorboard in /usr/local/lib/python3.7/dist-packages (from keras_tuner) (2.9.1)\n",
            "Requirement already satisfied: numpy in /usr/local/lib/python3.7/dist-packages (from keras_tuner) (1.21.6)\n",
            "Requirement already satisfied: requests in /usr/local/lib/python3.7/dist-packages (from keras_tuner) (2.23.0)\n",
            "Requirement already satisfied: pexpect in /usr/local/lib/python3.7/dist-packages (from ipython->keras_tuner) (4.8.0)\n",
            "Requirement already satisfied: decorator in /usr/local/lib/python3.7/dist-packages (from ipython->keras_tuner) (4.4.2)\n",
            "Requirement already satisfied: pygments in /usr/local/lib/python3.7/dist-packages (from ipython->keras_tuner) (2.6.1)\n",
            "Requirement already satisfied: traitlets>=4.2 in /usr/local/lib/python3.7/dist-packages (from ipython->keras_tuner) (5.1.1)\n",
            "Requirement already satisfied: backcall in /usr/local/lib/python3.7/dist-packages (from ipython->keras_tuner) (0.2.0)\n",
            "Requirement already satisfied: setuptools>=18.5 in /usr/local/lib/python3.7/dist-packages (from ipython->keras_tuner) (57.4.0)\n",
            "Requirement already satisfied: prompt-toolkit<2.1.0,>=2.0.0 in /usr/local/lib/python3.7/dist-packages (from ipython->keras_tuner) (2.0.10)\n",
            "Requirement already satisfied: pickleshare in /usr/local/lib/python3.7/dist-packages (from ipython->keras_tuner) (0.7.5)\n",
            "Collecting jedi>=0.10\n",
            "  Downloading jedi-0.18.1-py2.py3-none-any.whl (1.6 MB)\n",
            "\u001b[K     |████████████████████████████████| 1.6 MB 45.7 MB/s \n",
            "\u001b[?25hRequirement already satisfied: parso<0.9.0,>=0.8.0 in /usr/local/lib/python3.7/dist-packages (from jedi>=0.10->ipython->keras_tuner) (0.8.3)\n",
            "Requirement already satisfied: six>=1.9.0 in /usr/local/lib/python3.7/dist-packages (from prompt-toolkit<2.1.0,>=2.0.0->ipython->keras_tuner) (1.15.0)\n",
            "Requirement already satisfied: wcwidth in /usr/local/lib/python3.7/dist-packages (from prompt-toolkit<2.1.0,>=2.0.0->ipython->keras_tuner) (0.2.5)\n",
            "Requirement already satisfied: pyparsing!=3.0.5,>=2.0.2 in /usr/local/lib/python3.7/dist-packages (from packaging->keras_tuner) (3.0.9)\n",
            "Requirement already satisfied: ptyprocess>=0.5 in /usr/local/lib/python3.7/dist-packages (from pexpect->ipython->keras_tuner) (0.7.0)\n",
            "Requirement already satisfied: chardet<4,>=3.0.2 in /usr/local/lib/python3.7/dist-packages (from requests->keras_tuner) (3.0.4)\n",
            "Requirement already satisfied: idna<3,>=2.5 in /usr/local/lib/python3.7/dist-packages (from requests->keras_tuner) (2.10)\n",
            "Requirement already satisfied: certifi>=2017.4.17 in /usr/local/lib/python3.7/dist-packages (from requests->keras_tuner) (2022.9.24)\n",
            "Requirement already satisfied: urllib3!=1.25.0,!=1.25.1,<1.26,>=1.21.1 in /usr/local/lib/python3.7/dist-packages (from requests->keras_tuner) (1.24.3)\n",
            "Requirement already satisfied: absl-py>=0.4 in /usr/local/lib/python3.7/dist-packages (from tensorboard->keras_tuner) (1.3.0)\n",
            "Requirement already satisfied: werkzeug>=1.0.1 in /usr/local/lib/python3.7/dist-packages (from tensorboard->keras_tuner) (1.0.1)\n",
            "Requirement already satisfied: tensorboard-plugin-wit>=1.6.0 in /usr/local/lib/python3.7/dist-packages (from tensorboard->keras_tuner) (1.8.1)\n",
            "Requirement already satisfied: protobuf<3.20,>=3.9.2 in /usr/local/lib/python3.7/dist-packages (from tensorboard->keras_tuner) (3.19.6)\n",
            "Requirement already satisfied: markdown>=2.6.8 in /usr/local/lib/python3.7/dist-packages (from tensorboard->keras_tuner) (3.4.1)\n",
            "Requirement already satisfied: wheel>=0.26 in /usr/local/lib/python3.7/dist-packages (from tensorboard->keras_tuner) (0.38.3)\n",
            "Requirement already satisfied: google-auth<3,>=1.6.3 in /usr/local/lib/python3.7/dist-packages (from tensorboard->keras_tuner) (2.14.1)\n",
            "Requirement already satisfied: google-auth-oauthlib<0.5,>=0.4.1 in /usr/local/lib/python3.7/dist-packages (from tensorboard->keras_tuner) (0.4.6)\n",
            "Requirement already satisfied: tensorboard-data-server<0.7.0,>=0.6.0 in /usr/local/lib/python3.7/dist-packages (from tensorboard->keras_tuner) (0.6.1)\n",
            "Requirement already satisfied: grpcio>=1.24.3 in /usr/local/lib/python3.7/dist-packages (from tensorboard->keras_tuner) (1.50.0)\n",
            "Requirement already satisfied: cachetools<6.0,>=2.0.0 in /usr/local/lib/python3.7/dist-packages (from google-auth<3,>=1.6.3->tensorboard->keras_tuner) (5.2.0)\n",
            "Requirement already satisfied: rsa<5,>=3.1.4 in /usr/local/lib/python3.7/dist-packages (from google-auth<3,>=1.6.3->tensorboard->keras_tuner) (4.9)\n",
            "Requirement already satisfied: pyasn1-modules>=0.2.1 in /usr/local/lib/python3.7/dist-packages (from google-auth<3,>=1.6.3->tensorboard->keras_tuner) (0.2.8)\n",
            "Requirement already satisfied: requests-oauthlib>=0.7.0 in /usr/local/lib/python3.7/dist-packages (from google-auth-oauthlib<0.5,>=0.4.1->tensorboard->keras_tuner) (1.3.1)\n",
            "Requirement already satisfied: importlib-metadata>=4.4 in /usr/local/lib/python3.7/dist-packages (from markdown>=2.6.8->tensorboard->keras_tuner) (4.13.0)\n",
            "Requirement already satisfied: typing-extensions>=3.6.4 in /usr/local/lib/python3.7/dist-packages (from importlib-metadata>=4.4->markdown>=2.6.8->tensorboard->keras_tuner) (4.1.1)\n",
            "Requirement already satisfied: zipp>=0.5 in /usr/local/lib/python3.7/dist-packages (from importlib-metadata>=4.4->markdown>=2.6.8->tensorboard->keras_tuner) (3.10.0)\n",
            "Requirement already satisfied: pyasn1<0.5.0,>=0.4.6 in /usr/local/lib/python3.7/dist-packages (from pyasn1-modules>=0.2.1->google-auth<3,>=1.6.3->tensorboard->keras_tuner) (0.4.8)\n",
            "Requirement already satisfied: oauthlib>=3.0.0 in /usr/local/lib/python3.7/dist-packages (from requests-oauthlib>=0.7.0->google-auth-oauthlib<0.5,>=0.4.1->tensorboard->keras_tuner) (3.2.2)\n",
            "Installing collected packages: jedi, kt-legacy, keras-tuner\n",
            "Successfully installed jedi-0.18.1 keras-tuner-1.1.3 kt-legacy-1.0.4\n"
          ]
        }
      ]
    },
    {
      "cell_type": "code",
      "source": [
        "from tensorflow.keras.callbacks import ModelCheckpoint\n",
        "import keras_tuner as kt\n",
        "from keras_tuner.tuners import RandomSearch, BayesianOptimization, Hyperband\n",
        "\n",
        "# callbacks\n",
        "checkpoint_callback = ModelCheckpoint('best_epoch', monitor='val_loss', verbose=0, save_best_only=True, save_weights_only=False, mode='auto')\n",
        "log_dir = \"bert-tuning/fit/\" + f'tuned-model/' + datetime.now().strftime(\"%Y%m%d-%H%M%S\")\n",
        "tensorboard_callback = tf.keras.callbacks.TensorBoard(log_dir=log_dir, histogram_freq=1)\n",
        "es = tf.keras.callbacks.EarlyStopping(monitor='val_loss', patience=2, restore_best_weights=True)\n",
        "\n",
        "def create_model_for_tuning(hp):\n",
        "    hp_lr = hp.Choice('learning_rate', [5e-5, 3e-5, 2e-5, 1e-5]) # recommended lr for BERT\n",
        "    ids = keras.layers.Input(shape=((MAX_LEN,)), name=\"input_ids\", dtype=\"int32\")\n",
        "    tokens = keras.layers.Input(shape=((MAX_LEN,)), name=\"token_ids\", dtype=\"int32\")\n",
        "    masks = keras.layers.Input(shape=((MAX_LEN,)), name=\"attention_masks\", dtype=\"int32\") \n",
        "\n",
        "    inputs = [ids, tokens, masks]\n",
        "    config = BertConfig()\n",
        "    config.output_hidden_states = False\n",
        "\n",
        "    bert_model = TFBertForSequenceClassification.from_pretrained(\n",
        "        'bert-base-uncased', config=config)\n",
        "    \n",
        "    embedded_layer = bert_model(ids, attention_mask=masks, token_type_ids=tokens)[0]\n",
        "    outputs = keras.layers.Dense(3, activation='softmax')(embedded_layer)\n",
        "    \n",
        "    model = keras.Model(inputs, outputs)  \n",
        "    optimizer = tf.keras.optimizers.Adam(learning_rate=hp_lr)\n",
        "    model.compile(loss=loss,\n",
        "                  optimizer=optimizer,\n",
        "                  metrics=[metrics],\n",
        "    )\n",
        "    return model\n",
        " "
      ],
      "metadata": {
        "id": "7HddRLZGNU76"
      },
      "execution_count": null,
      "outputs": []
    },
    {
      "cell_type": "code",
      "source": [
        "tuner = kt.Hyperband(create_model_for_tuning,\n",
        "                     objective='val_loss',\n",
        "                     max_epochs=10,\n",
        "                     factor=3,\n",
        "                     directory='',\n",
        "                     overwrite=False,\n",
        "                     project_name='hyperparam_tuning_for_BERT')\n"
      ],
      "metadata": {
        "colab": {
          "base_uri": "https://localhost:8080/"
        },
        "id": "Jq8IdNeGXPfg",
        "outputId": "8c0a3346-0624-4dda-ba04-5cf439fc101e"
      },
      "execution_count": null,
      "outputs": [
        {
          "output_type": "stream",
          "name": "stderr",
          "text": [
            "All model checkpoint layers were used when initializing TFBertForSequenceClassification.\n",
            "\n",
            "Some layers of TFBertForSequenceClassification were not initialized from the model checkpoint at bert-base-uncased and are newly initialized: ['classifier']\n",
            "You should probably TRAIN this model on a down-stream task to be able to use it for predictions and inference.\n"
          ]
        }
      ]
    },
    {
      "cell_type": "code",
      "source": [
        "# new_train_ds, new_val_ds = generate_custom_ds(32)\n",
        "tuner.search(train_ds,\n",
        "            epochs=10,\n",
        "            validation_data=val_ds,\n",
        "            callbacks=[es, checkpoint_callback, tensorboard_callback, te])\n",
        "\n",
        "best_model = tuner.get_best_models(1)[0]\n",
        "best_hyperparameters = tuner.get_best_hyperparameters(1)[0]"
      ],
      "metadata": {
        "colab": {
          "base_uri": "https://localhost:8080/"
        },
        "id": "CpDqfrhLYXgF",
        "outputId": "18192f6c-1e66-4aaa-8350-5fe5a7202c40"
      },
      "execution_count": null,
      "outputs": [
        {
          "output_type": "stream",
          "name": "stdout",
          "text": [
            "Trial 4 Complete [00h 12m 05s]\n",
            "val_loss: 0.4668329358100891\n",
            "\n",
            "Best val_loss So Far: 0.446364164352417\n",
            "Total elapsed time: 00h 48m 54s\n"
          ]
        },
        {
          "output_type": "stream",
          "name": "stderr",
          "text": [
            "All model checkpoint layers were used when initializing TFBertForSequenceClassification.\n",
            "\n",
            "Some layers of TFBertForSequenceClassification were not initialized from the model checkpoint at bert-base-uncased and are newly initialized: ['classifier']\n",
            "You should probably TRAIN this model on a down-stream task to be able to use it for predictions and inference.\n"
          ]
        }
      ]
    },
    {
      "cell_type": "code",
      "source": [
        "# reloading the best trial\n",
        "trials = tuner.oracle.trials\n",
        "best_trial = tuner.oracle.get_best_trials(num_trials=1)[0]\n",
        "best_trial.summary()"
      ],
      "metadata": {
        "id": "TRGgkHEZIjOM",
        "outputId": "841bd77d-a5b7-47e3-93de-f11e03f8cdeb",
        "colab": {
          "base_uri": "https://localhost:8080/"
        }
      },
      "execution_count": null,
      "outputs": [
        {
          "output_type": "stream",
          "name": "stdout",
          "text": [
            "Trial summary\n",
            "Hyperparameters:\n",
            "learning_rate: 3e-05\n",
            "tuner/epochs: 2\n",
            "tuner/initial_epoch: 0\n",
            "tuner/bracket: 2\n",
            "tuner/round: 0\n",
            "Score: 0.446364164352417\n"
          ]
        }
      ]
    },
    {
      "cell_type": "code",
      "source": [
        "preds = best_model.evaluate(test_ds)\n",
        "print('Updated LR Model - F1 Score on Test Data: ', f1_score(preds[2], preds[3]))"
      ],
      "metadata": {
        "colab": {
          "base_uri": "https://localhost:8080/"
        },
        "id": "JQjbbRpRXDew",
        "outputId": "d2c4c7cf-11e8-4c91-f0f5-ac48aa1bcae4"
      },
      "execution_count": null,
      "outputs": [
        {
          "output_type": "stream",
          "name": "stdout",
          "text": [
            "122/122 [==============================] - 29s 237ms/step - loss: 0.5073 - accuracy: 0.7979 - precision: 0.8063 - recall: 0.7856\n",
            "Updated LR Model - F1 Score on Test Data:  0.7958224472539827\n"
          ]
        }
      ]
    },
    {
      "cell_type": "code",
      "source": [
        "# retraining the model on the full train & test dataset -- (not hyperparameter tuning)\n",
        "from datetime import datetime\n",
        "log_dir = \"bert-newlr/fit/dropout\" + datetime.now().strftime(\"%Y%m%d-%H%M%S\")\n",
        "tensorboard_callback = tf.keras.callbacks.TensorBoard(log_dir=log_dir, histogram_freq=1)\n",
        "es = tf.keras.callbacks.EarlyStopping(monitor='val_loss', patience=1, restore_best_weights=True)\n",
        "\n",
        "def create_updated_lr_model(dropout: bool=True):\n",
        "    lr = 3e-5\n",
        "    ids = keras.layers.Input(shape=((MAX_LEN,)), name=\"input_ids\", dtype=\"int32\")\n",
        "    tokens = keras.layers.Input(shape=((MAX_LEN,)), name=\"token_ids\", dtype=\"int32\")\n",
        "    masks = keras.layers.Input(shape=((MAX_LEN,)), name=\"attention_masks\", dtype=\"int32\") \n",
        "\n",
        "    inputs = [ids, tokens, masks]\n",
        "    config = BertConfig()\n",
        "    config.output_hidden_states = False\n",
        "\n",
        "    bert_model = TFBertForSequenceClassification.from_pretrained(\n",
        "        'bert-base-uncased', config=config)\n",
        "    \n",
        "    embedded_layer = bert_model(ids, attention_mask=masks, token_type_ids=tokens)[0]\n",
        "    if dropout:    \n",
        "      outputs = keras.layers.Dropout(0.2)(embedded_layer)\n",
        "      outputs = keras.layers.Dense(3, activation='softmax')(outputs)\n",
        "    else:\n",
        "      outputs = keras.layers.Dense(3, activation='softmax')(embedded_layer)\n",
        "\n",
        "    model = keras.Model(inputs, outputs)  \n",
        "    optimizer = tf.keras.optimizers.Adam(learning_rate=lr)\n",
        "    model.compile(loss=loss,\n",
        "                  optimizer=optimizer,\n",
        "                  metrics=[metrics],\n",
        "    )\n",
        "    return model\n",
        "\n",
        "combined_train = train_ds.concatenate(val_ds)\n",
        "\n",
        "updated_lr_models = {}\n",
        "updated_lr_model_histories = {}\n",
        "names = ['with_dropout', 'without_dropout']\n",
        "tes = {}\n",
        "for name in names:\n",
        "  tes[name] = time_for_epoch()   \n",
        "  if name=='with_dropout':\n",
        "    updated_lr_models[name] = create_updated_lr_model(True)\n",
        "  else:\n",
        "    updated_lr_models[name] = create_updated_lr_model(False)\n",
        "  updated_lr_model_histories[name] = updated_lr_models[name].fit(combined_train,\n",
        "                          epochs=5, # reduce number of epochs and es patience due to slower training\n",
        "                          validation_data=test_ds, \n",
        "                          callbacks=[tensorboard_callback, tes[name], es]\n",
        "                          )\n"
      ],
      "metadata": {
        "colab": {
          "base_uri": "https://localhost:8080/"
        },
        "id": "BgR_BtP8XqRe",
        "outputId": "f5c1cfd2-8d34-4ed0-8c00-95def2a27c97"
      },
      "execution_count": 21,
      "outputs": [
        {
          "metadata": {
            "tags": null
          },
          "name": "stderr",
          "output_type": "stream",
          "text": [
            "All model checkpoint layers were used when initializing TFBertForSequenceClassification.\n",
            "\n",
            "Some layers of TFBertForSequenceClassification were not initialized from the model checkpoint at bert-base-uncased and are newly initialized: ['classifier']\n",
            "You should probably TRAIN this model on a down-stream task to be able to use it for predictions and inference.\n"
          ]
        },
        {
          "metadata": {
            "tags": null
          },
          "name": "stdout",
          "output_type": "stream",
          "text": [
            "Epoch 1/5\n",
            "485/485 [==============================] - 386s 739ms/step - loss: 0.7688 - accuracy: 0.7005 - precision: 0.7552 - recall: 0.5730 - val_loss: 0.5823 - val_accuracy: 0.7835 - val_precision: 0.8208 - val_recall: 0.7082\n",
            "Epoch 2/5\n",
            "485/485 [==============================] - 355s 731ms/step - loss: 0.5711 - accuracy: 0.7833 - precision: 0.8382 - recall: 0.7405 - val_loss: 0.5441 - val_accuracy: 0.8000 - val_precision: 0.8261 - val_recall: 0.7639\n",
            "Epoch 3/5\n",
            "485/485 [==============================] - 347s 715ms/step - loss: 0.4454 - accuracy: 0.8184 - precision: 0.8823 - recall: 0.7794 - val_loss: 0.6383 - val_accuracy: 0.8124 - val_precision: 0.8264 - val_recall: 0.7948\n"
          ]
        },
        {
          "metadata": {
            "tags": null
          },
          "name": "stderr",
          "output_type": "stream",
          "text": [
            "All model checkpoint layers were used when initializing TFBertForSequenceClassification.\n",
            "\n",
            "Some layers of TFBertForSequenceClassification were not initialized from the model checkpoint at bert-base-uncased and are newly initialized: ['classifier']\n",
            "You should probably TRAIN this model on a down-stream task to be able to use it for predictions and inference.\n"
          ]
        },
        {
          "output_type": "stream",
          "name": "stdout",
          "text": [
            "Epoch 1/5\n",
            "485/485 [==============================] - 370s 729ms/step - loss: 0.6410 - accuracy: 0.7530 - precision: 0.7816 - recall: 0.7097 - val_loss: 0.5409 - val_accuracy: 0.7557 - val_precision: 0.7630 - val_recall: 0.7402\n",
            "Epoch 2/5\n",
            "485/485 [==============================] - 348s 718ms/step - loss: 0.4069 - accuracy: 0.8462 - precision: 0.8530 - recall: 0.8385 - val_loss: 0.5043 - val_accuracy: 0.8010 - val_precision: 0.8090 - val_recall: 0.7948\n",
            "Epoch 3/5\n",
            "485/485 [==============================] - 348s 717ms/step - loss: 0.2616 - accuracy: 0.9027 - precision: 0.9078 - recall: 0.8994 - val_loss: 0.5531 - val_accuracy: 0.7979 - val_precision: 0.7988 - val_recall: 0.7979\n"
          ]
        }
      ]
    },
    {
      "cell_type": "code",
      "source": [
        "for name in names:\n",
        "  print('Results for updated lr model ', name)\n",
        "  print_all_results(updated_lr_models[name], updated_lr_model_histories[name], tes[name])\n",
        "  plot_acc_loss_against_epoch(updated_lr_model_histories[name], 5, title1='Acc Updated LR model '+name, title2='Loss for Updated LR model '+name)\n",
        "  plot_prec_recall_against_epoch(updated_lr_model_histories[name], 5, title1='Acc Updated LR model '+name, title2='Loss for Updated LR model '+name)\n",
        "  print()"
      ],
      "metadata": {
        "colab": {
          "base_uri": "https://localhost:8080/",
          "height": 1000
        },
        "id": "wzarJVvujzOQ",
        "outputId": "cc0bd85a-f49c-41d5-fba6-dbde5680e271"
      },
      "execution_count": 25,
      "outputs": [
        {
          "output_type": "stream",
          "name": "stdout",
          "text": [
            "Results for updated lr model  with_dropout\n",
            "Train F1 Score of last epoch:  0.8276712435446928\n",
            "Val F1 Score of last epoch:  0.8102995100558791\n",
            "Time for each epoch:  362.14438915252686\n",
            "122/122 [==============================] - 28s 231ms/step - loss: 0.5441 - accuracy: 0.8000 - precision: 0.8261 - recall: 0.7639\n",
            "Test Prediction Results:  [0.5441184043884277, 0.800000011920929, 0.8260869383811951, 0.7639175057411194]\n",
            "Test F1 Score:  0.7937868045920186\n",
            "\n",
            "Results for updated lr model  without_dropout\n",
            "Train F1 Score of last epoch:  0.9035769701514369\n",
            "Val F1 Score of last epoch:  0.7983496748039318\n",
            "Time for each epoch:  354.9170042673747\n",
            "122/122 [==============================] - 29s 228ms/step - loss: 0.5043 - accuracy: 0.8010 - precision: 0.8090 - recall: 0.7948\n",
            "Test Prediction Results:  [0.5042880177497864, 0.8010309338569641, 0.8090241551399231, 0.7948453426361084]\n",
            "Test F1 Score:  0.8018720758574802\n",
            "\n"
          ]
        },
        {
          "output_type": "display_data",
          "data": {
            "text/plain": [
              "<Figure size 432x288 with 1 Axes>"
            ],
            "image/png": "[encoded data removed]"
          },
          "metadata": {
            "needs_background": "light"
          }
        },
        {
          "output_type": "display_data",
          "data": {
            "text/plain": [
              "<Figure size 432x288 with 1 Axes>"
            ],
            "image/png": "[encoded data removed]"
          },
          "metadata": {
            "needs_background": "light"
          }
        },
        {
          "output_type": "display_data",
          "data": {
            "text/plain": [
              "<Figure size 432x288 with 1 Axes>"
            ],
            "image/png": "[encoded data removed]"
          },
          "metadata": {
            "needs_background": "light"
          }
        },
        {
          "output_type": "display_data",
          "data": {
            "text/plain": [
              "<Figure size 432x288 with 1 Axes>"
            ],
            "image/png": "[encoded data removed]"
          },
          "metadata": {
            "needs_background": "light"
          }
        },
        {
          "output_type": "display_data",
          "data": {
            "text/plain": [
              "<Figure size 432x288 with 1 Axes>"
            ],
            "image/png": "[encoded data removed]"
          },
          "metadata": {
            "needs_background": "light"
          }
        },
        {
          "output_type": "display_data",
          "data": {
            "text/plain": [
              "<Figure size 432x288 with 1 Axes>"
            ],
            "image/png": "[encoded data removed]"
          },
          "metadata": {
            "needs_background": "light"
          }
        },
        {
          "output_type": "display_data",
          "data": {
            "text/plain": [
              "<Figure size 432x288 with 1 Axes>"
            ],
            "image/png": "[encoded data removed]"
          },
          "metadata": {
            "needs_background": "light"
          }
        },
        {
          "output_type": "display_data",
          "data": {
            "text/plain": [
              "<Figure size 432x288 with 1 Axes>"
            ],
            "image/png": "[encoded data removed]"
          },
          "metadata": {
            "needs_background": "light"
          }
        }
      ]
    },
    {
      "cell_type": "markdown",
      "source": [
        "Cannot see proper convergence because early stopping had patience=1, so the training was stopped very early. This could mean that the model is underfitting on the data in this training loop. However, due to computational constraints, it takes very long to run the training until convergence for such a small learning rate.\n",
        "\n",
        "Dropout still does appear to be better at reducing the overfitting of the dataset, so the final model will use dropout."
      ],
      "metadata": {
        "id": "PBowhECHv8jG"
      }
    },
    {
      "cell_type": "markdown",
      "source": [
        "## Adjusting Batch Size"
      ],
      "metadata": {
        "id": "SZxh8ernxqMq"
      }
    },
    {
      "cell_type": "code",
      "source": [
        "# retraining the model on the full train & test dataset -- (not hyperparameter tuning)\n",
        "from datetime import datetime\n",
        "log_dir = \"bert-newbs/fit/dropout\" + datetime.now().strftime(\"%Y%m%d-%H%M%S\")\n",
        "tensorboard_callback = tf.keras.callbacks.TensorBoard(log_dir=log_dir, histogram_freq=1)\n",
        "es = tf.keras.callbacks.EarlyStopping(monitor='val_loss', patience=3, restore_best_weights=True) # restoring the patience to 3 since we are tuning the model\n",
        "\n",
        "def create_updated_bs_model():\n",
        "    ids = keras.layers.Input(shape=((MAX_LEN,)), name=\"input_ids\", dtype=\"int32\")\n",
        "    tokens = keras.layers.Input(shape=((MAX_LEN,)), name=\"token_ids\", dtype=\"int32\")\n",
        "    masks = keras.layers.Input(shape=((MAX_LEN,)), name=\"attention_masks\", dtype=\"int32\") \n",
        "\n",
        "    inputs = [ids, tokens, masks]\n",
        "    config = BertConfig()\n",
        "    config.output_hidden_states = False\n",
        "\n",
        "    bert_model = TFBertForSequenceClassification.from_pretrained(\n",
        "        'bert-base-uncased', config=config)\n",
        "    \n",
        "    embedded_layer = bert_model(ids, attention_mask=masks, token_type_ids=tokens)[0]\n",
        "    outputs = keras.layers.Dropout(0.2)(embedded_layer)\n",
        "    outputs = keras.layers.Dense(3, activation='softmax')(outputs)\n",
        "\n",
        "    model = keras.Model(inputs, outputs)  \n",
        "    optimizer = tf.keras.optimizers.Adam(learning_rate=3e-5)\n",
        "    model.compile(loss=loss,\n",
        "                  optimizer=optimizer,\n",
        "                  metrics=[metrics],\n",
        "    )\n",
        "    return model\n",
        "\n",
        "updated_bs_models = {}\n",
        "updated_bs_model_histories = {}\n",
        "sizes = [32, 64, 128]\n",
        "bs_tes = {}\n",
        "for bs in sizes:\n",
        "  new_train_ds, new_val_ds = generate_custom_ds(bs, MAX_LEN)\n",
        "  te = time_for_epoch()   \n",
        "  updated_bs_models[bs] = create_updated_bs_model()\n",
        "  updated_bs_model_histories[bs] = updated_bs_models[bs].fit(new_train_ds,\n",
        "                          epochs=10,\n",
        "                          validation_data=new_val_ds, \n",
        "                          callbacks=[tensorboard_callback, te, es]\n",
        "                          )\n",
        "  bs_tes[bs] = te\n"
      ],
      "metadata": {
        "colab": {
          "base_uri": "https://localhost:8080/",
          "height": 138,
          "referenced_widgets": [
            "0207faa4201949d59990e85075afae10",
            "ab22a439b65544c483038664805ef6b0",
            "f97700f8134a4251af410d7009c72faa",
            "89764010ab794993896479be46b0da9d",
            "f68cd3165dd94cfcb4a8e2c63bfc8c81",
            "dfc47f67ad644499a9d3bde3d4fbd291",
            "273466aada3a4a1184be6faf2cc4f4a4",
            "074e48efdee84b8797526b8b10fffa79",
            "3d0c65c4b20741189eedea0064a99157",
            "19ad87983455497eb8110b0c837092e1",
            "c2fb20b6208b4ffdac4eabd02f267ba5"
          ]
        },
        "id": "GVjdrEgdxtC0",
        "outputId": "eb9bdea4-77e6-4400-9a86-e1d9514e0ef6"
      },
      "execution_count": null,
      "outputs": [
        {
          "output_type": "display_data",
          "data": {
            "text/plain": [
              "Downloading:   0%|          | 0.00/536M [00:00<?, ?B/s]"
            ],
            "application/vnd.jupyter.widget-view+json": {
              "version_major": 2,
              "version_minor": 0,
              "model_id": "0207faa4201949d59990e85075afae10"
            }
          },
          "metadata": {}
        },
        {
          "output_type": "stream",
          "name": "stderr",
          "text": [
            "All model checkpoint layers were used when initializing TFBertForSequenceClassification.\n",
            "\n",
            "Some layers of TFBertForSequenceClassification were not initialized from the model checkpoint at bert-base-uncased and are newly initialized: ['classifier']\n",
            "You should probably TRAIN this model on a down-stream task to be able to use it for predictions and inference.\n"
          ]
        },
        {
          "output_type": "stream",
          "name": "stdout",
          "text": [
            "Epoch 1/10\n"
          ]
        }
      ]
    },
    {
      "cell_type": "markdown",
      "source": [
        "## Using Back-Translation to augment the data and increase the sample size for under-represented classes"
      ],
      "metadata": {
        "id": "qSLb8a12ML_m"
      }
    },
    {
      "cell_type": "code",
      "source": [
        "!pip install sentencepiece"
      ],
      "metadata": {
        "colab": {
          "base_uri": "https://localhost:8080/"
        },
        "id": "mk71iry3MVYf",
        "outputId": "058ee312-f9e9-4f8c-af88-2de59ab41a77"
      },
      "execution_count": null,
      "outputs": [
        {
          "output_type": "stream",
          "name": "stdout",
          "text": [
            "Looking in indexes: https://pypi.org/simple, https://us-python.pkg.dev/colab-wheels/public/simple/\n",
            "Collecting sentencepiece\n",
            "  Downloading sentencepiece-0.1.97-cp37-cp37m-manylinux_2_17_x86_64.manylinux2014_x86_64.whl (1.3 MB)\n",
            "\u001b[K     |████████████████████████████████| 1.3 MB 8.0 MB/s \n",
            "\u001b[?25hInstalling collected packages: sentencepiece\n",
            "Successfully installed sentencepiece-0.1.97\n"
          ]
        }
      ]
    },
    {
      "cell_type": "code",
      "source": [
        "from transformers import MarianMTModel, MarianTokenizer"
      ],
      "metadata": {
        "id": "YEA7qz49cuaC"
      },
      "execution_count": 26,
      "outputs": []
    },
    {
      "cell_type": "code",
      "source": [
        "eng_to_de_model = MarianMTModel.from_pretrained('Helsinki-NLP/opus-mt-en-fr')\n",
        "de_to_eng_model = MarianMTModel.from_pretrained('Helsinki-NLP/opus-mt-fr-en')\n",
        "eng_to_de_tokenizer = MarianTokenizer.from_pretrained('Helsinki-NLP/opus-mt-en-fr')\n",
        "de_to_eng_tokenizer = MarianTokenizer.from_pretrained('Helsinki-NLP/opus-mt-fr-en')\n",
        "\n",
        "def translate(formatted_text, tokenizer, model, lang=\"fr\"):\n",
        "  translations = model.generate(**tokenizer(formatted_text, return_tensors=\"pt\",  max_length=MAX_LEN, padding='max_length', truncation=True))\n",
        "  translated_texts = [tokenizer.decode(t, skip_special_tokens=True) for t in translations]\n",
        "  return translated_texts\n",
        "\n",
        "def back_translate(texts, tokenizer, origin_lang=\"en\", temp_lang=\"fr\"):\n",
        "  formatted_text =  [f'>>{temp_lang}<< {text}' for text in texts]\n",
        "  temp_translated_text = translate(formatted_text, tokenizer, eng_to_de_model, temp_lang)\n",
        "  back_translated_text = translate(temp_translated_text, tokenizer, de_to_eng_model, origin_lang)\n",
        "  return back_translated_text"
      ],
      "metadata": {
        "id": "xwftFjOgczHa",
        "colab": {
          "base_uri": "https://localhost:8080/",
          "height": 401,
          "referenced_widgets": [
            "e83bb69e1d934e469ecee4ebd763e03b",
            "edde97bc33cd490e97739bf7972b3f00",
            "356fd3a1534a4219a4116477c99f24a8",
            "53519cc323ca4aed98d0ce9c90298809",
            "f1342d34dfd5457a93512e27ffe5877f",
            "5dcd1d4ec0bc4836a0374ef40993f7ec",
            "14d4fd1503574e208c313b24dd33917c",
            "4c96694c783145afb085c79564c623c3",
            "67a01543c1474711bb6cbb46ec7559c0",
            "2eaa7a341f234803a11569ca27f81633",
            "9154a56d1080435893625be0aefb05b0",
            "b86052a957c944bba94275db031bb04f",
            "79234a9bdd614f38b4cc503c9277619d",
            "cda2db3c29f049b68d9cad853b498633",
            "ccb3e81b3ba44d36b7544a8268d0a979",
            "a51857e398584290851c67eb21eb95d6",
            "d7128bda141044ccb0c336d6aa14ee6c",
            "abe806b0c16d419db2fb5c2d25d6c14f",
            "568678aa0eae49e792dfeea820758d8f",
            "b16d326a00a74654abff855ec8b13f9b",
            "2dca65db3b4e4be782bf64d634d10a81",
            "b4d6bad2211b4ad78389ca4d679a27a5",
            "8257d0874a794294b96c38039e7bbaef",
            "615d986bffdc4dca91b9580d02c95e45",
            "74b36487dee344e29f5ec256eea591b5",
            "58e2b039f803479da8b0ff9842e6b46c",
            "0bf5fd7b4302408d8b31fb8088aea36b",
            "a9a1ac4e6c4343628765e3aa971b33f8",
            "9e66ed62ce1045f4a4385d188c5a2a16",
            "36053ce547744fd4aaca28499b2bdb95",
            "467b3f3ca75940d389e9f1c1287bd8da",
            "c1253fb1908a493e8f3d3ede9b962651",
            "9bc815d5f54a49f8ad3294eba3dcf889",
            "c50e9403689e4f21a79b09851675c526",
            "7a79afef55054e5386622e3cfeea79d7",
            "1113b9d4f9a74fd8aed7eb19249bb74c",
            "bba7b3cf57ed40639ca6ae1b66fb13fa",
            "b1935b0c8d48461789a8cc37db80fb6c",
            "dd7c580382414c0aa700e4bdb3e39e1d",
            "41b11c505d2a485ba02ffeee1308f2e2",
            "87192326430e4ad4a3566ca357c3efbb",
            "8bfc7cab8ad4421480d702e42ea6c39b",
            "b83acfa596b84f42bf632cf2a0b75904",
            "a278689e8d7846b280342aa5b7726d69",
            "f4afab9f3a97499db3a92b02227426a4",
            "8f325665293f47c8b151ba2f5b65572e",
            "3a03c2d4719a44c3be4aadd57ec83305",
            "2a1154d300c343e28e6a90000631e5f1",
            "86e83ce60146490fa36ec7493865007d",
            "5b3aaca0a13646c5bf6e3610c9044d6d",
            "1b81f8067c694d7690a6cdd8d056b493",
            "17c27b9593f04f079c890cbd1c4cc2c3",
            "c5a6264a38114e90b40dffbc77e59b55",
            "e7497dd4606e491ca1ca02c3feaeb14c",
            "add175242c78421088de0e576801f3f2",
            "35644d66dae54db193da2472d4a31854",
            "49353be53037480a85edebd0c6adf405",
            "e2b4c1b8479542e1914d6b76d6b3ee68",
            "421c86da19d54ca3af712e6b57169e8d",
            "a6e881fcdfef4db387aba950ead4ce17",
            "5612eb436a7b4a9f9a217b465636e3f1",
            "6d40912b08a94a5bae2b24d16d5c49ff",
            "628197adf7cb4b74a1df483905013365",
            "58d1b2b444cf42008b5b100b5e5f8c53",
            "dd6f7f3fe9ca416182859eb3cfb65b28",
            "505d157dc8f74d5c8e1a9ec70b935837",
            "caa36bdc556441929ae204b20fdcd497",
            "b21290b5c2aa438387f9ad6277ffa1d0",
            "ac2e32542a8e4f619c8603b789545d7e",
            "30df6a6e786b4c319e109714a1afdd8f",
            "132296a32dae4243965be31c240ca5d7",
            "5f8f490f5d214eb696e74df2d87e6ae3",
            "acc8bab1e031434cba23d403e0d1cbc3",
            "21640159ea9b40f08b4644cb97ba6f31",
            "7aaff89636554a27b20456bbb7c00449",
            "10058c8c847b4e80acc84a2fa55d87a6",
            "4e4bfe11101940459fc5bcbdd217c6c2",
            "34cd3e68df184120b1549e6432b5521d",
            "2af55a038f68438aa9eec7596ea63c22",
            "b64a554ec9ac4f78a32e9b49ce5d1ea9",
            "acb56b015f4e4386bba7414384906223",
            "be8fa335235c4d4d8e2e12681cc09e08",
            "8139d2227e464dd8829e8a48705dc82d",
            "afaf13901c9f4763bb96cd2e7dc2e81b",
            "32293701c25c428aad78f990920978e8",
            "43ef28d94e734875b68936f7ed6d2e90",
            "4b1b0b46d9d749ed9d3761e15e06e50c",
            "d7acaa2c36c54ce8b6d4382ffbec9e8d",
            "f7482bb0e8574419b27d2490f1f2046a",
            "5692b3f182744877aabd269365ba869c",
            "1a52439717d041fba555a87dccb91d82",
            "2950ea08ec574ada8fee8d951d4f05ed",
            "2b2611cacc2040c8bfbabd0766b3fb5b",
            "4632706ca2934e13bfbd82d4f4d26ab9",
            "c4cb03ce23e64579806d44f543c9184a",
            "4c09243e46214adbbadcc9af6de908ae",
            "91522c4aacb04a89b8eb9f2d2bda7972",
            "ce110af4b04a4279be637980626d179b",
            "9b2f1d1ccf2d4105b92ccb8ae80c9f27",
            "057a4f5186e84655bf7ee59cdaed3644",
            "5d7bd933d9864ca8b9d6e7f00105bf31",
            "3e54a9cbb54a436eb04201acbbe66413",
            "6c692b90bab049cf85ea58c33daaab19",
            "449087893994409cb227b22a26d2158c",
            "543fb200838e4e689b14e55bf49d2f07",
            "eb3276e17bf34a80a04d599768662568",
            "bedea60dfd0244f5b97de5b862f56f25",
            "88738a24bfa34ed5b63142da6b96f375",
            "6e2a13ac9e674d54a0b0bb1b0fed9965",
            "cb3442b5808b40619d06dbcc3cd23e86",
            "c54265541c794be59f075e664f5d23b1",
            "06246acd07604dfeabffae686648b25d",
            "43abc11bf63a45839966065c43e0e66f",
            "938b742bf612462bbf92aa2aa9aa0465",
            "6b99d511b7a34c21a404b6d43f8ab2b4",
            "a8b70ee548c840c3b1d70adece9c0783",
            "42f44d6868ac4f239699dec55afa8684",
            "7f1c08bfdad343eb9162ccd72e171f3f",
            "f7b583ba1b624a6ebcc1412cca99ceff",
            "0e9a2c64d88b47c6a8d2f0183273dfb0",
            "d9ba8ffb51c3487aa560ae052a237714",
            "048bbfad6b094c1cbfd37be986054e85",
            "2eb764fd41864bb1b12017c1c55ada18",
            "94884fee8ff247929f7dadd09279c61e",
            "9a8426fd00b64cf0bea1d4da460bfc9e",
            "e11932bad8a84281b106c0312d585dfe",
            "68e49a437f2848789b873be4464eb067",
            "eec0176083d746ac9d6fbbdef89e697c",
            "d158b8346be14ca3be5361b06fb5bed2",
            "849dd741cc0d4b55be641b678017d041",
            "db192d2cbbee476dafd0c11ab53482d8",
            "c7e0ea2933714710a213568e65788e21"
          ]
        },
        "outputId": "59016d14-b57b-471b-cbae-a10b871fdc81"
      },
      "execution_count": 27,
      "outputs": [
        {
          "output_type": "display_data",
          "data": {
            "text/plain": [
              "Downloading:   0%|          | 0.00/1.42k [00:00<?, ?B/s]"
            ],
            "application/vnd.jupyter.widget-view+json": {
              "version_major": 2,
              "version_minor": 0,
              "model_id": "e83bb69e1d934e469ecee4ebd763e03b"
            }
          },
          "metadata": {}
        },
        {
          "output_type": "display_data",
          "data": {
            "text/plain": [
              "Downloading:   0%|          | 0.00/301M [00:00<?, ?B/s]"
            ],
            "application/vnd.jupyter.widget-view+json": {
              "version_major": 2,
              "version_minor": 0,
              "model_id": "b86052a957c944bba94275db031bb04f"
            }
          },
          "metadata": {}
        },
        {
          "output_type": "display_data",
          "data": {
            "text/plain": [
              "Downloading:   0%|          | 0.00/1.42k [00:00<?, ?B/s]"
            ],
            "application/vnd.jupyter.widget-view+json": {
              "version_major": 2,
              "version_minor": 0,
              "model_id": "8257d0874a794294b96c38039e7bbaef"
            }
          },
          "metadata": {}
        },
        {
          "output_type": "display_data",
          "data": {
            "text/plain": [
              "Downloading:   0%|          | 0.00/301M [00:00<?, ?B/s]"
            ],
            "application/vnd.jupyter.widget-view+json": {
              "version_major": 2,
              "version_minor": 0,
              "model_id": "c50e9403689e4f21a79b09851675c526"
            }
          },
          "metadata": {}
        },
        {
          "output_type": "display_data",
          "data": {
            "text/plain": [
              "Downloading:   0%|          | 0.00/778k [00:00<?, ?B/s]"
            ],
            "application/vnd.jupyter.widget-view+json": {
              "version_major": 2,
              "version_minor": 0,
              "model_id": "f4afab9f3a97499db3a92b02227426a4"
            }
          },
          "metadata": {}
        },
        {
          "output_type": "display_data",
          "data": {
            "text/plain": [
              "Downloading:   0%|          | 0.00/802k [00:00<?, ?B/s]"
            ],
            "application/vnd.jupyter.widget-view+json": {
              "version_major": 2,
              "version_minor": 0,
              "model_id": "35644d66dae54db193da2472d4a31854"
            }
          },
          "metadata": {}
        },
        {
          "output_type": "display_data",
          "data": {
            "text/plain": [
              "Downloading:   0%|          | 0.00/1.34M [00:00<?, ?B/s]"
            ],
            "application/vnd.jupyter.widget-view+json": {
              "version_major": 2,
              "version_minor": 0,
              "model_id": "caa36bdc556441929ae204b20fdcd497"
            }
          },
          "metadata": {}
        },
        {
          "output_type": "display_data",
          "data": {
            "text/plain": [
              "Downloading:   0%|          | 0.00/42.0 [00:00<?, ?B/s]"
            ],
            "application/vnd.jupyter.widget-view+json": {
              "version_major": 2,
              "version_minor": 0,
              "model_id": "34cd3e68df184120b1549e6432b5521d"
            }
          },
          "metadata": {}
        },
        {
          "output_type": "display_data",
          "data": {
            "text/plain": [
              "Downloading:   0%|          | 0.00/802k [00:00<?, ?B/s]"
            ],
            "application/vnd.jupyter.widget-view+json": {
              "version_major": 2,
              "version_minor": 0,
              "model_id": "f7482bb0e8574419b27d2490f1f2046a"
            }
          },
          "metadata": {}
        },
        {
          "output_type": "display_data",
          "data": {
            "text/plain": [
              "Downloading:   0%|          | 0.00/778k [00:00<?, ?B/s]"
            ],
            "application/vnd.jupyter.widget-view+json": {
              "version_major": 2,
              "version_minor": 0,
              "model_id": "057a4f5186e84655bf7ee59cdaed3644"
            }
          },
          "metadata": {}
        },
        {
          "output_type": "display_data",
          "data": {
            "text/plain": [
              "Downloading:   0%|          | 0.00/1.34M [00:00<?, ?B/s]"
            ],
            "application/vnd.jupyter.widget-view+json": {
              "version_major": 2,
              "version_minor": 0,
              "model_id": "c54265541c794be59f075e664f5d23b1"
            }
          },
          "metadata": {}
        },
        {
          "output_type": "display_data",
          "data": {
            "text/plain": [
              "Downloading:   0%|          | 0.00/42.0 [00:00<?, ?B/s]"
            ],
            "application/vnd.jupyter.widget-view+json": {
              "version_major": 2,
              "version_minor": 0,
              "model_id": "048bbfad6b094c1cbfd37be986054e85"
            }
          },
          "metadata": {}
        }
      ]
    },
    {
      "cell_type": "code",
      "source": [
        "!pip install sacremoses"
      ],
      "metadata": {
        "colab": {
          "base_uri": "https://localhost:8080/"
        },
        "id": "t_bVrnSS_JsS",
        "outputId": "cb615846-2c3f-4628-f719-3f3249f18304"
      },
      "execution_count": 14,
      "outputs": [
        {
          "output_type": "stream",
          "name": "stdout",
          "text": [
            "Looking in indexes: https://pypi.org/simple, https://us-python.pkg.dev/colab-wheels/public/simple/\n",
            "Collecting sacremoses\n",
            "  Downloading sacremoses-0.0.53.tar.gz (880 kB)\n",
            "\u001b[K     |████████████████████████████████| 880 kB 7.0 MB/s \n",
            "\u001b[?25hRequirement already satisfied: regex in /usr/local/lib/python3.7/dist-packages (from sacremoses) (2022.6.2)\n",
            "Requirement already satisfied: six in /usr/local/lib/python3.7/dist-packages (from sacremoses) (1.15.0)\n",
            "Requirement already satisfied: click in /usr/local/lib/python3.7/dist-packages (from sacremoses) (7.1.2)\n",
            "Requirement already satisfied: joblib in /usr/local/lib/python3.7/dist-packages (from sacremoses) (1.2.0)\n",
            "Requirement already satisfied: tqdm in /usr/local/lib/python3.7/dist-packages (from sacremoses) (4.64.1)\n",
            "Building wheels for collected packages: sacremoses\n",
            "  Building wheel for sacremoses (setup.py) ... \u001b[?25l\u001b[?25hdone\n",
            "  Created wheel for sacremoses: filename=sacremoses-0.0.53-py3-none-any.whl size=895259 sha256=c26504c141ac3c3ec143177fe5684e8478353551a6447774e9d0c01173480ba9\n",
            "  Stored in directory: /root/.cache/pip/wheels/87/39/dd/a83eeef36d0bf98e7a4d1933a4ad2d660295a40613079bafc9\n",
            "Successfully built sacremoses\n",
            "Installing collected packages: sacremoses\n",
            "Successfully installed sacremoses-0.0.53\n"
          ]
        }
      ]
    },
    {
      "cell_type": "code",
      "source": [
        "!pip install mosestokenizer==1.1.0"
      ],
      "metadata": {
        "colab": {
          "base_uri": "https://localhost:8080/"
        },
        "id": "4UMBbt8bCtTh",
        "outputId": "bbb88f6c-b98e-4f90-e08b-6ff89948d46c"
      },
      "execution_count": 22,
      "outputs": [
        {
          "output_type": "stream",
          "name": "stdout",
          "text": [
            "Looking in indexes: https://pypi.org/simple, https://us-python.pkg.dev/colab-wheels/public/simple/\n",
            "Collecting mosestokenizer==1.1.0\n",
            "  Downloading mosestokenizer-1.1.0.tar.gz (37 kB)\n",
            "Collecting docopt\n",
            "  Downloading docopt-0.6.2.tar.gz (25 kB)\n",
            "Collecting openfile\n",
            "  Downloading openfile-0.0.7-py3-none-any.whl (2.4 kB)\n",
            "Collecting uctools\n",
            "  Downloading uctools-1.3.0.tar.gz (4.6 kB)\n",
            "Collecting toolwrapper\n",
            "  Downloading toolwrapper-2.1.0.tar.gz (3.2 kB)\n",
            "Building wheels for collected packages: mosestokenizer, docopt, toolwrapper, uctools\n",
            "  Building wheel for mosestokenizer (setup.py) ... \u001b[?25l\u001b[?25hdone\n",
            "  Created wheel for mosestokenizer: filename=mosestokenizer-1.1.0-py3-none-any.whl size=49141 sha256=af0183c639baa3ff35d232d5dccd20d2d77037045df5d406ad390212b186ec17\n",
            "  Stored in directory: /root/.cache/pip/wheels/a7/31/94/fef279382208e85a65c1a7f5c4d0020115477b0af74f296b57\n",
            "  Building wheel for docopt (setup.py) ... \u001b[?25l\u001b[?25hdone\n",
            "  Created wheel for docopt: filename=docopt-0.6.2-py2.py3-none-any.whl size=13723 sha256=c1fce4f973959f45a74da286013b8134d7423cadff3b10441f8f4b6e0424f54f\n",
            "  Stored in directory: /root/.cache/pip/wheels/72/b0/3f/1d95f96ff986c7dfffe46ce2be4062f38ebd04b506c77c81b9\n",
            "  Building wheel for toolwrapper (setup.py) ... \u001b[?25l\u001b[?25hdone\n",
            "  Created wheel for toolwrapper: filename=toolwrapper-2.1.0-py3-none-any.whl size=3378 sha256=57c1f60e45ea5fd848e7aef9184aac8e3699a334152bd6f619a1f0fad28e5efc\n",
            "  Stored in directory: /root/.cache/pip/wheels/c5/4f/33/54741ffe08e38ececb1d28068a153729b4fe820bafa0a0691f\n",
            "  Building wheel for uctools (setup.py) ... \u001b[?25l\u001b[?25hdone\n",
            "  Created wheel for uctools: filename=uctools-1.3.0-py3-none-any.whl size=6185 sha256=4b41578c2124f5e19d81d86f959f81b56eef38042fe673d7a820d5fa57e9d8e6\n",
            "  Stored in directory: /root/.cache/pip/wheels/fb/44/e9/914cf8fa71f0141f9314f862538d1218fcf2b94542a0fb7d35\n",
            "Successfully built mosestokenizer docopt toolwrapper uctools\n",
            "Installing collected packages: uctools, toolwrapper, openfile, docopt, mosestokenizer\n",
            "Successfully installed docopt-0.6.2 mosestokenizer-1.1.0 openfile-0.0.7 toolwrapper-2.1.0 uctools-1.3.0\n"
          ]
        }
      ]
    },
    {
      "cell_type": "code",
      "source": [
        "# upsample the train dataset here\n",
        "from sklearn.utils import resample\n",
        "temp_full_df = fnews_Xtrain.copy()\n",
        "temp_full_df['class'] = fnews_ytrain['Class']\n",
        "neg_samples = temp_full_df[temp_full_df['class']=='negative']['News']\n",
        "neu_samples = temp_full_df[temp_full_df['class']=='neutral']['News']\n",
        "pos_samples = temp_full_df[temp_full_df['class']=='positive']['News']\n",
        "\n",
        "# upsample negative and positive samples to neutral samples\n",
        "neg_upsample = resample(neg_samples, replace=True, n_samples=len(neu_samples), random_state=42)\n",
        "neg_upsample = set([back_translate(' '.join(x), eng_to_de_tokenizer) for x in neg_upsample])\n",
        "\n",
        "pos_upsample = resample(pos_samples, replace=True, n_samples=len(neu_samples), random_state=42)\n",
        "pos_upsample = set([back_translate(' '.join(x), eng_to_de_tokenizer) for x in pos_upsample])"
      ],
      "metadata": {
        "colab": {
          "base_uri": "https://localhost:8080/"
        },
        "id": "eqWocp2wAWy7",
        "outputId": "fa5b4151-1148-4749-de7f-71456b3127c1"
      },
      "execution_count": null,
      "outputs": [
        {
          "output_type": "stream",
          "name": "stderr",
          "text": [
            "/usr/local/lib/python3.7/dist-packages/transformers/generation_utils.py:1364: UserWarning: Neither `max_length` nor `max_new_tokens` has been set, `max_length` will default to 512 (`self.config.max_length`). Controlling `max_length` via the config is deprecated and `max_length` will be removed from the config in v5 of Transformers -- we recommend using `max_new_tokens` to control the maximum length of the generation.\n",
            "  UserWarning,\n"
          ]
        }
      ]
    },
    {
      "cell_type": "markdown",
      "source": [
        "Unfortunately, BackTranslation uses too much RAM and keeps crashing the kernel."
      ],
      "metadata": {
        "id": "KVBto_F6IMgq"
      }
    },
    {
      "cell_type": "markdown",
      "source": [
        "We will have to use other methods of data augmentation."
      ],
      "metadata": {
        "id": "07tgBThTIRfQ"
      }
    },
    {
      "cell_type": "code",
      "source": [
        "!pip install gensim\n",
        "!pip install xgb"
      ],
      "metadata": {
        "colab": {
          "base_uri": "https://localhost:8080/"
        },
        "id": "OkppFn94KUkX",
        "outputId": "bfc2c924-0191-4c81-f98b-814ef6ed56b3"
      },
      "execution_count": 3,
      "outputs": [
        {
          "output_type": "stream",
          "name": "stdout",
          "text": [
            "Looking in indexes: https://pypi.org/simple, https://us-python.pkg.dev/colab-wheels/public/simple/\n",
            "Requirement already satisfied: gensim in /usr/local/lib/python3.7/dist-packages (3.6.0)\n",
            "Requirement already satisfied: six>=1.5.0 in /usr/local/lib/python3.7/dist-packages (from gensim) (1.15.0)\n",
            "Requirement already satisfied: numpy>=1.11.3 in /usr/local/lib/python3.7/dist-packages (from gensim) (1.21.6)\n",
            "Requirement already satisfied: smart-open>=1.2.1 in /usr/local/lib/python3.7/dist-packages (from gensim) (5.2.1)\n",
            "Requirement already satisfied: scipy>=0.18.1 in /usr/local/lib/python3.7/dist-packages (from gensim) (1.7.3)\n",
            "Looking in indexes: https://pypi.org/simple, https://us-python.pkg.dev/colab-wheels/public/simple/\n",
            "\u001b[31mERROR: Could not find a version that satisfies the requirement xgb (from versions: none)\u001b[0m\n",
            "\u001b[31mERROR: No matching distribution found for xgb\u001b[0m\n"
          ]
        }
      ]
    },
    {
      "cell_type": "code",
      "source": [
        "# upsample the train dataset here\n",
        "import gensim\n",
        "import gensim.downloader as api\n",
        "from sklearn.utils import resample\n",
        "temp_full_df = fnews_Xtrain.copy()\n",
        "temp_full_df['class'] = fnews_ytrain['Class']\n",
        "neg_samples = temp_full_df[temp_full_df['class']=='negative']['News']\n",
        "neu_samples = temp_full_df[temp_full_df['class']=='neutral']['News']\n",
        "pos_samples = temp_full_df[temp_full_df['class']=='positive']['News']\n",
        "\n",
        "# upsample negative and positive samples to neutral samples\n",
        "neg_upsample = resample(neg_samples, replace=True, n_samples=len(neu_samples), random_state=42)\n",
        "wv = api.load('word2vec-google-news-300')\n",
        "# model = gensim.models.KeyedVectors.load_word2vec_format('GoogleNews-vectors-negative300.bin', binary = True) \n",
        "# Filter the list of vectors to include only those that Word2Vec has a vector for\n",
        "vector_list = [wv[word] for word in words if word in wv.vocab]\n",
        "\n",
        "# Create a list of the words corresponding to these vectors\n",
        "words_filtered = [word for word in words if word in wv.vocab]\n",
        "\n",
        "# Zip the words together with their vector representations\n",
        "word_vec_zip = zip(words_filtered, vector_list)\n",
        "\n",
        "# Cast to a dict so we can turn it into a DataFrame\n",
        "word_vec_dict = dict(word_vec_zip)\n",
        "df = pd.DataFrame.from_dict(word_vec_dict, orient='index')\n",
        "df.head(3)"
      ],
      "metadata": {
        "colab": {
          "base_uri": "https://localhost:8080/",
          "height": 241
        },
        "id": "si-oeqRgIVgf",
        "outputId": "b5d43a8d-097b-41cf-8395-1348100a1274"
      },
      "execution_count": 16,
      "outputs": [
        {
          "output_type": "error",
          "ename": "NameError",
          "evalue": "ignored",
          "traceback": [
            "\u001b[0;31m---------------------------------------------------------------------------\u001b[0m",
            "\u001b[0;31mNameError\u001b[0m                                 Traceback (most recent call last)",
            "\u001b[0;32m<ipython-input-16-ec4bcc2a04e5>\u001b[0m in \u001b[0;36m<module>\u001b[0;34m\u001b[0m\n\u001b[1;32m     14\u001b[0m \u001b[0;31m# model = gensim.models.KeyedVectors.load_word2vec_format('GoogleNews-vectors-negative300.bin', binary = True)\u001b[0m\u001b[0;34m\u001b[0m\u001b[0;34m\u001b[0m\u001b[0;34m\u001b[0m\u001b[0m\n\u001b[1;32m     15\u001b[0m \u001b[0;31m# Filter the list of vectors to include only those that Word2Vec has a vector for\u001b[0m\u001b[0;34m\u001b[0m\u001b[0;34m\u001b[0m\u001b[0;34m\u001b[0m\u001b[0m\n\u001b[0;32m---> 16\u001b[0;31m \u001b[0mvector_list\u001b[0m \u001b[0;34m=\u001b[0m \u001b[0;34m[\u001b[0m\u001b[0mwv\u001b[0m\u001b[0;34m[\u001b[0m\u001b[0mword\u001b[0m\u001b[0;34m]\u001b[0m \u001b[0;32mfor\u001b[0m \u001b[0mword\u001b[0m \u001b[0;32min\u001b[0m \u001b[0mwords\u001b[0m \u001b[0;32mif\u001b[0m \u001b[0mword\u001b[0m \u001b[0;32min\u001b[0m \u001b[0mwv\u001b[0m\u001b[0;34m.\u001b[0m\u001b[0mvocab\u001b[0m\u001b[0;34m]\u001b[0m\u001b[0;34m\u001b[0m\u001b[0;34m\u001b[0m\u001b[0m\n\u001b[0m\u001b[1;32m     17\u001b[0m \u001b[0;34m\u001b[0m\u001b[0m\n\u001b[1;32m     18\u001b[0m \u001b[0;31m# Create a list of the words corresponding to these vectors\u001b[0m\u001b[0;34m\u001b[0m\u001b[0;34m\u001b[0m\u001b[0;34m\u001b[0m\u001b[0m\n",
            "\u001b[0;31mNameError\u001b[0m: name 'words' is not defined"
          ]
        }
      ]
    },
    {
      "cell_type": "code",
      "source": [
        "from sklearn.utils import resample\n",
        "temp_full_df = fnews_Xtrain.copy()\n",
        "temp_full_df['class'] = fnews_ytrain['Class']\n",
        "neg_samples = temp_full_df[temp_full_df['class']=='negative']['News'].values\n",
        "neu_samples = temp_full_df[temp_full_df['class']=='neutral']['News'].values\n",
        "pos_samples = temp_full_df[temp_full_df['class']=='positive']['News'].values\n",
        "neg_upsample = resample(neg_samples, replace=True, n_samples=len(neu_samples), random_state=42)\n",
        "neg_upsample"
      ],
      "metadata": {
        "colab": {
          "base_uri": "https://localhost:8080/",
          "height": 241
        },
        "id": "ZBAm3uX15drK",
        "outputId": "5ea83af3-c897-477a-86c7-dde0533766dd"
      },
      "execution_count": 2,
      "outputs": [
        {
          "output_type": "error",
          "ename": "NameError",
          "evalue": "ignored",
          "traceback": [
            "\u001b[0;31m---------------------------------------------------------------------------\u001b[0m",
            "\u001b[0;31mNameError\u001b[0m                                 Traceback (most recent call last)",
            "\u001b[0;32m<ipython-input-2-7c9b648e091f>\u001b[0m in \u001b[0;36m<module>\u001b[0;34m\u001b[0m\n\u001b[1;32m      1\u001b[0m \u001b[0;32mfrom\u001b[0m \u001b[0msklearn\u001b[0m\u001b[0;34m.\u001b[0m\u001b[0mutils\u001b[0m \u001b[0;32mimport\u001b[0m \u001b[0mresample\u001b[0m\u001b[0;34m\u001b[0m\u001b[0;34m\u001b[0m\u001b[0m\n\u001b[0;32m----> 2\u001b[0;31m \u001b[0mtemp_full_df\u001b[0m \u001b[0;34m=\u001b[0m \u001b[0mfnews_Xtrain\u001b[0m\u001b[0;34m.\u001b[0m\u001b[0mcopy\u001b[0m\u001b[0;34m(\u001b[0m\u001b[0;34m)\u001b[0m\u001b[0;34m\u001b[0m\u001b[0;34m\u001b[0m\u001b[0m\n\u001b[0m\u001b[1;32m      3\u001b[0m \u001b[0mtemp_full_df\u001b[0m\u001b[0;34m[\u001b[0m\u001b[0;34m'class'\u001b[0m\u001b[0;34m]\u001b[0m \u001b[0;34m=\u001b[0m \u001b[0mfnews_ytrain\u001b[0m\u001b[0;34m[\u001b[0m\u001b[0;34m'Class'\u001b[0m\u001b[0;34m]\u001b[0m\u001b[0;34m\u001b[0m\u001b[0;34m\u001b[0m\u001b[0m\n\u001b[1;32m      4\u001b[0m \u001b[0mneg_samples\u001b[0m \u001b[0;34m=\u001b[0m \u001b[0mtemp_full_df\u001b[0m\u001b[0;34m[\u001b[0m\u001b[0mtemp_full_df\u001b[0m\u001b[0;34m[\u001b[0m\u001b[0;34m'class'\u001b[0m\u001b[0;34m]\u001b[0m\u001b[0;34m==\u001b[0m\u001b[0;34m'negative'\u001b[0m\u001b[0;34m]\u001b[0m\u001b[0;34m[\u001b[0m\u001b[0;34m'News'\u001b[0m\u001b[0;34m]\u001b[0m\u001b[0;34m.\u001b[0m\u001b[0mvalues\u001b[0m\u001b[0;34m\u001b[0m\u001b[0;34m\u001b[0m\u001b[0m\n\u001b[1;32m      5\u001b[0m \u001b[0mneu_samples\u001b[0m \u001b[0;34m=\u001b[0m \u001b[0mtemp_full_df\u001b[0m\u001b[0;34m[\u001b[0m\u001b[0mtemp_full_df\u001b[0m\u001b[0;34m[\u001b[0m\u001b[0;34m'class'\u001b[0m\u001b[0;34m]\u001b[0m\u001b[0;34m==\u001b[0m\u001b[0;34m'neutral'\u001b[0m\u001b[0;34m]\u001b[0m\u001b[0;34m[\u001b[0m\u001b[0;34m'News'\u001b[0m\u001b[0;34m]\u001b[0m\u001b[0;34m.\u001b[0m\u001b[0mvalues\u001b[0m\u001b[0;34m\u001b[0m\u001b[0;34m\u001b[0m\u001b[0m\n",
            "\u001b[0;31mNameError\u001b[0m: name 'fnews_Xtrain' is not defined"
          ]
        }
      ]
    },
    {
      "cell_type": "code",
      "source": [
        "# split into train, val and test datasets and check the shapes\n",
        "train_input_ids, train_tokens, train_attention_masks = create_attention_masks(fnews_Xtrain['News'])\n",
        "test_input_ids, test_tokens, test_attention_masks = create_attention_masks(fnews_Xtest['News'])\n",
        "ttrain_input_ids, val_input_ids, ttrain_tokens, val_tokens, ttrain_attention_masks, val_attention_masks, ttrain_labels, val_labels  = train_test_split(train_input_ids, train_tokens, train_attention_masks, train_labels, test_size=0.2)\n",
        "print('Train shape: ', len(ttrain_input_ids), len(ttrain_tokens), len(ttrain_attention_masks), len(ttrain_labels))\n",
        "print('Val shape: ', len(val_input_ids), len(val_tokens), len(val_attention_masks), len(val_labels))\n",
        "print('Test shape: ', len(test_input_ids), len(test_tokens), len(test_attention_masks), len(test_labels))"
      ],
      "metadata": {
        "id": "Z_xYEM-75LkH"
      },
      "execution_count": null,
      "outputs": []
    },
    {
      "cell_type": "code",
      "source": [
        "\n",
        "\n",
        "spam_upsample = resample(spam_messages,\n",
        "             replace=True,\n",
        "             n_samples=len(neu),\n",
        "             random_state=42)\n",
        "\n",
        "print(spam_upsample.shape)"
      ],
      "metadata": {
        "id": "LWb1taGDxagq"
      },
      "execution_count": null,
      "outputs": []
    },
    {
      "cell_type": "code",
      "source": [],
      "metadata": {
        "id": "sfN02CIo1k7x"
      },
      "execution_count": null,
      "outputs": []
    },
    {
      "cell_type": "markdown",
      "source": [
        "# Squid Games Dataset"
      ],
      "metadata": {
        "id": "YHI4zspQoiRD"
      }
    },
    {
      "cell_type": "code",
      "source": [
        "sg_Xtrain = pd.read_csv('squidgame_Xtrain.csv', index_col=0)   \n",
        "sg_Xtest = pd.read_csv('squidgame_Xtest.csv', index_col=0) \n",
        "sg_ytrain = pd.read_csv('squidgame_ytrain.csv', index_col=0) \n",
        "sg_ytest = pd.read_csv('squidgame_ytest.csv', index_col=0) \n",
        "\n",
        "# mapping the classes to a numeric representation\n",
        "sg_train_labels = sg_ytrain['Class'].map({'neutral':1, 'positive': 2, 'negative': 0})\n",
        "sg_test_labels = sg_ytest['Class'].map({'neutral':1, 'positive': 2, 'negative': 0})\n",
        "\n",
        "full_X_data = pd.concat([sg_Xtrain, sg_Xtest], ignore_index=True)\n",
        "full_y_data = pd.concat([sg_train_labels, sg_test_labels], ignore_index=True).values\n",
        "\n",
        "sg_test_labels = sg_test_labels.values\n",
        "# creating bert features\n",
        "sg_train_input_ids, sg_train_tokens, sg_train_attention_masks = create_attention_masks(sg_Xtrain['Review'])\n",
        "sg_test_input_ids, sg_test_tokens, sg_test_attention_masks = create_attention_masks(sg_Xtest['Review'])\n",
        "sg_ttrain_input_ids, sg_val_input_ids, sg_ttrain_tokens, sg_val_tokens, sg_ttrain_attention_masks, sg_val_attention_masks, sg_ttrain_labels, sg_val_labels  = train_test_split(sg_train_input_ids, sg_train_tokens, sg_train_attention_masks, sg_train_labels.values, test_size=0.2)\n",
        "print('Train shape: ', len(sg_ttrain_input_ids), len(sg_ttrain_tokens), len(sg_ttrain_attention_masks), len(sg_ttrain_labels))\n",
        "print('Val shape: ', len(sg_val_input_ids), len(sg_val_tokens), len(sg_val_attention_masks), len(sg_val_labels))\n",
        "print('Test shape: ', len(sg_test_input_ids), len(sg_test_tokens), len(sg_test_attention_masks), len(sg_test_labels))"
      ],
      "metadata": {
        "colab": {
          "base_uri": "https://localhost:8080/"
        },
        "id": "52ZyZsRuokQe",
        "outputId": "130de08f-758a-4489-ffc2-b6c478969011"
      },
      "execution_count": null,
      "outputs": [
        {
          "output_type": "stream",
          "name": "stdout",
          "text": [
            "Train shape:  758 758 758 758\n",
            "Val shape:  190 190 190 190\n",
            "Test shape:  237 237 237 237\n"
          ]
        }
      ]
    },
    {
      "cell_type": "code",
      "source": [
        "sg_ttrain_inputs = tf.convert_to_tensor(sg_ttrain_input_ids, dtype=tf.int32, name='input_ids')\n",
        "sg_val_inputs = tf.convert_to_tensor(sg_val_input_ids, dtype=tf.int32, name='input_ids')\n",
        "sg_test_inputs = tf.convert_to_tensor(sg_test_input_ids, dtype=tf.int32, name='input_ids')\n",
        "\n",
        "sg_ttrain_tokens = tf.convert_to_tensor(sg_ttrain_tokens,dtype=tf.int32, name='token_ids')\n",
        "sg_val_tokens = tf.convert_to_tensor(sg_val_tokens, dtype=tf.int32, name='token_ids')\n",
        "sg_test_tokens = tf.convert_to_tensor(sg_test_tokens, dtype=tf.int32, name='token_ids')\n",
        "\n",
        "sg_ttrain_masks = tf.convert_to_tensor(sg_ttrain_attention_masks, dtype=tf.int32, name='attention_masks')\n",
        "sg_val_masks = tf.convert_to_tensor(sg_val_attention_masks, dtype=tf.int32, name='attention_masks')\n",
        "sg_test_masks = tf.convert_to_tensor(sg_test_attention_masks, dtype=tf.int32, name='attention_masks')\n",
        "\n",
        "# ttrain_labels = tf.convert_to_tensor(ttrain_labels)\n",
        "# val_labels = tf.convert_to_tensor(val_labels)\n",
        "# test_labels = tf.convert_to_tensor(test_labels)\n",
        "\n",
        "sg_ttrain_labels = tf.keras.utils.to_categorical(sg_ttrain_labels, num_classes=NUM_CLASSES)\n",
        "sg_val_labels = tf.keras.utils.to_categorical(sg_val_labels, num_classes=NUM_CLASSES)\n",
        "sg_test_labels = tf.keras.utils.to_categorical(sg_test_labels, num_classes=NUM_CLASSES)\n",
        "\n",
        "sg_train_ds = tf.data.Dataset.from_tensor_slices((sg_ttrain_inputs, sg_ttrain_masks, sg_ttrain_tokens, sg_ttrain_labels)).map(map_to_dict).shuffle(len(sg_ttrain_inputs)).batch(BATCH_SIZE)\n",
        "sg_val_ds = tf.data.Dataset.from_tensor_slices((sg_val_inputs, sg_val_masks, sg_val_tokens, sg_val_labels)).map(map_to_dict).shuffle(len(sg_val_inputs)).batch(BATCH_SIZE)\n",
        "sg_test_ds = tf.data.Dataset.from_tensor_slices((sg_test_inputs, sg_test_masks, sg_test_tokens, sg_test_labels)).map(map_to_dict).shuffle(len(sg_test_inputs)).batch(BATCH_SIZE)\n",
        "\n",
        " \n",
        "# creating sq full ds for testing of Financial News Datasets on a different domain\n",
        "full_X_data_ids, full_X_data_tokens, full_X_data_masks = create_attention_masks(full_X_data['Review'])\n",
        "full_X_data_ids = tf.convert_to_tensor(full_X_data_ids, dtype=tf.int32, name='input_ids')\n",
        "full_X_data_tokens = tf.convert_to_tensor(full_X_data_tokens, dtype=tf.int32, name='token_ids')\n",
        "full_X_data_masks = tf.convert_to_tensor(full_X_data_masks, dtype=tf.int32, name='attention_masks')\n",
        "full_y_data = tf.keras.utils.to_categorical(full_y_data, num_classes=NUM_CLASSES)\n",
        "sg_full_ds = tf.data.Dataset.from_tensor_slices((full_X_data_ids, full_X_data_masks, full_X_data_tokens, full_y_data)).map(map_to_dict).shuffle(len(full_X_data_ids)).batch(BATCH_SIZE)"
      ],
      "metadata": {
        "id": "D5zGI9W42pLy"
      },
      "execution_count": null,
      "outputs": []
    },
    {
      "cell_type": "code",
      "source": [
        "bert_model_dropout.evaluate(sg_full_ds)"
      ],
      "metadata": {
        "colab": {
          "base_uri": "https://localhost:8080/"
        },
        "id": "LUFgJIt_5fqV",
        "outputId": "9c1fca13-2d54-4e03-d17e-c63033c5009b"
      },
      "execution_count": null,
      "outputs": [
        {
          "output_type": "stream",
          "name": "stdout",
          "text": [
            "149/149 [==============================] - 32s 213ms/step - loss: 3.1122 - accuracy: 0.0532 - precision: 0.0532 - recall: 0.0532\n"
          ]
        },
        {
          "output_type": "execute_result",
          "data": {
            "text/plain": [
              "[3.1122281551361084,\n",
              " 0.05316455662250519,\n",
              " 0.05316455662250519,\n",
              " 0.05316455662250519]"
            ]
          },
          "metadata": {},
          "execution_count": 78
        }
      ]
    },
    {
      "cell_type": "code",
      "source": [
        "print('F1 Score on a different domain: ', f1_score())"
      ],
      "metadata": {
        "id": "6joYT3gQ9Z0k"
      },
      "execution_count": null,
      "outputs": []
    }
  ]
}